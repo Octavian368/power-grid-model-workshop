{
 "cells": [
  {
   "cell_type": "markdown",
   "id": "a727ce38",
   "metadata": {},
   "source": [
    "# Introduction\n",
    "\n",
    "In this assignment you will be given a series of tasks about using the library `power-grid-model`. The tasks include:\n",
    "\n",
    "1. [Load input](#Assignment-1:-Load-Input-Data)\n",
    "2. [Validate Input Data](#Assignment-2:-Validate-Input-Data)\n",
    "3. [Construct Model](#Assignment-3:-Construct-Model)\n",
    "4. [Calculate One Time Power Flow](#Assignment-4:-Calculate-One-Time-Power-Flow)\n",
    "5. [Time Series Batch Calculation](#Assignment-5:-Time-Series-Batch-Calculation)\n",
    "6. [N 1 Scenario-Batch-Calculation](#Assignment-6:-N-1-Scenario-Batch-Calculation)\n",
    "\n",
    "The input data are CSV files in the `data/` folder:\n",
    "* `node.csv`\n",
    "* `line.csv`\n",
    "* `source.csv`\n",
    "* `sym_load.csv`\n"
   ]
  },
  {
   "cell_type": "markdown",
   "id": "b18d109c",
   "metadata": {},
   "source": [
    "# Preparation\n",
    "\n",
    "First import everything we need for this workshop:"
   ]
  },
  {
   "cell_type": "code",
   "execution_count": 1,
   "id": "fbc50a6d",
   "metadata": {},
   "outputs": [],
   "source": [
    "import time\n",
    "from typing import Dict\n",
    "\n",
    "import numpy as np\n",
    "import pandas as pd\n",
    "\n",
    "from power_grid_model import (\n",
    "    PowerGridModel,\n",
    "    CalculationType,\n",
    "    CalculationMethod,\n",
    "    initialize_array\n",
    ")\n",
    "\n",
    "from power_grid_model.validation import (\n",
    "    assert_valid_input_data,\n",
    "    assert_valid_batch_data\n",
    ")"
   ]
  },
  {
   "cell_type": "markdown",
   "id": "50065790",
   "metadata": {},
   "source": [
    "Let's define a timer class to easily benchmark the calculations:"
   ]
  },
  {
   "cell_type": "code",
   "execution_count": 2,
   "id": "760a38b1",
   "metadata": {},
   "outputs": [],
   "source": [
    "class Timer:\n",
    "    def __init__(self, name: str):\n",
    "        self.name = name\n",
    "        self.start = None\n",
    "\n",
    "    def __enter__(self):\n",
    "        self.start = time.perf_counter()\n",
    "\n",
    "    def __exit__(self, *args):\n",
    "        print(f'Execution time for {self.name} is {(time.perf_counter() - self.start):0.6f} s')"
   ]
  },
  {
   "cell_type": "markdown",
   "id": "0f33163a",
   "metadata": {},
   "source": [
    "The following example measures the time for a simple add operation of two numpy arrays."
   ]
  },
  {
   "cell_type": "code",
   "execution_count": 3,
   "id": "a61540cd",
   "metadata": {},
   "outputs": [
    {
     "name": "stdout",
     "output_type": "stream",
     "text": [
      "Execution time for Add Operation is 0.002384 s\n"
     ]
    }
   ],
   "source": [
    "a = np.random.rand(1000000)\n",
    "b = np.random.rand(1000000)\n",
    "with Timer(\"Add Operation\"):\n",
    "    c = a + b"
   ]
  },
  {
   "cell_type": "markdown",
   "id": "824a3c36",
   "metadata": {},
   "source": [
    "# Assignment 1: Load Input Data\n",
    "\n",
    "The following function loads the CSV data files from folder `data/` and convert them into one dictionary of numpy structured arrays. The returned dictionary is a compatible input for the constructor of `PowerGridModel`. Please complete the function to construct the input data which is compatible with `PowerGridModel`."
   ]
  },
  {
   "cell_type": "code",
   "execution_count": 4,
   "id": "2baee3cd",
   "metadata": {},
   "outputs": [
    {
     "name": "stdout",
     "output_type": "stream",
     "text": [
      "node     : 2001\n",
      "line     : 2000\n",
      "source   :    1\n",
      "sym_load : 2000\n",
      "Execution time for Loading Input Data is 0.066937 s\n"
     ]
    }
   ],
   "source": [
    "def load_input_data() -> Dict[str, np.ndarray]:\n",
    "    input_data = {}\n",
    "    for component in ['node', 'line', 'source', 'sym_load']:\n",
    "        \n",
    "        # Use pandas to read CSV data\n",
    "        df = pd.read_csv(f'data/{component}.csv')\n",
    "\n",
    "        # Initialize array\n",
    "        input_data[component] = initialize_array('input', component, len(df))\n",
    "\n",
    "        # Fill the attributes\n",
    "        for attr, values in df.items():\n",
    "            input_data[component][attr] = values\n",
    "\n",
    "        # Print some debug info\n",
    "        print(f\"{component:9s}: {len(input_data[component]):4d}\")\n",
    "\n",
    "    return input_data\n",
    "\n",
    "# Load input data\n",
    "with Timer(\"Loading Input Data\"):\n",
    "    input_data = load_input_data()\n"
   ]
  },
  {
   "cell_type": "markdown",
   "id": "728db4b8",
   "metadata": {},
   "source": [
    "# Assignment 2: Validate Input Data\n",
    "\n",
    "It is recommended to validate your data before constructing the `PowerGridModel`. If you are confident about your input data, you can skip this step for performance reasons. The easiest way to validate your input data is using `assert_valid_input_data`, which will raise an exception if there are any errors in your data. Please have a look at the [Validation Examples](https://github.com/alliander-opensource/power-grid-model/blob/main/examples/Validation%20Examples.ipynb) for more detailed information on the validation functions."
   ]
  },
  {
   "cell_type": "code",
   "execution_count": 5,
   "id": "b703c8aa",
   "metadata": {},
   "outputs": [
    {
     "name": "stdout",
     "output_type": "stream",
     "text": [
      "Execution time for Validating Input Data is 0.041737 s\n"
     ]
    }
   ],
   "source": [
    "# Validate input data\n",
    "with Timer(\"Validating Input Data\"):\n",
    "    assert_valid_input_data(input_data=input_data, calculation_type=CalculationType.power_flow)"
   ]
  },
  {
   "cell_type": "markdown",
   "id": "940d48be",
   "metadata": {},
   "source": [
    "# Assignment 3: Construct Model\n",
    "\n",
    "Create an instance of `PowerGridModel` using the input data. Benchmark the construction time."
   ]
  },
  {
   "cell_type": "code",
   "execution_count": 6,
   "id": "71b39571",
   "metadata": {},
   "outputs": [
    {
     "name": "stdout",
     "output_type": "stream",
     "text": [
      "Execution time for Model Construction is 0.001090 s\n",
      "{'line': 2000, 'node': 2001, 'source': 1, 'sym_load': 2000}\n"
     ]
    }
   ],
   "source": [
    "# Construct model\n",
    "with Timer(\"Model Construction\"):\n",
    "    model = PowerGridModel(input_data=input_data)\n",
    "\n",
    "# Print the number of objects\n",
    "print(model.all_component_count)"
   ]
  },
  {
   "cell_type": "markdown",
   "id": "2b013fa7",
   "metadata": {},
   "source": [
    "# Assignment 4: Calculate One-Time Power Flow\n",
    "\n",
    "* Calculate one-time power flow, print the highest and lowest loading of the lines.\n",
    "* Try with Newton-Raphson and linear method, compare the results and speed."
   ]
  },
  {
   "cell_type": "code",
   "execution_count": 7,
   "id": "88034903",
   "metadata": {},
   "outputs": [
    {
     "name": "stdout",
     "output_type": "stream",
     "text": [
      "Execution time for Newton-Raphson Power Flow is 0.040440 s\n",
      "Min line loading: 0.14188449783808293\n",
      "Min line loading: 1.6292378285645628\n"
     ]
    }
   ],
   "source": [
    "# Newton-Raphson Power Flow\n",
    "with Timer(\"Newton-Raphson Power Flow\"):\n",
    "    result = model.calculate_power_flow(calculation_method=CalculationMethod.newton_raphson)\n",
    "    \n",
    "# Print min and max line loading\n",
    "print(\"Min line loading:\", min(result[\"line\"][\"loading\"]))\n",
    "print(\"Min line loading:\", max(result[\"line\"][\"loading\"]))"
   ]
  },
  {
   "cell_type": "code",
   "execution_count": 8,
   "id": "a8d298d5",
   "metadata": {},
   "outputs": [
    {
     "name": "stdout",
     "output_type": "stream",
     "text": [
      "Execution time for Linear Power Flow is 0.006450 s\n",
      "Min line loading: 0.139568608739431\n",
      "Min line loading: 1.615684999105591\n"
     ]
    }
   ],
   "source": [
    "# Linear Power Flow\n",
    "with Timer(\"Linear Power Flow\"):\n",
    "    result = model.calculate_power_flow(calculation_method=CalculationMethod.linear)\n",
    "    \n",
    "# Print min and max line loading\n",
    "print(\"Min line loading:\", min(result[\"line\"][\"loading\"]))\n",
    "print(\"Min line loading:\", max(result[\"line\"][\"loading\"]))"
   ]
  },
  {
   "cell_type": "markdown",
   "id": "14fcc242",
   "metadata": {},
   "source": [
    "# Assignment 5: Time Series Batch Calculation\n",
    "\n",
    "## Load Profile\n",
    "\n",
    "Below we randomly generate a dataframe of load profile. \n",
    "\n",
    "* The column names are the IDs of `sym_load`\n",
    "* Each row is one scenario\n",
    "* Each entry specifies the active power of the load\n",
    "* The reactive power is zero\n"
   ]
  },
  {
   "cell_type": "code",
   "execution_count": 9,
   "id": "b58045cc",
   "metadata": {},
   "outputs": [
    {
     "data": {
      "text/html": [
       "<div>\n",
       "<style scoped>\n",
       "    .dataframe tbody tr th:only-of-type {\n",
       "        vertical-align: middle;\n",
       "    }\n",
       "\n",
       "    .dataframe tbody tr th {\n",
       "        vertical-align: top;\n",
       "    }\n",
       "\n",
       "    .dataframe thead th {\n",
       "        text-align: right;\n",
       "    }\n",
       "</style>\n",
       "<table border=\"1\" class=\"dataframe\">\n",
       "  <thead>\n",
       "    <tr style=\"text-align: right;\">\n",
       "      <th></th>\n",
       "      <th>4002</th>\n",
       "      <th>4003</th>\n",
       "      <th>4004</th>\n",
       "      <th>4005</th>\n",
       "      <th>4006</th>\n",
       "      <th>4007</th>\n",
       "      <th>4008</th>\n",
       "      <th>4009</th>\n",
       "      <th>4010</th>\n",
       "      <th>4011</th>\n",
       "      <th>...</th>\n",
       "      <th>5992</th>\n",
       "      <th>5993</th>\n",
       "      <th>5994</th>\n",
       "      <th>5995</th>\n",
       "      <th>5996</th>\n",
       "      <th>5997</th>\n",
       "      <th>5998</th>\n",
       "      <th>5999</th>\n",
       "      <th>6000</th>\n",
       "      <th>6001</th>\n",
       "    </tr>\n",
       "  </thead>\n",
       "  <tbody>\n",
       "    <tr>\n",
       "      <th>0</th>\n",
       "      <td>973663.761608</td>\n",
       "      <td>1.036957e+06</td>\n",
       "      <td>918722.026480</td>\n",
       "      <td>961373.809346</td>\n",
       "      <td>1.085991e+06</td>\n",
       "      <td>912335.024760</td>\n",
       "      <td>926331.816185</td>\n",
       "      <td>1.053110e+06</td>\n",
       "      <td>1.021199e+06</td>\n",
       "      <td>9.979372e+05</td>\n",
       "      <td>...</td>\n",
       "      <td>1.024111e+06</td>\n",
       "      <td>1.068598e+06</td>\n",
       "      <td>1.049798e+06</td>\n",
       "      <td>921451.764663</td>\n",
       "      <td>911085.124714</td>\n",
       "      <td>1.004976e+06</td>\n",
       "      <td>926257.219623</td>\n",
       "      <td>1.089450e+06</td>\n",
       "      <td>916968.277728</td>\n",
       "      <td>1.090162e+06</td>\n",
       "    </tr>\n",
       "    <tr>\n",
       "      <th>1</th>\n",
       "      <td>982601.000707</td>\n",
       "      <td>1.048235e+06</td>\n",
       "      <td>905433.487418</td>\n",
       "      <td>958876.266726</td>\n",
       "      <td>1.074536e+06</td>\n",
       "      <td>911733.595706</td>\n",
       "      <td>898931.694346</td>\n",
       "      <td>1.074097e+06</td>\n",
       "      <td>1.030222e+06</td>\n",
       "      <td>1.016769e+06</td>\n",
       "      <td>...</td>\n",
       "      <td>1.013339e+06</td>\n",
       "      <td>1.075035e+06</td>\n",
       "      <td>1.036528e+06</td>\n",
       "      <td>931102.990533</td>\n",
       "      <td>908551.477181</td>\n",
       "      <td>1.000989e+06</td>\n",
       "      <td>939939.992740</td>\n",
       "      <td>1.083321e+06</td>\n",
       "      <td>930118.128285</td>\n",
       "      <td>1.091653e+06</td>\n",
       "    </tr>\n",
       "    <tr>\n",
       "      <th>2</th>\n",
       "      <td>994868.532081</td>\n",
       "      <td>1.045230e+06</td>\n",
       "      <td>919337.193418</td>\n",
       "      <td>966581.327541</td>\n",
       "      <td>1.046401e+06</td>\n",
       "      <td>914530.488574</td>\n",
       "      <td>935816.604049</td>\n",
       "      <td>1.046309e+06</td>\n",
       "      <td>1.036578e+06</td>\n",
       "      <td>1.011976e+06</td>\n",
       "      <td>...</td>\n",
       "      <td>1.001730e+06</td>\n",
       "      <td>1.070344e+06</td>\n",
       "      <td>1.039950e+06</td>\n",
       "      <td>928363.708577</td>\n",
       "      <td>908071.524111</td>\n",
       "      <td>1.005031e+06</td>\n",
       "      <td>918775.375956</td>\n",
       "      <td>1.100859e+06</td>\n",
       "      <td>902795.151256</td>\n",
       "      <td>1.081177e+06</td>\n",
       "    </tr>\n",
       "    <tr>\n",
       "      <th>3</th>\n",
       "      <td>998051.239505</td>\n",
       "      <td>1.027702e+06</td>\n",
       "      <td>908744.617261</td>\n",
       "      <td>976600.604457</td>\n",
       "      <td>1.075782e+06</td>\n",
       "      <td>897669.629692</td>\n",
       "      <td>936684.239758</td>\n",
       "      <td>1.043375e+06</td>\n",
       "      <td>1.038113e+06</td>\n",
       "      <td>1.023572e+06</td>\n",
       "      <td>...</td>\n",
       "      <td>1.007061e+06</td>\n",
       "      <td>1.071882e+06</td>\n",
       "      <td>1.055484e+06</td>\n",
       "      <td>931572.598632</td>\n",
       "      <td>923954.437280</td>\n",
       "      <td>9.794893e+05</td>\n",
       "      <td>950100.878591</td>\n",
       "      <td>1.092467e+06</td>\n",
       "      <td>923196.213987</td>\n",
       "      <td>1.090656e+06</td>\n",
       "    </tr>\n",
       "    <tr>\n",
       "      <th>4</th>\n",
       "      <td>987454.301469</td>\n",
       "      <td>1.057564e+06</td>\n",
       "      <td>920227.354691</td>\n",
       "      <td>939973.645156</td>\n",
       "      <td>1.067011e+06</td>\n",
       "      <td>902923.240212</td>\n",
       "      <td>917788.105205</td>\n",
       "      <td>1.058004e+06</td>\n",
       "      <td>1.017137e+06</td>\n",
       "      <td>1.022795e+06</td>\n",
       "      <td>...</td>\n",
       "      <td>1.004874e+06</td>\n",
       "      <td>1.083570e+06</td>\n",
       "      <td>1.040108e+06</td>\n",
       "      <td>938336.197697</td>\n",
       "      <td>911498.353387</td>\n",
       "      <td>1.002151e+06</td>\n",
       "      <td>946070.309180</td>\n",
       "      <td>1.090226e+06</td>\n",
       "      <td>921013.656178</td>\n",
       "      <td>1.093836e+06</td>\n",
       "    </tr>\n",
       "    <tr>\n",
       "      <th>...</th>\n",
       "      <td>...</td>\n",
       "      <td>...</td>\n",
       "      <td>...</td>\n",
       "      <td>...</td>\n",
       "      <td>...</td>\n",
       "      <td>...</td>\n",
       "      <td>...</td>\n",
       "      <td>...</td>\n",
       "      <td>...</td>\n",
       "      <td>...</td>\n",
       "      <td>...</td>\n",
       "      <td>...</td>\n",
       "      <td>...</td>\n",
       "      <td>...</td>\n",
       "      <td>...</td>\n",
       "      <td>...</td>\n",
       "      <td>...</td>\n",
       "      <td>...</td>\n",
       "      <td>...</td>\n",
       "      <td>...</td>\n",
       "      <td>...</td>\n",
       "    </tr>\n",
       "    <tr>\n",
       "      <th>995</th>\n",
       "      <td>996727.023806</td>\n",
       "      <td>1.047784e+06</td>\n",
       "      <td>898350.376138</td>\n",
       "      <td>968671.926319</td>\n",
       "      <td>1.077819e+06</td>\n",
       "      <td>910585.792563</td>\n",
       "      <td>928810.506601</td>\n",
       "      <td>1.039977e+06</td>\n",
       "      <td>1.011353e+06</td>\n",
       "      <td>1.008175e+06</td>\n",
       "      <td>...</td>\n",
       "      <td>1.009898e+06</td>\n",
       "      <td>1.086263e+06</td>\n",
       "      <td>1.051729e+06</td>\n",
       "      <td>921357.843993</td>\n",
       "      <td>907554.120793</td>\n",
       "      <td>9.808074e+05</td>\n",
       "      <td>943179.922051</td>\n",
       "      <td>1.103385e+06</td>\n",
       "      <td>918073.568012</td>\n",
       "      <td>1.080327e+06</td>\n",
       "    </tr>\n",
       "    <tr>\n",
       "      <th>996</th>\n",
       "      <td>988251.536873</td>\n",
       "      <td>1.050602e+06</td>\n",
       "      <td>885440.819507</td>\n",
       "      <td>979519.537264</td>\n",
       "      <td>1.060508e+06</td>\n",
       "      <td>919616.434080</td>\n",
       "      <td>935674.074205</td>\n",
       "      <td>1.054276e+06</td>\n",
       "      <td>1.018813e+06</td>\n",
       "      <td>1.015506e+06</td>\n",
       "      <td>...</td>\n",
       "      <td>9.973340e+05</td>\n",
       "      <td>1.088739e+06</td>\n",
       "      <td>1.063336e+06</td>\n",
       "      <td>927956.785927</td>\n",
       "      <td>901112.168907</td>\n",
       "      <td>9.690406e+05</td>\n",
       "      <td>924742.052283</td>\n",
       "      <td>1.092355e+06</td>\n",
       "      <td>930222.266595</td>\n",
       "      <td>1.084800e+06</td>\n",
       "    </tr>\n",
       "    <tr>\n",
       "      <th>997</th>\n",
       "      <td>998699.359383</td>\n",
       "      <td>1.049457e+06</td>\n",
       "      <td>917090.661485</td>\n",
       "      <td>951736.443689</td>\n",
       "      <td>1.073886e+06</td>\n",
       "      <td>922637.474416</td>\n",
       "      <td>937238.740970</td>\n",
       "      <td>1.069308e+06</td>\n",
       "      <td>1.018909e+06</td>\n",
       "      <td>1.017386e+06</td>\n",
       "      <td>...</td>\n",
       "      <td>1.014314e+06</td>\n",
       "      <td>1.068052e+06</td>\n",
       "      <td>1.050853e+06</td>\n",
       "      <td>930612.443293</td>\n",
       "      <td>888314.789464</td>\n",
       "      <td>1.000656e+06</td>\n",
       "      <td>938865.068272</td>\n",
       "      <td>1.078279e+06</td>\n",
       "      <td>921486.876808</td>\n",
       "      <td>1.089675e+06</td>\n",
       "    </tr>\n",
       "    <tr>\n",
       "      <th>998</th>\n",
       "      <td>993861.336844</td>\n",
       "      <td>1.044681e+06</td>\n",
       "      <td>921975.453849</td>\n",
       "      <td>960682.380932</td>\n",
       "      <td>1.051420e+06</td>\n",
       "      <td>926741.994390</td>\n",
       "      <td>944011.368250</td>\n",
       "      <td>1.066315e+06</td>\n",
       "      <td>1.016030e+06</td>\n",
       "      <td>1.005865e+06</td>\n",
       "      <td>...</td>\n",
       "      <td>1.009420e+06</td>\n",
       "      <td>1.083018e+06</td>\n",
       "      <td>1.047633e+06</td>\n",
       "      <td>927514.077989</td>\n",
       "      <td>918385.119663</td>\n",
       "      <td>9.783549e+05</td>\n",
       "      <td>934008.356460</td>\n",
       "      <td>1.074669e+06</td>\n",
       "      <td>915623.231989</td>\n",
       "      <td>1.107427e+06</td>\n",
       "    </tr>\n",
       "    <tr>\n",
       "      <th>999</th>\n",
       "      <td>993778.718717</td>\n",
       "      <td>1.026674e+06</td>\n",
       "      <td>917568.199888</td>\n",
       "      <td>962089.296038</td>\n",
       "      <td>1.055339e+06</td>\n",
       "      <td>924258.479368</td>\n",
       "      <td>940644.927562</td>\n",
       "      <td>1.044260e+06</td>\n",
       "      <td>1.029501e+06</td>\n",
       "      <td>1.020774e+06</td>\n",
       "      <td>...</td>\n",
       "      <td>1.004768e+06</td>\n",
       "      <td>1.068591e+06</td>\n",
       "      <td>1.043328e+06</td>\n",
       "      <td>933289.598256</td>\n",
       "      <td>900924.392772</td>\n",
       "      <td>9.954419e+05</td>\n",
       "      <td>936472.696002</td>\n",
       "      <td>1.082426e+06</td>\n",
       "      <td>934398.165673</td>\n",
       "      <td>1.094877e+06</td>\n",
       "    </tr>\n",
       "  </tbody>\n",
       "</table>\n",
       "<p>1000 rows × 2000 columns</p>\n",
       "</div>"
      ],
      "text/plain": [
       "              4002          4003           4004           4005          4006  \\\n",
       "0    973663.761608  1.036957e+06  918722.026480  961373.809346  1.085991e+06   \n",
       "1    982601.000707  1.048235e+06  905433.487418  958876.266726  1.074536e+06   \n",
       "2    994868.532081  1.045230e+06  919337.193418  966581.327541  1.046401e+06   \n",
       "3    998051.239505  1.027702e+06  908744.617261  976600.604457  1.075782e+06   \n",
       "4    987454.301469  1.057564e+06  920227.354691  939973.645156  1.067011e+06   \n",
       "..             ...           ...            ...            ...           ...   \n",
       "995  996727.023806  1.047784e+06  898350.376138  968671.926319  1.077819e+06   \n",
       "996  988251.536873  1.050602e+06  885440.819507  979519.537264  1.060508e+06   \n",
       "997  998699.359383  1.049457e+06  917090.661485  951736.443689  1.073886e+06   \n",
       "998  993861.336844  1.044681e+06  921975.453849  960682.380932  1.051420e+06   \n",
       "999  993778.718717  1.026674e+06  917568.199888  962089.296038  1.055339e+06   \n",
       "\n",
       "              4007           4008          4009          4010          4011  \\\n",
       "0    912335.024760  926331.816185  1.053110e+06  1.021199e+06  9.979372e+05   \n",
       "1    911733.595706  898931.694346  1.074097e+06  1.030222e+06  1.016769e+06   \n",
       "2    914530.488574  935816.604049  1.046309e+06  1.036578e+06  1.011976e+06   \n",
       "3    897669.629692  936684.239758  1.043375e+06  1.038113e+06  1.023572e+06   \n",
       "4    902923.240212  917788.105205  1.058004e+06  1.017137e+06  1.022795e+06   \n",
       "..             ...            ...           ...           ...           ...   \n",
       "995  910585.792563  928810.506601  1.039977e+06  1.011353e+06  1.008175e+06   \n",
       "996  919616.434080  935674.074205  1.054276e+06  1.018813e+06  1.015506e+06   \n",
       "997  922637.474416  937238.740970  1.069308e+06  1.018909e+06  1.017386e+06   \n",
       "998  926741.994390  944011.368250  1.066315e+06  1.016030e+06  1.005865e+06   \n",
       "999  924258.479368  940644.927562  1.044260e+06  1.029501e+06  1.020774e+06   \n",
       "\n",
       "     ...          5992          5993          5994           5995  \\\n",
       "0    ...  1.024111e+06  1.068598e+06  1.049798e+06  921451.764663   \n",
       "1    ...  1.013339e+06  1.075035e+06  1.036528e+06  931102.990533   \n",
       "2    ...  1.001730e+06  1.070344e+06  1.039950e+06  928363.708577   \n",
       "3    ...  1.007061e+06  1.071882e+06  1.055484e+06  931572.598632   \n",
       "4    ...  1.004874e+06  1.083570e+06  1.040108e+06  938336.197697   \n",
       "..   ...           ...           ...           ...            ...   \n",
       "995  ...  1.009898e+06  1.086263e+06  1.051729e+06  921357.843993   \n",
       "996  ...  9.973340e+05  1.088739e+06  1.063336e+06  927956.785927   \n",
       "997  ...  1.014314e+06  1.068052e+06  1.050853e+06  930612.443293   \n",
       "998  ...  1.009420e+06  1.083018e+06  1.047633e+06  927514.077989   \n",
       "999  ...  1.004768e+06  1.068591e+06  1.043328e+06  933289.598256   \n",
       "\n",
       "              5996          5997           5998          5999           6000  \\\n",
       "0    911085.124714  1.004976e+06  926257.219623  1.089450e+06  916968.277728   \n",
       "1    908551.477181  1.000989e+06  939939.992740  1.083321e+06  930118.128285   \n",
       "2    908071.524111  1.005031e+06  918775.375956  1.100859e+06  902795.151256   \n",
       "3    923954.437280  9.794893e+05  950100.878591  1.092467e+06  923196.213987   \n",
       "4    911498.353387  1.002151e+06  946070.309180  1.090226e+06  921013.656178   \n",
       "..             ...           ...            ...           ...            ...   \n",
       "995  907554.120793  9.808074e+05  943179.922051  1.103385e+06  918073.568012   \n",
       "996  901112.168907  9.690406e+05  924742.052283  1.092355e+06  930222.266595   \n",
       "997  888314.789464  1.000656e+06  938865.068272  1.078279e+06  921486.876808   \n",
       "998  918385.119663  9.783549e+05  934008.356460  1.074669e+06  915623.231989   \n",
       "999  900924.392772  9.954419e+05  936472.696002  1.082426e+06  934398.165673   \n",
       "\n",
       "             6001  \n",
       "0    1.090162e+06  \n",
       "1    1.091653e+06  \n",
       "2    1.081177e+06  \n",
       "3    1.090656e+06  \n",
       "4    1.093836e+06  \n",
       "..            ...  \n",
       "995  1.080327e+06  \n",
       "996  1.084800e+06  \n",
       "997  1.089675e+06  \n",
       "998  1.107427e+06  \n",
       "999  1.094877e+06  \n",
       "\n",
       "[1000 rows x 2000 columns]"
      ]
     },
     "metadata": {},
     "output_type": "display_data"
    }
   ],
   "source": [
    "# Generate random load profile\n",
    "n_scenarios = 1000\n",
    "n_loads = len(input_data[\"sym_load\"]) \n",
    "load_id = input_data[\"sym_load\"][\"id\"]\n",
    "load_p = input_data[\"sym_load\"][\"p_specified\"]\n",
    "profile = np.tile(load_p, (n_scenarios, 1)) + 1e4 * np.random.randn(n_scenarios, n_loads)\n",
    "df_load_profile = pd.DataFrame(profile, columns=load_id)\n",
    "display(df_load_profile)"
   ]
  },
  {
   "cell_type": "markdown",
   "id": "6074de68",
   "metadata": {},
   "source": [
    "## Run Time Series Calculation\n",
    "\n",
    "We want to run a time-series load flow batch calculation using the dataframe.\n",
    "\n",
    "* Convert the load profile into the compatible batch update dataset.\n",
    "* Run the batch calculation.\n",
    "* Compare the calculation methods `newton_raphson` and `linear`."
   ]
  },
  {
   "cell_type": "code",
   "execution_count": 10,
   "id": "921310a7",
   "metadata": {},
   "outputs": [],
   "source": [
    "# Initialize an empty load profile\n",
    "load_profile = initialize_array(\"update\", \"sym_load\", df_load_profile.shape)\n",
    "\n",
    "# Set the attributes for the batch calculation (assume q_specified = 0.0)\n",
    "load_profile[\"id\"] = df_load_profile.columns.to_numpy()\n",
    "load_profile[\"p_specified\"] = df_load_profile.to_numpy()\n",
    "load_profile[\"q_specified\"] = 0.0\n",
    "\n",
    "# Construct the update data\n",
    "update_data = {\"sym_load\": load_profile}"
   ]
  },
  {
   "cell_type": "code",
   "execution_count": 11,
   "id": "9f88ba5f",
   "metadata": {},
   "outputs": [
    {
     "name": "stdout",
     "output_type": "stream",
     "text": [
      "Execution time for Validating Batch Data is 31.333834 s\n"
     ]
    }
   ],
   "source": [
    "# Validating batch data can take a long time.\n",
    "# It is recommended to only validate batch data when you run into trouble.\n",
    "with Timer(\"Validating Batch Data\"):\n",
    "    assert_valid_batch_data(input_data=input_data, update_data=update_data, calculation_type=CalculationType.power_flow)"
   ]
  },
  {
   "cell_type": "code",
   "execution_count": 12,
   "id": "e7ee773c",
   "metadata": {},
   "outputs": [
    {
     "name": "stdout",
     "output_type": "stream",
     "text": [
      "Execution time for Batch Calculation using Newton-Raphson is 17.497064 s\n"
     ]
    }
   ],
   "source": [
    "# Run Newton Raphson power flow (this may take a minute...)\n",
    "with Timer(\"Batch Calculation using Newton-Raphson\"):\n",
    "    model.calculate_power_flow(update_data=update_data, calculation_method=CalculationMethod.newton_raphson)"
   ]
  },
  {
   "cell_type": "code",
   "execution_count": 13,
   "id": "251e2edd",
   "metadata": {},
   "outputs": [
    {
     "name": "stdout",
     "output_type": "stream",
     "text": [
      "Execution time for Batch Calculation using linear calculation is 0.965608 s\n"
     ]
    }
   ],
   "source": [
    "# Run linear power flow\n",
    "with Timer(\"Batch Calculation using linear calculation\"):\n",
    "    model.calculate_power_flow(update_data=update_data, calculation_method=CalculationMethod.linear)"
   ]
  },
  {
   "cell_type": "markdown",
   "id": "eb7ab8b5",
   "metadata": {},
   "source": [
    "# Assignment 6: N-1 Scenario Batch Calculation\n",
    "\n",
    "We want to run a N-1 Scenario analysis. For each batch calculation, one `line` is disconnected at from- and to-side."
   ]
  },
  {
   "cell_type": "code",
   "execution_count": 14,
   "id": "28b46e3a",
   "metadata": {},
   "outputs": [],
   "source": [
    "n_lines = len(input_data[\"line\"])\n",
    "\n",
    "# Initialize an empty line profile\n",
    "line_profile = initialize_array(\"update\", \"line\", (n_lines, n_lines))\n",
    "\n",
    "# Set the attributes for the batch calculation\n",
    "line_profile[\"id\"] =  input_data[\"line\"][\"id\"]\n",
    "line_profile[\"from_status\"] = 1 - np.eye(n_lines, dtype=np.uint8)\n",
    "line_profile[\"to_status\"] = 1 - np.eye(n_lines, dtype=np.uint8)\n",
    "\n",
    "# Construct the update data\n",
    "update_data = {\"line\": line_profile}"
   ]
  },
  {
   "cell_type": "code",
   "execution_count": 15,
   "id": "5fa9c6ca",
   "metadata": {},
   "outputs": [
    {
     "name": "stdout",
     "output_type": "stream",
     "text": [
      "Execution time for Validating Batch Data is 63.936292 s\n"
     ]
    }
   ],
   "source": [
    "# Validating batch data can take a long time.\n",
    "# It is recommended to only validate batch data when you run into trouble.\n",
    "with Timer(\"Validating Batch Data\"):\n",
    "    assert_valid_batch_data(input_data=input_data, update_data=update_data, calculation_type=CalculationType.power_flow)"
   ]
  },
  {
   "cell_type": "code",
   "execution_count": 16,
   "id": "3337a5cb",
   "metadata": {},
   "outputs": [
    {
     "name": "stdout",
     "output_type": "stream",
     "text": [
      "Execution time for Batch Calculation using Newton-Raphson is 30.987936 s\n"
     ]
    }
   ],
   "source": [
    "# Run Newton Raphson power flow (this may take a minute...)\n",
    "with Timer(\"Batch Calculation using Newton-Raphson\"):\n",
    "    model.calculate_power_flow(update_data=update_data, calculation_method=CalculationMethod.newton_raphson)"
   ]
  },
  {
   "cell_type": "code",
   "execution_count": 17,
   "id": "f7ba9924",
   "metadata": {},
   "outputs": [
    {
     "name": "stdout",
     "output_type": "stream",
     "text": [
      "Execution time for Batch Calculation using linear calculation is 3.392957 s\n"
     ]
    }
   ],
   "source": [
    "# Run linear power flow\n",
    "with Timer(\"Batch Calculation using linear calculation\"):\n",
    "    model.calculate_power_flow(update_data=update_data, calculation_method=CalculationMethod.linear)"
   ]
  },
  {
   "cell_type": "markdown",
   "id": "6af43b69",
   "metadata": {},
   "source": [
    "## Parallel processing\n",
    "The `calculate_power_flow` method has an optional `threading` argument to define the number of threads ran in parallel. Experiment with different threading values and compare the results..."
   ]
  },
  {
   "cell_type": "code",
   "execution_count": 18,
   "id": "9f1a3d88",
   "metadata": {},
   "outputs": [
    {
     "name": "stdout",
     "output_type": "stream",
     "text": [
      "Execution time for Sequential is 29.697149 s\n",
      "Execution time for Single thread is 30.063583 s\n",
      "Execution time for Two threads in parallel is 15.683002 s\n",
      "Execution time for Four threads in parallel is 9.725921 s\n",
      "Execution time for Recommended: Use number of threads based the machine hardware is 8.020224 s\n"
     ]
    }
   ],
   "source": [
    "# By default, sequential threading is used\n",
    "with Timer(\"Sequential\"):\n",
    "    model.calculate_power_flow(update_data=update_data)\n",
    "\n",
    "# Single thread, this is essentially the same as running a single thread\n",
    "with Timer(\"Single thread\"):\n",
    "    model.calculate_power_flow(update_data=update_data, threading=1)\n",
    "\n",
    "# Two threads should be faster    \n",
    "with Timer(\"Two threads in parallel\"):\n",
    "    model.calculate_power_flow(update_data=update_data, threading=2)\n",
    "\n",
    "# Four threads should be even faster    \n",
    "with Timer(\"Four threads in parallel\"):\n",
    "    model.calculate_power_flow(update_data=update_data, threading=4)\n",
    "\n",
    "# Use number of threads based the machine hardware    \n",
    "with Timer(\"Use number of threads based the machine hardware\"):\n",
    "    model.calculate_power_flow(update_data=update_data, threading=0)"
   ]
  }
 ],
 "metadata": {
  "kernelspec": {
   "display_name": "Python 3 (ipykernel)",
   "language": "python",
   "name": "python3"
  },
  "language_info": {
   "codemirror_mode": {
    "name": "ipython",
    "version": 3
   },
   "file_extension": ".py",
   "mimetype": "text/x-python",
   "name": "python",
   "nbconvert_exporter": "python",
   "pygments_lexer": "ipython3",
   "version": "3.9.1"
  }
 },
 "nbformat": 4,
 "nbformat_minor": 5
}
