{
 "cells": [
  {
   "cell_type": "markdown",
   "id": "a727ce38",
   "metadata": {},
   "source": [
    "# Introduction\n",
    "\n",
    "In this assignment you will be given a series of tasks about using the library `power-grid-model`. The tasks include:\n",
    "\n",
    "1. [Load input](#Assignment-1:-Load-Input-Data)\n",
    "2. [Validate Input Data](#Assignment-2:-Validate-Input-Data)\n",
    "3. [Construct Model](#Assignment-3:-Construct-Model)\n",
    "4. [Calculate One Time Power Flow](#Assignment-4:-Calculate-One-Time-Power-Flow)\n",
    "5. [Time Series Batch Calculation](#Assignment-5:-Time-Series-Batch-Calculation)\n",
    "6. [N 1 Scenario-Batch-Calculation](#Assignment-6:-N-1-Scenario-Batch-Calculation)\n",
    "\n",
    "The input data are CSV files in the `data/` folder:\n",
    "* `node.csv`\n",
    "* `line.csv`\n",
    "* `source.csv`\n",
    "* `sym_load.csv`\n"
   ]
  },
  {
   "cell_type": "markdown",
   "id": "b18d109c",
   "metadata": {},
   "source": [
    "# Preparation\n",
    "\n",
    "First import everything we need for this workshop:"
   ]
  },
  {
   "cell_type": "code",
   "execution_count": 1,
   "id": "fbc50a6d",
   "metadata": {},
   "outputs": [],
   "source": [
    "import time\n",
    "from typing import Dict\n",
    "\n",
    "import numpy as np\n",
    "import pandas as pd\n",
    "\n",
    "from power_grid_model import (\n",
    "    PowerGridModel,\n",
    "    CalculationType,\n",
    "    CalculationMethod,\n",
    "    initialize_array\n",
    ")\n",
    "\n",
    "from power_grid_model.validation import (\n",
    "    assert_valid_input_data,\n",
    "    assert_valid_batch_data\n",
    ")"
   ]
  },
  {
   "cell_type": "markdown",
   "id": "50065790",
   "metadata": {},
   "source": [
    "Let's define a timer class to easily benchmark the calculations:"
   ]
  },
  {
   "cell_type": "code",
   "execution_count": 2,
   "id": "760a38b1",
   "metadata": {},
   "outputs": [],
   "source": [
    "class Timer:\n",
    "    def __init__(self, name: str):\n",
    "        self.name = name\n",
    "        self.start = None\n",
    "\n",
    "    def __enter__(self):\n",
    "        self.start = time.perf_counter()\n",
    "\n",
    "    def __exit__(self, *args):\n",
    "        print(f'Execution time for {self.name} is {(time.perf_counter() - self.start):0.6f} s')"
   ]
  },
  {
   "cell_type": "markdown",
   "id": "0f33163a",
   "metadata": {},
   "source": [
    "The following example measures the time for a simple add operation of two numpy arrays."
   ]
  },
  {
   "cell_type": "code",
   "execution_count": 3,
   "id": "a61540cd",
   "metadata": {},
   "outputs": [
    {
     "name": "stdout",
     "output_type": "stream",
     "text": [
      "Execution time for Add Operation is 0.002995 s\n"
     ]
    }
   ],
   "source": [
    "a = np.random.rand(1000000)\n",
    "b = np.random.rand(1000000)\n",
    "with Timer(\"Add Operation\"):\n",
    "    c = a + b"
   ]
  },
  {
   "cell_type": "markdown",
   "id": "824a3c36",
   "metadata": {},
   "source": [
    "# Assignment 1: Load Input Data\n",
    "\n",
    "The following function loads the CSV data files from folder `data/` and convert them into one dictionary of numpy structured arrays. The returned dictionary is a compatible input for the constructor of `PowerGridModel`. Please complete the function to construct the input data which is compatible with `PowerGridModel`."
   ]
  },
  {
   "cell_type": "code",
   "execution_count": 4,
   "id": "2baee3cd",
   "metadata": {},
   "outputs": [
    {
     "name": "stdout",
     "output_type": "stream",
     "text": [
      "node     : 2001\n",
      "line     : 2000\n",
      "source   :    1\n",
      "sym_load : 2000\n",
      "Execution time for Loading Input Data is 0.052330 s\n"
     ]
    }
   ],
   "source": [
    "def load_input_data() -> Dict[str, np.ndarray]:\n",
    "    input_data = {}\n",
    "    for component in ['node', 'line', 'source', 'sym_load']:\n",
    "        \n",
    "        # Use pandas to read CSV data\n",
    "        df = pd.read_csv(f'data/{component}.csv')\n",
    "\n",
    "        # Initialize array\n",
    "        input_data[component] = initialize_array('input', component, len(df))\n",
    "\n",
    "        # Fill the attributes\n",
    "        for attr, values in df.items():\n",
    "            input_data[component][attr] = values\n",
    "\n",
    "        # Print some debug info\n",
    "        print(f\"{component:9s}: {len(input_data[component]):4d}\")\n",
    "\n",
    "    return input_data\n",
    "\n",
    "# Load input data\n",
    "with Timer(\"Loading Input Data\"):\n",
    "    input_data = load_input_data()\n"
   ]
  },
  {
   "cell_type": "markdown",
   "id": "728db4b8",
   "metadata": {},
   "source": [
    "# Assignment 2: Validate Input Data\n",
    "\n",
    "It is recommended to validate your data before constructing the `PowerGridModel`. If you are confident about your input data, you can skip this step for performance reasons. The easiest way to validate your input data is using `assert_valid_input_data`, which will raise an exception if there are any errors in your data. Please have a look at the [Validation Examples](https://github.com/alliander-opensource/power-grid-model/blob/main/examples/Validation%20Examples.ipynb) for more detailed information on the validation functions."
   ]
  },
  {
   "cell_type": "code",
   "execution_count": 5,
   "id": "b703c8aa",
   "metadata": {},
   "outputs": [
    {
     "name": "stdout",
     "output_type": "stream",
     "text": [
      "Execution time for Validating Input Data is 0.009636 s\n"
     ]
    }
   ],
   "source": [
    "# Validate input data\n",
    "with Timer(\"Validating Input Data\"):\n",
    "    assert_valid_input_data(input_data=input_data, calculation_type=CalculationType.power_flow)"
   ]
  },
  {
   "cell_type": "markdown",
   "id": "940d48be",
   "metadata": {},
   "source": [
    "# Assignment 3: Construct Model\n",
    "\n",
    "Create an instance of `PowerGridModel` using the input data. Benchmark the construction time."
   ]
  },
  {
   "cell_type": "code",
   "execution_count": 6,
   "id": "71b39571",
   "metadata": {},
   "outputs": [
    {
     "name": "stdout",
     "output_type": "stream",
     "text": [
      "Execution time for Model Construction is 0.001296 s\n",
      "{'line': 2000, 'node': 2001, 'source': 1, 'sym_load': 2000}\n"
     ]
    }
   ],
   "source": [
    "# Construct model\n",
    "with Timer(\"Model Construction\"):\n",
    "    model = PowerGridModel(input_data=input_data)\n",
    "\n",
    "# Print the number of objects\n",
    "print(model.all_component_count)"
   ]
  },
  {
   "cell_type": "markdown",
   "id": "2b013fa7",
   "metadata": {},
   "source": [
    "# Assignment 4: Calculate One-Time Power Flow\n",
    "\n",
    "* Calculate one-time power flow, print the highest and lowest loading of the lines.\n",
    "* Try with Newton-Raphson and linear method, compare the results and speed."
   ]
  },
  {
   "cell_type": "code",
   "execution_count": 7,
   "id": "88034903",
   "metadata": {},
   "outputs": [
    {
     "name": "stdout",
     "output_type": "stream",
     "text": [
      "Execution time for Newton-Raphson Power Flow is 0.122817 s\n",
      "Min line loading: 0.14188449783807638\n",
      "Min line loading: 1.6292378285645182\n"
     ]
    }
   ],
   "source": [
    "# Newton-Raphson Power Flow\n",
    "with Timer(\"Newton-Raphson Power Flow\"):\n",
    "    result = model.calculate_power_flow(calculation_method=CalculationMethod.newton_raphson)\n",
    "    \n",
    "# Print min and max line loading\n",
    "print(\"Min line loading:\", min(result[\"line\"][\"loading\"]))\n",
    "print(\"Min line loading:\", max(result[\"line\"][\"loading\"]))"
   ]
  },
  {
   "cell_type": "code",
   "execution_count": 8,
   "id": "a8d298d5",
   "metadata": {},
   "outputs": [
    {
     "name": "stdout",
     "output_type": "stream",
     "text": [
      "Execution time for Linear Power Flow is 0.003432 s\n",
      "Min line loading: 0.1395686087394204\n",
      "Min line loading: 1.6156849991056184\n"
     ]
    }
   ],
   "source": [
    "# Linear Power Flow\n",
    "with Timer(\"Linear Power Flow\"):\n",
    "    result = model.calculate_power_flow(calculation_method=CalculationMethod.linear)\n",
    "    \n",
    "# Print min and max line loading\n",
    "print(\"Min line loading:\", min(result[\"line\"][\"loading\"]))\n",
    "print(\"Max line loading:\", max(result[\"line\"][\"loading\"]))"
   ]
  },
  {
   "cell_type": "markdown",
   "id": "14fcc242",
   "metadata": {},
   "source": [
    "# Assignment 5: Time Series Batch Calculation\n",
    "\n",
    "## Load Profile\n",
    "\n",
    "Below we randomly generate a dataframe of load profile. \n",
    "\n",
    "* The column names are the IDs of `sym_load`\n",
    "* Each row is one scenario\n",
    "* Each entry specifies the active power of the load\n",
    "* The reactive power is zero\n"
   ]
  },
  {
   "cell_type": "code",
   "execution_count": 9,
   "id": "b58045cc",
   "metadata": {},
   "outputs": [
    {
     "data": {
      "text/html": [
       "<div>\n",
       "<style scoped>\n",
       "    .dataframe tbody tr th:only-of-type {\n",
       "        vertical-align: middle;\n",
       "    }\n",
       "\n",
       "    .dataframe tbody tr th {\n",
       "        vertical-align: top;\n",
       "    }\n",
       "\n",
       "    .dataframe thead th {\n",
       "        text-align: right;\n",
       "    }\n",
       "</style>\n",
       "<table border=\"1\" class=\"dataframe\">\n",
       "  <thead>\n",
       "    <tr style=\"text-align: right;\">\n",
       "      <th></th>\n",
       "      <th>4002</th>\n",
       "      <th>4003</th>\n",
       "      <th>4004</th>\n",
       "      <th>4005</th>\n",
       "      <th>4006</th>\n",
       "      <th>4007</th>\n",
       "      <th>4008</th>\n",
       "      <th>4009</th>\n",
       "      <th>4010</th>\n",
       "      <th>4011</th>\n",
       "      <th>...</th>\n",
       "      <th>5992</th>\n",
       "      <th>5993</th>\n",
       "      <th>5994</th>\n",
       "      <th>5995</th>\n",
       "      <th>5996</th>\n",
       "      <th>5997</th>\n",
       "      <th>5998</th>\n",
       "      <th>5999</th>\n",
       "      <th>6000</th>\n",
       "      <th>6001</th>\n",
       "    </tr>\n",
       "  </thead>\n",
       "  <tbody>\n",
       "    <tr>\n",
       "      <th>0</th>\n",
       "      <td>9.915574e+05</td>\n",
       "      <td>1.041937e+06</td>\n",
       "      <td>920479.625505</td>\n",
       "      <td>972107.888410</td>\n",
       "      <td>1.082858e+06</td>\n",
       "      <td>891937.045335</td>\n",
       "      <td>926657.373359</td>\n",
       "      <td>1.077957e+06</td>\n",
       "      <td>1.001909e+06</td>\n",
       "      <td>1.020692e+06</td>\n",
       "      <td>...</td>\n",
       "      <td>1.010317e+06</td>\n",
       "      <td>1.072578e+06</td>\n",
       "      <td>1.062850e+06</td>\n",
       "      <td>922852.019563</td>\n",
       "      <td>904239.197838</td>\n",
       "      <td>9.836537e+05</td>\n",
       "      <td>938690.083481</td>\n",
       "      <td>1.087556e+06</td>\n",
       "      <td>911676.467193</td>\n",
       "      <td>1.113923e+06</td>\n",
       "    </tr>\n",
       "    <tr>\n",
       "      <th>1</th>\n",
       "      <td>9.812465e+05</td>\n",
       "      <td>1.022385e+06</td>\n",
       "      <td>908367.948469</td>\n",
       "      <td>972162.905093</td>\n",
       "      <td>1.064926e+06</td>\n",
       "      <td>900278.056699</td>\n",
       "      <td>928993.730573</td>\n",
       "      <td>1.079509e+06</td>\n",
       "      <td>1.027292e+06</td>\n",
       "      <td>1.012067e+06</td>\n",
       "      <td>...</td>\n",
       "      <td>1.001604e+06</td>\n",
       "      <td>1.068702e+06</td>\n",
       "      <td>1.027396e+06</td>\n",
       "      <td>933749.871334</td>\n",
       "      <td>910464.189725</td>\n",
       "      <td>9.819365e+05</td>\n",
       "      <td>934418.756586</td>\n",
       "      <td>1.088987e+06</td>\n",
       "      <td>943760.559586</td>\n",
       "      <td>1.094036e+06</td>\n",
       "    </tr>\n",
       "    <tr>\n",
       "      <th>2</th>\n",
       "      <td>9.952271e+05</td>\n",
       "      <td>1.045293e+06</td>\n",
       "      <td>935740.236611</td>\n",
       "      <td>979902.302184</td>\n",
       "      <td>1.062770e+06</td>\n",
       "      <td>906971.825838</td>\n",
       "      <td>923945.046753</td>\n",
       "      <td>1.040995e+06</td>\n",
       "      <td>1.029800e+06</td>\n",
       "      <td>1.018948e+06</td>\n",
       "      <td>...</td>\n",
       "      <td>1.019384e+06</td>\n",
       "      <td>1.080574e+06</td>\n",
       "      <td>1.040944e+06</td>\n",
       "      <td>914347.525585</td>\n",
       "      <td>901601.171481</td>\n",
       "      <td>9.949111e+05</td>\n",
       "      <td>931006.971170</td>\n",
       "      <td>1.093212e+06</td>\n",
       "      <td>929287.365023</td>\n",
       "      <td>1.083244e+06</td>\n",
       "    </tr>\n",
       "    <tr>\n",
       "      <th>3</th>\n",
       "      <td>9.920631e+05</td>\n",
       "      <td>1.041287e+06</td>\n",
       "      <td>935290.059630</td>\n",
       "      <td>974774.739552</td>\n",
       "      <td>1.063666e+06</td>\n",
       "      <td>916073.963838</td>\n",
       "      <td>921941.854547</td>\n",
       "      <td>1.049433e+06</td>\n",
       "      <td>1.029044e+06</td>\n",
       "      <td>1.012838e+06</td>\n",
       "      <td>...</td>\n",
       "      <td>9.955819e+05</td>\n",
       "      <td>1.092287e+06</td>\n",
       "      <td>1.053018e+06</td>\n",
       "      <td>914337.464299</td>\n",
       "      <td>897821.146663</td>\n",
       "      <td>9.852155e+05</td>\n",
       "      <td>952822.357441</td>\n",
       "      <td>1.091220e+06</td>\n",
       "      <td>917377.886449</td>\n",
       "      <td>1.086366e+06</td>\n",
       "    </tr>\n",
       "    <tr>\n",
       "      <th>4</th>\n",
       "      <td>9.991754e+05</td>\n",
       "      <td>1.046883e+06</td>\n",
       "      <td>920477.800913</td>\n",
       "      <td>967905.490084</td>\n",
       "      <td>1.061321e+06</td>\n",
       "      <td>911676.321158</td>\n",
       "      <td>939514.382604</td>\n",
       "      <td>1.069454e+06</td>\n",
       "      <td>1.027150e+06</td>\n",
       "      <td>1.014885e+06</td>\n",
       "      <td>...</td>\n",
       "      <td>9.895435e+05</td>\n",
       "      <td>1.068490e+06</td>\n",
       "      <td>1.032782e+06</td>\n",
       "      <td>940125.474433</td>\n",
       "      <td>892227.483635</td>\n",
       "      <td>9.926455e+05</td>\n",
       "      <td>916315.025623</td>\n",
       "      <td>1.090465e+06</td>\n",
       "      <td>899889.684559</td>\n",
       "      <td>1.096315e+06</td>\n",
       "    </tr>\n",
       "    <tr>\n",
       "      <th>...</th>\n",
       "      <td>...</td>\n",
       "      <td>...</td>\n",
       "      <td>...</td>\n",
       "      <td>...</td>\n",
       "      <td>...</td>\n",
       "      <td>...</td>\n",
       "      <td>...</td>\n",
       "      <td>...</td>\n",
       "      <td>...</td>\n",
       "      <td>...</td>\n",
       "      <td>...</td>\n",
       "      <td>...</td>\n",
       "      <td>...</td>\n",
       "      <td>...</td>\n",
       "      <td>...</td>\n",
       "      <td>...</td>\n",
       "      <td>...</td>\n",
       "      <td>...</td>\n",
       "      <td>...</td>\n",
       "      <td>...</td>\n",
       "      <td>...</td>\n",
       "    </tr>\n",
       "    <tr>\n",
       "      <th>995</th>\n",
       "      <td>9.783880e+05</td>\n",
       "      <td>1.039982e+06</td>\n",
       "      <td>916964.496076</td>\n",
       "      <td>955890.782880</td>\n",
       "      <td>1.063642e+06</td>\n",
       "      <td>912633.332756</td>\n",
       "      <td>916711.275236</td>\n",
       "      <td>1.055183e+06</td>\n",
       "      <td>1.024239e+06</td>\n",
       "      <td>1.033267e+06</td>\n",
       "      <td>...</td>\n",
       "      <td>1.000847e+06</td>\n",
       "      <td>1.078962e+06</td>\n",
       "      <td>1.055384e+06</td>\n",
       "      <td>926148.888358</td>\n",
       "      <td>912486.821907</td>\n",
       "      <td>9.881993e+05</td>\n",
       "      <td>928695.937347</td>\n",
       "      <td>1.092757e+06</td>\n",
       "      <td>931931.649067</td>\n",
       "      <td>1.073828e+06</td>\n",
       "    </tr>\n",
       "    <tr>\n",
       "      <th>996</th>\n",
       "      <td>9.862508e+05</td>\n",
       "      <td>1.040024e+06</td>\n",
       "      <td>900568.892802</td>\n",
       "      <td>969863.876075</td>\n",
       "      <td>1.072430e+06</td>\n",
       "      <td>910842.845593</td>\n",
       "      <td>934348.359513</td>\n",
       "      <td>1.061792e+06</td>\n",
       "      <td>1.016693e+06</td>\n",
       "      <td>1.018378e+06</td>\n",
       "      <td>...</td>\n",
       "      <td>1.005536e+06</td>\n",
       "      <td>1.072628e+06</td>\n",
       "      <td>1.028477e+06</td>\n",
       "      <td>932514.384662</td>\n",
       "      <td>887349.872759</td>\n",
       "      <td>9.846185e+05</td>\n",
       "      <td>930496.807198</td>\n",
       "      <td>1.089242e+06</td>\n",
       "      <td>937716.181746</td>\n",
       "      <td>1.092802e+06</td>\n",
       "    </tr>\n",
       "    <tr>\n",
       "      <th>997</th>\n",
       "      <td>1.003151e+06</td>\n",
       "      <td>1.046678e+06</td>\n",
       "      <td>927742.613354</td>\n",
       "      <td>964917.835529</td>\n",
       "      <td>1.073179e+06</td>\n",
       "      <td>904855.255208</td>\n",
       "      <td>948430.444555</td>\n",
       "      <td>1.059572e+06</td>\n",
       "      <td>1.042647e+06</td>\n",
       "      <td>1.036259e+06</td>\n",
       "      <td>...</td>\n",
       "      <td>1.011350e+06</td>\n",
       "      <td>1.081160e+06</td>\n",
       "      <td>1.049811e+06</td>\n",
       "      <td>920548.904965</td>\n",
       "      <td>907760.484428</td>\n",
       "      <td>1.010574e+06</td>\n",
       "      <td>935994.963105</td>\n",
       "      <td>1.098474e+06</td>\n",
       "      <td>910193.149463</td>\n",
       "      <td>1.092341e+06</td>\n",
       "    </tr>\n",
       "    <tr>\n",
       "      <th>998</th>\n",
       "      <td>9.937902e+05</td>\n",
       "      <td>1.025852e+06</td>\n",
       "      <td>900835.270579</td>\n",
       "      <td>977393.738430</td>\n",
       "      <td>1.075662e+06</td>\n",
       "      <td>897561.026643</td>\n",
       "      <td>936761.567890</td>\n",
       "      <td>1.043752e+06</td>\n",
       "      <td>1.028722e+06</td>\n",
       "      <td>1.023018e+06</td>\n",
       "      <td>...</td>\n",
       "      <td>1.012671e+06</td>\n",
       "      <td>1.068783e+06</td>\n",
       "      <td>1.054626e+06</td>\n",
       "      <td>916723.336269</td>\n",
       "      <td>910574.231281</td>\n",
       "      <td>9.781457e+05</td>\n",
       "      <td>920907.040642</td>\n",
       "      <td>1.084224e+06</td>\n",
       "      <td>918655.031368</td>\n",
       "      <td>1.094858e+06</td>\n",
       "    </tr>\n",
       "    <tr>\n",
       "      <th>999</th>\n",
       "      <td>9.853592e+05</td>\n",
       "      <td>1.047463e+06</td>\n",
       "      <td>905825.797771</td>\n",
       "      <td>955538.916398</td>\n",
       "      <td>1.061928e+06</td>\n",
       "      <td>904143.836424</td>\n",
       "      <td>934260.608658</td>\n",
       "      <td>1.054271e+06</td>\n",
       "      <td>1.014572e+06</td>\n",
       "      <td>1.023149e+06</td>\n",
       "      <td>...</td>\n",
       "      <td>1.007980e+06</td>\n",
       "      <td>1.074252e+06</td>\n",
       "      <td>1.062286e+06</td>\n",
       "      <td>924913.710050</td>\n",
       "      <td>914127.525660</td>\n",
       "      <td>9.847396e+05</td>\n",
       "      <td>940639.025432</td>\n",
       "      <td>1.084229e+06</td>\n",
       "      <td>919196.243552</td>\n",
       "      <td>1.081134e+06</td>\n",
       "    </tr>\n",
       "  </tbody>\n",
       "</table>\n",
       "<p>1000 rows × 2000 columns</p>\n",
       "</div>"
      ],
      "text/plain": [
       "             4002          4003           4004           4005          4006  \\\n",
       "0    9.915574e+05  1.041937e+06  920479.625505  972107.888410  1.082858e+06   \n",
       "1    9.812465e+05  1.022385e+06  908367.948469  972162.905093  1.064926e+06   \n",
       "2    9.952271e+05  1.045293e+06  935740.236611  979902.302184  1.062770e+06   \n",
       "3    9.920631e+05  1.041287e+06  935290.059630  974774.739552  1.063666e+06   \n",
       "4    9.991754e+05  1.046883e+06  920477.800913  967905.490084  1.061321e+06   \n",
       "..            ...           ...            ...            ...           ...   \n",
       "995  9.783880e+05  1.039982e+06  916964.496076  955890.782880  1.063642e+06   \n",
       "996  9.862508e+05  1.040024e+06  900568.892802  969863.876075  1.072430e+06   \n",
       "997  1.003151e+06  1.046678e+06  927742.613354  964917.835529  1.073179e+06   \n",
       "998  9.937902e+05  1.025852e+06  900835.270579  977393.738430  1.075662e+06   \n",
       "999  9.853592e+05  1.047463e+06  905825.797771  955538.916398  1.061928e+06   \n",
       "\n",
       "              4007           4008          4009          4010          4011  \\\n",
       "0    891937.045335  926657.373359  1.077957e+06  1.001909e+06  1.020692e+06   \n",
       "1    900278.056699  928993.730573  1.079509e+06  1.027292e+06  1.012067e+06   \n",
       "2    906971.825838  923945.046753  1.040995e+06  1.029800e+06  1.018948e+06   \n",
       "3    916073.963838  921941.854547  1.049433e+06  1.029044e+06  1.012838e+06   \n",
       "4    911676.321158  939514.382604  1.069454e+06  1.027150e+06  1.014885e+06   \n",
       "..             ...            ...           ...           ...           ...   \n",
       "995  912633.332756  916711.275236  1.055183e+06  1.024239e+06  1.033267e+06   \n",
       "996  910842.845593  934348.359513  1.061792e+06  1.016693e+06  1.018378e+06   \n",
       "997  904855.255208  948430.444555  1.059572e+06  1.042647e+06  1.036259e+06   \n",
       "998  897561.026643  936761.567890  1.043752e+06  1.028722e+06  1.023018e+06   \n",
       "999  904143.836424  934260.608658  1.054271e+06  1.014572e+06  1.023149e+06   \n",
       "\n",
       "     ...          5992          5993          5994           5995  \\\n",
       "0    ...  1.010317e+06  1.072578e+06  1.062850e+06  922852.019563   \n",
       "1    ...  1.001604e+06  1.068702e+06  1.027396e+06  933749.871334   \n",
       "2    ...  1.019384e+06  1.080574e+06  1.040944e+06  914347.525585   \n",
       "3    ...  9.955819e+05  1.092287e+06  1.053018e+06  914337.464299   \n",
       "4    ...  9.895435e+05  1.068490e+06  1.032782e+06  940125.474433   \n",
       "..   ...           ...           ...           ...            ...   \n",
       "995  ...  1.000847e+06  1.078962e+06  1.055384e+06  926148.888358   \n",
       "996  ...  1.005536e+06  1.072628e+06  1.028477e+06  932514.384662   \n",
       "997  ...  1.011350e+06  1.081160e+06  1.049811e+06  920548.904965   \n",
       "998  ...  1.012671e+06  1.068783e+06  1.054626e+06  916723.336269   \n",
       "999  ...  1.007980e+06  1.074252e+06  1.062286e+06  924913.710050   \n",
       "\n",
       "              5996          5997           5998          5999           6000  \\\n",
       "0    904239.197838  9.836537e+05  938690.083481  1.087556e+06  911676.467193   \n",
       "1    910464.189725  9.819365e+05  934418.756586  1.088987e+06  943760.559586   \n",
       "2    901601.171481  9.949111e+05  931006.971170  1.093212e+06  929287.365023   \n",
       "3    897821.146663  9.852155e+05  952822.357441  1.091220e+06  917377.886449   \n",
       "4    892227.483635  9.926455e+05  916315.025623  1.090465e+06  899889.684559   \n",
       "..             ...           ...            ...           ...            ...   \n",
       "995  912486.821907  9.881993e+05  928695.937347  1.092757e+06  931931.649067   \n",
       "996  887349.872759  9.846185e+05  930496.807198  1.089242e+06  937716.181746   \n",
       "997  907760.484428  1.010574e+06  935994.963105  1.098474e+06  910193.149463   \n",
       "998  910574.231281  9.781457e+05  920907.040642  1.084224e+06  918655.031368   \n",
       "999  914127.525660  9.847396e+05  940639.025432  1.084229e+06  919196.243552   \n",
       "\n",
       "             6001  \n",
       "0    1.113923e+06  \n",
       "1    1.094036e+06  \n",
       "2    1.083244e+06  \n",
       "3    1.086366e+06  \n",
       "4    1.096315e+06  \n",
       "..            ...  \n",
       "995  1.073828e+06  \n",
       "996  1.092802e+06  \n",
       "997  1.092341e+06  \n",
       "998  1.094858e+06  \n",
       "999  1.081134e+06  \n",
       "\n",
       "[1000 rows x 2000 columns]"
      ]
     },
     "metadata": {},
     "output_type": "display_data"
    }
   ],
   "source": [
    "# Generate random load profile\n",
    "n_scenarios = 1000\n",
    "n_loads = len(input_data[\"sym_load\"]) \n",
    "load_id = input_data[\"sym_load\"][\"id\"]\n",
    "load_p = input_data[\"sym_load\"][\"p_specified\"]\n",
    "profile = np.tile(load_p, (n_scenarios, 1)) + 1e4 * np.random.randn(n_scenarios, n_loads)\n",
    "df_load_profile = pd.DataFrame(profile, columns=load_id)\n",
    "display(df_load_profile)"
   ]
  },
  {
   "cell_type": "markdown",
   "id": "6074de68",
   "metadata": {},
   "source": [
    "## Run Time Series Calculation\n",
    "\n",
    "We want to run a time-series load flow batch calculation using the dataframe.\n",
    "\n",
    "* Convert the load profile into the compatible batch update dataset.\n",
    "* Run the batch calculation.\n",
    "* Compare the calculation methods `newton_raphson` and `linear`."
   ]
  },
  {
   "cell_type": "code",
   "execution_count": 10,
   "id": "921310a7",
   "metadata": {},
   "outputs": [],
   "source": [
    "# Initialize an empty load profile\n",
    "load_profile = initialize_array(\"update\", \"sym_load\", df_load_profile.shape)\n",
    "\n",
    "# Set the attributes for the batch calculation (assume q_specified = 0.0)\n",
    "load_profile[\"id\"] = df_load_profile.columns.to_numpy()\n",
    "load_profile[\"p_specified\"] = df_load_profile.to_numpy()\n",
    "load_profile[\"q_specified\"] = 0.0\n",
    "\n",
    "# Construct the update data\n",
    "update_data = {\"sym_load\": load_profile}"
   ]
  },
  {
   "cell_type": "code",
   "execution_count": 11,
   "id": "9f88ba5f",
   "metadata": {},
   "outputs": [
    {
     "name": "stdout",
     "output_type": "stream",
     "text": [
      "Execution time for Validating Batch Data is 30.252498 s\n"
     ]
    }
   ],
   "source": [
    "# Validating batch data can take a long time.\n",
    "# It is recommended to only validate batch data when you run into trouble.\n",
    "with Timer(\"Validating Batch Data\"):\n",
    "    assert_valid_batch_data(input_data=input_data, update_data=update_data, calculation_type=CalculationType.power_flow)"
   ]
  },
  {
   "cell_type": "code",
   "execution_count": 12,
   "id": "e7ee773c",
   "metadata": {},
   "outputs": [
    {
     "name": "stdout",
     "output_type": "stream",
     "text": [
      "Execution time for Batch Calculation using Newton-Raphson is 8.673790 s\n"
     ]
    }
   ],
   "source": [
    "# Run Newton Raphson power flow (this may take a minute...)\n",
    "with Timer(\"Batch Calculation using Newton-Raphson\"):\n",
    "    model.calculate_power_flow(update_data=update_data, calculation_method=CalculationMethod.newton_raphson)"
   ]
  },
  {
   "cell_type": "code",
   "execution_count": 13,
   "id": "251e2edd",
   "metadata": {},
   "outputs": [
    {
     "name": "stdout",
     "output_type": "stream",
     "text": [
      "Execution time for Batch Calculation using linear calculation is 1.283085 s\n"
     ]
    }
   ],
   "source": [
    "# Run linear power flow\n",
    "with Timer(\"Batch Calculation using linear calculation\"):\n",
    "    model.calculate_power_flow(update_data=update_data, calculation_method=CalculationMethod.linear)"
   ]
  },
  {
   "cell_type": "markdown",
   "id": "eb7ab8b5",
   "metadata": {},
   "source": [
    "# Assignment 6: N-1 Scenario Batch Calculation\n",
    "\n",
    "We want to run a N-1 Scenario analysis. For each batch calculation, one `line` is disconnected at from- and to-side."
   ]
  },
  {
   "cell_type": "code",
   "execution_count": 14,
   "id": "28b46e3a",
   "metadata": {},
   "outputs": [],
   "source": [
    "n_lines = len(input_data[\"line\"])\n",
    "\n",
    "# Initialize an empty line profile\n",
    "line_profile = initialize_array(\"update\", \"line\", (n_lines, n_lines))\n",
    "\n",
    "# Set the attributes for the batch calculation\n",
    "line_profile[\"id\"] =  input_data[\"line\"][\"id\"]\n",
    "line_profile[\"from_status\"] = 1 - np.eye(n_lines, dtype=np.uint8)\n",
    "line_profile[\"to_status\"] = 1 - np.eye(n_lines, dtype=np.uint8)\n",
    "\n",
    "# Construct the update data\n",
    "update_data = {\"line\": line_profile}"
   ]
  },
  {
   "cell_type": "code",
   "execution_count": 15,
   "id": "5fa9c6ca",
   "metadata": {},
   "outputs": [
    {
     "name": "stdout",
     "output_type": "stream",
     "text": [
      "Execution time for Validating Batch Data is 61.045334 s\n"
     ]
    }
   ],
   "source": [
    "# Validating batch data can take a long time.\n",
    "# It is recommended to only validate batch data when you run into trouble.\n",
    "with Timer(\"Validating Batch Data\"):\n",
    "    assert_valid_batch_data(input_data=input_data, update_data=update_data, calculation_type=CalculationType.power_flow)"
   ]
  },
  {
   "cell_type": "code",
   "execution_count": 16,
   "id": "3337a5cb",
   "metadata": {},
   "outputs": [
    {
     "name": "stdout",
     "output_type": "stream",
     "text": [
      "Execution time for Batch Calculation using Newton-Raphson is 19.149320 s\n"
     ]
    }
   ],
   "source": [
    "# Run Newton Raphson power flow (this may take a minute...)\n",
    "with Timer(\"Batch Calculation using Newton-Raphson\"):\n",
    "    model.calculate_power_flow(update_data=update_data, calculation_method=CalculationMethod.newton_raphson)"
   ]
  },
  {
   "cell_type": "code",
   "execution_count": 17,
   "id": "f7ba9924",
   "metadata": {},
   "outputs": [
    {
     "name": "stdout",
     "output_type": "stream",
     "text": [
      "Execution time for Batch Calculation using linear calculation is 4.194670 s\n"
     ]
    }
   ],
   "source": [
    "# Run linear power flow\n",
    "with Timer(\"Batch Calculation using linear calculation\"):\n",
    "    model.calculate_power_flow(update_data=update_data, calculation_method=CalculationMethod.linear)"
   ]
  },
  {
   "cell_type": "markdown",
   "id": "6af43b69",
   "metadata": {},
   "source": [
    "## Parallel processing\n",
    "The `calculate_power_flow` method has an optional `threading` argument to define the number of threads ran in parallel. Experiment with different threading values and compare the results..."
   ]
  },
  {
   "cell_type": "code",
   "execution_count": 18,
   "id": "9f1a3d88",
   "metadata": {},
   "outputs": [
    {
     "name": "stdout",
     "output_type": "stream",
     "text": [
      "Execution time for Sequential is 19.125076 s\n",
      "Execution time for Single thread is 19.060767 s\n",
      "Execution time for Two threads in parallel is 9.916578 s\n",
      "Execution time for Four threads in parallel is 5.763393 s\n",
      "Execution time for Use number of threads based the machine hardware is 4.290474 s\n"
     ]
    }
   ],
   "source": [
    "# By default, sequential threading is used\n",
    "with Timer(\"Sequential\"):\n",
    "    model.calculate_power_flow(update_data=update_data)\n",
    "\n",
    "# Single thread, this is essentially the same as running a single thread\n",
    "with Timer(\"Single thread\"):\n",
    "    model.calculate_power_flow(update_data=update_data, threading=1)\n",
    "\n",
    "# Two threads should be faster    \n",
    "with Timer(\"Two threads in parallel\"):\n",
    "    model.calculate_power_flow(update_data=update_data, threading=2)\n",
    "\n",
    "# Four threads should be even faster    \n",
    "with Timer(\"Four threads in parallel\"):\n",
    "    model.calculate_power_flow(update_data=update_data, threading=4)\n",
    "\n",
    "# Use number of threads based the machine hardware    \n",
    "with Timer(\"Use number of threads based the machine hardware\"):\n",
    "    model.calculate_power_flow(update_data=update_data, threading=0)"
   ]
  }
 ],
 "metadata": {
  "kernelspec": {
   "display_name": "Python 3 (ipykernel)",
   "language": "python",
   "name": "python3"
  },
  "language_info": {
   "codemirror_mode": {
    "name": "ipython",
    "version": 3
   },
   "file_extension": ".py",
   "mimetype": "text/x-python",
   "name": "python",
   "nbconvert_exporter": "python",
   "pygments_lexer": "ipython3",
   "version": "3.10.0"
  }
 },
 "nbformat": 4,
 "nbformat_minor": 5
}
