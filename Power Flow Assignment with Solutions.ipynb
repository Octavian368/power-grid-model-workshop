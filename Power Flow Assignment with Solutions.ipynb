{
 "cells": [
  {
   "cell_type": "markdown",
   "id": "a727ce38",
   "metadata": {},
   "source": [
    "# Introduction\n",
    "\n",
    "In this assignment you will be given a series of tasks about using the library `power-grid-model`. The tasks include:\n",
    "\n",
    "1. [Load input](#Assignment-1:-Load-Input-Data)\n",
    "2. [Validate Input Data](#Assignment-2:-Validate-Input-Data)\n",
    "3. [Construct Model](#Assignment-3:-Construct-Model)\n",
    "4. [Calculate One Time Power Flow](#Assignment-4:-Calculate-One-Time-Power-Flow)\n",
    "5. [Time Series Batch Calculation](#Assignment-5:-Time-Series-Batch-Calculation)\n",
    "6. [N 1 Scenario-Batch-Calculation](#Assignment-6:-N-1-Scenario-Batch-Calculation)\n",
    "\n",
    "The input data are CSV files in the `data/` folder:\n",
    "* `node.csv`\n",
    "* `line.csv`\n",
    "* `source.csv`\n",
    "* `sym_load.csv`\n"
   ]
  },
  {
   "cell_type": "markdown",
   "id": "b18d109c",
   "metadata": {},
   "source": [
    "# Preparation\n",
    "\n",
    "First import everything we need for this workshop:"
   ]
  },
  {
   "cell_type": "code",
   "execution_count": 1,
   "id": "fbc50a6d",
   "metadata": {},
   "outputs": [],
   "source": [
    "import time\n",
    "from typing import Dict\n",
    "\n",
    "import numpy as np\n",
    "import pandas as pd\n",
    "\n",
    "from power_grid_model import (\n",
    "    PowerGridModel,\n",
    "    CalculationType,\n",
    "    CalculationMethod,\n",
    "    initialize_array\n",
    ")\n",
    "\n",
    "from power_grid_model.validation import (\n",
    "    assert_valid_input_data,\n",
    "    assert_valid_batch_data\n",
    ")"
   ]
  },
  {
   "cell_type": "markdown",
   "id": "50065790",
   "metadata": {},
   "source": [
    "Let's define a timer class to easily benchmark the calculations:"
   ]
  },
  {
   "cell_type": "code",
   "execution_count": 2,
   "id": "760a38b1",
   "metadata": {},
   "outputs": [],
   "source": [
    "class Timer:\n",
    "    def __init__(self, name: str):\n",
    "        self.name = name\n",
    "        self.start = None\n",
    "\n",
    "    def __enter__(self):\n",
    "        self.start = time.perf_counter()\n",
    "\n",
    "    def __exit__(self, *args):\n",
    "        print(f'Execution time for {self.name} is {(time.perf_counter() - self.start):0.6f} s')"
   ]
  },
  {
   "cell_type": "markdown",
   "id": "0f33163a",
   "metadata": {},
   "source": [
    "The following example measures the time for a simple add operation of two numpy arrays."
   ]
  },
  {
   "cell_type": "code",
   "execution_count": 3,
   "id": "a61540cd",
   "metadata": {},
   "outputs": [
    {
     "name": "stdout",
     "output_type": "stream",
     "text": [
      "Execution time for Add Operation is 0.005672 s\n"
     ]
    }
   ],
   "source": [
    "a = np.random.rand(1000000)\n",
    "b = np.random.rand(1000000)\n",
    "with Timer(\"Add Operation\"):\n",
    "    c = a + b"
   ]
  },
  {
   "cell_type": "markdown",
   "id": "824a3c36",
   "metadata": {},
   "source": [
    "# Assignment 1: Load Input Data\n",
    "\n",
    "The following function loads the CSV data files from folder `data/` and convert them into one dictionary of numpy structured arrays. The returned dictionary is a compatible input for the constructor of `PowerGridModel`. Please complete the function to construct the input data which is compatible with `PowerGridModel`."
   ]
  },
  {
   "cell_type": "code",
   "execution_count": 4,
   "id": "2baee3cd",
   "metadata": {},
   "outputs": [
    {
     "name": "stdout",
     "output_type": "stream",
     "text": [
      "node     : 2001\n",
      "line     : 2000\n",
      "source   :    1\n",
      "sym_load : 2000\n",
      "Execution time for Loading Input Data is 0.129971 s\n"
     ]
    }
   ],
   "source": [
    "def load_input_data() -> Dict[str, np.ndarray]:\n",
    "    input_data = {}\n",
    "    for component in ['node', 'line', 'source', 'sym_load']:\n",
    "        \n",
    "        # Use pandas to read CSV data\n",
    "        df = pd.read_csv(f'data/{component}.csv')\n",
    "\n",
    "        # Initialize array\n",
    "        input_data[component] = initialize_array('input', component, len(df))\n",
    "\n",
    "        # Fill the attributes\n",
    "        for attr, values in df.items():\n",
    "            input_data[component][attr] = values\n",
    "\n",
    "        # Print some debug info\n",
    "        print(f\"{component:9s}: {len(input_data[component]):4d}\")\n",
    "\n",
    "    return input_data\n",
    "\n",
    "# Load input data\n",
    "with Timer(\"Loading Input Data\"):\n",
    "    input_data = load_input_data()\n"
   ]
  },
  {
   "cell_type": "markdown",
   "id": "728db4b8",
   "metadata": {},
   "source": [
    "# Assignment 2: Validate Input Data\n",
    "\n",
    "It is recommended to validate your data before constructing the `PowerGridModel`. If you are confident about your input data, you can skip this step for performance reasons. The easiest way to validate your input data is using `assert_valid_input_data`, which will raise an exception if there are any errors in your data. Please have a look at the [Validation Examples](https://github.com/alliander-opensource/power-grid-model/blob/main/examples/Validation%20Examples.ipynb) for more detailed information on the validation functions."
   ]
  },
  {
   "cell_type": "code",
   "execution_count": 5,
   "id": "b703c8aa",
   "metadata": {},
   "outputs": [
    {
     "name": "stdout",
     "output_type": "stream",
     "text": [
      "Execution time for Validating Input Data is 0.118500 s\n"
     ]
    }
   ],
   "source": [
    "# Validate input data\n",
    "with Timer(\"Validating Input Data\"):\n",
    "    assert_valid_input_data(input_data=input_data, calculation_type=CalculationType.power_flow)"
   ]
  },
  {
   "cell_type": "markdown",
   "id": "940d48be",
   "metadata": {},
   "source": [
    "# Assignment 3: Construct Model\n",
    "\n",
    "Create an instance of `PowerGridModel` using the input data. Benchmark the construction time."
   ]
  },
  {
   "cell_type": "code",
   "execution_count": 6,
   "id": "71b39571",
   "metadata": {},
   "outputs": [
    {
     "name": "stdout",
     "output_type": "stream",
     "text": [
      "Execution time for Model Construction is 0.002109 s\n",
      "{'line': 2000, 'node': 2001, 'source': 1, 'sym_load': 2000}\n"
     ]
    }
   ],
   "source": [
    "# Construct model\n",
    "with Timer(\"Model Construction\"):\n",
    "    model = PowerGridModel(input_data=input_data)\n",
    "\n",
    "# Print the number of objects\n",
    "print(model.all_component_count)"
   ]
  },
  {
   "cell_type": "markdown",
   "id": "2b013fa7",
   "metadata": {},
   "source": [
    "# Assignment 4: Calculate One-Time Power Flow\n",
    "\n",
    "* Calculate one-time power flow, print the highest and lowest loading of the lines.\n",
    "* Try with Newton-Raphson and linear method, compare the results and speed."
   ]
  },
  {
   "cell_type": "code",
   "execution_count": 7,
   "id": "88034903",
   "metadata": {},
   "outputs": [
    {
     "name": "stdout",
     "output_type": "stream",
     "text": [
      "Execution time for Newton-Raphson Power Flow is 0.017316 s\n",
      "Min line loading: 0.14188449783808707\n",
      "Max line loading: 1.6292378285645808\n"
     ]
    }
   ],
   "source": [
    "# Newton-Raphson Power Flow\n",
    "with Timer(\"Newton-Raphson Power Flow\"):\n",
    "    result = model.calculate_power_flow(calculation_method=CalculationMethod.newton_raphson)\n",
    "    \n",
    "# Print min and max line loading\n",
    "print(\"Min line loading:\", min(result[\"line\"][\"loading\"]))\n",
    "print(\"Max line loading:\", max(result[\"line\"][\"loading\"]))"
   ]
  },
  {
   "cell_type": "code",
   "execution_count": 8,
   "id": "a8d298d5",
   "metadata": {},
   "outputs": [
    {
     "name": "stdout",
     "output_type": "stream",
     "text": [
      "Execution time for Linear Power Flow is 0.003142 s\n",
      "Min line loading: 0.1395686087394204\n",
      "Max line loading: 1.6156849991055762\n"
     ]
    }
   ],
   "source": [
    "# Linear Power Flow\n",
    "with Timer(\"Linear Power Flow\"):\n",
    "    result = model.calculate_power_flow(calculation_method=CalculationMethod.linear)\n",
    "    \n",
    "# Print min and max line loading\n",
    "print(\"Min line loading:\", min(result[\"line\"][\"loading\"]))\n",
    "print(\"Max line loading:\", max(result[\"line\"][\"loading\"]))"
   ]
  },
  {
   "cell_type": "markdown",
   "id": "14fcc242",
   "metadata": {},
   "source": [
    "# Assignment 5: Time Series Batch Calculation\n",
    "\n",
    "## Load Profile\n",
    "\n",
    "Below we randomly generate a dataframe of load profile. \n",
    "\n",
    "* The column names are the IDs of `sym_load`\n",
    "* Each row is one scenario\n",
    "* Each entry specifies the active power of the load\n",
    "* The reactive power is zero\n"
   ]
  },
  {
   "cell_type": "code",
   "execution_count": 9,
   "id": "b58045cc",
   "metadata": {},
   "outputs": [
    {
     "data": {
      "text/html": [
       "<div>\n",
       "<style scoped>\n",
       "    .dataframe tbody tr th:only-of-type {\n",
       "        vertical-align: middle;\n",
       "    }\n",
       "\n",
       "    .dataframe tbody tr th {\n",
       "        vertical-align: top;\n",
       "    }\n",
       "\n",
       "    .dataframe thead th {\n",
       "        text-align: right;\n",
       "    }\n",
       "</style>\n",
       "<table border=\"1\" class=\"dataframe\">\n",
       "  <thead>\n",
       "    <tr style=\"text-align: right;\">\n",
       "      <th></th>\n",
       "      <th>4002</th>\n",
       "      <th>4003</th>\n",
       "      <th>4004</th>\n",
       "      <th>4005</th>\n",
       "      <th>4006</th>\n",
       "      <th>4007</th>\n",
       "      <th>4008</th>\n",
       "      <th>4009</th>\n",
       "      <th>4010</th>\n",
       "      <th>4011</th>\n",
       "      <th>...</th>\n",
       "      <th>5992</th>\n",
       "      <th>5993</th>\n",
       "      <th>5994</th>\n",
       "      <th>5995</th>\n",
       "      <th>5996</th>\n",
       "      <th>5997</th>\n",
       "      <th>5998</th>\n",
       "      <th>5999</th>\n",
       "      <th>6000</th>\n",
       "      <th>6001</th>\n",
       "    </tr>\n",
       "  </thead>\n",
       "  <tbody>\n",
       "    <tr>\n",
       "      <th>0</th>\n",
       "      <td>1.000307e+06</td>\n",
       "      <td>1.043762e+06</td>\n",
       "      <td>907489.223178</td>\n",
       "      <td>942627.827901</td>\n",
       "      <td>1.080939e+06</td>\n",
       "      <td>911899.465198</td>\n",
       "      <td>928576.057569</td>\n",
       "      <td>1.066132e+06</td>\n",
       "      <td>1.027042e+06</td>\n",
       "      <td>1.017756e+06</td>\n",
       "      <td>...</td>\n",
       "      <td>1.019741e+06</td>\n",
       "      <td>1.057905e+06</td>\n",
       "      <td>1.053772e+06</td>\n",
       "      <td>940164.141074</td>\n",
       "      <td>904159.726618</td>\n",
       "      <td>980534.959209</td>\n",
       "      <td>939013.867583</td>\n",
       "      <td>1.084589e+06</td>\n",
       "      <td>932568.860053</td>\n",
       "      <td>1.080135e+06</td>\n",
       "    </tr>\n",
       "    <tr>\n",
       "      <th>1</th>\n",
       "      <td>9.887351e+05</td>\n",
       "      <td>1.050510e+06</td>\n",
       "      <td>906730.061165</td>\n",
       "      <td>962860.832984</td>\n",
       "      <td>1.072988e+06</td>\n",
       "      <td>898560.942828</td>\n",
       "      <td>922162.280677</td>\n",
       "      <td>1.042203e+06</td>\n",
       "      <td>1.030169e+06</td>\n",
       "      <td>1.030462e+06</td>\n",
       "      <td>...</td>\n",
       "      <td>9.994941e+05</td>\n",
       "      <td>1.082411e+06</td>\n",
       "      <td>1.046298e+06</td>\n",
       "      <td>935858.357384</td>\n",
       "      <td>918047.826370</td>\n",
       "      <td>986690.652629</td>\n",
       "      <td>937660.329113</td>\n",
       "      <td>1.087912e+06</td>\n",
       "      <td>940974.111365</td>\n",
       "      <td>1.097722e+06</td>\n",
       "    </tr>\n",
       "    <tr>\n",
       "      <th>2</th>\n",
       "      <td>1.001290e+06</td>\n",
       "      <td>1.047722e+06</td>\n",
       "      <td>913652.766354</td>\n",
       "      <td>962368.296415</td>\n",
       "      <td>1.072637e+06</td>\n",
       "      <td>912110.535851</td>\n",
       "      <td>924720.638777</td>\n",
       "      <td>1.066728e+06</td>\n",
       "      <td>1.011373e+06</td>\n",
       "      <td>1.017033e+06</td>\n",
       "      <td>...</td>\n",
       "      <td>1.004050e+06</td>\n",
       "      <td>1.080235e+06</td>\n",
       "      <td>1.044182e+06</td>\n",
       "      <td>910837.745691</td>\n",
       "      <td>924001.358801</td>\n",
       "      <td>971997.092321</td>\n",
       "      <td>942380.015871</td>\n",
       "      <td>1.069828e+06</td>\n",
       "      <td>926597.992708</td>\n",
       "      <td>1.088621e+06</td>\n",
       "    </tr>\n",
       "    <tr>\n",
       "      <th>3</th>\n",
       "      <td>9.940612e+05</td>\n",
       "      <td>1.010597e+06</td>\n",
       "      <td>916194.306562</td>\n",
       "      <td>942545.701685</td>\n",
       "      <td>1.064586e+06</td>\n",
       "      <td>912051.235426</td>\n",
       "      <td>931543.774729</td>\n",
       "      <td>1.037735e+06</td>\n",
       "      <td>1.021727e+06</td>\n",
       "      <td>1.004186e+06</td>\n",
       "      <td>...</td>\n",
       "      <td>1.003003e+06</td>\n",
       "      <td>1.071669e+06</td>\n",
       "      <td>1.054574e+06</td>\n",
       "      <td>937608.373058</td>\n",
       "      <td>911611.955081</td>\n",
       "      <td>996905.505971</td>\n",
       "      <td>948577.550110</td>\n",
       "      <td>1.094492e+06</td>\n",
       "      <td>924773.943080</td>\n",
       "      <td>1.084866e+06</td>\n",
       "    </tr>\n",
       "    <tr>\n",
       "      <th>4</th>\n",
       "      <td>1.000394e+06</td>\n",
       "      <td>1.034319e+06</td>\n",
       "      <td>909297.151093</td>\n",
       "      <td>970753.825638</td>\n",
       "      <td>1.067587e+06</td>\n",
       "      <td>921786.119879</td>\n",
       "      <td>928000.559392</td>\n",
       "      <td>1.047931e+06</td>\n",
       "      <td>1.021588e+06</td>\n",
       "      <td>1.025362e+06</td>\n",
       "      <td>...</td>\n",
       "      <td>1.010349e+06</td>\n",
       "      <td>1.079969e+06</td>\n",
       "      <td>1.048118e+06</td>\n",
       "      <td>930027.737714</td>\n",
       "      <td>903417.563176</td>\n",
       "      <td>981016.268794</td>\n",
       "      <td>927221.342322</td>\n",
       "      <td>1.085663e+06</td>\n",
       "      <td>931570.446460</td>\n",
       "      <td>1.101747e+06</td>\n",
       "    </tr>\n",
       "    <tr>\n",
       "      <th>...</th>\n",
       "      <td>...</td>\n",
       "      <td>...</td>\n",
       "      <td>...</td>\n",
       "      <td>...</td>\n",
       "      <td>...</td>\n",
       "      <td>...</td>\n",
       "      <td>...</td>\n",
       "      <td>...</td>\n",
       "      <td>...</td>\n",
       "      <td>...</td>\n",
       "      <td>...</td>\n",
       "      <td>...</td>\n",
       "      <td>...</td>\n",
       "      <td>...</td>\n",
       "      <td>...</td>\n",
       "      <td>...</td>\n",
       "      <td>...</td>\n",
       "      <td>...</td>\n",
       "      <td>...</td>\n",
       "      <td>...</td>\n",
       "      <td>...</td>\n",
       "    </tr>\n",
       "    <tr>\n",
       "      <th>995</th>\n",
       "      <td>9.794427e+05</td>\n",
       "      <td>1.043566e+06</td>\n",
       "      <td>914506.765259</td>\n",
       "      <td>978791.292386</td>\n",
       "      <td>1.072772e+06</td>\n",
       "      <td>901028.352219</td>\n",
       "      <td>918178.409665</td>\n",
       "      <td>1.047776e+06</td>\n",
       "      <td>1.026273e+06</td>\n",
       "      <td>1.021750e+06</td>\n",
       "      <td>...</td>\n",
       "      <td>9.993244e+05</td>\n",
       "      <td>1.065426e+06</td>\n",
       "      <td>1.043747e+06</td>\n",
       "      <td>922976.914492</td>\n",
       "      <td>892526.104515</td>\n",
       "      <td>997142.827285</td>\n",
       "      <td>931344.451537</td>\n",
       "      <td>1.094732e+06</td>\n",
       "      <td>931523.384629</td>\n",
       "      <td>1.096199e+06</td>\n",
       "    </tr>\n",
       "    <tr>\n",
       "      <th>996</th>\n",
       "      <td>9.832673e+05</td>\n",
       "      <td>1.021582e+06</td>\n",
       "      <td>899481.900264</td>\n",
       "      <td>954676.319449</td>\n",
       "      <td>1.081419e+06</td>\n",
       "      <td>908241.476745</td>\n",
       "      <td>943170.533130</td>\n",
       "      <td>1.053236e+06</td>\n",
       "      <td>1.021610e+06</td>\n",
       "      <td>1.029708e+06</td>\n",
       "      <td>...</td>\n",
       "      <td>1.028338e+06</td>\n",
       "      <td>1.072821e+06</td>\n",
       "      <td>1.047944e+06</td>\n",
       "      <td>936027.120300</td>\n",
       "      <td>909561.625202</td>\n",
       "      <td>983439.216193</td>\n",
       "      <td>941124.522558</td>\n",
       "      <td>1.091792e+06</td>\n",
       "      <td>915778.317829</td>\n",
       "      <td>1.074496e+06</td>\n",
       "    </tr>\n",
       "    <tr>\n",
       "      <th>997</th>\n",
       "      <td>1.003276e+06</td>\n",
       "      <td>1.050695e+06</td>\n",
       "      <td>897965.553315</td>\n",
       "      <td>966587.563729</td>\n",
       "      <td>1.054821e+06</td>\n",
       "      <td>908688.928776</td>\n",
       "      <td>935096.125234</td>\n",
       "      <td>1.043598e+06</td>\n",
       "      <td>1.022364e+06</td>\n",
       "      <td>1.001693e+06</td>\n",
       "      <td>...</td>\n",
       "      <td>1.016374e+06</td>\n",
       "      <td>1.063224e+06</td>\n",
       "      <td>1.041578e+06</td>\n",
       "      <td>926734.814033</td>\n",
       "      <td>905194.084167</td>\n",
       "      <td>991070.152707</td>\n",
       "      <td>940324.658134</td>\n",
       "      <td>1.085412e+06</td>\n",
       "      <td>893231.575869</td>\n",
       "      <td>1.076030e+06</td>\n",
       "    </tr>\n",
       "    <tr>\n",
       "      <th>998</th>\n",
       "      <td>9.886491e+05</td>\n",
       "      <td>1.037921e+06</td>\n",
       "      <td>905868.906968</td>\n",
       "      <td>954802.022285</td>\n",
       "      <td>1.066715e+06</td>\n",
       "      <td>913916.519107</td>\n",
       "      <td>950158.910274</td>\n",
       "      <td>1.056601e+06</td>\n",
       "      <td>1.022087e+06</td>\n",
       "      <td>1.011165e+06</td>\n",
       "      <td>...</td>\n",
       "      <td>1.001276e+06</td>\n",
       "      <td>1.066845e+06</td>\n",
       "      <td>1.046389e+06</td>\n",
       "      <td>918846.549754</td>\n",
       "      <td>910022.290638</td>\n",
       "      <td>989738.756512</td>\n",
       "      <td>934303.256300</td>\n",
       "      <td>1.086706e+06</td>\n",
       "      <td>912491.684959</td>\n",
       "      <td>1.079875e+06</td>\n",
       "    </tr>\n",
       "    <tr>\n",
       "      <th>999</th>\n",
       "      <td>9.962579e+05</td>\n",
       "      <td>1.032687e+06</td>\n",
       "      <td>899288.851141</td>\n",
       "      <td>969288.237482</td>\n",
       "      <td>1.080398e+06</td>\n",
       "      <td>896718.857542</td>\n",
       "      <td>924597.391145</td>\n",
       "      <td>1.049403e+06</td>\n",
       "      <td>1.026899e+06</td>\n",
       "      <td>1.011273e+06</td>\n",
       "      <td>...</td>\n",
       "      <td>1.009281e+06</td>\n",
       "      <td>1.081403e+06</td>\n",
       "      <td>1.050086e+06</td>\n",
       "      <td>922298.119030</td>\n",
       "      <td>916375.698678</td>\n",
       "      <td>988116.316529</td>\n",
       "      <td>925861.945462</td>\n",
       "      <td>1.075497e+06</td>\n",
       "      <td>932327.511868</td>\n",
       "      <td>1.099777e+06</td>\n",
       "    </tr>\n",
       "  </tbody>\n",
       "</table>\n",
       "<p>1000 rows × 2000 columns</p>\n",
       "</div>"
      ],
      "text/plain": [
       "             4002          4003           4004           4005          4006  \\\n",
       "0    1.000307e+06  1.043762e+06  907489.223178  942627.827901  1.080939e+06   \n",
       "1    9.887351e+05  1.050510e+06  906730.061165  962860.832984  1.072988e+06   \n",
       "2    1.001290e+06  1.047722e+06  913652.766354  962368.296415  1.072637e+06   \n",
       "3    9.940612e+05  1.010597e+06  916194.306562  942545.701685  1.064586e+06   \n",
       "4    1.000394e+06  1.034319e+06  909297.151093  970753.825638  1.067587e+06   \n",
       "..            ...           ...            ...            ...           ...   \n",
       "995  9.794427e+05  1.043566e+06  914506.765259  978791.292386  1.072772e+06   \n",
       "996  9.832673e+05  1.021582e+06  899481.900264  954676.319449  1.081419e+06   \n",
       "997  1.003276e+06  1.050695e+06  897965.553315  966587.563729  1.054821e+06   \n",
       "998  9.886491e+05  1.037921e+06  905868.906968  954802.022285  1.066715e+06   \n",
       "999  9.962579e+05  1.032687e+06  899288.851141  969288.237482  1.080398e+06   \n",
       "\n",
       "              4007           4008          4009          4010          4011  \\\n",
       "0    911899.465198  928576.057569  1.066132e+06  1.027042e+06  1.017756e+06   \n",
       "1    898560.942828  922162.280677  1.042203e+06  1.030169e+06  1.030462e+06   \n",
       "2    912110.535851  924720.638777  1.066728e+06  1.011373e+06  1.017033e+06   \n",
       "3    912051.235426  931543.774729  1.037735e+06  1.021727e+06  1.004186e+06   \n",
       "4    921786.119879  928000.559392  1.047931e+06  1.021588e+06  1.025362e+06   \n",
       "..             ...            ...           ...           ...           ...   \n",
       "995  901028.352219  918178.409665  1.047776e+06  1.026273e+06  1.021750e+06   \n",
       "996  908241.476745  943170.533130  1.053236e+06  1.021610e+06  1.029708e+06   \n",
       "997  908688.928776  935096.125234  1.043598e+06  1.022364e+06  1.001693e+06   \n",
       "998  913916.519107  950158.910274  1.056601e+06  1.022087e+06  1.011165e+06   \n",
       "999  896718.857542  924597.391145  1.049403e+06  1.026899e+06  1.011273e+06   \n",
       "\n",
       "     ...          5992          5993          5994           5995  \\\n",
       "0    ...  1.019741e+06  1.057905e+06  1.053772e+06  940164.141074   \n",
       "1    ...  9.994941e+05  1.082411e+06  1.046298e+06  935858.357384   \n",
       "2    ...  1.004050e+06  1.080235e+06  1.044182e+06  910837.745691   \n",
       "3    ...  1.003003e+06  1.071669e+06  1.054574e+06  937608.373058   \n",
       "4    ...  1.010349e+06  1.079969e+06  1.048118e+06  930027.737714   \n",
       "..   ...           ...           ...           ...            ...   \n",
       "995  ...  9.993244e+05  1.065426e+06  1.043747e+06  922976.914492   \n",
       "996  ...  1.028338e+06  1.072821e+06  1.047944e+06  936027.120300   \n",
       "997  ...  1.016374e+06  1.063224e+06  1.041578e+06  926734.814033   \n",
       "998  ...  1.001276e+06  1.066845e+06  1.046389e+06  918846.549754   \n",
       "999  ...  1.009281e+06  1.081403e+06  1.050086e+06  922298.119030   \n",
       "\n",
       "              5996           5997           5998          5999           6000  \\\n",
       "0    904159.726618  980534.959209  939013.867583  1.084589e+06  932568.860053   \n",
       "1    918047.826370  986690.652629  937660.329113  1.087912e+06  940974.111365   \n",
       "2    924001.358801  971997.092321  942380.015871  1.069828e+06  926597.992708   \n",
       "3    911611.955081  996905.505971  948577.550110  1.094492e+06  924773.943080   \n",
       "4    903417.563176  981016.268794  927221.342322  1.085663e+06  931570.446460   \n",
       "..             ...            ...            ...           ...            ...   \n",
       "995  892526.104515  997142.827285  931344.451537  1.094732e+06  931523.384629   \n",
       "996  909561.625202  983439.216193  941124.522558  1.091792e+06  915778.317829   \n",
       "997  905194.084167  991070.152707  940324.658134  1.085412e+06  893231.575869   \n",
       "998  910022.290638  989738.756512  934303.256300  1.086706e+06  912491.684959   \n",
       "999  916375.698678  988116.316529  925861.945462  1.075497e+06  932327.511868   \n",
       "\n",
       "             6001  \n",
       "0    1.080135e+06  \n",
       "1    1.097722e+06  \n",
       "2    1.088621e+06  \n",
       "3    1.084866e+06  \n",
       "4    1.101747e+06  \n",
       "..            ...  \n",
       "995  1.096199e+06  \n",
       "996  1.074496e+06  \n",
       "997  1.076030e+06  \n",
       "998  1.079875e+06  \n",
       "999  1.099777e+06  \n",
       "\n",
       "[1000 rows x 2000 columns]"
      ]
     },
     "metadata": {},
     "output_type": "display_data"
    }
   ],
   "source": [
    "# Generate random load profile\n",
    "n_scenarios = 1000\n",
    "n_loads = len(input_data[\"sym_load\"]) \n",
    "load_id = input_data[\"sym_load\"][\"id\"]\n",
    "load_p = input_data[\"sym_load\"][\"p_specified\"]\n",
    "profile = np.tile(load_p, (n_scenarios, 1)) + 1e4 * np.random.randn(n_scenarios, n_loads)\n",
    "df_load_profile = pd.DataFrame(profile, columns=load_id)\n",
    "display(df_load_profile)"
   ]
  },
  {
   "cell_type": "markdown",
   "id": "6074de68",
   "metadata": {},
   "source": [
    "## Run Time Series Calculation\n",
    "\n",
    "We want to run a time-series load flow batch calculation using the dataframe.\n",
    "\n",
    "* Convert the load profile into the compatible batch update dataset.\n",
    "* Run the batch calculation.\n",
    "* Compare the calculation methods `newton_raphson` and `linear`."
   ]
  },
  {
   "cell_type": "code",
   "execution_count": 10,
   "id": "921310a7",
   "metadata": {},
   "outputs": [],
   "source": [
    "# Initialize an empty load profile\n",
    "load_profile = initialize_array(\"update\", \"sym_load\", df_load_profile.shape)\n",
    "\n",
    "# Set the attributes for the batch calculation (assume q_specified = 0.0)\n",
    "load_profile[\"id\"] = df_load_profile.columns.to_numpy()\n",
    "load_profile[\"p_specified\"] = df_load_profile.to_numpy()\n",
    "load_profile[\"q_specified\"] = 0.0\n",
    "\n",
    "# Construct the update data\n",
    "update_data = {\"sym_load\": load_profile}"
   ]
  },
  {
   "cell_type": "code",
   "execution_count": 11,
   "id": "9f88ba5f",
   "metadata": {},
   "outputs": [
    {
     "name": "stdout",
     "output_type": "stream",
     "text": [
      "Execution time for Validating Batch Data is 8.734581 s\n"
     ]
    }
   ],
   "source": [
    "# Validating batch data can take a long time.\n",
    "# It is recommended to only validate batch data when you run into trouble.\n",
    "with Timer(\"Validating Batch Data\"):\n",
    "    assert_valid_batch_data(input_data=input_data, update_data=update_data, calculation_type=CalculationType.power_flow)"
   ]
  },
  {
   "cell_type": "code",
   "execution_count": 12,
   "id": "e7ee773c",
   "metadata": {},
   "outputs": [
    {
     "name": "stdout",
     "output_type": "stream",
     "text": [
      "Execution time for Batch Calculation using Newton-Raphson is 10.096665 s\n"
     ]
    }
   ],
   "source": [
    "# Run Newton Raphson power flow (this may take a minute...)\n",
    "with Timer(\"Batch Calculation using Newton-Raphson\"):\n",
    "    model.calculate_power_flow(update_data=update_data, calculation_method=CalculationMethod.newton_raphson)"
   ]
  },
  {
   "cell_type": "code",
   "execution_count": 13,
   "id": "251e2edd",
   "metadata": {},
   "outputs": [
    {
     "name": "stdout",
     "output_type": "stream",
     "text": [
      "Execution time for Batch Calculation using linear calculation is 1.497838 s\n"
     ]
    }
   ],
   "source": [
    "# Run linear power flow\n",
    "with Timer(\"Batch Calculation using linear calculation\"):\n",
    "    model.calculate_power_flow(update_data=update_data, calculation_method=CalculationMethod.linear)"
   ]
  },
  {
   "cell_type": "markdown",
   "id": "eb7ab8b5",
   "metadata": {},
   "source": [
    "# Assignment 6: N-1 Scenario Batch Calculation\n",
    "\n",
    "We want to run a N-1 Scenario analysis. For each batch calculation, one `line` is disconnected at from- and to-side."
   ]
  },
  {
   "cell_type": "code",
   "execution_count": 14,
   "id": "28b46e3a",
   "metadata": {},
   "outputs": [],
   "source": [
    "n_lines = len(input_data[\"line\"])\n",
    "\n",
    "# Initialize an empty line profile\n",
    "line_profile = initialize_array(\"update\", \"line\", (n_lines, n_lines))\n",
    "\n",
    "# Set the attributes for the batch calculation\n",
    "line_profile[\"id\"] =  input_data[\"line\"][\"id\"]\n",
    "line_profile[\"from_status\"] = 1 - np.eye(n_lines, dtype=np.uint8)\n",
    "line_profile[\"to_status\"] = 1 - np.eye(n_lines, dtype=np.uint8)\n",
    "\n",
    "# Construct the update data\n",
    "update_data = {\"line\": line_profile}"
   ]
  },
  {
   "cell_type": "code",
   "execution_count": 15,
   "id": "5fa9c6ca",
   "metadata": {},
   "outputs": [
    {
     "name": "stdout",
     "output_type": "stream",
     "text": [
      "Execution time for Validating Batch Data is 16.364829 s\n"
     ]
    }
   ],
   "source": [
    "# Validating batch data can take a long time.\n",
    "# It is recommended to only validate batch data when you run into trouble.\n",
    "with Timer(\"Validating Batch Data\"):\n",
    "    assert_valid_batch_data(input_data=input_data, update_data=update_data, calculation_type=CalculationType.power_flow)"
   ]
  },
  {
   "cell_type": "code",
   "execution_count": 16,
   "id": "3337a5cb",
   "metadata": {},
   "outputs": [
    {
     "name": "stdout",
     "output_type": "stream",
     "text": [
      "Execution time for Batch Calculation using Newton-Raphson is 24.505697 s\n"
     ]
    }
   ],
   "source": [
    "# Run Newton Raphson power flow (this may take a minute...)\n",
    "with Timer(\"Batch Calculation using Newton-Raphson\"):\n",
    "    model.calculate_power_flow(update_data=update_data, calculation_method=CalculationMethod.newton_raphson)"
   ]
  },
  {
   "cell_type": "code",
   "execution_count": 17,
   "id": "f7ba9924",
   "metadata": {},
   "outputs": [
    {
     "name": "stdout",
     "output_type": "stream",
     "text": [
      "Execution time for Batch Calculation using linear calculation is 8.240489 s\n"
     ]
    }
   ],
   "source": [
    "# Run linear power flow\n",
    "with Timer(\"Batch Calculation using linear calculation\"):\n",
    "    model.calculate_power_flow(update_data=update_data, calculation_method=CalculationMethod.linear)"
   ]
  },
  {
   "cell_type": "markdown",
   "id": "6af43b69",
   "metadata": {},
   "source": [
    "## Parallel processing\n",
    "The `calculate_power_flow` method has an optional `threading` argument to define the number of threads ran in parallel. Experiment with different threading values and compare the results..."
   ]
  },
  {
   "cell_type": "code",
   "execution_count": 18,
   "id": "9f1a3d88",
   "metadata": {},
   "outputs": [
    {
     "name": "stdout",
     "output_type": "stream",
     "text": [
      "Execution time for Sequential is 25.342646 s\n",
      "Execution time for Single thread is 19.888087 s\n",
      "Execution time for Two threads in parallel is 8.891717 s\n",
      "Execution time for Four threads in parallel is 5.080649 s\n",
      "Execution time for Use number of threads based the machine hardware is 3.193971 s\n"
     ]
    }
   ],
   "source": [
    "# By default, sequential threading is used\n",
    "with Timer(\"Sequential\"):\n",
    "    model.calculate_power_flow(update_data=update_data)\n",
    "\n",
    "# Single thread, this is essentially the same as running a single thread\n",
    "with Timer(\"Single thread\"):\n",
    "    model.calculate_power_flow(update_data=update_data, threading=1)\n",
    "\n",
    "# Two threads should be faster    \n",
    "with Timer(\"Two threads in parallel\"):\n",
    "    model.calculate_power_flow(update_data=update_data, threading=2)\n",
    "\n",
    "# Four threads should be even faster    \n",
    "with Timer(\"Four threads in parallel\"):\n",
    "    model.calculate_power_flow(update_data=update_data, threading=4)\n",
    "\n",
    "# Use number of threads based the machine hardware    \n",
    "with Timer(\"Use number of threads based the machine hardware\"):\n",
    "    model.calculate_power_flow(update_data=update_data, threading=0)"
   ]
  }
 ],
 "metadata": {
  "kernelspec": {
   "display_name": "Python 3.9.13 ('pgm-com')",
   "language": "python",
   "name": "python3"
  },
  "language_info": {
   "codemirror_mode": {
    "name": "ipython",
    "version": 3
   },
   "file_extension": ".py",
   "mimetype": "text/x-python",
   "name": "python",
   "nbconvert_exporter": "python",
   "pygments_lexer": "ipython3",
   "version": "3.9.13"
  },
  "vscode": {
   "interpreter": {
    "hash": "6191baaf994abc6c3e7d918f70d2cb3a487f327a3f3fca1519684915289f78b6"
   }
  }
 },
 "nbformat": 4,
 "nbformat_minor": 5
}
