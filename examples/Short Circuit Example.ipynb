{
 "cells": [
  {
   "cell_type": "markdown",
   "id": "89cf2628",
   "metadata": {},
   "source": [
    "# Short Circuit Example\n",
    "\n",
    "This notebook contains an example of a short circuit calculation using `power-grid-model`.\n",
    "The following points are covered\n",
    " * Construction of the model\n",
    " * Run short circuit calculation, and its relevant function arguments\n",
    "\n",
    "This notebook skips most of the common features across all calculations of power-grid-model like updating model, batch calculations and error handling.\n",
    "\n",
    "It serves as an example of how to use the Python API. For detailed API documentation, refer to\n",
    "[Python API reference](https://power-grid-model.readthedocs.io/en/stable/api_reference/python-api-reference.html)\n",
    "and [Native Data Interface](https://power-grid-model.readthedocs.io/en/stable/advanced_documentation/native-data-interface.html).\n",
    "\n",
    "\n",
    "## Example Network\n",
    "\n",
    "We use a simple network with 3 nodes, 1 source, 3 lines, and 2 loads. As shown below:\n",
    "\n",
    "```\n",
    " -----------------------line_8---------------\n",
    " |                                          |\n",
    "node_1 ---line_3--- node_2 ----line_5---- node_6 ---- fault_11\n",
    " |                    |                     |\n",
    "source_10          sym_load_4           sym_load_7\n",
    "```\n",
    "\n",
    "The 3 nodes are connected in a triangular way by 3 lines."
   ]
  },
  {
   "cell_type": "code",
   "execution_count": 1,
   "id": "ae11dc9a",
   "metadata": {
    "ExecuteTime": {
     "end_time": "2023-08-03T08:29:18.753481900Z",
     "start_time": "2023-08-03T08:29:17.530737800Z"
    }
   },
   "outputs": [],
   "source": [
    "# some basic imports\n",
    "import numpy as np\n",
    "import pandas as pd\n",
    "\n",
    "from power_grid_model import LoadGenType\n",
    "from power_grid_model import PowerGridModel, CalculationMethod, CalculationType, FaultType, FaultPhase\n",
    "from power_grid_model import initialize_array"
   ]
  },
  {
   "cell_type": "markdown",
   "id": "f983cef7",
   "metadata": {},
   "source": [
    "## Input Dataset\n",
    "\n",
    "Please refer to [Components](https://power-grid-model.readthedocs.io/en/stable/user_manual/components.html) for detailed explanation of all component types and their input/output attributes."
   ]
  },
  {
   "cell_type": "code",
   "execution_count": 2,
   "id": "6f008736",
   "metadata": {
    "ExecuteTime": {
     "end_time": "2023-08-03T08:29:18.763488Z",
     "start_time": "2023-08-03T08:29:18.758492200Z"
    }
   },
   "outputs": [],
   "source": [
    "# node\n",
    "node = initialize_array(\"input\", \"node\", 3)\n",
    "node[\"id\"] = np.array([1, 2, 6])\n",
    "node[\"u_rated\"] = [10.5e3, 10.5e3, 10.5e3]\n",
    "\n",
    "# line\n",
    "line = initialize_array(\"input\", \"line\", 3)\n",
    "line[\"id\"] = [3, 5, 8]\n",
    "line[\"from_node\"] = [1, 2, 1]\n",
    "line[\"to_node\"] = [2, 6, 6]\n",
    "line[\"from_status\"] = [1, 1, 1]\n",
    "line[\"to_status\"] = [1, 1, 1]\n",
    "line[\"r1\"] = [0.25, 0.25, 0.25]\n",
    "line[\"x1\"] = [0.2, 0.2, 0.2]\n",
    "line[\"c1\"] = [10e-6, 10e-6, 10e-6]\n",
    "line[\"tan1\"] = [0.0, 0.0, 0.0]\n",
    "line[\"i_n\"] = [1000, 1000, 1000]\n",
    "\n",
    "# load\n",
    "sym_load = initialize_array(\"input\", \"sym_load\", 2)\n",
    "sym_load[\"id\"] = [4, 7]\n",
    "sym_load[\"node\"] = [2, 6]\n",
    "sym_load[\"status\"] = [1, 1]\n",
    "sym_load[\"type\"] = [LoadGenType.const_power, LoadGenType.const_power]\n",
    "sym_load[\"p_specified\"] = [20e6, 10e6]\n",
    "sym_load[\"q_specified\"] = [5e6, 2e6]\n",
    "\n",
    "# source\n",
    "source = initialize_array(\"input\", \"source\", 1)\n",
    "source[\"id\"] = [10]\n",
    "source[\"node\"] = [1]\n",
    "source[\"status\"] = [1]\n",
    "source[\"u_ref\"] = [1.0]\n",
    "\n",
    "# source\n",
    "fault = initialize_array(\"input\", \"fault\", 1)\n",
    "fault[\"id\"] = [11]\n",
    "fault[\"status\"] = [1]\n",
    "fault[\"fault_object\"] = [6]\n",
    "fault[\"fault_type\"] = [FaultType.three_phase]\n",
    "fault[\"fault_phase\"] = [FaultPhase.abc]\n",
    "fault[\"r_f\"] = [0.1]\n",
    "fault[\"x_f\"] = [0.1]\n",
    "\n",
    "# all\n",
    "input_data = {\n",
    "    \"node\": node,\n",
    "    \"line\": line,\n",
    "    \"sym_load\": sym_load,\n",
    "    \"source\": source,\n",
    "    \"fault\": fault\n",
    "}"
   ]
  },
  {
   "cell_type": "markdown",
   "id": "039711c7",
   "metadata": {
    "collapsed": false,
    "jupyter": {
     "outputs_hidden": false
    }
   },
   "source": [
    "\n",
    "**Note: During a single calculation, all types of faults should be similar.**"
   ]
  },
  {
   "cell_type": "markdown",
   "id": "68a38330",
   "metadata": {},
   "source": [
    "## Validation (optional)\n",
    "For efficiency reasons, most of the data is not explicitly validated in the power grid model. However, in most cases, a power flow calculation will fail/crash if the data is invalid. Often with a low level error message that is hard to relate to the original objects. Therfore, it is recommended to always validate your data before constructing a PowerGridModel instance.\n",
    "\n",
    "The simplest and most effective way to validate your data is by using `assert_valid_input_data()` which will throw an error if it encounters any invalid data. See [Validation Examples](https://github.com/PowerGridModel/power-grid-model/blob/main/docs/examples/Validation%20Examples.ipynb) for more detailed information on the validation functions."
   ]
  },
  {
   "cell_type": "code",
   "execution_count": 3,
   "id": "40509eaf",
   "metadata": {
    "ExecuteTime": {
     "end_time": "2023-08-03T08:29:18.811133300Z",
     "start_time": "2023-08-03T08:29:18.764503700Z"
    }
   },
   "outputs": [],
   "source": [
    "from power_grid_model.validation import assert_valid_input_data\n",
    "assert_valid_input_data(input_data=input_data, calculation_type=CalculationType.short_circuit)"
   ]
  },
  {
   "cell_type": "markdown",
   "id": "afae0224",
   "metadata": {},
   "source": [
    "## Construction\n",
    "\n",
    "The construction of the model is just calling the constructor of `PowerGridModel`.\n"
   ]
  },
  {
   "cell_type": "code",
   "execution_count": 4,
   "id": "7ef134e9",
   "metadata": {
    "ExecuteTime": {
     "end_time": "2023-08-03T08:29:18.811133300Z",
     "start_time": "2023-08-03T08:29:18.804083800Z"
    }
   },
   "outputs": [],
   "source": [
    "model = PowerGridModel(input_data)"
   ]
  },
  {
   "cell_type": "markdown",
   "id": "e3605c3e",
   "metadata": {},
   "source": [
    "## One-time Short circuit Calculation\n",
    "\n",
    "You can call the method `calculate_short_circuit` to do a one-time calculation based on the current network data in the model.\n",
    "\n",
    "The short circuit calculation has the following settings as arguments along with its defaults:\n",
    " * calculation_method: CalculationMethod.iec60909,\n",
    " * voltage_scaling_factor_c: 1.1\n",
    "\n",
    "Currently, there is only one calculation method for short-circuit which calculates as per IEC 60909. The `voltage_scaling_factor_c` is scaling of voltage source based on operational conditions.\n"
   ]
  },
  {
   "cell_type": "code",
   "execution_count": 5,
   "id": "44c2de63",
   "metadata": {
    "scrolled": true,
    "ExecuteTime": {
     "end_time": "2023-08-03T08:29:18.823792200Z",
     "start_time": "2023-08-03T08:29:18.811133300Z"
    }
   },
   "outputs": [
    {
     "data": {
      "text/plain": "{'node': array([(1, 1, [1.07539348, 1.07539348, 1.07539348], [6519.22650954, 6519.22650954, 6519.22650954], [-0.02079111, -2.11518622,  2.07360399]),\n        (2, 1, [0.75227027, 0.75227027, 0.75227027], [4560.39613786, 4560.39613786, 4560.39613786], [-0.00230211, -2.09669721,  2.09209299]),\n        (6, 1, [0.42934657, 0.42934657, 0.42934657], [2602.77527185, 2602.77527185, 2602.77527185], [ 0.04539925, -2.04899585,  2.13979435])],\n       dtype={'names': ['id', 'energized', 'u_pu', 'u', 'u_angle'], 'formats': ['<i4', 'i1', ('<f8', (3,)), ('<f8', (3,)), ('<f8', (3,))], 'offsets': [0, 4, 8, 32, 56], 'itemsize': 80, 'aligned': True}),\n 'line': array([(3, 1, [ 6119.72533835,  6119.72533835,  6119.72533835], [-0.7372701 , -2.8316652 ,  1.357125  ], [ 6131.26794632,  6131.26794632,  6131.26794632], [ 2.40219628,  0.30780118, -1.78659392]),\n        (5, 1, [ 6131.26794632,  6131.26794632,  6131.26794632], [-0.73939637, -2.83379147,  1.35499873], [ 6138.97747082,  6138.97747082,  6138.97747082], [ 2.40086109,  0.30646599, -1.78792911]),\n        (8, 1, [12255.79671336, 12255.79671336, 12255.79671336], [-0.73876743, -2.83316253,  1.35562767], [12265.42544777, 12265.42544777, 12265.42544777], [ 2.40196044,  0.30756534, -1.78682976])],\n       dtype={'names': ['id', 'energized', 'i_from', 'i_from_angle', 'i_to', 'i_to_angle'], 'formats': ['<i4', 'i1', ('<f8', (3,)), ('<f8', (3,)), ('<f8', (3,)), ('<f8', (3,))], 'offsets': [0, 4, 8, 32, 56, 80], 'itemsize': 104, 'aligned': True}),\n 'sym_load': array([(4, 0, [0., 0., 0.], [0., 0., 0.]),\n        (7, 0, [0., 0., 0.], [0., 0., 0.])],\n       dtype={'names': ['id', 'energized', 'i', 'i_angle'], 'formats': ['<i4', 'i1', ('<f8', (3,)), ('<f8', (3,))], 'offsets': [0, 4, 8, 32], 'itemsize': 56, 'aligned': True}),\n 'source': array([(10, 1, [18375.51747621, 18375.51747621, 18375.51747621], [-0.73826876, -2.83266387,  1.35612634])],\n       dtype={'names': ['id', 'energized', 'i', 'i_angle'], 'formats': ['<i4', 'i1', ('<f8', (3,)), ('<f8', (3,))], 'offsets': [0, 4, 8, 32], 'itemsize': 56, 'aligned': True}),\n 'fault': array([(11, 1, [18404.40044631, 18404.40044631, 18404.40044631], [-0.73999891, -2.83439401,  1.35439619])],\n       dtype={'names': ['id', 'energized', 'i_f', 'i_f_angle'], 'formats': ['<i4', 'i1', ('<f8', (3,)), ('<f8', (3,))], 'offsets': [0, 4, 8, 32], 'itemsize': 56, 'aligned': True})}"
     },
     "execution_count": 5,
     "metadata": {},
     "output_type": "execute_result"
    }
   ],
   "source": [
    "output_data = model.calculate_short_circuit(calculation_method=CalculationMethod.iec60909)\n",
    "output_data"
   ]
  },
  {
   "cell_type": "markdown",
   "id": "d08aaf45",
   "metadata": {},
   "source": [
    "### Result Dataset\n",
    "\n",
    "We can also print a result dataset of node and line by converting the array to dataframe."
   ]
  },
  {
   "cell_type": "code",
   "execution_count": 6,
   "id": "a581a36e",
   "metadata": {
    "ExecuteTime": {
     "end_time": "2023-08-03T08:29:18.895579800Z",
     "start_time": "2023-08-03T08:29:18.827799800Z"
    }
   },
   "outputs": [
    {
     "name": "stdout",
     "output_type": "stream",
     "text": [
      "------fault result------\n"
     ]
    },
    {
     "data": {
      "text/plain": "   id  energized                                                i_f  \\\n0  11          1  [18404.400446310916, 18404.400446310916, 18404...   \n\n                                           i_f_angle  \n0  [-0.7399989108285706, -2.834394013221766, 1.35...  ",
      "text/html": "<div>\n<style scoped>\n    .dataframe tbody tr th:only-of-type {\n        vertical-align: middle;\n    }\n\n    .dataframe tbody tr th {\n        vertical-align: top;\n    }\n\n    .dataframe thead th {\n        text-align: right;\n    }\n</style>\n<table border=\"1\" class=\"dataframe\">\n  <thead>\n    <tr style=\"text-align: right;\">\n      <th></th>\n      <th>id</th>\n      <th>energized</th>\n      <th>i_f</th>\n      <th>i_f_angle</th>\n    </tr>\n  </thead>\n  <tbody>\n    <tr>\n      <th>0</th>\n      <td>11</td>\n      <td>1</td>\n      <td>[18404.400446310916, 18404.400446310916, 18404...</td>\n      <td>[-0.7399989108285706, -2.834394013221766, 1.35...</td>\n    </tr>\n  </tbody>\n</table>\n</div>"
     },
     "metadata": {},
     "output_type": "display_data"
    },
    {
     "name": "stdout",
     "output_type": "stream",
     "text": [
      "------node result------\n"
     ]
    },
    {
     "data": {
      "text/plain": "   id  energized                                               u_pu  \\\n0   1          1  [1.0753934800545326, 1.0753934800545326, 1.075...   \n1   2          1  [0.7522702679435408, 0.7522702679435408, 0.752...   \n2   6          1  [0.4293465725267879, 0.4293465725267878, 0.429...   \n\n                                                   u  \\\n0  [6519.226509539654, 6519.226509539654, 6519.22...   \n1  [4560.396137855829, 4560.396137855829, 4560.39...   \n2  [2602.7752718518336, 2602.775271851833, 2602.7...   \n\n                                             u_angle  \n0  [-0.02079111382761733, -2.115186216220813, 2.0...  \n1  [-0.0023021117177247433, -2.0966972141109204, ...  \n2  [0.04539925256887769, -2.0489958498243177, 2.1...  ",
      "text/html": "<div>\n<style scoped>\n    .dataframe tbody tr th:only-of-type {\n        vertical-align: middle;\n    }\n\n    .dataframe tbody tr th {\n        vertical-align: top;\n    }\n\n    .dataframe thead th {\n        text-align: right;\n    }\n</style>\n<table border=\"1\" class=\"dataframe\">\n  <thead>\n    <tr style=\"text-align: right;\">\n      <th></th>\n      <th>id</th>\n      <th>energized</th>\n      <th>u_pu</th>\n      <th>u</th>\n      <th>u_angle</th>\n    </tr>\n  </thead>\n  <tbody>\n    <tr>\n      <th>0</th>\n      <td>1</td>\n      <td>1</td>\n      <td>[1.0753934800545326, 1.0753934800545326, 1.075...</td>\n      <td>[6519.226509539654, 6519.226509539654, 6519.22...</td>\n      <td>[-0.02079111382761733, -2.115186216220813, 2.0...</td>\n    </tr>\n    <tr>\n      <th>1</th>\n      <td>2</td>\n      <td>1</td>\n      <td>[0.7522702679435408, 0.7522702679435408, 0.752...</td>\n      <td>[4560.396137855829, 4560.396137855829, 4560.39...</td>\n      <td>[-0.0023021117177247433, -2.0966972141109204, ...</td>\n    </tr>\n    <tr>\n      <th>2</th>\n      <td>6</td>\n      <td>1</td>\n      <td>[0.4293465725267879, 0.4293465725267878, 0.429...</td>\n      <td>[2602.7752718518336, 2602.775271851833, 2602.7...</td>\n      <td>[0.04539925256887769, -2.0489958498243177, 2.1...</td>\n    </tr>\n  </tbody>\n</table>\n</div>"
     },
     "metadata": {},
     "output_type": "display_data"
    },
    {
     "name": "stdout",
     "output_type": "stream",
     "text": [
      "------line result------\n"
     ]
    },
    {
     "data": {
      "text/plain": "   id  energized                                             i_from  \\\n0   3          1  [6119.725338347851, 6119.725338347851, 6119.72...   \n1   5          1  [6131.267946321705, 6131.267946321705, 6131.26...   \n2   8          1  [12255.7967133573, 12255.7967133573, 12255.796...   \n\n                                        i_from_angle  \\\n0  [-0.737270099772722, -2.8316652021659174, 1.35...   \n1  [-0.7393963704392148, -2.8337914728324103, 1.3...   \n2  [-0.738767428467694, -2.8331625308608896, 1.35...   \n\n                                                i_to  \\\n0  [6131.267946321706, 6131.267946321706, 6131.26...   \n1  [6138.977470816719, 6138.977470816719, 6138.97...   \n2  [12265.425447771773, 12265.425447771773, 12265...   \n\n                                          i_to_angle  \n0  [2.4021962831505785, 0.30780118075738305, -1.7...  \n1  [2.400861093608147, 0.30646599121495144, -1.78...  \n2  [2.4019604415245324, 0.30756533913133705, -1.7...  ",
      "text/html": "<div>\n<style scoped>\n    .dataframe tbody tr th:only-of-type {\n        vertical-align: middle;\n    }\n\n    .dataframe tbody tr th {\n        vertical-align: top;\n    }\n\n    .dataframe thead th {\n        text-align: right;\n    }\n</style>\n<table border=\"1\" class=\"dataframe\">\n  <thead>\n    <tr style=\"text-align: right;\">\n      <th></th>\n      <th>id</th>\n      <th>energized</th>\n      <th>i_from</th>\n      <th>i_from_angle</th>\n      <th>i_to</th>\n      <th>i_to_angle</th>\n    </tr>\n  </thead>\n  <tbody>\n    <tr>\n      <th>0</th>\n      <td>3</td>\n      <td>1</td>\n      <td>[6119.725338347851, 6119.725338347851, 6119.72...</td>\n      <td>[-0.737270099772722, -2.8316652021659174, 1.35...</td>\n      <td>[6131.267946321706, 6131.267946321706, 6131.26...</td>\n      <td>[2.4021962831505785, 0.30780118075738305, -1.7...</td>\n    </tr>\n    <tr>\n      <th>1</th>\n      <td>5</td>\n      <td>1</td>\n      <td>[6131.267946321705, 6131.267946321705, 6131.26...</td>\n      <td>[-0.7393963704392148, -2.8337914728324103, 1.3...</td>\n      <td>[6138.977470816719, 6138.977470816719, 6138.97...</td>\n      <td>[2.400861093608147, 0.30646599121495144, -1.78...</td>\n    </tr>\n    <tr>\n      <th>2</th>\n      <td>8</td>\n      <td>1</td>\n      <td>[12255.7967133573, 12255.7967133573, 12255.796...</td>\n      <td>[-0.738767428467694, -2.8331625308608896, 1.35...</td>\n      <td>[12265.425447771773, 12265.425447771773, 12265...</td>\n      <td>[2.4019604415245324, 0.30756533913133705, -1.7...</td>\n    </tr>\n  </tbody>\n</table>\n</div>"
     },
     "metadata": {},
     "output_type": "display_data"
    }
   ],
   "source": [
    "print(\"------fault result------\")\n",
    "display(pd.DataFrame(output_data[\"fault\"].tolist(), columns=output_data[\"fault\"].dtype.names))\n",
    "print(\"------node result------\")\n",
    "display(pd.DataFrame(output_data[\"node\"].tolist(), columns=output_data[\"node\"].dtype.names))\n",
    "print(\"------line result------\")\n",
    "display(pd.DataFrame(output_data[\"line\"].tolist(), columns=output_data[\"line\"].dtype.names))"
   ]
  },
  {
   "cell_type": "markdown",
   "id": "1884ebd4",
   "metadata": {
    "collapsed": false,
    "jupyter": {
     "outputs_hidden": false
    }
   },
   "source": [
    "## Batch Calculations\n",
    "\n",
    "The batch calculations are mentioned in detail in the [Power Flow Example](https://github.com/PowerGridModel/power-grid-model/tree/main/docs/examples/Power%20Flow%20Example.ipynb). Short circuit batch calculations are carried out in similar way."
   ]
  }
 ],
 "metadata": {
  "kernelspec": {
   "display_name": "Python 3 (ipykernel)",
   "language": "python",
   "name": "python3"
  },
  "language_info": {
   "codemirror_mode": {
    "name": "ipython",
    "version": 3
   },
   "file_extension": ".py",
   "mimetype": "text/x-python",
   "name": "python",
   "nbconvert_exporter": "python",
   "pygments_lexer": "ipython3",
   "version": "3.11.4"
  },
  "vscode": {
   "interpreter": {
    "hash": "f2534ebf7a1a13ecc51c3a04ce741b49cf1feb97b5ca55170ed7b2036b4058c0"
   }
  }
 },
 "nbformat": 4,
 "nbformat_minor": 5
}
