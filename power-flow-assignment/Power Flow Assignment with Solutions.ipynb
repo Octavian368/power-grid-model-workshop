{
 "cells": [
  {
   "cell_type": "markdown",
   "id": "a727ce38",
   "metadata": {},
   "source": [
    "# Introduction\n",
    "\n",
    "In this assignment you will be given a series of tasks about using the library `power-grid-model`. The tasks include:\n",
    "\n",
    "1. [Load input](#Assignment-1:-Load-Input-Data)\n",
    "2. [Validate Input Data](#Assignment-2:-Validate-Input-Data)\n",
    "3. [Construct Model](#Assignment-3:-Construct-Model)\n",
    "4. [Calculate One Time Power Flow](#Assignment-4:-Calculate-One-Time-Power-Flow)\n",
    "5. [Time Series Batch Calculation](#Assignment-5:-Time-Series-Batch-Calculation)\n",
    "6. [N 1 Scenario-Batch-Calculation](#Assignment-6:-N-1-Scenario-Batch-Calculation)\n",
    "\n",
    "The input data are CSV files in the `data/` folder:\n",
    "* `node.csv`\n",
    "* `line.csv`\n",
    "* `source.csv`\n",
    "* `sym_load.csv`\n"
   ]
  },
  {
   "cell_type": "markdown",
   "id": "b18d109c",
   "metadata": {},
   "source": [
    "# Preparation\n",
    "\n",
    "First import everything we need for this workshop:"
   ]
  },
  {
   "cell_type": "code",
   "execution_count": 1,
   "id": "fbc50a6d",
   "metadata": {},
   "outputs": [],
   "source": [
    "import time\n",
    "from typing import Dict\n",
    "\n",
    "import numpy as np\n",
    "import pandas as pd\n",
    "import matplotlib.pyplot as plt\n",
    "\n",
    "from power_grid_model import (\n",
    "    PowerGridModel,\n",
    "    CalculationType,\n",
    "    CalculationMethod,\n",
    "    initialize_array\n",
    ")\n",
    "\n",
    "from power_grid_model.validation import (\n",
    "    assert_valid_input_data,\n",
    "    assert_valid_batch_data\n",
    ")"
   ]
  },
  {
   "cell_type": "markdown",
   "id": "50065790",
   "metadata": {},
   "source": [
    "Let's define a timer class to easily benchmark the calculations:"
   ]
  },
  {
   "cell_type": "code",
   "execution_count": 2,
   "id": "760a38b1",
   "metadata": {},
   "outputs": [],
   "source": [
    "class Timer:\n",
    "    def __init__(self, name: str):\n",
    "        self.name = name\n",
    "        self.start = None\n",
    "\n",
    "    def __enter__(self):\n",
    "        self.start = time.perf_counter()\n",
    "\n",
    "    def __exit__(self, *args):\n",
    "        print(f'Execution time for {self.name} is {(time.perf_counter() - self.start):0.6f} s')"
   ]
  },
  {
   "cell_type": "markdown",
   "id": "0f33163a",
   "metadata": {},
   "source": [
    "The following example measures the time for a simple add operation of two numpy arrays."
   ]
  },
  {
   "cell_type": "code",
   "execution_count": 3,
   "id": "a61540cd",
   "metadata": {},
   "outputs": [
    {
     "name": "stdout",
     "output_type": "stream",
     "text": [
      "Execution time for Add Operation is 0.002155 s\n"
     ]
    }
   ],
   "source": [
    "a = np.random.rand(1000000)\n",
    "b = np.random.rand(1000000)\n",
    "with Timer(\"Add Operation\"):\n",
    "    c = a + b"
   ]
  },
  {
   "cell_type": "markdown",
   "id": "824a3c36",
   "metadata": {},
   "source": [
    "# Assignment 1: Load Input Data\n",
    "\n",
    "The following function loads the CSV data files from folder `../data/` and convert them into one dictionary of numpy structured arrays. The returned dictionary is a compatible input for the constructor of `PowerGridModel`. Please complete the function to construct the input data which is compatible with `PowerGridModel`."
   ]
  },
  {
   "cell_type": "code",
   "execution_count": 4,
   "id": "2baee3cd",
   "metadata": {},
   "outputs": [
    {
     "name": "stdout",
     "output_type": "stream",
     "text": [
      "node     : 2001\n",
      "line     : 2000\n",
      "source   :    1\n",
      "sym_load : 2000\n",
      "Execution time for Loading Input Data is 0.010170 s\n"
     ]
    }
   ],
   "source": [
    "def load_input_data() -> Dict[str, np.ndarray]:\n",
    "    input_data = {}\n",
    "    for component in ['node', 'line', 'source', 'sym_load']:\n",
    "        \n",
    "        # Use pandas to read CSV data\n",
    "        df = pd.read_csv(f'../data/{component}.csv')\n",
    "\n",
    "        # Initialize array\n",
    "        input_data[component] = initialize_array('input', component, len(df))\n",
    "\n",
    "        # Fill the attributes\n",
    "        for attr, values in df.items():\n",
    "            input_data[component][attr] = values\n",
    "\n",
    "        # Print some debug info\n",
    "        print(f\"{component:9s}: {len(input_data[component]):4d}\")\n",
    "\n",
    "    return input_data\n",
    "\n",
    "# Load input data\n",
    "with Timer(\"Loading Input Data\"):\n",
    "    input_data = load_input_data()\n"
   ]
  },
  {
   "cell_type": "markdown",
   "id": "728db4b8",
   "metadata": {},
   "source": [
    "# Assignment 2: Validate Input Data\n",
    "\n",
    "It is recommended to validate your data before constructing the `PowerGridModel`. If you are confident about your input data, you can skip this step for performance reasons. The easiest way to validate your input data is using `assert_valid_input_data`, which will raise an exception if there are any errors in your data. Please have a look at the [Validation Examples](https://github.com/alliander-opensource/power-grid-model/blob/main/examples/Validation%20Examples.ipynb) for more detailed information on the validation functions."
   ]
  },
  {
   "cell_type": "code",
   "execution_count": 5,
   "id": "b703c8aa",
   "metadata": {},
   "outputs": [
    {
     "name": "stdout",
     "output_type": "stream",
     "text": [
      "Execution time for Validating Input Data is 0.004682 s\n"
     ]
    }
   ],
   "source": [
    "# Validate input data\n",
    "with Timer(\"Validating Input Data\"):\n",
    "    assert_valid_input_data(input_data=input_data, calculation_type=CalculationType.power_flow)"
   ]
  },
  {
   "cell_type": "markdown",
   "id": "940d48be",
   "metadata": {},
   "source": [
    "# Assignment 3: Construct Model\n",
    "\n",
    "Create an instance of `PowerGridModel` using the input data. Benchmark the construction time."
   ]
  },
  {
   "cell_type": "code",
   "execution_count": 6,
   "id": "71b39571",
   "metadata": {},
   "outputs": [
    {
     "name": "stdout",
     "output_type": "stream",
     "text": [
      "Execution time for Model Construction is 0.000537 s\n",
      "{'line': 2000, 'node': 2001, 'source': 1, 'sym_load': 2000}\n"
     ]
    }
   ],
   "source": [
    "# Construct model\n",
    "with Timer(\"Model Construction\"):\n",
    "    model = PowerGridModel(input_data=input_data)\n",
    "\n",
    "# Print the number of objects\n",
    "print(model.all_component_count)"
   ]
  },
  {
   "cell_type": "markdown",
   "id": "2b013fa7",
   "metadata": {},
   "source": [
    "# Assignment 4: Calculate One-Time Power Flow\n",
    "\n",
    "* Calculate one-time power flow, print the highest and lowest loading of the lines.\n",
    "* Try with Newton-Raphson and linear method, compare the results and speed."
   ]
  },
  {
   "cell_type": "code",
   "execution_count": 7,
   "id": "88034903",
   "metadata": {},
   "outputs": [
    {
     "name": "stdout",
     "output_type": "stream",
     "text": [
      "Execution time for Newton-Raphson Power Flow is 0.002058 s\n",
      "Min line loading: 0.14188449783808707\n",
      "Max line loading: 1.6292378285645808\n"
     ]
    }
   ],
   "source": [
    "# Newton-Raphson Power Flow\n",
    "with Timer(\"Newton-Raphson Power Flow\"):\n",
    "    result = model.calculate_power_flow(calculation_method=CalculationMethod.newton_raphson)\n",
    "    \n",
    "# Print min and max line loading\n",
    "print(\"Min line loading:\", min(result[\"line\"][\"loading\"]))\n",
    "print(\"Max line loading:\", max(result[\"line\"][\"loading\"]))"
   ]
  },
  {
   "cell_type": "code",
   "execution_count": 8,
   "id": "a8d298d5",
   "metadata": {},
   "outputs": [
    {
     "name": "stdout",
     "output_type": "stream",
     "text": [
      "Execution time for Linear Power Flow is 0.000501 s\n",
      "Min line loading: 0.1395686087394204\n",
      "Max line loading: 1.6156849991055762\n"
     ]
    }
   ],
   "source": [
    "# Linear Power Flow\n",
    "with Timer(\"Linear Power Flow\"):\n",
    "    result = model.calculate_power_flow(calculation_method=CalculationMethod.linear)\n",
    "    \n",
    "# Print min and max line loading\n",
    "print(\"Min line loading:\", min(result[\"line\"][\"loading\"]))\n",
    "print(\"Max line loading:\", max(result[\"line\"][\"loading\"]))"
   ]
  },
  {
   "cell_type": "markdown",
   "id": "14fcc242",
   "metadata": {},
   "source": [
    "# Assignment 5: Time Series Batch Calculation\n",
    "\n",
    "## Load Profile\n",
    "\n",
    "Below we randomly generate a dataframe of load profile. \n",
    "\n",
    "* The column names are the IDs of `sym_load`\n",
    "* Each row is one scenario\n",
    "* Each entry specifies the active power of the load\n",
    "* The reactive power is zero\n"
   ]
  },
  {
   "cell_type": "code",
   "execution_count": 9,
   "id": "921310a7",
   "metadata": {},
   "outputs": [
    {
     "data": {
      "text/html": [
       "<div>\n",
       "<style scoped>\n",
       "    .dataframe tbody tr th:only-of-type {\n",
       "        vertical-align: middle;\n",
       "    }\n",
       "\n",
       "    .dataframe tbody tr th {\n",
       "        vertical-align: top;\n",
       "    }\n",
       "\n",
       "    .dataframe thead th {\n",
       "        text-align: right;\n",
       "    }\n",
       "</style>\n",
       "<table border=\"1\" class=\"dataframe\">\n",
       "  <thead>\n",
       "    <tr style=\"text-align: right;\">\n",
       "      <th></th>\n",
       "      <th>4002</th>\n",
       "      <th>4003</th>\n",
       "      <th>4004</th>\n",
       "      <th>4005</th>\n",
       "      <th>4006</th>\n",
       "      <th>4007</th>\n",
       "      <th>4008</th>\n",
       "      <th>4009</th>\n",
       "      <th>4010</th>\n",
       "      <th>4011</th>\n",
       "      <th>...</th>\n",
       "      <th>5992</th>\n",
       "      <th>5993</th>\n",
       "      <th>5994</th>\n",
       "      <th>5995</th>\n",
       "      <th>5996</th>\n",
       "      <th>5997</th>\n",
       "      <th>5998</th>\n",
       "      <th>5999</th>\n",
       "      <th>6000</th>\n",
       "      <th>6001</th>\n",
       "    </tr>\n",
       "  </thead>\n",
       "  <tbody>\n",
       "    <tr>\n",
       "      <th>2022-01-01 00:00:00</th>\n",
       "      <td>1.002871e+06</td>\n",
       "      <td>1.049051e+06</td>\n",
       "      <td>924711.287497</td>\n",
       "      <td>957200.101965</td>\n",
       "      <td>1.075382e+06</td>\n",
       "      <td>905423.646750</td>\n",
       "      <td>937925.769255</td>\n",
       "      <td>1.069685e+06</td>\n",
       "      <td>1.015249e+06</td>\n",
       "      <td>1.009215e+06</td>\n",
       "      <td>...</td>\n",
       "      <td>1.005255e+06</td>\n",
       "      <td>1.069093e+06</td>\n",
       "      <td>1.042965e+06</td>\n",
       "      <td>935755.179545</td>\n",
       "      <td>906394.135015</td>\n",
       "      <td>9.960279e+05</td>\n",
       "      <td>935439.626888</td>\n",
       "      <td>1.106973e+06</td>\n",
       "      <td>946543.130467</td>\n",
       "      <td>1.090305e+06</td>\n",
       "    </tr>\n",
       "    <tr>\n",
       "      <th>2022-01-01 01:00:00</th>\n",
       "      <td>9.981311e+05</td>\n",
       "      <td>1.043204e+06</td>\n",
       "      <td>896707.851946</td>\n",
       "      <td>974486.808653</td>\n",
       "      <td>1.073148e+06</td>\n",
       "      <td>910458.058500</td>\n",
       "      <td>935901.071710</td>\n",
       "      <td>1.068401e+06</td>\n",
       "      <td>1.028494e+06</td>\n",
       "      <td>1.026650e+06</td>\n",
       "      <td>...</td>\n",
       "      <td>1.009434e+06</td>\n",
       "      <td>1.064085e+06</td>\n",
       "      <td>1.036537e+06</td>\n",
       "      <td>915150.269713</td>\n",
       "      <td>924824.703522</td>\n",
       "      <td>9.942952e+05</td>\n",
       "      <td>951804.737260</td>\n",
       "      <td>1.082912e+06</td>\n",
       "      <td>936128.819560</td>\n",
       "      <td>1.077572e+06</td>\n",
       "    </tr>\n",
       "    <tr>\n",
       "      <th>2022-01-01 02:00:00</th>\n",
       "      <td>9.833378e+05</td>\n",
       "      <td>1.029733e+06</td>\n",
       "      <td>903100.817344</td>\n",
       "      <td>937014.264873</td>\n",
       "      <td>1.078602e+06</td>\n",
       "      <td>896505.473772</td>\n",
       "      <td>925132.524593</td>\n",
       "      <td>1.064357e+06</td>\n",
       "      <td>1.027282e+06</td>\n",
       "      <td>1.011751e+06</td>\n",
       "      <td>...</td>\n",
       "      <td>1.007744e+06</td>\n",
       "      <td>1.078892e+06</td>\n",
       "      <td>1.058752e+06</td>\n",
       "      <td>910452.536387</td>\n",
       "      <td>893289.562070</td>\n",
       "      <td>1.004583e+06</td>\n",
       "      <td>948349.787736</td>\n",
       "      <td>1.086777e+06</td>\n",
       "      <td>925336.538182</td>\n",
       "      <td>1.094911e+06</td>\n",
       "    </tr>\n",
       "    <tr>\n",
       "      <th>2022-01-01 03:00:00</th>\n",
       "      <td>9.841492e+05</td>\n",
       "      <td>1.046645e+06</td>\n",
       "      <td>910789.415670</td>\n",
       "      <td>970910.802629</td>\n",
       "      <td>1.065110e+06</td>\n",
       "      <td>901191.754753</td>\n",
       "      <td>952383.290056</td>\n",
       "      <td>1.072268e+06</td>\n",
       "      <td>1.012551e+06</td>\n",
       "      <td>1.012723e+06</td>\n",
       "      <td>...</td>\n",
       "      <td>9.954191e+05</td>\n",
       "      <td>1.087993e+06</td>\n",
       "      <td>1.041462e+06</td>\n",
       "      <td>901472.832630</td>\n",
       "      <td>925127.823557</td>\n",
       "      <td>1.000111e+06</td>\n",
       "      <td>907982.528788</td>\n",
       "      <td>1.091150e+06</td>\n",
       "      <td>924749.114430</td>\n",
       "      <td>1.083003e+06</td>\n",
       "    </tr>\n",
       "    <tr>\n",
       "      <th>2022-01-01 04:00:00</th>\n",
       "      <td>1.007070e+06</td>\n",
       "      <td>1.043126e+06</td>\n",
       "      <td>913720.947978</td>\n",
       "      <td>965360.614876</td>\n",
       "      <td>1.066560e+06</td>\n",
       "      <td>908374.762281</td>\n",
       "      <td>946141.569917</td>\n",
       "      <td>1.044300e+06</td>\n",
       "      <td>1.006786e+06</td>\n",
       "      <td>1.027541e+06</td>\n",
       "      <td>...</td>\n",
       "      <td>9.997145e+05</td>\n",
       "      <td>1.081654e+06</td>\n",
       "      <td>1.041448e+06</td>\n",
       "      <td>910474.407639</td>\n",
       "      <td>909960.340293</td>\n",
       "      <td>1.011428e+06</td>\n",
       "      <td>929552.993616</td>\n",
       "      <td>1.091332e+06</td>\n",
       "      <td>921930.943557</td>\n",
       "      <td>1.085908e+06</td>\n",
       "    </tr>\n",
       "    <tr>\n",
       "      <th>...</th>\n",
       "      <td>...</td>\n",
       "      <td>...</td>\n",
       "      <td>...</td>\n",
       "      <td>...</td>\n",
       "      <td>...</td>\n",
       "      <td>...</td>\n",
       "      <td>...</td>\n",
       "      <td>...</td>\n",
       "      <td>...</td>\n",
       "      <td>...</td>\n",
       "      <td>...</td>\n",
       "      <td>...</td>\n",
       "      <td>...</td>\n",
       "      <td>...</td>\n",
       "      <td>...</td>\n",
       "      <td>...</td>\n",
       "      <td>...</td>\n",
       "      <td>...</td>\n",
       "      <td>...</td>\n",
       "      <td>...</td>\n",
       "      <td>...</td>\n",
       "    </tr>\n",
       "    <tr>\n",
       "      <th>2022-02-11 11:00:00</th>\n",
       "      <td>9.689004e+05</td>\n",
       "      <td>1.043682e+06</td>\n",
       "      <td>911904.035619</td>\n",
       "      <td>955139.474843</td>\n",
       "      <td>1.076987e+06</td>\n",
       "      <td>908248.038655</td>\n",
       "      <td>943946.004154</td>\n",
       "      <td>1.048946e+06</td>\n",
       "      <td>1.008926e+06</td>\n",
       "      <td>1.008524e+06</td>\n",
       "      <td>...</td>\n",
       "      <td>9.980986e+05</td>\n",
       "      <td>1.059041e+06</td>\n",
       "      <td>1.026770e+06</td>\n",
       "      <td>941316.322512</td>\n",
       "      <td>913433.499108</td>\n",
       "      <td>9.957019e+05</td>\n",
       "      <td>937300.718907</td>\n",
       "      <td>1.078965e+06</td>\n",
       "      <td>924943.276582</td>\n",
       "      <td>1.076249e+06</td>\n",
       "    </tr>\n",
       "    <tr>\n",
       "      <th>2022-02-11 12:00:00</th>\n",
       "      <td>9.830698e+05</td>\n",
       "      <td>1.038592e+06</td>\n",
       "      <td>895513.874238</td>\n",
       "      <td>980896.304183</td>\n",
       "      <td>1.070465e+06</td>\n",
       "      <td>895416.121476</td>\n",
       "      <td>930908.639607</td>\n",
       "      <td>1.058402e+06</td>\n",
       "      <td>1.029025e+06</td>\n",
       "      <td>1.005008e+06</td>\n",
       "      <td>...</td>\n",
       "      <td>1.009776e+06</td>\n",
       "      <td>1.070563e+06</td>\n",
       "      <td>1.041357e+06</td>\n",
       "      <td>911147.511704</td>\n",
       "      <td>923518.676663</td>\n",
       "      <td>1.001176e+06</td>\n",
       "      <td>954006.937509</td>\n",
       "      <td>1.076831e+06</td>\n",
       "      <td>922985.377595</td>\n",
       "      <td>1.079808e+06</td>\n",
       "    </tr>\n",
       "    <tr>\n",
       "      <th>2022-02-11 13:00:00</th>\n",
       "      <td>9.864312e+05</td>\n",
       "      <td>1.050745e+06</td>\n",
       "      <td>918710.660348</td>\n",
       "      <td>957505.009129</td>\n",
       "      <td>1.074499e+06</td>\n",
       "      <td>890667.457356</td>\n",
       "      <td>935162.124830</td>\n",
       "      <td>1.071802e+06</td>\n",
       "      <td>1.005663e+06</td>\n",
       "      <td>1.025159e+06</td>\n",
       "      <td>...</td>\n",
       "      <td>1.006857e+06</td>\n",
       "      <td>1.087378e+06</td>\n",
       "      <td>1.037401e+06</td>\n",
       "      <td>919804.671043</td>\n",
       "      <td>911514.893734</td>\n",
       "      <td>1.001794e+06</td>\n",
       "      <td>930365.957837</td>\n",
       "      <td>1.083419e+06</td>\n",
       "      <td>923268.650258</td>\n",
       "      <td>1.105783e+06</td>\n",
       "    </tr>\n",
       "    <tr>\n",
       "      <th>2022-02-11 14:00:00</th>\n",
       "      <td>9.839130e+05</td>\n",
       "      <td>1.036551e+06</td>\n",
       "      <td>913875.040168</td>\n",
       "      <td>969417.542940</td>\n",
       "      <td>1.067075e+06</td>\n",
       "      <td>893108.147959</td>\n",
       "      <td>937844.136616</td>\n",
       "      <td>1.045039e+06</td>\n",
       "      <td>1.020624e+06</td>\n",
       "      <td>1.020546e+06</td>\n",
       "      <td>...</td>\n",
       "      <td>9.996903e+05</td>\n",
       "      <td>1.088587e+06</td>\n",
       "      <td>1.022376e+06</td>\n",
       "      <td>925049.334566</td>\n",
       "      <td>914439.501606</td>\n",
       "      <td>9.981477e+05</td>\n",
       "      <td>937731.897041</td>\n",
       "      <td>1.088536e+06</td>\n",
       "      <td>923470.818159</td>\n",
       "      <td>1.095188e+06</td>\n",
       "    </tr>\n",
       "    <tr>\n",
       "      <th>2022-02-11 15:00:00</th>\n",
       "      <td>9.763598e+05</td>\n",
       "      <td>1.043748e+06</td>\n",
       "      <td>891613.612263</td>\n",
       "      <td>952285.216160</td>\n",
       "      <td>1.081299e+06</td>\n",
       "      <td>916862.070968</td>\n",
       "      <td>927510.172877</td>\n",
       "      <td>1.063309e+06</td>\n",
       "      <td>1.020612e+06</td>\n",
       "      <td>1.007283e+06</td>\n",
       "      <td>...</td>\n",
       "      <td>1.003029e+06</td>\n",
       "      <td>1.081415e+06</td>\n",
       "      <td>1.035294e+06</td>\n",
       "      <td>931057.752909</td>\n",
       "      <td>903149.804149</td>\n",
       "      <td>9.903509e+05</td>\n",
       "      <td>938316.467700</td>\n",
       "      <td>1.076843e+06</td>\n",
       "      <td>924146.142025</td>\n",
       "      <td>1.073566e+06</td>\n",
       "    </tr>\n",
       "  </tbody>\n",
       "</table>\n",
       "<p>1000 rows × 2000 columns</p>\n",
       "</div>"
      ],
      "text/plain": [
       "                             4002          4003           4004           4005  \\\n",
       "2022-01-01 00:00:00  1.002871e+06  1.049051e+06  924711.287497  957200.101965   \n",
       "2022-01-01 01:00:00  9.981311e+05  1.043204e+06  896707.851946  974486.808653   \n",
       "2022-01-01 02:00:00  9.833378e+05  1.029733e+06  903100.817344  937014.264873   \n",
       "2022-01-01 03:00:00  9.841492e+05  1.046645e+06  910789.415670  970910.802629   \n",
       "2022-01-01 04:00:00  1.007070e+06  1.043126e+06  913720.947978  965360.614876   \n",
       "...                           ...           ...            ...            ...   \n",
       "2022-02-11 11:00:00  9.689004e+05  1.043682e+06  911904.035619  955139.474843   \n",
       "2022-02-11 12:00:00  9.830698e+05  1.038592e+06  895513.874238  980896.304183   \n",
       "2022-02-11 13:00:00  9.864312e+05  1.050745e+06  918710.660348  957505.009129   \n",
       "2022-02-11 14:00:00  9.839130e+05  1.036551e+06  913875.040168  969417.542940   \n",
       "2022-02-11 15:00:00  9.763598e+05  1.043748e+06  891613.612263  952285.216160   \n",
       "\n",
       "                             4006           4007           4008          4009  \\\n",
       "2022-01-01 00:00:00  1.075382e+06  905423.646750  937925.769255  1.069685e+06   \n",
       "2022-01-01 01:00:00  1.073148e+06  910458.058500  935901.071710  1.068401e+06   \n",
       "2022-01-01 02:00:00  1.078602e+06  896505.473772  925132.524593  1.064357e+06   \n",
       "2022-01-01 03:00:00  1.065110e+06  901191.754753  952383.290056  1.072268e+06   \n",
       "2022-01-01 04:00:00  1.066560e+06  908374.762281  946141.569917  1.044300e+06   \n",
       "...                           ...            ...            ...           ...   \n",
       "2022-02-11 11:00:00  1.076987e+06  908248.038655  943946.004154  1.048946e+06   \n",
       "2022-02-11 12:00:00  1.070465e+06  895416.121476  930908.639607  1.058402e+06   \n",
       "2022-02-11 13:00:00  1.074499e+06  890667.457356  935162.124830  1.071802e+06   \n",
       "2022-02-11 14:00:00  1.067075e+06  893108.147959  937844.136616  1.045039e+06   \n",
       "2022-02-11 15:00:00  1.081299e+06  916862.070968  927510.172877  1.063309e+06   \n",
       "\n",
       "                             4010          4011  ...          5992  \\\n",
       "2022-01-01 00:00:00  1.015249e+06  1.009215e+06  ...  1.005255e+06   \n",
       "2022-01-01 01:00:00  1.028494e+06  1.026650e+06  ...  1.009434e+06   \n",
       "2022-01-01 02:00:00  1.027282e+06  1.011751e+06  ...  1.007744e+06   \n",
       "2022-01-01 03:00:00  1.012551e+06  1.012723e+06  ...  9.954191e+05   \n",
       "2022-01-01 04:00:00  1.006786e+06  1.027541e+06  ...  9.997145e+05   \n",
       "...                           ...           ...  ...           ...   \n",
       "2022-02-11 11:00:00  1.008926e+06  1.008524e+06  ...  9.980986e+05   \n",
       "2022-02-11 12:00:00  1.029025e+06  1.005008e+06  ...  1.009776e+06   \n",
       "2022-02-11 13:00:00  1.005663e+06  1.025159e+06  ...  1.006857e+06   \n",
       "2022-02-11 14:00:00  1.020624e+06  1.020546e+06  ...  9.996903e+05   \n",
       "2022-02-11 15:00:00  1.020612e+06  1.007283e+06  ...  1.003029e+06   \n",
       "\n",
       "                             5993          5994           5995           5996  \\\n",
       "2022-01-01 00:00:00  1.069093e+06  1.042965e+06  935755.179545  906394.135015   \n",
       "2022-01-01 01:00:00  1.064085e+06  1.036537e+06  915150.269713  924824.703522   \n",
       "2022-01-01 02:00:00  1.078892e+06  1.058752e+06  910452.536387  893289.562070   \n",
       "2022-01-01 03:00:00  1.087993e+06  1.041462e+06  901472.832630  925127.823557   \n",
       "2022-01-01 04:00:00  1.081654e+06  1.041448e+06  910474.407639  909960.340293   \n",
       "...                           ...           ...            ...            ...   \n",
       "2022-02-11 11:00:00  1.059041e+06  1.026770e+06  941316.322512  913433.499108   \n",
       "2022-02-11 12:00:00  1.070563e+06  1.041357e+06  911147.511704  923518.676663   \n",
       "2022-02-11 13:00:00  1.087378e+06  1.037401e+06  919804.671043  911514.893734   \n",
       "2022-02-11 14:00:00  1.088587e+06  1.022376e+06  925049.334566  914439.501606   \n",
       "2022-02-11 15:00:00  1.081415e+06  1.035294e+06  931057.752909  903149.804149   \n",
       "\n",
       "                             5997           5998          5999           6000  \\\n",
       "2022-01-01 00:00:00  9.960279e+05  935439.626888  1.106973e+06  946543.130467   \n",
       "2022-01-01 01:00:00  9.942952e+05  951804.737260  1.082912e+06  936128.819560   \n",
       "2022-01-01 02:00:00  1.004583e+06  948349.787736  1.086777e+06  925336.538182   \n",
       "2022-01-01 03:00:00  1.000111e+06  907982.528788  1.091150e+06  924749.114430   \n",
       "2022-01-01 04:00:00  1.011428e+06  929552.993616  1.091332e+06  921930.943557   \n",
       "...                           ...            ...           ...            ...   \n",
       "2022-02-11 11:00:00  9.957019e+05  937300.718907  1.078965e+06  924943.276582   \n",
       "2022-02-11 12:00:00  1.001176e+06  954006.937509  1.076831e+06  922985.377595   \n",
       "2022-02-11 13:00:00  1.001794e+06  930365.957837  1.083419e+06  923268.650258   \n",
       "2022-02-11 14:00:00  9.981477e+05  937731.897041  1.088536e+06  923470.818159   \n",
       "2022-02-11 15:00:00  9.903509e+05  938316.467700  1.076843e+06  924146.142025   \n",
       "\n",
       "                             6001  \n",
       "2022-01-01 00:00:00  1.090305e+06  \n",
       "2022-01-01 01:00:00  1.077572e+06  \n",
       "2022-01-01 02:00:00  1.094911e+06  \n",
       "2022-01-01 03:00:00  1.083003e+06  \n",
       "2022-01-01 04:00:00  1.085908e+06  \n",
       "...                           ...  \n",
       "2022-02-11 11:00:00  1.076249e+06  \n",
       "2022-02-11 12:00:00  1.079808e+06  \n",
       "2022-02-11 13:00:00  1.105783e+06  \n",
       "2022-02-11 14:00:00  1.095188e+06  \n",
       "2022-02-11 15:00:00  1.073566e+06  \n",
       "\n",
       "[1000 rows x 2000 columns]"
      ]
     },
     "metadata": {},
     "output_type": "display_data"
    }
   ],
   "source": [
    "# Generate random load profile oh hourly data\n",
    "n_scenarios = 1000\n",
    "n_loads = len(input_data[\"sym_load\"]) \n",
    "load_id = input_data[\"sym_load\"][\"id\"]\n",
    "load_p = input_data[\"sym_load\"][\"p_specified\"]\n",
    "profile = np.tile(load_p, (n_scenarios, 1)) + 1e4 * np.random.randn(n_scenarios, n_loads)\n",
    "dti = dti = pd.date_range(\"2022-01-01\", periods=n_scenarios, freq=\"H\")\n",
    "df_load_profile = pd.DataFrame(profile, columns=load_id, index=dti)\n",
    "display(df_load_profile)"
   ]
  },
  {
   "cell_type": "markdown",
   "id": "613233fa",
   "metadata": {},
   "source": [
    "## Run Time Series Calculation\n",
    "\n",
    "We want to run a time-series load flow batch calculation using the dataframe.\n",
    "\n",
    "* Convert the load profile into the compatible batch update dataset.\n",
    "* Run the batch calculation.\n",
    "* Compare the calculation methods `newton_raphson` and `linear`."
   ]
  },
  {
   "cell_type": "code",
   "execution_count": 10,
   "id": "0600bd55",
   "metadata": {},
   "outputs": [],
   "source": [
    "# Initialize an empty load profile\n",
    "load_profile = initialize_array(\"update\", \"sym_load\", df_load_profile.shape)\n",
    "\n",
    "# Set the attributes for the batch calculation (assume q_specified = 0.0)\n",
    "load_profile[\"id\"] = df_load_profile.columns.to_numpy()\n",
    "load_profile[\"p_specified\"] = df_load_profile.to_numpy()\n",
    "load_profile[\"q_specified\"] = 0.0\n",
    "\n",
    "# Construct the update data\n",
    "update_data = {\"sym_load\": load_profile}"
   ]
  },
  {
   "cell_type": "code",
   "execution_count": 11,
   "id": "9f88ba5f",
   "metadata": {},
   "outputs": [
    {
     "name": "stdout",
     "output_type": "stream",
     "text": [
      "Execution time for Validating Batch Data is 1.205413 s\n"
     ]
    }
   ],
   "source": [
    "# Validating batch data can take a long time.\n",
    "# It is recommended to only validate batch data when you run into trouble.\n",
    "with Timer(\"Validating Batch Data\"):\n",
    "    assert_valid_batch_data(input_data=input_data, update_data=update_data, calculation_type=CalculationType.power_flow)"
   ]
  },
  {
   "cell_type": "code",
   "execution_count": 12,
   "id": "e7ee773c",
   "metadata": {},
   "outputs": [
    {
     "name": "stdout",
     "output_type": "stream",
     "text": [
      "Execution time for Batch Calculation using Newton-Raphson is 0.948894 s\n"
     ]
    }
   ],
   "source": [
    "# Run Newton Raphson power flow (this may take a minute...)\n",
    "with Timer(\"Batch Calculation using Newton-Raphson\"):\n",
    "    output_data = model.calculate_power_flow(update_data=update_data, calculation_method=CalculationMethod.newton_raphson)"
   ]
  },
  {
   "cell_type": "code",
   "execution_count": 13,
   "id": "251e2edd",
   "metadata": {},
   "outputs": [
    {
     "name": "stdout",
     "output_type": "stream",
     "text": [
      "Execution time for Batch Calculation using linear calculation is 0.301203 s\n"
     ]
    }
   ],
   "source": [
    "# Run linear power flow\n",
    "with Timer(\"Batch Calculation using linear calculation\"):\n",
    "    output_data_linear = model.calculate_power_flow(update_data=update_data, calculation_method=CalculationMethod.linear)"
   ]
  },
  {
   "cell_type": "markdown",
   "id": "9ee15d9b",
   "metadata": {},
   "source": [
    "## Plotting batch results\n",
    "\n",
    "Lets say we wish to plot the loading of the `line 7` vs time. We can use matplotlib to do so. (Note: The grid and results are randomly generated so dont be alarmed to see loading >100% or other unrealistic result)  "
   ]
  },
  {
   "cell_type": "code",
   "execution_count": 14,
   "id": "93d0888d",
   "metadata": {},
   "outputs": [
    {
     "data": {
      "image/png": "[encoded data removed]",
      "text/plain": [
       "<Figure size 640x480 with 1 Axes>"
      ]
     },
     "metadata": {},
     "output_type": "display_data"
    }
   ],
   "source": [
    "# Plot the loading of line 7 vs time.\n",
    "result_loading = output_data[\"line\"][\"loading\"][:,6]\n",
    "plt.plot(result_loading)\n",
    "plt.title('Loading of line no. 7')\n",
    "plt.xlabel('Time')\n",
    "plt.ylabel('Loading')\n",
    "plt.show()"
   ]
  },
  {
   "cell_type": "markdown",
   "id": "39673a43",
   "metadata": {},
   "source": [
    "## Indexing the results\n",
    "\n",
    "Find the time stamps where loading in `line 7` is greater than `68.4%`"
   ]
  },
  {
   "cell_type": "code",
   "execution_count": 15,
   "id": "8bef255c",
   "metadata": {
    "scrolled": false
   },
   "outputs": [
    {
     "data": {
      "text/plain": [
       "DatetimeIndex(['2022-01-02 04:00:00', '2022-01-05 06:00:00',\n",
       "               '2022-01-07 06:00:00', '2022-01-17 17:00:00',\n",
       "               '2022-01-24 19:00:00', '2022-01-25 08:00:00',\n",
       "               '2022-02-04 22:00:00', '2022-02-07 21:00:00'],\n",
       "              dtype='datetime64[ns]', freq=None)"
      ]
     },
     "execution_count": 15,
     "metadata": {},
     "output_type": "execute_result"
    }
   ],
   "source": [
    "# Times when loading of line 7 when its greater than 68.4%\n",
    "ind = np.where(result_loading > 0.684)\n",
    "df_load_profile.index[ind]"
   ]
  },
  {
   "cell_type": "markdown",
   "id": "eb7ab8b5",
   "metadata": {},
   "source": [
    "# Assignment 6: N-1 Scenario Batch Calculation\n",
    "\n",
    "We want to run a N-1 Scenario analysis. For each batch calculation, one `line` is disconnected at from- and to-side."
   ]
  },
  {
   "cell_type": "code",
   "execution_count": 16,
   "id": "28b46e3a",
   "metadata": {},
   "outputs": [],
   "source": [
    "n_lines = len(input_data[\"line\"])\n",
    "\n",
    "# Initialize an empty line profile\n",
    "line_profile = initialize_array(\"update\", \"line\", (n_lines, n_lines))\n",
    "\n",
    "# Set the attributes for the batch calculation\n",
    "line_profile[\"id\"] =  input_data[\"line\"][\"id\"]\n",
    "line_profile[\"from_status\"] = 1 - np.eye(n_lines, dtype=np.uint8)\n",
    "line_profile[\"to_status\"] = 1 - np.eye(n_lines, dtype=np.uint8)\n",
    "\n",
    "# Construct the update data\n",
    "update_data = {\"line\": line_profile}"
   ]
  },
  {
   "cell_type": "code",
   "execution_count": 17,
   "id": "5fa9c6ca",
   "metadata": {},
   "outputs": [
    {
     "name": "stdout",
     "output_type": "stream",
     "text": [
      "Execution time for Validating Batch Data is 2.345358 s\n"
     ]
    }
   ],
   "source": [
    "# Validating batch data can take a long time.\n",
    "# It is recommended to only validate batch data when you run into trouble.\n",
    "with Timer(\"Validating Batch Data\"):\n",
    "    assert_valid_batch_data(input_data=input_data, update_data=update_data, calculation_type=CalculationType.power_flow)"
   ]
  },
  {
   "cell_type": "code",
   "execution_count": 18,
   "id": "3337a5cb",
   "metadata": {},
   "outputs": [
    {
     "name": "stdout",
     "output_type": "stream",
     "text": [
      "Execution time for Batch Calculation using Newton-Raphson is 2.589651 s\n"
     ]
    }
   ],
   "source": [
    "# Run Newton Raphson power flow (this may take a minute...)\n",
    "with Timer(\"Batch Calculation using Newton-Raphson\"):\n",
    "    model.calculate_power_flow(update_data=update_data, calculation_method=CalculationMethod.newton_raphson)"
   ]
  },
  {
   "cell_type": "code",
   "execution_count": 19,
   "id": "f7ba9924",
   "metadata": {},
   "outputs": [
    {
     "name": "stdout",
     "output_type": "stream",
     "text": [
      "Execution time for Batch Calculation using linear calculation is 1.201120 s\n"
     ]
    }
   ],
   "source": [
    "# Run linear power flow\n",
    "with Timer(\"Batch Calculation using linear calculation\"):\n",
    "    model.calculate_power_flow(update_data=update_data, calculation_method=CalculationMethod.linear)"
   ]
  },
  {
   "cell_type": "markdown",
   "id": "6af43b69",
   "metadata": {},
   "source": [
    "## Parallel processing\n",
    "The `calculate_power_flow` method has an optional `threading` argument to define the number of threads ran in parallel. Experiment with different threading values and compare the results..."
   ]
  },
  {
   "cell_type": "code",
   "execution_count": 20,
   "id": "9f1a3d88",
   "metadata": {},
   "outputs": [
    {
     "name": "stdout",
     "output_type": "stream",
     "text": [
      "Execution time for Sequential is 2.511464 s\n",
      "Execution time for Single thread is 2.452706 s\n",
      "Execution time for Two threads in parallel is 1.303447 s\n",
      "Execution time for Four threads in parallel is 0.690655 s\n",
      "Execution time for Use number of threads based the machine hardware is 0.524156 s\n"
     ]
    }
   ],
   "source": [
    "# By default, sequential threading is used\n",
    "with Timer(\"Sequential\"):\n",
    "    model.calculate_power_flow(update_data=update_data)\n",
    "\n",
    "# Single thread, this is essentially the same as running a single thread\n",
    "with Timer(\"Single thread\"):\n",
    "    model.calculate_power_flow(update_data=update_data, threading=1)\n",
    "\n",
    "# Two threads should be faster    \n",
    "with Timer(\"Two threads in parallel\"):\n",
    "    model.calculate_power_flow(update_data=update_data, threading=2)\n",
    "\n",
    "# Four threads should be even faster    \n",
    "with Timer(\"Four threads in parallel\"):\n",
    "    model.calculate_power_flow(update_data=update_data, threading=4)\n",
    "\n",
    "# Use number of threads based the machine hardware    \n",
    "with Timer(\"Use number of threads based the machine hardware\"):\n",
    "    model.calculate_power_flow(update_data=update_data, threading=0)"
   ]
  }
 ],
 "metadata": {
  "kernelspec": {
   "display_name": "Python 3 (ipykernel)",
   "language": "python",
   "name": "python3"
  },
  "language_info": {
   "codemirror_mode": {
    "name": "ipython",
    "version": 3
   },
   "file_extension": ".py",
   "mimetype": "text/x-python",
   "name": "python",
   "nbconvert_exporter": "python",
   "pygments_lexer": "ipython3",
   "version": "3.10.9"
  },
  "vscode": {
   "interpreter": {
    "hash": "f2534ebf7a1a13ecc51c3a04ce741b49cf1feb97b5ca55170ed7b2036b4058c0"
   }
  }
 },
 "nbformat": 4,
 "nbformat_minor": 5
}
