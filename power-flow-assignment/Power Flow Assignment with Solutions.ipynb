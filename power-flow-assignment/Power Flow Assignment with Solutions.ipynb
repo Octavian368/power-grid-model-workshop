{
 "cells": [
  {
   "attachments": {},
   "cell_type": "markdown",
   "id": "a727ce38",
   "metadata": {},
   "source": [
    "# Introduction\n",
    "\n",
    "In this assignment you will be given a series of tasks about using the library `power-grid-model`. The tasks include:\n",
    "\n",
    "1. [Load input](#Assignment-1:-Load-Input-Data)\n",
    "2. [Validate Input Data](#Assignment-2:-Validate-Input-Data)\n",
    "3. [Construct Model](#Assignment-3:-Construct-Model)\n",
    "4. [Calculate One Time Power Flow](#Assignment-4:-Calculate-One-Time-Power-Flow)\n",
    "5. [Time Series Batch Calculation](#Assignment-5:-Time-Series-Batch-Calculation)\n",
    "6. [N 1 Scenario-Batch-Calculation](#Assignment-6:-N-1-Scenario-Batch-Calculation)\n",
    "\n",
    "The input data are CSV files in the `data/` folder:\n",
    "* `node.csv`\n",
    "* `line.csv`\n",
    "* `source.csv`\n",
    "* `sym_load.csv`\n"
   ]
  },
  {
   "attachments": {},
   "cell_type": "markdown",
   "id": "b18d109c",
   "metadata": {},
   "source": [
    "# Preparation\n",
    "\n",
    "First import everything we need for this workshop:"
   ]
  },
  {
   "cell_type": "code",
   "execution_count": 1,
   "id": "fbc50a6d",
   "metadata": {},
   "outputs": [],
   "source": [
    "import time\n",
    "from typing import Dict\n",
    "\n",
    "import numpy as np\n",
    "import pandas as pd\n",
    "import matplotlib.pyplot as plt\n",
    "\n",
    "from power_grid_model import (\n",
    "    PowerGridModel,\n",
    "    CalculationType,\n",
    "    CalculationMethod,\n",
    "    ComponentType,\n",
    "    DatasetType,\n",
    "    initialize_array\n",
    ")\n",
    "\n",
    "from power_grid_model.validation import (\n",
    "    assert_valid_input_data,\n",
    "    assert_valid_batch_data\n",
    ")"
   ]
  },
  {
   "attachments": {},
   "cell_type": "markdown",
   "id": "50065790",
   "metadata": {},
   "source": [
    "Let's define a timer class to easily benchmark the calculations:"
   ]
  },
  {
   "cell_type": "code",
   "execution_count": 2,
   "id": "760a38b1",
   "metadata": {},
   "outputs": [],
   "source": [
    "class Timer:\n",
    "    def __init__(self, name: str):\n",
    "        self.name = name\n",
    "        self.start = None\n",
    "\n",
    "    def __enter__(self):\n",
    "        self.start = time.perf_counter()\n",
    "\n",
    "    def __exit__(self, *args):\n",
    "        print(f'Execution time for {self.name} is {(time.perf_counter() - self.start):0.6f} s')"
   ]
  },
  {
   "attachments": {},
   "cell_type": "markdown",
   "id": "0f33163a",
   "metadata": {},
   "source": [
    "The following example measures the time for a simple add operation of two numpy arrays."
   ]
  },
  {
   "cell_type": "code",
   "execution_count": 3,
   "id": "a61540cd",
   "metadata": {},
   "outputs": [
    {
     "name": "stdout",
     "output_type": "stream",
     "text": [
      "Execution time for Add Operation is 0.002006 s\n"
     ]
    }
   ],
   "source": [
    "a = np.random.rand(1000000)\n",
    "b = np.random.rand(1000000)\n",
    "with Timer(\"Add Operation\"):\n",
    "    c = a + b"
   ]
  },
  {
   "attachments": {},
   "cell_type": "markdown",
   "id": "824a3c36",
   "metadata": {},
   "source": [
    "# Assignment 1: Load Input Data\n",
    "\n",
    "The following function loads the CSV data files from folder `../data/` and convert them into one dictionary of numpy structured arrays. The returned dictionary is a compatible input for the constructor of `PowerGridModel`. Please complete the function to construct the input data which is compatible with `PowerGridModel`."
   ]
  },
  {
   "cell_type": "code",
   "execution_count": 4,
   "id": "2baee3cd",
   "metadata": {},
   "outputs": [
    {
     "name": "stdout",
     "output_type": "stream",
     "text": [
      "node     : 2001\n",
      "line     : 2000\n",
      "source   :    1\n",
      "sym_load : 2000\n",
      "Execution time for Loading Input Data is 0.015631 s\n"
     ]
    }
   ],
   "source": [
    "def load_input_data() -> Dict[str, np.ndarray]:\n",
    "    input_data = {}\n",
    "    for component in [ComponentType.node, ComponentType.line, ComponentType.source, ComponentType.sym_load]:\n",
    "        \n",
    "        # Use pandas to read CSV data\n",
    "        df = pd.read_csv(f'../data/{component}.csv')\n",
    "\n",
    "        # Initialize array\n",
    "        input_data[component] = initialize_array(DatasetType.input, component, len(df))\n",
    "\n",
    "        # Fill the attributes\n",
    "        for attr, values in df.items():\n",
    "            input_data[component][attr] = values\n",
    "\n",
    "        # Print some debug info\n",
    "        print(f\"{component:9s}: {len(input_data[component]):4d}\")\n",
    "\n",
    "    return input_data\n",
    "\n",
    "# Load input data\n",
    "with Timer(\"Loading Input Data\"):\n",
    "    input_data = load_input_data()\n"
   ]
  },
  {
   "attachments": {},
   "cell_type": "markdown",
   "id": "728db4b8",
   "metadata": {},
   "source": [
    "# Assignment 2: Validate Input Data\n",
    "\n",
    "It is recommended to validate your data before constructing the `PowerGridModel`. If you are confident about your input data, you can skip this step for performance reasons. The easiest way to validate your input data is using `assert_valid_input_data`, which will raise an exception if there are any errors in your data. Please have a look at the [Validation Examples](https://github.com/PowerGridModel/power-grid-model/blob/main/examples/Validation%20Examples.ipynb) for more detailed information on the validation functions."
   ]
  },
  {
   "cell_type": "code",
   "execution_count": 5,
   "id": "b703c8aa",
   "metadata": {},
   "outputs": [
    {
     "name": "stdout",
     "output_type": "stream",
     "text": [
      "Execution time for Validating Input Data is 0.004683 s\n"
     ]
    }
   ],
   "source": [
    "# Validate input data\n",
    "with Timer(\"Validating Input Data\"):\n",
    "    assert_valid_input_data(input_data=input_data, calculation_type=CalculationType.power_flow)"
   ]
  },
  {
   "attachments": {},
   "cell_type": "markdown",
   "id": "940d48be",
   "metadata": {},
   "source": [
    "# Assignment 3: Construct Model\n",
    "\n",
    "Create an instance of `PowerGridModel` using the input data. Benchmark the construction time."
   ]
  },
  {
   "cell_type": "code",
   "execution_count": 6,
   "id": "71b39571",
   "metadata": {},
   "outputs": [
    {
     "name": "stdout",
     "output_type": "stream",
     "text": [
      "Execution time for Model Construction is 0.000797 s\n",
      "{'node': 2001, 'line': 2000, 'source': 1, 'sym_load': 2000}\n"
     ]
    }
   ],
   "source": [
    "# Construct model\n",
    "with Timer(\"Model Construction\"):\n",
    "    model = PowerGridModel(input_data=input_data)\n",
    "\n",
    "# Print the number of objects\n",
    "print(model.all_component_count)"
   ]
  },
  {
   "attachments": {},
   "cell_type": "markdown",
   "id": "2b013fa7",
   "metadata": {},
   "source": [
    "# Assignment 4: Calculate One-Time Power Flow\n",
    "\n",
    "* Calculate one-time power flow, print the highest and lowest loading of the lines.\n",
    "* Try with Newton-Raphson and linear method, compare the results and speed."
   ]
  },
  {
   "cell_type": "code",
   "execution_count": 7,
   "id": "88034903",
   "metadata": {},
   "outputs": [
    {
     "name": "stdout",
     "output_type": "stream",
     "text": [
      "Execution time for Newton-Raphson Power Flow is 0.003964 s\n",
      "Min line loading: 0.14188449783808707\n",
      "Max line loading: 1.6292378285645808\n"
     ]
    }
   ],
   "source": [
    "# Newton-Raphson Power Flow\n",
    "with Timer(\"Newton-Raphson Power Flow\"):\n",
    "    result = model.calculate_power_flow(calculation_method=CalculationMethod.newton_raphson)\n",
    "    \n",
    "# Print min and max line loading\n",
    "print(\"Min line loading:\", min(result[ComponentType.line][\"loading\"]))\n",
    "print(\"Max line loading:\", max(result[ComponentType.line][\"loading\"]))"
   ]
  },
  {
   "cell_type": "code",
   "execution_count": 8,
   "id": "a8d298d5",
   "metadata": {},
   "outputs": [
    {
     "name": "stdout",
     "output_type": "stream",
     "text": [
      "Execution time for Linear Power Flow is 0.000925 s\n",
      "Min line loading: 0.1395686087394204\n",
      "Max line loading: 1.6156849991055762\n"
     ]
    }
   ],
   "source": [
    "# Linear Power Flow\n",
    "with Timer(\"Linear Power Flow\"):\n",
    "    result = model.calculate_power_flow(calculation_method=CalculationMethod.linear)\n",
    "    \n",
    "# Print min and max line loading\n",
    "print(\"Min line loading:\", min(result[ComponentType.line][\"loading\"]))\n",
    "print(\"Max line loading:\", max(result[ComponentType.line][\"loading\"]))"
   ]
  },
  {
   "attachments": {},
   "cell_type": "markdown",
   "id": "14fcc242",
   "metadata": {},
   "source": [
    "# Assignment 5: Time Series Batch Calculation\n",
    "\n",
    "## Load Profile\n",
    "\n",
    "Below we randomly generate a dataframe of load profile. \n",
    "\n",
    "* The column names are the IDs of `sym_load`\n",
    "* Each row is one scenario\n",
    "* Each entry specifies the active power of the load\n",
    "* The reactive power is zero\n"
   ]
  },
  {
   "cell_type": "code",
   "execution_count": 9,
   "id": "921310a7",
   "metadata": {},
   "outputs": [
    {
     "data": {
      "text/html": [
       "<div>\n",
       "<style scoped>\n",
       "    .dataframe tbody tr th:only-of-type {\n",
       "        vertical-align: middle;\n",
       "    }\n",
       "\n",
       "    .dataframe tbody tr th {\n",
       "        vertical-align: top;\n",
       "    }\n",
       "\n",
       "    .dataframe thead th {\n",
       "        text-align: right;\n",
       "    }\n",
       "</style>\n",
       "<table border=\"1\" class=\"dataframe\">\n",
       "  <thead>\n",
       "    <tr style=\"text-align: right;\">\n",
       "      <th></th>\n",
       "      <th>4002</th>\n",
       "      <th>4003</th>\n",
       "      <th>4004</th>\n",
       "      <th>4005</th>\n",
       "      <th>4006</th>\n",
       "      <th>4007</th>\n",
       "      <th>4008</th>\n",
       "      <th>4009</th>\n",
       "      <th>4010</th>\n",
       "      <th>4011</th>\n",
       "      <th>...</th>\n",
       "      <th>5992</th>\n",
       "      <th>5993</th>\n",
       "      <th>5994</th>\n",
       "      <th>5995</th>\n",
       "      <th>5996</th>\n",
       "      <th>5997</th>\n",
       "      <th>5998</th>\n",
       "      <th>5999</th>\n",
       "      <th>6000</th>\n",
       "      <th>6001</th>\n",
       "    </tr>\n",
       "  </thead>\n",
       "  <tbody>\n",
       "    <tr>\n",
       "      <th>2022-01-01 00:00:00</th>\n",
       "      <td>1.212021e+06</td>\n",
       "      <td>8.519954e+05</td>\n",
       "      <td>7.560917e+05</td>\n",
       "      <td>1.438055e+06</td>\n",
       "      <td>7.396164e+05</td>\n",
       "      <td>6.948326e+05</td>\n",
       "      <td>1.278412e+06</td>\n",
       "      <td>2.304984e+06</td>\n",
       "      <td>9.588319e+05</td>\n",
       "      <td>9.406021e+05</td>\n",
       "      <td>...</td>\n",
       "      <td>2.109739e+05</td>\n",
       "      <td>1.220735e+06</td>\n",
       "      <td>9.715073e+05</td>\n",
       "      <td>1.463336e+06</td>\n",
       "      <td>3.436582e+05</td>\n",
       "      <td>1.764624e+05</td>\n",
       "      <td>5.271467e+05</td>\n",
       "      <td>9.022588e+05</td>\n",
       "      <td>1.055085e+06</td>\n",
       "      <td>1.166126e+06</td>\n",
       "    </tr>\n",
       "    <tr>\n",
       "      <th>2022-01-01 01:00:00</th>\n",
       "      <td>8.693649e+05</td>\n",
       "      <td>9.754355e+05</td>\n",
       "      <td>5.038237e+05</td>\n",
       "      <td>1.204583e+06</td>\n",
       "      <td>8.941464e+05</td>\n",
       "      <td>7.513620e+04</td>\n",
       "      <td>1.137045e+06</td>\n",
       "      <td>1.708324e+06</td>\n",
       "      <td>1.342389e+06</td>\n",
       "      <td>1.959986e+06</td>\n",
       "      <td>...</td>\n",
       "      <td>3.954700e+05</td>\n",
       "      <td>6.418734e+05</td>\n",
       "      <td>1.166324e+06</td>\n",
       "      <td>1.218541e+06</td>\n",
       "      <td>1.256374e+06</td>\n",
       "      <td>1.747930e+06</td>\n",
       "      <td>1.375117e+06</td>\n",
       "      <td>5.358348e+04</td>\n",
       "      <td>1.628927e+06</td>\n",
       "      <td>8.230403e+05</td>\n",
       "    </tr>\n",
       "    <tr>\n",
       "      <th>2022-01-01 02:00:00</th>\n",
       "      <td>7.923984e+05</td>\n",
       "      <td>1.434058e+06</td>\n",
       "      <td>5.024506e+05</td>\n",
       "      <td>1.627207e+06</td>\n",
       "      <td>1.164684e+06</td>\n",
       "      <td>4.291224e+05</td>\n",
       "      <td>6.576416e+05</td>\n",
       "      <td>9.367841e+05</td>\n",
       "      <td>8.624529e+05</td>\n",
       "      <td>7.692469e+05</td>\n",
       "      <td>...</td>\n",
       "      <td>1.044997e+06</td>\n",
       "      <td>8.009140e+05</td>\n",
       "      <td>1.240692e+06</td>\n",
       "      <td>-2.777931e+04</td>\n",
       "      <td>9.717390e+05</td>\n",
       "      <td>1.261385e+06</td>\n",
       "      <td>8.674137e+05</td>\n",
       "      <td>1.158677e+06</td>\n",
       "      <td>1.320565e+06</td>\n",
       "      <td>1.354277e+06</td>\n",
       "    </tr>\n",
       "    <tr>\n",
       "      <th>2022-01-01 03:00:00</th>\n",
       "      <td>1.269392e+06</td>\n",
       "      <td>1.463432e+06</td>\n",
       "      <td>1.018994e+06</td>\n",
       "      <td>1.524115e+06</td>\n",
       "      <td>5.695050e+05</td>\n",
       "      <td>1.577387e+06</td>\n",
       "      <td>1.525168e+05</td>\n",
       "      <td>3.880051e+04</td>\n",
       "      <td>1.383405e+06</td>\n",
       "      <td>5.596274e+05</td>\n",
       "      <td>...</td>\n",
       "      <td>8.182543e+05</td>\n",
       "      <td>1.632945e+06</td>\n",
       "      <td>1.010543e+06</td>\n",
       "      <td>4.009558e+05</td>\n",
       "      <td>1.478580e+06</td>\n",
       "      <td>5.612716e+05</td>\n",
       "      <td>1.245279e+06</td>\n",
       "      <td>1.028181e+06</td>\n",
       "      <td>1.294013e+06</td>\n",
       "      <td>1.162580e+06</td>\n",
       "    </tr>\n",
       "    <tr>\n",
       "      <th>2022-01-01 04:00:00</th>\n",
       "      <td>5.811972e+05</td>\n",
       "      <td>1.614621e+06</td>\n",
       "      <td>9.650531e+05</td>\n",
       "      <td>9.365501e+05</td>\n",
       "      <td>1.209160e+06</td>\n",
       "      <td>3.318855e+05</td>\n",
       "      <td>3.351287e+05</td>\n",
       "      <td>1.444800e+06</td>\n",
       "      <td>-2.583068e+05</td>\n",
       "      <td>1.052083e+06</td>\n",
       "      <td>...</td>\n",
       "      <td>4.259355e+05</td>\n",
       "      <td>2.095648e+06</td>\n",
       "      <td>1.368940e+06</td>\n",
       "      <td>1.935897e+05</td>\n",
       "      <td>1.291826e+06</td>\n",
       "      <td>1.599473e+06</td>\n",
       "      <td>1.193099e+06</td>\n",
       "      <td>1.676480e+06</td>\n",
       "      <td>6.758581e+05</td>\n",
       "      <td>5.690138e+05</td>\n",
       "    </tr>\n",
       "    <tr>\n",
       "      <th>...</th>\n",
       "      <td>...</td>\n",
       "      <td>...</td>\n",
       "      <td>...</td>\n",
       "      <td>...</td>\n",
       "      <td>...</td>\n",
       "      <td>...</td>\n",
       "      <td>...</td>\n",
       "      <td>...</td>\n",
       "      <td>...</td>\n",
       "      <td>...</td>\n",
       "      <td>...</td>\n",
       "      <td>...</td>\n",
       "      <td>...</td>\n",
       "      <td>...</td>\n",
       "      <td>...</td>\n",
       "      <td>...</td>\n",
       "      <td>...</td>\n",
       "      <td>...</td>\n",
       "      <td>...</td>\n",
       "      <td>...</td>\n",
       "      <td>...</td>\n",
       "    </tr>\n",
       "    <tr>\n",
       "      <th>2022-02-11 11:00:00</th>\n",
       "      <td>9.550081e+05</td>\n",
       "      <td>1.050358e+06</td>\n",
       "      <td>1.183558e+06</td>\n",
       "      <td>9.563775e+05</td>\n",
       "      <td>9.167803e+05</td>\n",
       "      <td>7.077838e+05</td>\n",
       "      <td>5.764765e+05</td>\n",
       "      <td>1.628767e+06</td>\n",
       "      <td>1.062615e+06</td>\n",
       "      <td>1.755868e+06</td>\n",
       "      <td>...</td>\n",
       "      <td>1.557175e+06</td>\n",
       "      <td>9.978829e+05</td>\n",
       "      <td>1.428223e+06</td>\n",
       "      <td>9.375576e+05</td>\n",
       "      <td>1.544223e+06</td>\n",
       "      <td>1.230698e+06</td>\n",
       "      <td>6.241062e+05</td>\n",
       "      <td>1.172571e+06</td>\n",
       "      <td>1.420599e+06</td>\n",
       "      <td>9.502391e+04</td>\n",
       "    </tr>\n",
       "    <tr>\n",
       "      <th>2022-02-11 12:00:00</th>\n",
       "      <td>5.272977e+05</td>\n",
       "      <td>8.443402e+05</td>\n",
       "      <td>1.338616e+06</td>\n",
       "      <td>4.481988e+05</td>\n",
       "      <td>1.426800e+06</td>\n",
       "      <td>2.918600e+05</td>\n",
       "      <td>1.875643e+06</td>\n",
       "      <td>1.500691e+06</td>\n",
       "      <td>1.178919e+06</td>\n",
       "      <td>7.893541e+05</td>\n",
       "      <td>...</td>\n",
       "      <td>7.506101e+05</td>\n",
       "      <td>1.146763e+06</td>\n",
       "      <td>8.711101e+05</td>\n",
       "      <td>8.625724e+05</td>\n",
       "      <td>7.775495e+05</td>\n",
       "      <td>7.721788e+05</td>\n",
       "      <td>1.647198e+06</td>\n",
       "      <td>1.898852e+06</td>\n",
       "      <td>7.778365e+05</td>\n",
       "      <td>-7.752296e+03</td>\n",
       "    </tr>\n",
       "    <tr>\n",
       "      <th>2022-02-11 13:00:00</th>\n",
       "      <td>5.938971e+05</td>\n",
       "      <td>1.213851e+06</td>\n",
       "      <td>8.529911e+05</td>\n",
       "      <td>9.887598e+05</td>\n",
       "      <td>1.508931e+06</td>\n",
       "      <td>1.097557e+06</td>\n",
       "      <td>6.580392e+05</td>\n",
       "      <td>1.490143e+06</td>\n",
       "      <td>2.179459e+06</td>\n",
       "      <td>1.281627e+06</td>\n",
       "      <td>...</td>\n",
       "      <td>9.361254e+05</td>\n",
       "      <td>1.127648e+06</td>\n",
       "      <td>1.259310e+06</td>\n",
       "      <td>8.589567e+05</td>\n",
       "      <td>1.479782e+06</td>\n",
       "      <td>8.000593e+05</td>\n",
       "      <td>1.123723e+06</td>\n",
       "      <td>1.760520e+06</td>\n",
       "      <td>4.914607e+05</td>\n",
       "      <td>6.471767e+05</td>\n",
       "    </tr>\n",
       "    <tr>\n",
       "      <th>2022-02-11 14:00:00</th>\n",
       "      <td>-7.901549e+04</td>\n",
       "      <td>9.920080e+05</td>\n",
       "      <td>1.248552e+06</td>\n",
       "      <td>9.973602e+05</td>\n",
       "      <td>3.706510e+05</td>\n",
       "      <td>7.892669e+05</td>\n",
       "      <td>1.235685e+06</td>\n",
       "      <td>5.331243e+05</td>\n",
       "      <td>1.387667e+06</td>\n",
       "      <td>1.211971e+06</td>\n",
       "      <td>...</td>\n",
       "      <td>1.480956e+06</td>\n",
       "      <td>8.259945e+05</td>\n",
       "      <td>9.107577e+05</td>\n",
       "      <td>1.661959e+06</td>\n",
       "      <td>1.338668e+06</td>\n",
       "      <td>4.982817e+05</td>\n",
       "      <td>5.063463e+05</td>\n",
       "      <td>1.539331e+06</td>\n",
       "      <td>8.271139e+05</td>\n",
       "      <td>1.865608e+06</td>\n",
       "    </tr>\n",
       "    <tr>\n",
       "      <th>2022-02-11 15:00:00</th>\n",
       "      <td>6.426911e+05</td>\n",
       "      <td>1.237143e+06</td>\n",
       "      <td>1.089214e+06</td>\n",
       "      <td>1.668091e+06</td>\n",
       "      <td>1.560656e+06</td>\n",
       "      <td>1.719503e+06</td>\n",
       "      <td>1.341792e+06</td>\n",
       "      <td>1.133504e+06</td>\n",
       "      <td>2.014883e+06</td>\n",
       "      <td>1.603223e+06</td>\n",
       "      <td>...</td>\n",
       "      <td>1.713791e+06</td>\n",
       "      <td>7.433124e+05</td>\n",
       "      <td>3.933410e+05</td>\n",
       "      <td>8.715794e+05</td>\n",
       "      <td>1.913798e+06</td>\n",
       "      <td>1.902275e+06</td>\n",
       "      <td>2.006757e+06</td>\n",
       "      <td>1.587522e+06</td>\n",
       "      <td>7.056554e+05</td>\n",
       "      <td>5.005233e+05</td>\n",
       "    </tr>\n",
       "  </tbody>\n",
       "</table>\n",
       "<p>1000 rows × 2000 columns</p>\n",
       "</div>"
      ],
      "text/plain": [
       "                             4002          4003          4004          4005  \\\n",
       "2022-01-01 00:00:00  1.212021e+06  8.519954e+05  7.560917e+05  1.438055e+06   \n",
       "2022-01-01 01:00:00  8.693649e+05  9.754355e+05  5.038237e+05  1.204583e+06   \n",
       "2022-01-01 02:00:00  7.923984e+05  1.434058e+06  5.024506e+05  1.627207e+06   \n",
       "2022-01-01 03:00:00  1.269392e+06  1.463432e+06  1.018994e+06  1.524115e+06   \n",
       "2022-01-01 04:00:00  5.811972e+05  1.614621e+06  9.650531e+05  9.365501e+05   \n",
       "...                           ...           ...           ...           ...   \n",
       "2022-02-11 11:00:00  9.550081e+05  1.050358e+06  1.183558e+06  9.563775e+05   \n",
       "2022-02-11 12:00:00  5.272977e+05  8.443402e+05  1.338616e+06  4.481988e+05   \n",
       "2022-02-11 13:00:00  5.938971e+05  1.213851e+06  8.529911e+05  9.887598e+05   \n",
       "2022-02-11 14:00:00 -7.901549e+04  9.920080e+05  1.248552e+06  9.973602e+05   \n",
       "2022-02-11 15:00:00  6.426911e+05  1.237143e+06  1.089214e+06  1.668091e+06   \n",
       "\n",
       "                             4006          4007          4008          4009  \\\n",
       "2022-01-01 00:00:00  7.396164e+05  6.948326e+05  1.278412e+06  2.304984e+06   \n",
       "2022-01-01 01:00:00  8.941464e+05  7.513620e+04  1.137045e+06  1.708324e+06   \n",
       "2022-01-01 02:00:00  1.164684e+06  4.291224e+05  6.576416e+05  9.367841e+05   \n",
       "2022-01-01 03:00:00  5.695050e+05  1.577387e+06  1.525168e+05  3.880051e+04   \n",
       "2022-01-01 04:00:00  1.209160e+06  3.318855e+05  3.351287e+05  1.444800e+06   \n",
       "...                           ...           ...           ...           ...   \n",
       "2022-02-11 11:00:00  9.167803e+05  7.077838e+05  5.764765e+05  1.628767e+06   \n",
       "2022-02-11 12:00:00  1.426800e+06  2.918600e+05  1.875643e+06  1.500691e+06   \n",
       "2022-02-11 13:00:00  1.508931e+06  1.097557e+06  6.580392e+05  1.490143e+06   \n",
       "2022-02-11 14:00:00  3.706510e+05  7.892669e+05  1.235685e+06  5.331243e+05   \n",
       "2022-02-11 15:00:00  1.560656e+06  1.719503e+06  1.341792e+06  1.133504e+06   \n",
       "\n",
       "                             4010          4011  ...          5992  \\\n",
       "2022-01-01 00:00:00  9.588319e+05  9.406021e+05  ...  2.109739e+05   \n",
       "2022-01-01 01:00:00  1.342389e+06  1.959986e+06  ...  3.954700e+05   \n",
       "2022-01-01 02:00:00  8.624529e+05  7.692469e+05  ...  1.044997e+06   \n",
       "2022-01-01 03:00:00  1.383405e+06  5.596274e+05  ...  8.182543e+05   \n",
       "2022-01-01 04:00:00 -2.583068e+05  1.052083e+06  ...  4.259355e+05   \n",
       "...                           ...           ...  ...           ...   \n",
       "2022-02-11 11:00:00  1.062615e+06  1.755868e+06  ...  1.557175e+06   \n",
       "2022-02-11 12:00:00  1.178919e+06  7.893541e+05  ...  7.506101e+05   \n",
       "2022-02-11 13:00:00  2.179459e+06  1.281627e+06  ...  9.361254e+05   \n",
       "2022-02-11 14:00:00  1.387667e+06  1.211971e+06  ...  1.480956e+06   \n",
       "2022-02-11 15:00:00  2.014883e+06  1.603223e+06  ...  1.713791e+06   \n",
       "\n",
       "                             5993          5994          5995          5996  \\\n",
       "2022-01-01 00:00:00  1.220735e+06  9.715073e+05  1.463336e+06  3.436582e+05   \n",
       "2022-01-01 01:00:00  6.418734e+05  1.166324e+06  1.218541e+06  1.256374e+06   \n",
       "2022-01-01 02:00:00  8.009140e+05  1.240692e+06 -2.777931e+04  9.717390e+05   \n",
       "2022-01-01 03:00:00  1.632945e+06  1.010543e+06  4.009558e+05  1.478580e+06   \n",
       "2022-01-01 04:00:00  2.095648e+06  1.368940e+06  1.935897e+05  1.291826e+06   \n",
       "...                           ...           ...           ...           ...   \n",
       "2022-02-11 11:00:00  9.978829e+05  1.428223e+06  9.375576e+05  1.544223e+06   \n",
       "2022-02-11 12:00:00  1.146763e+06  8.711101e+05  8.625724e+05  7.775495e+05   \n",
       "2022-02-11 13:00:00  1.127648e+06  1.259310e+06  8.589567e+05  1.479782e+06   \n",
       "2022-02-11 14:00:00  8.259945e+05  9.107577e+05  1.661959e+06  1.338668e+06   \n",
       "2022-02-11 15:00:00  7.433124e+05  3.933410e+05  8.715794e+05  1.913798e+06   \n",
       "\n",
       "                             5997          5998          5999          6000  \\\n",
       "2022-01-01 00:00:00  1.764624e+05  5.271467e+05  9.022588e+05  1.055085e+06   \n",
       "2022-01-01 01:00:00  1.747930e+06  1.375117e+06  5.358348e+04  1.628927e+06   \n",
       "2022-01-01 02:00:00  1.261385e+06  8.674137e+05  1.158677e+06  1.320565e+06   \n",
       "2022-01-01 03:00:00  5.612716e+05  1.245279e+06  1.028181e+06  1.294013e+06   \n",
       "2022-01-01 04:00:00  1.599473e+06  1.193099e+06  1.676480e+06  6.758581e+05   \n",
       "...                           ...           ...           ...           ...   \n",
       "2022-02-11 11:00:00  1.230698e+06  6.241062e+05  1.172571e+06  1.420599e+06   \n",
       "2022-02-11 12:00:00  7.721788e+05  1.647198e+06  1.898852e+06  7.778365e+05   \n",
       "2022-02-11 13:00:00  8.000593e+05  1.123723e+06  1.760520e+06  4.914607e+05   \n",
       "2022-02-11 14:00:00  4.982817e+05  5.063463e+05  1.539331e+06  8.271139e+05   \n",
       "2022-02-11 15:00:00  1.902275e+06  2.006757e+06  1.587522e+06  7.056554e+05   \n",
       "\n",
       "                             6001  \n",
       "2022-01-01 00:00:00  1.166126e+06  \n",
       "2022-01-01 01:00:00  8.230403e+05  \n",
       "2022-01-01 02:00:00  1.354277e+06  \n",
       "2022-01-01 03:00:00  1.162580e+06  \n",
       "2022-01-01 04:00:00  5.690138e+05  \n",
       "...                           ...  \n",
       "2022-02-11 11:00:00  9.502391e+04  \n",
       "2022-02-11 12:00:00 -7.752296e+03  \n",
       "2022-02-11 13:00:00  6.471767e+05  \n",
       "2022-02-11 14:00:00  1.865608e+06  \n",
       "2022-02-11 15:00:00  5.005233e+05  \n",
       "\n",
       "[1000 rows x 2000 columns]"
      ]
     },
     "metadata": {},
     "output_type": "display_data"
    }
   ],
   "source": [
    "# Generate random load profile oh hourly data\n",
    "n_scenarios = 1000\n",
    "n_loads = len(input_data[ComponentType.sym_load]) \n",
    "load_id = input_data[ComponentType.sym_load][\"id\"]\n",
    "load_p = input_data[ComponentType.sym_load][\"p_specified\"]\n",
    "profile = np.tile(load_p, (n_scenarios, 1)) + 5e5 * np.random.randn(n_scenarios, n_loads)\n",
    "dti = dti = pd.date_range(\"2022-01-01\", periods=n_scenarios, freq=\"H\")\n",
    "df_load_profile = pd.DataFrame(profile, columns=load_id, index=dti)\n",
    "display(df_load_profile)"
   ]
  },
  {
   "attachments": {},
   "cell_type": "markdown",
   "id": "613233fa",
   "metadata": {},
   "source": [
    "## Run Time Series Calculation\n",
    "\n",
    "We want to run a time-series load flow batch calculation using the dataframe.\n",
    "\n",
    "* Convert the load profile into the compatible batch update dataset.\n",
    "* Run the batch calculation.\n",
    "* Compare the calculation methods `newton_raphson` and `linear`."
   ]
  },
  {
   "cell_type": "code",
   "execution_count": 10,
   "id": "0600bd55",
   "metadata": {},
   "outputs": [],
   "source": [
    "# Initialize an empty load profile\n",
    "load_profile = initialize_array(DatasetType.update, ComponentType.sym_load, df_load_profile.shape)\n",
    "\n",
    "# Set the attributes for the batch calculation (assume q_specified = 0.0)\n",
    "load_profile[\"id\"] = df_load_profile.columns.to_numpy()\n",
    "load_profile[\"p_specified\"] = df_load_profile.to_numpy()\n",
    "load_profile[\"q_specified\"] = 0.0\n",
    "\n",
    "# Construct the update data\n",
    "update_data = {ComponentType.sym_load: load_profile}"
   ]
  },
  {
   "cell_type": "code",
   "execution_count": 11,
   "id": "9f88ba5f",
   "metadata": {},
   "outputs": [
    {
     "name": "stdout",
     "output_type": "stream",
     "text": [
      "Execution time for Validating Batch Data is 1.695239 s\n"
     ]
    }
   ],
   "source": [
    "# Validating batch data can take a long time.\n",
    "# It is recommended to only validate batch data when you run into trouble.\n",
    "with Timer(\"Validating Batch Data\"):\n",
    "    assert_valid_batch_data(input_data=input_data, update_data=update_data, calculation_type=CalculationType.power_flow)"
   ]
  },
  {
   "cell_type": "code",
   "execution_count": 12,
   "id": "e7ee773c",
   "metadata": {},
   "outputs": [
    {
     "name": "stdout",
     "output_type": "stream",
     "text": [
      "Execution time for Batch Calculation using Newton-Raphson is 2.420980 s\n"
     ]
    }
   ],
   "source": [
    "# Run Newton Raphson power flow (this may take a minute...)\n",
    "with Timer(\"Batch Calculation using Newton-Raphson\"):\n",
    "    output_data = model.calculate_power_flow(update_data=update_data, calculation_method=CalculationMethod.newton_raphson)"
   ]
  },
  {
   "cell_type": "code",
   "execution_count": 13,
   "id": "251e2edd",
   "metadata": {},
   "outputs": [
    {
     "name": "stdout",
     "output_type": "stream",
     "text": [
      "Execution time for Batch Calculation using linear calculation is 0.363697 s\n"
     ]
    }
   ],
   "source": [
    "# Run linear power flow\n",
    "with Timer(\"Batch Calculation using linear calculation\"):\n",
    "    output_data_linear = model.calculate_power_flow(update_data=update_data, calculation_method=CalculationMethod.linear)"
   ]
  },
  {
   "attachments": {},
   "cell_type": "markdown",
   "id": "9ee15d9b",
   "metadata": {},
   "source": [
    "## Plotting batch results\n",
    "\n",
    "Lets say we wish to plot the loading of the `line with id 2007` vs time. We can use matplotlib to do so. (Note: The grid and results are randomly generated so dont be alarmed to see loading >100% or other unrealistic result)  "
   ]
  },
  {
   "cell_type": "code",
   "execution_count": 14,
   "id": "93d0888d",
   "metadata": {},
   "outputs": [
    {
     "data": {
      "image/png": "[encoded data removed]",
      "text/plain": [
       "<Figure size 640x480 with 1 Axes>"
      ]
     },
     "metadata": {},
     "output_type": "display_data"
    }
   ],
   "source": [
    "# Plot the loading of line with id 2007 vs time.\n",
    "line_2007_idx = np.where(output_data[ComponentType.line][\"id\"] == 2007)\n",
    "result_loading = output_data[ComponentType.line][\"loading\"][line_2007_idx]\n",
    "plt.plot(result_loading)\n",
    "plt.title('Loading of line with id 2007')\n",
    "plt.xlabel('Time')\n",
    "plt.ylabel('Loading')\n",
    "plt.show()"
   ]
  },
  {
   "attachments": {},
   "cell_type": "markdown",
   "id": "39673a43",
   "metadata": {},
   "source": [
    "## Indexing the results\n",
    "\n",
    "Find the time stamps where loading in `line with id 2007` is greater than `90%`"
   ]
  },
  {
   "cell_type": "code",
   "execution_count": 15,
   "id": "8bef255c",
   "metadata": {
    "scrolled": false
   },
   "outputs": [
    {
     "data": {
      "text/plain": [
       "DatetimeIndex(['2022-01-03 00:00:00', '2022-01-09 02:00:00',\n",
       "               '2022-01-14 04:00:00', '2022-01-18 02:00:00',\n",
       "               '2022-01-23 00:00:00', '2022-01-25 04:00:00',\n",
       "               '2022-02-03 13:00:00', '2022-02-10 13:00:00'],\n",
       "              dtype='datetime64[ns]', freq=None)"
      ]
     },
     "execution_count": 15,
     "metadata": {},
     "output_type": "execute_result"
    }
   ],
   "source": [
    "# Times when loading of line with id 2007 when its greater than 90%\n",
    "ind = np.where(result_loading > 0.9)\n",
    "df_load_profile.index[ind]"
   ]
  },
  {
   "attachments": {},
   "cell_type": "markdown",
   "id": "eb7ab8b5",
   "metadata": {},
   "source": [
    "# Assignment 6: N-1 Scenario Batch Calculation\n",
    "\n",
    "We want to run a N-1 Scenario analysis. For each batch calculation, one `line` is disconnected at from- and to-side."
   ]
  },
  {
   "cell_type": "code",
   "execution_count": 16,
   "id": "28b46e3a",
   "metadata": {},
   "outputs": [],
   "source": [
    "n_lines = len(input_data[ComponentType.line])\n",
    "\n",
    "# Initialize an empty line profile\n",
    "line_profile = initialize_array(DataType.update, ComponentType.line, (n_lines, n_lines))\n",
    "\n",
    "# Set the attributes for the batch calculation\n",
    "line_profile[\"id\"] =  input_data[ComponentType.line][\"id\"]\n",
    "line_profile[\"from_status\"] = 1 - np.eye(n_lines, dtype=np.uint8)\n",
    "line_profile[\"to_status\"] = 1 - np.eye(n_lines, dtype=np.uint8)\n",
    "\n",
    "# Construct the update data\n",
    "update_data = {ComponentType.line: line_profile}"
   ]
  },
  {
   "cell_type": "code",
   "execution_count": 17,
   "id": "5fa9c6ca",
   "metadata": {},
   "outputs": [
    {
     "name": "stdout",
     "output_type": "stream",
     "text": [
      "Execution time for Validating Batch Data is 3.396744 s\n"
     ]
    }
   ],
   "source": [
    "# Validating batch data can take a long time.\n",
    "# It is recommended to only validate batch data when you run into trouble.\n",
    "with Timer(\"Validating Batch Data\"):\n",
    "    assert_valid_batch_data(input_data=input_data, update_data=update_data, calculation_type=CalculationType.power_flow)"
   ]
  },
  {
   "cell_type": "code",
   "execution_count": 18,
   "id": "3337a5cb",
   "metadata": {},
   "outputs": [
    {
     "name": "stdout",
     "output_type": "stream",
     "text": [
      "Execution time for Batch Calculation using Newton-Raphson is 5.572404 s\n"
     ]
    }
   ],
   "source": [
    "# Run Newton Raphson power flow (this may take a minute...)\n",
    "with Timer(\"Batch Calculation using Newton-Raphson\"):\n",
    "    model.calculate_power_flow(update_data=update_data, calculation_method=CalculationMethod.newton_raphson)"
   ]
  },
  {
   "cell_type": "code",
   "execution_count": 19,
   "id": "f7ba9924",
   "metadata": {},
   "outputs": [
    {
     "name": "stdout",
     "output_type": "stream",
     "text": [
      "Execution time for Batch Calculation using linear calculation is 1.636546 s\n"
     ]
    }
   ],
   "source": [
    "# Run linear power flow\n",
    "with Timer(\"Batch Calculation using linear calculation\"):\n",
    "    model.calculate_power_flow(update_data=update_data, calculation_method=CalculationMethod.linear)"
   ]
  },
  {
   "attachments": {},
   "cell_type": "markdown",
   "id": "6af43b69",
   "metadata": {},
   "source": [
    "## Parallel processing\n",
    "The `calculate_power_flow` method has an optional `threading` argument to define the number of threads ran in parallel. Experiment with different threading values and compare the results..."
   ]
  },
  {
   "cell_type": "code",
   "execution_count": 20,
   "id": "9f1a3d88",
   "metadata": {},
   "outputs": [
    {
     "name": "stdout",
     "output_type": "stream",
     "text": [
      "Execution time for Sequential is 5.430197 s\n",
      "Execution time for Single thread is 5.460312 s\n",
      "Execution time for Two threads in parallel is 2.783122 s\n",
      "Execution time for Four threads in parallel is 1.555401 s\n",
      "Execution time for Use number of threads based the machine hardware is 0.648667 s\n"
     ]
    }
   ],
   "source": [
    "# By default, sequential threading is used\n",
    "with Timer(\"Sequential\"):\n",
    "    model.calculate_power_flow(update_data=update_data)\n",
    "\n",
    "# Single thread, this is essentially the same as running a single thread\n",
    "with Timer(\"Single thread\"):\n",
    "    model.calculate_power_flow(update_data=update_data, threading=1)\n",
    "\n",
    "# Two threads should be faster    \n",
    "with Timer(\"Two threads in parallel\"):\n",
    "    model.calculate_power_flow(update_data=update_data, threading=2)\n",
    "\n",
    "# Four threads should be even faster    \n",
    "with Timer(\"Four threads in parallel\"):\n",
    "    model.calculate_power_flow(update_data=update_data, threading=4)\n",
    "\n",
    "# Use number of threads based the machine hardware    \n",
    "with Timer(\"Use number of threads based the machine hardware\"):\n",
    "    model.calculate_power_flow(update_data=update_data, threading=0)"
   ]
  }
 ],
 "metadata": {
  "kernelspec": {
   "display_name": "Python 3 (ipykernel)",
   "language": "python",
   "name": "python3"
  },
  "language_info": {
   "codemirror_mode": {
    "name": "ipython",
    "version": 3
   },
   "file_extension": ".py",
   "mimetype": "text/x-python",
   "name": "python",
   "nbconvert_exporter": "python",
   "pygments_lexer": "ipython3",
   "version": "3.11.2"
  },
  "vscode": {
   "interpreter": {
    "hash": "f2534ebf7a1a13ecc51c3a04ce741b49cf1feb97b5ca55170ed7b2036b4058c0"
   }
  }
 },
 "nbformat": 4,
 "nbformat_minor": 5
}
