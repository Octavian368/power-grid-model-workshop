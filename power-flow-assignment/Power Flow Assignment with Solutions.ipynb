{
 "cells": [
  {
   "cell_type": "markdown",
   "id": "a727ce38",
   "metadata": {},
   "source": [
    "# Introduction\n",
    "\n",
    "In this assignment you will be given a series of tasks about using the library `power-grid-model`. The tasks include:\n",
    "\n",
    "1. [Load input](#Assignment-1:-Load-Input-Data)\n",
    "2. [Validate Input Data](#Assignment-2:-Validate-Input-Data)\n",
    "3. [Construct Model](#Assignment-3:-Construct-Model)\n",
    "4. [Calculate One Time Power Flow](#Assignment-4:-Calculate-One-Time-Power-Flow)\n",
    "5. [Time Series Batch Calculation](#Assignment-5:-Time-Series-Batch-Calculation)\n",
    "6. [N 1 Scenario-Batch-Calculation](#Assignment-6:-N-1-Scenario-Batch-Calculation)\n",
    "\n",
    "The input data are CSV files in the `data/` folder:\n",
    "* `node.csv`\n",
    "* `line.csv`\n",
    "* `source.csv`\n",
    "* `sym_load.csv`\n"
   ]
  },
  {
   "cell_type": "markdown",
   "id": "b18d109c",
   "metadata": {},
   "source": [
    "# Preparation\n",
    "\n",
    "First import everything we need for this workshop:"
   ]
  },
  {
   "cell_type": "code",
   "execution_count": 6,
   "id": "fbc50a6d",
   "metadata": {},
   "outputs": [],
   "source": [
    "import time\n",
    "from typing import Dict\n",
    "\n",
    "import numpy as np\n",
    "import pandas as pd\n",
    "import matplotlib.pyplot as plt\n",
    "\n",
    "from power_grid_model import (\n",
    "    PowerGridModel,\n",
    "    CalculationType,\n",
    "    CalculationMethod,\n",
    "    initialize_array\n",
    ")\n",
    "\n",
    "from power_grid_model.validation import (\n",
    "    assert_valid_input_data,\n",
    "    assert_valid_batch_data\n",
    ")"
   ]
  },
  {
   "cell_type": "markdown",
   "id": "50065790",
   "metadata": {},
   "source": [
    "Let's define a timer class to easily benchmark the calculations:"
   ]
  },
  {
   "cell_type": "code",
   "execution_count": 7,
   "id": "760a38b1",
   "metadata": {},
   "outputs": [],
   "source": [
    "class Timer:\n",
    "    def __init__(self, name: str):\n",
    "        self.name = name\n",
    "        self.start = None\n",
    "\n",
    "    def __enter__(self):\n",
    "        self.start = time.perf_counter()\n",
    "\n",
    "    def __exit__(self, *args):\n",
    "        print(f'Execution time for {self.name} is {(time.perf_counter() - self.start):0.6f} s')"
   ]
  },
  {
   "cell_type": "markdown",
   "id": "0f33163a",
   "metadata": {},
   "source": [
    "The following example measures the time for a simple add operation of two numpy arrays."
   ]
  },
  {
   "cell_type": "code",
   "execution_count": 8,
   "id": "a61540cd",
   "metadata": {},
   "outputs": [
    {
     "name": "stdout",
     "output_type": "stream",
     "text": [
      "Execution time for Add Operation is 0.001901 s\n"
     ]
    }
   ],
   "source": [
    "a = np.random.rand(1000000)\n",
    "b = np.random.rand(1000000)\n",
    "with Timer(\"Add Operation\"):\n",
    "    c = a + b"
   ]
  },
  {
   "attachments": {},
   "cell_type": "markdown",
   "id": "824a3c36",
   "metadata": {},
   "source": [
    "# Assignment 1: Load Input Data\n",
    "\n",
    "The following function loads the CSV data files from folder `../data/` and convert them into one dictionary of numpy structured arrays. The returned dictionary is a compatible input for the constructor of `PowerGridModel`. Please complete the function to construct the input data which is compatible with `PowerGridModel`."
   ]
  },
  {
   "cell_type": "code",
   "execution_count": 9,
   "id": "2baee3cd",
   "metadata": {},
   "outputs": [
    {
     "name": "stdout",
     "output_type": "stream",
     "text": [
      "node     : 2001\n",
      "line     : 2000\n",
      "source   :    1\n",
      "sym_load : 2000\n",
      "Execution time for Loading Input Data is 0.012917 s\n"
     ]
    }
   ],
   "source": [
    "def load_input_data() -> Dict[str, np.ndarray]:\n",
    "    input_data = {}\n",
    "    for component in ['node', 'line', 'source', 'sym_load']:\n",
    "        \n",
    "        # Use pandas to read CSV data\n",
    "        df = pd.read_csv(f'../data/{component}.csv')\n",
    "\n",
    "        # Initialize array\n",
    "        input_data[component] = initialize_array('input', component, len(df))\n",
    "\n",
    "        # Fill the attributes\n",
    "        for attr, values in df.items():\n",
    "            input_data[component][attr] = values\n",
    "\n",
    "        # Print some debug info\n",
    "        print(f\"{component:9s}: {len(input_data[component]):4d}\")\n",
    "\n",
    "    return input_data\n",
    "\n",
    "# Load input data\n",
    "with Timer(\"Loading Input Data\"):\n",
    "    input_data = load_input_data()\n"
   ]
  },
  {
   "cell_type": "markdown",
   "id": "728db4b8",
   "metadata": {},
   "source": [
    "# Assignment 2: Validate Input Data\n",
    "\n",
    "It is recommended to validate your data before constructing the `PowerGridModel`. If you are confident about your input data, you can skip this step for performance reasons. The easiest way to validate your input data is using `assert_valid_input_data`, which will raise an exception if there are any errors in your data. Please have a look at the [Validation Examples](https://github.com/alliander-opensource/power-grid-model/blob/main/examples/Validation%20Examples.ipynb) for more detailed information on the validation functions."
   ]
  },
  {
   "cell_type": "code",
   "execution_count": 16,
   "id": "b703c8aa",
   "metadata": {},
   "outputs": [
    {
     "name": "stdout",
     "output_type": "stream",
     "text": [
      "Execution time for Validating Input Data is 0.077347 s\n"
     ]
    },
    {
     "ename": "ValidationException",
     "evalue": "There is a validation error in input_data:\n\tField 'type' contains invalid LoadGenType values for 2000 sym_loads.",
     "output_type": "error",
     "traceback": [
      "\u001b[0;31m---------------------------------------------------------------------------\u001b[0m",
      "\u001b[0;31mValidationException\u001b[0m                       Traceback (most recent call last)",
      "Cell \u001b[0;32mIn[16], line 3\u001b[0m\n\u001b[1;32m      1\u001b[0m \u001b[39m# Validate input data\u001b[39;00m\n\u001b[1;32m      2\u001b[0m \u001b[39mwith\u001b[39;00m Timer(\u001b[39m\"\u001b[39m\u001b[39mValidating Input Data\u001b[39m\u001b[39m\"\u001b[39m):\n\u001b[0;32m----> 3\u001b[0m     assert_valid_input_data(input_data\u001b[39m=\u001b[39;49minput_data, calculation_type\u001b[39m=\u001b[39;49mCalculationType\u001b[39m.\u001b[39;49mpower_flow)\n",
      "File \u001b[0;32m~/repos/power-grid-model-workshop/.venv/lib/python3.11/site-packages/power_grid_model/validation/assertions.py:57\u001b[0m, in \u001b[0;36massert_valid_input_data\u001b[0;34m(input_data, calculation_type, symmetric)\u001b[0m\n\u001b[1;32m     53\u001b[0m validation_errors \u001b[39m=\u001b[39m validate_input_data(\n\u001b[1;32m     54\u001b[0m     input_data\u001b[39m=\u001b[39minput_data, calculation_type\u001b[39m=\u001b[39mcalculation_type, symmetric\u001b[39m=\u001b[39msymmetric\n\u001b[1;32m     55\u001b[0m )\n\u001b[1;32m     56\u001b[0m \u001b[39mif\u001b[39;00m validation_errors:\n\u001b[0;32m---> 57\u001b[0m     \u001b[39mraise\u001b[39;00m ValidationException(validation_errors, \u001b[39m\"\u001b[39m\u001b[39minput_data\u001b[39m\u001b[39m\"\u001b[39m)\n",
      "\u001b[0;31mValidationException\u001b[0m: There is a validation error in input_data:\n\tField 'type' contains invalid LoadGenType values for 2000 sym_loads."
     ]
    }
   ],
   "source": [
    "# Validate input data\n",
    "with Timer(\"Validating Input Data\"):\n",
    "    assert_valid_input_data(input_data=input_data, calculation_type=CalculationType.power_flow)"
   ]
  },
  {
   "cell_type": "markdown",
   "id": "940d48be",
   "metadata": {},
   "source": [
    "# Assignment 3: Construct Model\n",
    "\n",
    "Create an instance of `PowerGridModel` using the input data. Benchmark the construction time."
   ]
  },
  {
   "cell_type": "code",
   "execution_count": 11,
   "id": "71b39571",
   "metadata": {},
   "outputs": [
    {
     "name": "stdout",
     "output_type": "stream",
     "text": [
      "Execution time for Model Construction is 0.000957 s\n",
      "{'line': 2000, 'node': 2001, 'source': 1, 'sym_load': 2000}\n"
     ]
    }
   ],
   "source": [
    "# Construct model\n",
    "with Timer(\"Model Construction\"):\n",
    "    model = PowerGridModel(input_data=input_data)\n",
    "\n",
    "# Print the number of objects\n",
    "print(model.all_component_count)"
   ]
  },
  {
   "cell_type": "markdown",
   "id": "2b013fa7",
   "metadata": {},
   "source": [
    "# Assignment 4: Calculate One-Time Power Flow\n",
    "\n",
    "* Calculate one-time power flow, print the highest and lowest loading of the lines.\n",
    "* Try with Newton-Raphson and linear method, compare the results and speed."
   ]
  },
  {
   "cell_type": "code",
   "execution_count": 12,
   "id": "88034903",
   "metadata": {},
   "outputs": [
    {
     "name": "stdout",
     "output_type": "stream",
     "text": [
      "Execution time for Newton-Raphson Power Flow is 0.001744 s\n",
      "Min line loading: 0.14188449783808707\n",
      "Max line loading: 1.6292378285645808\n"
     ]
    }
   ],
   "source": [
    "# Newton-Raphson Power Flow\n",
    "with Timer(\"Newton-Raphson Power Flow\"):\n",
    "    result = model.calculate_power_flow(calculation_method=CalculationMethod.newton_raphson)\n",
    "    \n",
    "# Print min and max line loading\n",
    "print(\"Min line loading:\", min(result[\"line\"][\"loading\"]))\n",
    "print(\"Max line loading:\", max(result[\"line\"][\"loading\"]))"
   ]
  },
  {
   "cell_type": "code",
   "execution_count": 13,
   "id": "a8d298d5",
   "metadata": {},
   "outputs": [
    {
     "name": "stdout",
     "output_type": "stream",
     "text": [
      "Execution time for Linear Power Flow is 0.003713 s\n",
      "Min line loading: 0.1395686087394204\n",
      "Max line loading: 1.6156849991055762\n"
     ]
    }
   ],
   "source": [
    "# Linear Power Flow\n",
    "with Timer(\"Linear Power Flow\"):\n",
    "    result = model.calculate_power_flow(calculation_method=CalculationMethod.linear)\n",
    "    \n",
    "# Print min and max line loading\n",
    "print(\"Min line loading:\", min(result[\"line\"][\"loading\"]))\n",
    "print(\"Max line loading:\", max(result[\"line\"][\"loading\"]))"
   ]
  },
  {
   "cell_type": "markdown",
   "id": "14fcc242",
   "metadata": {},
   "source": [
    "# Assignment 5: Time Series Batch Calculation\n",
    "\n",
    "## Load Profile\n",
    "\n",
    "Below we randomly generate a dataframe of load profile. \n",
    "\n",
    "* The column names are the IDs of `sym_load`\n",
    "* Each row is one scenario\n",
    "* Each entry specifies the active power of the load\n",
    "* The reactive power is zero\n"
   ]
  },
  {
   "cell_type": "code",
   "execution_count": null,
   "id": "921310a7",
   "metadata": {},
   "outputs": [
    {
     "data": {
      "text/html": [
       "<div>\n",
       "<style scoped>\n",
       "    .dataframe tbody tr th:only-of-type {\n",
       "        vertical-align: middle;\n",
       "    }\n",
       "\n",
       "    .dataframe tbody tr th {\n",
       "        vertical-align: top;\n",
       "    }\n",
       "\n",
       "    .dataframe thead th {\n",
       "        text-align: right;\n",
       "    }\n",
       "</style>\n",
       "<table border=\"1\" class=\"dataframe\">\n",
       "  <thead>\n",
       "    <tr style=\"text-align: right;\">\n",
       "      <th></th>\n",
       "      <th>4002</th>\n",
       "      <th>4003</th>\n",
       "      <th>4004</th>\n",
       "      <th>4005</th>\n",
       "      <th>4006</th>\n",
       "      <th>4007</th>\n",
       "      <th>4008</th>\n",
       "      <th>4009</th>\n",
       "      <th>4010</th>\n",
       "      <th>4011</th>\n",
       "      <th>...</th>\n",
       "      <th>5992</th>\n",
       "      <th>5993</th>\n",
       "      <th>5994</th>\n",
       "      <th>5995</th>\n",
       "      <th>5996</th>\n",
       "      <th>5997</th>\n",
       "      <th>5998</th>\n",
       "      <th>5999</th>\n",
       "      <th>6000</th>\n",
       "      <th>6001</th>\n",
       "    </tr>\n",
       "  </thead>\n",
       "  <tbody>\n",
       "    <tr>\n",
       "      <th>2022-01-01 00:00:00</th>\n",
       "      <td>9.846573e+05</td>\n",
       "      <td>1.036605e+06</td>\n",
       "      <td>926319.273681</td>\n",
       "      <td>981037.237437</td>\n",
       "      <td>1.081915e+06</td>\n",
       "      <td>891679.022654</td>\n",
       "      <td>933634.513455</td>\n",
       "      <td>1.050234e+06</td>\n",
       "      <td>1.029867e+06</td>\n",
       "      <td>9.941968e+05</td>\n",
       "      <td>...</td>\n",
       "      <td>1.012391e+06</td>\n",
       "      <td>1.061862e+06</td>\n",
       "      <td>1.046040e+06</td>\n",
       "      <td>934512.470263</td>\n",
       "      <td>926662.380752</td>\n",
       "      <td>1.005303e+06</td>\n",
       "      <td>937803.739343</td>\n",
       "      <td>1.094178e+06</td>\n",
       "      <td>928165.556148</td>\n",
       "      <td>1.080244e+06</td>\n",
       "    </tr>\n",
       "    <tr>\n",
       "      <th>2022-01-01 01:00:00</th>\n",
       "      <td>1.003852e+06</td>\n",
       "      <td>1.046497e+06</td>\n",
       "      <td>911004.394025</td>\n",
       "      <td>976072.883535</td>\n",
       "      <td>1.080340e+06</td>\n",
       "      <td>903242.946004</td>\n",
       "      <td>929745.960818</td>\n",
       "      <td>1.054085e+06</td>\n",
       "      <td>1.030168e+06</td>\n",
       "      <td>1.012888e+06</td>\n",
       "      <td>...</td>\n",
       "      <td>1.011006e+06</td>\n",
       "      <td>1.082059e+06</td>\n",
       "      <td>1.080289e+06</td>\n",
       "      <td>932421.538137</td>\n",
       "      <td>891420.002876</td>\n",
       "      <td>9.912526e+05</td>\n",
       "      <td>940781.673787</td>\n",
       "      <td>1.086227e+06</td>\n",
       "      <td>918875.300938</td>\n",
       "      <td>1.069453e+06</td>\n",
       "    </tr>\n",
       "    <tr>\n",
       "      <th>2022-01-01 02:00:00</th>\n",
       "      <td>9.889423e+05</td>\n",
       "      <td>1.029289e+06</td>\n",
       "      <td>913662.826062</td>\n",
       "      <td>979814.258051</td>\n",
       "      <td>1.064715e+06</td>\n",
       "      <td>906797.668620</td>\n",
       "      <td>912858.322443</td>\n",
       "      <td>1.064064e+06</td>\n",
       "      <td>1.021966e+06</td>\n",
       "      <td>1.011320e+06</td>\n",
       "      <td>...</td>\n",
       "      <td>9.892356e+05</td>\n",
       "      <td>1.075767e+06</td>\n",
       "      <td>1.064086e+06</td>\n",
       "      <td>924338.157273</td>\n",
       "      <td>931906.589500</td>\n",
       "      <td>9.918518e+05</td>\n",
       "      <td>930337.197820</td>\n",
       "      <td>1.086183e+06</td>\n",
       "      <td>926790.672433</td>\n",
       "      <td>1.073818e+06</td>\n",
       "    </tr>\n",
       "    <tr>\n",
       "      <th>2022-01-01 03:00:00</th>\n",
       "      <td>9.985392e+05</td>\n",
       "      <td>1.064795e+06</td>\n",
       "      <td>931862.018042</td>\n",
       "      <td>959657.545291</td>\n",
       "      <td>1.061387e+06</td>\n",
       "      <td>891311.584876</td>\n",
       "      <td>938308.232916</td>\n",
       "      <td>1.048784e+06</td>\n",
       "      <td>1.018019e+06</td>\n",
       "      <td>1.005237e+06</td>\n",
       "      <td>...</td>\n",
       "      <td>9.949064e+05</td>\n",
       "      <td>1.078005e+06</td>\n",
       "      <td>1.053301e+06</td>\n",
       "      <td>935440.262119</td>\n",
       "      <td>901429.205034</td>\n",
       "      <td>9.975361e+05</td>\n",
       "      <td>941952.962860</td>\n",
       "      <td>1.095023e+06</td>\n",
       "      <td>927261.207776</td>\n",
       "      <td>1.085163e+06</td>\n",
       "    </tr>\n",
       "    <tr>\n",
       "      <th>2022-01-01 04:00:00</th>\n",
       "      <td>9.829544e+05</td>\n",
       "      <td>1.050185e+06</td>\n",
       "      <td>902681.193087</td>\n",
       "      <td>950611.702717</td>\n",
       "      <td>1.092845e+06</td>\n",
       "      <td>905544.644966</td>\n",
       "      <td>935318.344857</td>\n",
       "      <td>1.053763e+06</td>\n",
       "      <td>1.018240e+06</td>\n",
       "      <td>1.022415e+06</td>\n",
       "      <td>...</td>\n",
       "      <td>1.009909e+06</td>\n",
       "      <td>1.072374e+06</td>\n",
       "      <td>1.051744e+06</td>\n",
       "      <td>932667.237875</td>\n",
       "      <td>912104.263275</td>\n",
       "      <td>9.846007e+05</td>\n",
       "      <td>952979.949104</td>\n",
       "      <td>1.077156e+06</td>\n",
       "      <td>916339.911943</td>\n",
       "      <td>1.090441e+06</td>\n",
       "    </tr>\n",
       "    <tr>\n",
       "      <th>...</th>\n",
       "      <td>...</td>\n",
       "      <td>...</td>\n",
       "      <td>...</td>\n",
       "      <td>...</td>\n",
       "      <td>...</td>\n",
       "      <td>...</td>\n",
       "      <td>...</td>\n",
       "      <td>...</td>\n",
       "      <td>...</td>\n",
       "      <td>...</td>\n",
       "      <td>...</td>\n",
       "      <td>...</td>\n",
       "      <td>...</td>\n",
       "      <td>...</td>\n",
       "      <td>...</td>\n",
       "      <td>...</td>\n",
       "      <td>...</td>\n",
       "      <td>...</td>\n",
       "      <td>...</td>\n",
       "      <td>...</td>\n",
       "      <td>...</td>\n",
       "    </tr>\n",
       "    <tr>\n",
       "      <th>2022-02-11 11:00:00</th>\n",
       "      <td>9.783088e+05</td>\n",
       "      <td>1.038971e+06</td>\n",
       "      <td>910230.104394</td>\n",
       "      <td>962323.621183</td>\n",
       "      <td>1.077958e+06</td>\n",
       "      <td>893538.331231</td>\n",
       "      <td>914885.741977</td>\n",
       "      <td>1.061741e+06</td>\n",
       "      <td>1.024646e+06</td>\n",
       "      <td>1.004903e+06</td>\n",
       "      <td>...</td>\n",
       "      <td>9.780563e+05</td>\n",
       "      <td>1.061903e+06</td>\n",
       "      <td>1.047855e+06</td>\n",
       "      <td>922818.633512</td>\n",
       "      <td>921704.522710</td>\n",
       "      <td>9.937841e+05</td>\n",
       "      <td>961652.090497</td>\n",
       "      <td>1.076507e+06</td>\n",
       "      <td>922319.161840</td>\n",
       "      <td>1.087462e+06</td>\n",
       "    </tr>\n",
       "    <tr>\n",
       "      <th>2022-02-11 12:00:00</th>\n",
       "      <td>9.946695e+05</td>\n",
       "      <td>1.023456e+06</td>\n",
       "      <td>917268.230516</td>\n",
       "      <td>973139.448835</td>\n",
       "      <td>1.060700e+06</td>\n",
       "      <td>911829.094471</td>\n",
       "      <td>927143.099646</td>\n",
       "      <td>1.058329e+06</td>\n",
       "      <td>1.015586e+06</td>\n",
       "      <td>1.022188e+06</td>\n",
       "      <td>...</td>\n",
       "      <td>1.002707e+06</td>\n",
       "      <td>1.088517e+06</td>\n",
       "      <td>1.061988e+06</td>\n",
       "      <td>919548.459336</td>\n",
       "      <td>897806.068555</td>\n",
       "      <td>9.616835e+05</td>\n",
       "      <td>931345.905476</td>\n",
       "      <td>1.097180e+06</td>\n",
       "      <td>939144.713827</td>\n",
       "      <td>1.103556e+06</td>\n",
       "    </tr>\n",
       "    <tr>\n",
       "      <th>2022-02-11 13:00:00</th>\n",
       "      <td>9.858844e+05</td>\n",
       "      <td>1.023175e+06</td>\n",
       "      <td>914621.559463</td>\n",
       "      <td>957316.136099</td>\n",
       "      <td>1.087083e+06</td>\n",
       "      <td>908461.133282</td>\n",
       "      <td>924108.663685</td>\n",
       "      <td>1.044666e+06</td>\n",
       "      <td>1.022974e+06</td>\n",
       "      <td>1.015319e+06</td>\n",
       "      <td>...</td>\n",
       "      <td>1.002170e+06</td>\n",
       "      <td>1.074151e+06</td>\n",
       "      <td>1.056402e+06</td>\n",
       "      <td>914651.751236</td>\n",
       "      <td>907127.959625</td>\n",
       "      <td>9.848536e+05</td>\n",
       "      <td>931512.802749</td>\n",
       "      <td>1.088983e+06</td>\n",
       "      <td>924357.512909</td>\n",
       "      <td>1.101208e+06</td>\n",
       "    </tr>\n",
       "    <tr>\n",
       "      <th>2022-02-11 14:00:00</th>\n",
       "      <td>1.009425e+06</td>\n",
       "      <td>1.038739e+06</td>\n",
       "      <td>904001.005941</td>\n",
       "      <td>977794.820184</td>\n",
       "      <td>1.088567e+06</td>\n",
       "      <td>892677.593246</td>\n",
       "      <td>936648.878609</td>\n",
       "      <td>1.053450e+06</td>\n",
       "      <td>1.033599e+06</td>\n",
       "      <td>1.032438e+06</td>\n",
       "      <td>...</td>\n",
       "      <td>9.988844e+05</td>\n",
       "      <td>1.071108e+06</td>\n",
       "      <td>1.042708e+06</td>\n",
       "      <td>926959.669400</td>\n",
       "      <td>895689.147956</td>\n",
       "      <td>9.878928e+05</td>\n",
       "      <td>935607.041158</td>\n",
       "      <td>1.082467e+06</td>\n",
       "      <td>917125.232565</td>\n",
       "      <td>1.073960e+06</td>\n",
       "    </tr>\n",
       "    <tr>\n",
       "      <th>2022-02-11 15:00:00</th>\n",
       "      <td>9.977066e+05</td>\n",
       "      <td>1.040613e+06</td>\n",
       "      <td>909354.369339</td>\n",
       "      <td>963466.046954</td>\n",
       "      <td>1.072738e+06</td>\n",
       "      <td>886740.898039</td>\n",
       "      <td>922902.059240</td>\n",
       "      <td>1.038062e+06</td>\n",
       "      <td>1.022178e+06</td>\n",
       "      <td>1.021304e+06</td>\n",
       "      <td>...</td>\n",
       "      <td>1.013178e+06</td>\n",
       "      <td>1.055541e+06</td>\n",
       "      <td>1.039019e+06</td>\n",
       "      <td>911828.087839</td>\n",
       "      <td>914456.742357</td>\n",
       "      <td>9.924712e+05</td>\n",
       "      <td>944256.142758</td>\n",
       "      <td>1.101594e+06</td>\n",
       "      <td>924410.283448</td>\n",
       "      <td>1.093889e+06</td>\n",
       "    </tr>\n",
       "  </tbody>\n",
       "</table>\n",
       "<p>1000 rows × 2000 columns</p>\n",
       "</div>"
      ],
      "text/plain": [
       "                             4002          4003           4004           4005  \\\n",
       "2022-01-01 00:00:00  9.846573e+05  1.036605e+06  926319.273681  981037.237437   \n",
       "2022-01-01 01:00:00  1.003852e+06  1.046497e+06  911004.394025  976072.883535   \n",
       "2022-01-01 02:00:00  9.889423e+05  1.029289e+06  913662.826062  979814.258051   \n",
       "2022-01-01 03:00:00  9.985392e+05  1.064795e+06  931862.018042  959657.545291   \n",
       "2022-01-01 04:00:00  9.829544e+05  1.050185e+06  902681.193087  950611.702717   \n",
       "...                           ...           ...            ...            ...   \n",
       "2022-02-11 11:00:00  9.783088e+05  1.038971e+06  910230.104394  962323.621183   \n",
       "2022-02-11 12:00:00  9.946695e+05  1.023456e+06  917268.230516  973139.448835   \n",
       "2022-02-11 13:00:00  9.858844e+05  1.023175e+06  914621.559463  957316.136099   \n",
       "2022-02-11 14:00:00  1.009425e+06  1.038739e+06  904001.005941  977794.820184   \n",
       "2022-02-11 15:00:00  9.977066e+05  1.040613e+06  909354.369339  963466.046954   \n",
       "\n",
       "                             4006           4007           4008          4009  \\\n",
       "2022-01-01 00:00:00  1.081915e+06  891679.022654  933634.513455  1.050234e+06   \n",
       "2022-01-01 01:00:00  1.080340e+06  903242.946004  929745.960818  1.054085e+06   \n",
       "2022-01-01 02:00:00  1.064715e+06  906797.668620  912858.322443  1.064064e+06   \n",
       "2022-01-01 03:00:00  1.061387e+06  891311.584876  938308.232916  1.048784e+06   \n",
       "2022-01-01 04:00:00  1.092845e+06  905544.644966  935318.344857  1.053763e+06   \n",
       "...                           ...            ...            ...           ...   \n",
       "2022-02-11 11:00:00  1.077958e+06  893538.331231  914885.741977  1.061741e+06   \n",
       "2022-02-11 12:00:00  1.060700e+06  911829.094471  927143.099646  1.058329e+06   \n",
       "2022-02-11 13:00:00  1.087083e+06  908461.133282  924108.663685  1.044666e+06   \n",
       "2022-02-11 14:00:00  1.088567e+06  892677.593246  936648.878609  1.053450e+06   \n",
       "2022-02-11 15:00:00  1.072738e+06  886740.898039  922902.059240  1.038062e+06   \n",
       "\n",
       "                             4010          4011  ...          5992  \\\n",
       "2022-01-01 00:00:00  1.029867e+06  9.941968e+05  ...  1.012391e+06   \n",
       "2022-01-01 01:00:00  1.030168e+06  1.012888e+06  ...  1.011006e+06   \n",
       "2022-01-01 02:00:00  1.021966e+06  1.011320e+06  ...  9.892356e+05   \n",
       "2022-01-01 03:00:00  1.018019e+06  1.005237e+06  ...  9.949064e+05   \n",
       "2022-01-01 04:00:00  1.018240e+06  1.022415e+06  ...  1.009909e+06   \n",
       "...                           ...           ...  ...           ...   \n",
       "2022-02-11 11:00:00  1.024646e+06  1.004903e+06  ...  9.780563e+05   \n",
       "2022-02-11 12:00:00  1.015586e+06  1.022188e+06  ...  1.002707e+06   \n",
       "2022-02-11 13:00:00  1.022974e+06  1.015319e+06  ...  1.002170e+06   \n",
       "2022-02-11 14:00:00  1.033599e+06  1.032438e+06  ...  9.988844e+05   \n",
       "2022-02-11 15:00:00  1.022178e+06  1.021304e+06  ...  1.013178e+06   \n",
       "\n",
       "                             5993          5994           5995           5996  \\\n",
       "2022-01-01 00:00:00  1.061862e+06  1.046040e+06  934512.470263  926662.380752   \n",
       "2022-01-01 01:00:00  1.082059e+06  1.080289e+06  932421.538137  891420.002876   \n",
       "2022-01-01 02:00:00  1.075767e+06  1.064086e+06  924338.157273  931906.589500   \n",
       "2022-01-01 03:00:00  1.078005e+06  1.053301e+06  935440.262119  901429.205034   \n",
       "2022-01-01 04:00:00  1.072374e+06  1.051744e+06  932667.237875  912104.263275   \n",
       "...                           ...           ...            ...            ...   \n",
       "2022-02-11 11:00:00  1.061903e+06  1.047855e+06  922818.633512  921704.522710   \n",
       "2022-02-11 12:00:00  1.088517e+06  1.061988e+06  919548.459336  897806.068555   \n",
       "2022-02-11 13:00:00  1.074151e+06  1.056402e+06  914651.751236  907127.959625   \n",
       "2022-02-11 14:00:00  1.071108e+06  1.042708e+06  926959.669400  895689.147956   \n",
       "2022-02-11 15:00:00  1.055541e+06  1.039019e+06  911828.087839  914456.742357   \n",
       "\n",
       "                             5997           5998          5999           6000  \\\n",
       "2022-01-01 00:00:00  1.005303e+06  937803.739343  1.094178e+06  928165.556148   \n",
       "2022-01-01 01:00:00  9.912526e+05  940781.673787  1.086227e+06  918875.300938   \n",
       "2022-01-01 02:00:00  9.918518e+05  930337.197820  1.086183e+06  926790.672433   \n",
       "2022-01-01 03:00:00  9.975361e+05  941952.962860  1.095023e+06  927261.207776   \n",
       "2022-01-01 04:00:00  9.846007e+05  952979.949104  1.077156e+06  916339.911943   \n",
       "...                           ...            ...           ...            ...   \n",
       "2022-02-11 11:00:00  9.937841e+05  961652.090497  1.076507e+06  922319.161840   \n",
       "2022-02-11 12:00:00  9.616835e+05  931345.905476  1.097180e+06  939144.713827   \n",
       "2022-02-11 13:00:00  9.848536e+05  931512.802749  1.088983e+06  924357.512909   \n",
       "2022-02-11 14:00:00  9.878928e+05  935607.041158  1.082467e+06  917125.232565   \n",
       "2022-02-11 15:00:00  9.924712e+05  944256.142758  1.101594e+06  924410.283448   \n",
       "\n",
       "                             6001  \n",
       "2022-01-01 00:00:00  1.080244e+06  \n",
       "2022-01-01 01:00:00  1.069453e+06  \n",
       "2022-01-01 02:00:00  1.073818e+06  \n",
       "2022-01-01 03:00:00  1.085163e+06  \n",
       "2022-01-01 04:00:00  1.090441e+06  \n",
       "...                           ...  \n",
       "2022-02-11 11:00:00  1.087462e+06  \n",
       "2022-02-11 12:00:00  1.103556e+06  \n",
       "2022-02-11 13:00:00  1.101208e+06  \n",
       "2022-02-11 14:00:00  1.073960e+06  \n",
       "2022-02-11 15:00:00  1.093889e+06  \n",
       "\n",
       "[1000 rows x 2000 columns]"
      ]
     },
     "metadata": {},
     "output_type": "display_data"
    }
   ],
   "source": [
    "# Generate random load profile oh hourly data\n",
    "n_scenarios = 1000\n",
    "n_loads = len(input_data[\"sym_load\"]) \n",
    "load_id = input_data[\"sym_load\"][\"id\"]\n",
    "load_p = input_data[\"sym_load\"][\"p_specified\"]\n",
    "profile = np.tile(load_p, (n_scenarios, 1)) + 1e4 * np.random.randn(n_scenarios, n_loads)\n",
    "dti = dti = pd.date_range(\"2022-01-01\", periods=n_scenarios, freq=\"H\")\n",
    "df_load_profile = pd.DataFrame(profile, columns=load_id, index=dti)\n",
    "display(df_load_profile)"
   ]
  },
  {
   "cell_type": "markdown",
   "id": "613233fa",
   "metadata": {},
   "source": [
    "## Run Time Series Calculation\n",
    "\n",
    "We want to run a time-series load flow batch calculation using the dataframe.\n",
    "\n",
    "* Convert the load profile into the compatible batch update dataset.\n",
    "* Run the batch calculation.\n",
    "* Compare the calculation methods `newton_raphson` and `linear`."
   ]
  },
  {
   "cell_type": "code",
   "execution_count": null,
   "id": "0600bd55",
   "metadata": {},
   "outputs": [],
   "source": [
    "# Initialize an empty load profile\n",
    "load_profile = initialize_array(\"update\", \"sym_load\", df_load_profile.shape)\n",
    "\n",
    "# Set the attributes for the batch calculation (assume q_specified = 0.0)\n",
    "load_profile[\"id\"] = df_load_profile.columns.to_numpy()\n",
    "load_profile[\"p_specified\"] = df_load_profile.to_numpy()\n",
    "load_profile[\"q_specified\"] = 0.0\n",
    "\n",
    "# Construct the update data\n",
    "update_data = {\"sym_load\": load_profile}"
   ]
  },
  {
   "cell_type": "code",
   "execution_count": null,
   "id": "9f88ba5f",
   "metadata": {},
   "outputs": [
    {
     "name": "stdout",
     "output_type": "stream",
     "text": [
      "Execution time for Validating Batch Data is 4.943465 s\n"
     ]
    }
   ],
   "source": [
    "# Validating batch data can take a long time.\n",
    "# It is recommended to only validate batch data when you run into trouble.\n",
    "with Timer(\"Validating Batch Data\"):\n",
    "    assert_valid_batch_data(input_data=input_data, update_data=update_data, calculation_type=CalculationType.power_flow)"
   ]
  },
  {
   "cell_type": "code",
   "execution_count": null,
   "id": "e7ee773c",
   "metadata": {},
   "outputs": [
    {
     "name": "stdout",
     "output_type": "stream",
     "text": [
      "Execution time for Batch Calculation using Newton-Raphson is 4.874295 s\n"
     ]
    }
   ],
   "source": [
    "# Run Newton Raphson power flow (this may take a minute...)\n",
    "with Timer(\"Batch Calculation using Newton-Raphson\"):\n",
    "    output_data = model.calculate_power_flow(update_data=update_data, calculation_method=CalculationMethod.newton_raphson)"
   ]
  },
  {
   "cell_type": "code",
   "execution_count": null,
   "id": "251e2edd",
   "metadata": {},
   "outputs": [
    {
     "name": "stdout",
     "output_type": "stream",
     "text": [
      "Execution time for Batch Calculation using linear calculation is 0.725211 s\n"
     ]
    }
   ],
   "source": [
    "# Run linear power flow\n",
    "with Timer(\"Batch Calculation using linear calculation\"):\n",
    "    output_data_linear = model.calculate_power_flow(update_data=update_data, calculation_method=CalculationMethod.linear)"
   ]
  },
  {
   "cell_type": "markdown",
   "id": "9ee15d9b",
   "metadata": {},
   "source": [
    "## Plotting batch results\n",
    "\n",
    "Lets say we wish to plot the loading of the `line 7` vs time. We can use matplotlib to do so. (Note: The grid and results are randomly generated so dont be alarmed to see loading >100% or other unrealistic result)  "
   ]
  },
  {
   "cell_type": "code",
   "execution_count": null,
   "id": "93d0888d",
   "metadata": {},
   "outputs": [
    {
     "data": {
      "image/png": "[encoded data removed]",
      "text/plain": [
       "<Figure size 640x480 with 1 Axes>"
      ]
     },
     "metadata": {},
     "output_type": "display_data"
    }
   ],
   "source": [
    "result_loading = output_data[\"line\"][\"loading\"][:,6]\n",
    "plt.plot(result_loading)\n",
    "plt.title('Loading of line no. 7')\n",
    "plt.xlabel('Time')\n",
    "plt.ylabel('Loading')\n",
    "plt.show()"
   ]
  },
  {
   "cell_type": "markdown",
   "id": "39673a43",
   "metadata": {},
   "source": [
    "## Indexing the results\n",
    "\n",
    "Find the time stamps where loading in `line 7` is greater than `68.4%`"
   ]
  },
  {
   "cell_type": "code",
   "execution_count": null,
   "id": "8bef255c",
   "metadata": {
    "scrolled": false
   },
   "outputs": [
    {
     "data": {
      "text/plain": [
       "DatetimeIndex(['2022-01-10 07:00:00', '2022-01-28 05:00:00',\n",
       "               '2022-02-02 06:00:00', '2022-02-02 12:00:00',\n",
       "               '2022-02-06 06:00:00'],\n",
       "              dtype='datetime64[ns]', freq=None)"
      ]
     },
     "execution_count": 15,
     "metadata": {},
     "output_type": "execute_result"
    }
   ],
   "source": [
    "ind = np.where(result_loading > 0.684)\n",
    "df_load_profile.index[ind]"
   ]
  },
  {
   "cell_type": "markdown",
   "id": "eb7ab8b5",
   "metadata": {},
   "source": [
    "# Assignment 6: N-1 Scenario Batch Calculation\n",
    "\n",
    "We want to run a N-1 Scenario analysis. For each batch calculation, one `line` is disconnected at from- and to-side."
   ]
  },
  {
   "cell_type": "code",
   "execution_count": null,
   "id": "28b46e3a",
   "metadata": {},
   "outputs": [],
   "source": [
    "n_lines = len(input_data[\"line\"])\n",
    "\n",
    "# Initialize an empty line profile\n",
    "line_profile = initialize_array(\"update\", \"line\", (n_lines, n_lines))\n",
    "\n",
    "# Set the attributes for the batch calculation\n",
    "line_profile[\"id\"] =  input_data[\"line\"][\"id\"]\n",
    "line_profile[\"from_status\"] = 1 - np.eye(n_lines, dtype=np.uint8)\n",
    "line_profile[\"to_status\"] = 1 - np.eye(n_lines, dtype=np.uint8)\n",
    "\n",
    "# Construct the update data\n",
    "update_data = {\"line\": line_profile}"
   ]
  },
  {
   "cell_type": "code",
   "execution_count": null,
   "id": "5fa9c6ca",
   "metadata": {},
   "outputs": [
    {
     "name": "stdout",
     "output_type": "stream",
     "text": [
      "Execution time for Validating Batch Data is 7.174446 s\n"
     ]
    }
   ],
   "source": [
    "# Validating batch data can take a long time.\n",
    "# It is recommended to only validate batch data when you run into trouble.\n",
    "with Timer(\"Validating Batch Data\"):\n",
    "    assert_valid_batch_data(input_data=input_data, update_data=update_data, calculation_type=CalculationType.power_flow)"
   ]
  },
  {
   "cell_type": "code",
   "execution_count": null,
   "id": "3337a5cb",
   "metadata": {},
   "outputs": [
    {
     "name": "stdout",
     "output_type": "stream",
     "text": [
      "Execution time for Batch Calculation using Newton-Raphson is 10.875645 s\n"
     ]
    }
   ],
   "source": [
    "# Run Newton Raphson power flow (this may take a minute...)\n",
    "with Timer(\"Batch Calculation using Newton-Raphson\"):\n",
    "    model.calculate_power_flow(update_data=update_data, calculation_method=CalculationMethod.newton_raphson)"
   ]
  },
  {
   "cell_type": "code",
   "execution_count": null,
   "id": "f7ba9924",
   "metadata": {},
   "outputs": [
    {
     "name": "stdout",
     "output_type": "stream",
     "text": [
      "Execution time for Batch Calculation using linear calculation is 2.877830 s\n"
     ]
    }
   ],
   "source": [
    "# Run linear power flow\n",
    "with Timer(\"Batch Calculation using linear calculation\"):\n",
    "    model.calculate_power_flow(update_data=update_data, calculation_method=CalculationMethod.linear)"
   ]
  },
  {
   "cell_type": "markdown",
   "id": "6af43b69",
   "metadata": {},
   "source": [
    "## Parallel processing\n",
    "The `calculate_power_flow` method has an optional `threading` argument to define the number of threads ran in parallel. Experiment with different threading values and compare the results..."
   ]
  },
  {
   "cell_type": "code",
   "execution_count": null,
   "id": "9f1a3d88",
   "metadata": {},
   "outputs": [
    {
     "name": "stdout",
     "output_type": "stream",
     "text": [
      "Execution time for Sequential is 10.054219 s\n",
      "Execution time for Single thread is 10.974926 s\n",
      "Execution time for Two threads in parallel is 4.952455 s\n",
      "Execution time for Four threads in parallel is 3.028397 s\n",
      "Execution time for Use number of threads based the machine hardware is 2.060880 s\n"
     ]
    }
   ],
   "source": [
    "# By default, sequential threading is used\n",
    "with Timer(\"Sequential\"):\n",
    "    model.calculate_power_flow(update_data=update_data)\n",
    "\n",
    "# Single thread, this is essentially the same as running a single thread\n",
    "with Timer(\"Single thread\"):\n",
    "    model.calculate_power_flow(update_data=update_data, threading=1)\n",
    "\n",
    "# Two threads should be faster    \n",
    "with Timer(\"Two threads in parallel\"):\n",
    "    model.calculate_power_flow(update_data=update_data, threading=2)\n",
    "\n",
    "# Four threads should be even faster    \n",
    "with Timer(\"Four threads in parallel\"):\n",
    "    model.calculate_power_flow(update_data=update_data, threading=4)\n",
    "\n",
    "# Use number of threads based the machine hardware    \n",
    "with Timer(\"Use number of threads based the machine hardware\"):\n",
    "    model.calculate_power_flow(update_data=update_data, threading=0)"
   ]
  }
 ],
 "metadata": {
  "kernelspec": {
   "display_name": ".venv",
   "language": "python",
   "name": "python3"
  },
  "language_info": {
   "codemirror_mode": {
    "name": "ipython",
    "version": 3
   },
   "file_extension": ".py",
   "mimetype": "text/x-python",
   "name": "python",
   "nbconvert_exporter": "python",
   "pygments_lexer": "ipython3",
   "version": "3.11.1"
  },
  "vscode": {
   "interpreter": {
    "hash": "f2534ebf7a1a13ecc51c3a04ce741b49cf1feb97b5ca55170ed7b2036b4058c0"
   }
  }
 },
 "nbformat": 4,
 "nbformat_minor": 5
}
