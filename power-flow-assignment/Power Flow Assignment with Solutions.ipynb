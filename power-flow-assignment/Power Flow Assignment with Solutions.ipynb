{
 "cells": [
  {
   "cell_type": "markdown",
   "id": "a727ce38",
   "metadata": {},
   "source": [
    "# Introduction\n",
    "\n",
    "In this assignment you will be given a series of tasks about using the library `power-grid-model`. The tasks include:\n",
    "\n",
    "1. [Load input](#Assignment-1:-Load-Input-Data)\n",
    "2. [Validate Input Data](#Assignment-2:-Validate-Input-Data)\n",
    "3. [Construct Model](#Assignment-3:-Construct-Model)\n",
    "4. [Calculate One Time Power Flow](#Assignment-4:-Calculate-One-Time-Power-Flow)\n",
    "5. [Time Series Batch Calculation](#Assignment-5:-Time-Series-Batch-Calculation)\n",
    "6. [N 1 Scenario-Batch-Calculation](#Assignment-6:-N-1-Scenario-Batch-Calculation)\n",
    "\n",
    "The input data are CSV files in the `data/` folder:\n",
    "* `node.csv`\n",
    "* `line.csv`\n",
    "* `source.csv`\n",
    "* `sym_load.csv`\n"
   ]
  },
  {
   "cell_type": "markdown",
   "id": "b18d109c",
   "metadata": {},
   "source": [
    "# Preparation\n",
    "\n",
    "First import everything we need for this workshop:"
   ]
  },
  {
   "cell_type": "code",
   "execution_count": 1,
   "id": "fbc50a6d",
   "metadata": {},
   "outputs": [],
   "source": [
    "import time\n",
    "from typing import Dict\n",
    "\n",
    "import numpy as np\n",
    "import pandas as pd\n",
    "import matplotlib.pyplot as plt\n",
    "\n",
    "from power_grid_model import (\n",
    "    PowerGridModel,\n",
    "    CalculationType,\n",
    "    CalculationMethod,\n",
    "    initialize_array\n",
    ")\n",
    "\n",
    "from power_grid_model.validation import (\n",
    "    assert_valid_input_data,\n",
    "    assert_valid_batch_data\n",
    ")"
   ]
  },
  {
   "cell_type": "markdown",
   "id": "50065790",
   "metadata": {},
   "source": [
    "Let's define a timer class to easily benchmark the calculations:"
   ]
  },
  {
   "cell_type": "code",
   "execution_count": 2,
   "id": "760a38b1",
   "metadata": {},
   "outputs": [],
   "source": [
    "class Timer:\n",
    "    def __init__(self, name: str):\n",
    "        self.name = name\n",
    "        self.start = None\n",
    "\n",
    "    def __enter__(self):\n",
    "        self.start = time.perf_counter()\n",
    "\n",
    "    def __exit__(self, *args):\n",
    "        print(f'Execution time for {self.name} is {(time.perf_counter() - self.start):0.6f} s')"
   ]
  },
  {
   "cell_type": "markdown",
   "id": "0f33163a",
   "metadata": {},
   "source": [
    "The following example measures the time for a simple add operation of two numpy arrays."
   ]
  },
  {
   "cell_type": "code",
   "execution_count": 3,
   "id": "a61540cd",
   "metadata": {},
   "outputs": [
    {
     "name": "stdout",
     "output_type": "stream",
     "text": [
      "Execution time for Add Operation is 0.003724 s\n"
     ]
    }
   ],
   "source": [
    "a = np.random.rand(1000000)\n",
    "b = np.random.rand(1000000)\n",
    "with Timer(\"Add Operation\"):\n",
    "    c = a + b"
   ]
  },
  {
   "cell_type": "markdown",
   "id": "824a3c36",
   "metadata": {},
   "source": [
    "# Assignment 1: Load Input Data\n",
    "\n",
    "The following function loads the CSV data files from folder `../data/` and convert them into one dictionary of numpy structured arrays. The returned dictionary is a compatible input for the constructor of `PowerGridModel`. Please complete the function to construct the input data which is compatible with `PowerGridModel`."
   ]
  },
  {
   "cell_type": "code",
   "execution_count": 4,
   "id": "2baee3cd",
   "metadata": {},
   "outputs": [
    {
     "name": "stdout",
     "output_type": "stream",
     "text": [
      "node     : 2001\n",
      "line     : 2000\n",
      "source   :    1\n",
      "sym_load : 2000\n",
      "Execution time for Loading Input Data is 0.033475 s\n"
     ]
    }
   ],
   "source": [
    "def load_input_data() -> Dict[str, np.ndarray]:\n",
    "    input_data = {}\n",
    "    for component in ['node', 'line', 'source', 'sym_load']:\n",
    "        \n",
    "        # Use pandas to read CSV data\n",
    "        df = pd.read_csv(f'../data/{component}.csv')\n",
    "\n",
    "        # Initialize array\n",
    "        input_data[component] = initialize_array('input', component, len(df))\n",
    "\n",
    "        # Fill the attributes\n",
    "        for attr, values in df.items():\n",
    "            input_data[component][attr] = values\n",
    "\n",
    "        # Print some debug info\n",
    "        print(f\"{component:9s}: {len(input_data[component]):4d}\")\n",
    "\n",
    "    return input_data\n",
    "\n",
    "# Load input data\n",
    "with Timer(\"Loading Input Data\"):\n",
    "    input_data = load_input_data()\n"
   ]
  },
  {
   "cell_type": "markdown",
   "id": "728db4b8",
   "metadata": {},
   "source": [
    "# Assignment 2: Validate Input Data\n",
    "\n",
    "It is recommended to validate your data before constructing the `PowerGridModel`. If you are confident about your input data, you can skip this step for performance reasons. The easiest way to validate your input data is using `assert_valid_input_data`, which will raise an exception if there are any errors in your data. Please have a look at the [Validation Examples](https://github.com/PowerGridModel/power-grid-model/blob/main/examples/Validation%20Examples.ipynb) for more detailed information on the validation functions."
   ]
  },
  {
   "cell_type": "code",
   "execution_count": 5,
   "id": "b703c8aa",
   "metadata": {},
   "outputs": [
    {
     "name": "stdout",
     "output_type": "stream",
     "text": [
      "Execution time for Validating Input Data is 0.012179 s\n"
     ]
    }
   ],
   "source": [
    "# Validate input data\n",
    "with Timer(\"Validating Input Data\"):\n",
    "    assert_valid_input_data(input_data=input_data, calculation_type=CalculationType.power_flow)"
   ]
  },
  {
   "cell_type": "markdown",
   "id": "940d48be",
   "metadata": {},
   "source": [
    "# Assignment 3: Construct Model\n",
    "\n",
    "Create an instance of `PowerGridModel` using the input data. Benchmark the construction time."
   ]
  },
  {
   "cell_type": "code",
   "execution_count": 6,
   "id": "71b39571",
   "metadata": {},
   "outputs": [
    {
     "name": "stdout",
     "output_type": "stream",
     "text": [
      "Execution time for Model Construction is 0.002615 s\n",
      "{'node': 2001, 'line': 2000, 'source': 1, 'sym_load': 2000}\n"
     ]
    }
   ],
   "source": [
    "# Construct model\n",
    "with Timer(\"Model Construction\"):\n",
    "    model = PowerGridModel(input_data=input_data)\n",
    "\n",
    "# Print the number of objects\n",
    "print(model.all_component_count)"
   ]
  },
  {
   "cell_type": "markdown",
   "id": "2b013fa7",
   "metadata": {},
   "source": [
    "# Assignment 4: Calculate One-Time Power Flow\n",
    "\n",
    "* Calculate one-time power flow, print the highest and lowest loading of the lines.\n",
    "* Try with Newton-Raphson and linear method, compare the results and speed."
   ]
  },
  {
   "cell_type": "code",
   "execution_count": 7,
   "id": "88034903",
   "metadata": {},
   "outputs": [
    {
     "name": "stdout",
     "output_type": "stream",
     "text": [
      "Execution time for Newton-Raphson Power Flow is 0.009529 s\n",
      "Min line loading: 0.14188449783808707\n",
      "Max line loading: 1.6292378285645808\n"
     ]
    }
   ],
   "source": [
    "# Newton-Raphson Power Flow\n",
    "with Timer(\"Newton-Raphson Power Flow\"):\n",
    "    result = model.calculate_power_flow(calculation_method=CalculationMethod.newton_raphson)\n",
    "    \n",
    "# Print min and max line loading\n",
    "print(\"Min line loading:\", min(result[\"line\"][\"loading\"]))\n",
    "print(\"Max line loading:\", max(result[\"line\"][\"loading\"]))"
   ]
  },
  {
   "cell_type": "code",
   "execution_count": 8,
   "id": "a8d298d5",
   "metadata": {},
   "outputs": [
    {
     "name": "stdout",
     "output_type": "stream",
     "text": [
      "Execution time for Linear Power Flow is 0.001946 s\n",
      "Min line loading: 0.1395686087394204\n",
      "Max line loading: 1.6156849991055762\n"
     ]
    }
   ],
   "source": [
    "# Linear Power Flow\n",
    "with Timer(\"Linear Power Flow\"):\n",
    "    result = model.calculate_power_flow(calculation_method=CalculationMethod.linear)\n",
    "    \n",
    "# Print min and max line loading\n",
    "print(\"Min line loading:\", min(result[\"line\"][\"loading\"]))\n",
    "print(\"Max line loading:\", max(result[\"line\"][\"loading\"]))"
   ]
  },
  {
   "cell_type": "markdown",
   "id": "14fcc242",
   "metadata": {},
   "source": [
    "# Assignment 5: Time Series Batch Calculation\n",
    "\n",
    "## Load Profile\n",
    "\n",
    "Below we randomly generate a dataframe of load profile. \n",
    "\n",
    "* The column names are the IDs of `sym_load`\n",
    "* Each row is one scenario\n",
    "* Each entry specifies the active power of the load\n",
    "* The reactive power is zero\n"
   ]
  },
  {
   "cell_type": "code",
   "execution_count": 9,
   "id": "921310a7",
   "metadata": {},
   "outputs": [
    {
     "data": {
      "text/html": [
       "<div>\n",
       "<style scoped>\n",
       "    .dataframe tbody tr th:only-of-type {\n",
       "        vertical-align: middle;\n",
       "    }\n",
       "\n",
       "    .dataframe tbody tr th {\n",
       "        vertical-align: top;\n",
       "    }\n",
       "\n",
       "    .dataframe thead th {\n",
       "        text-align: right;\n",
       "    }\n",
       "</style>\n",
       "<table border=\"1\" class=\"dataframe\">\n",
       "  <thead>\n",
       "    <tr style=\"text-align: right;\">\n",
       "      <th></th>\n",
       "      <th>4002</th>\n",
       "      <th>4003</th>\n",
       "      <th>4004</th>\n",
       "      <th>4005</th>\n",
       "      <th>4006</th>\n",
       "      <th>4007</th>\n",
       "      <th>4008</th>\n",
       "      <th>4009</th>\n",
       "      <th>4010</th>\n",
       "      <th>4011</th>\n",
       "      <th>...</th>\n",
       "      <th>5992</th>\n",
       "      <th>5993</th>\n",
       "      <th>5994</th>\n",
       "      <th>5995</th>\n",
       "      <th>5996</th>\n",
       "      <th>5997</th>\n",
       "      <th>5998</th>\n",
       "      <th>5999</th>\n",
       "      <th>6000</th>\n",
       "      <th>6001</th>\n",
       "    </tr>\n",
       "  </thead>\n",
       "  <tbody>\n",
       "    <tr>\n",
       "      <th>2022-01-01 00:00:00</th>\n",
       "      <td>1.871934e+06</td>\n",
       "      <td>9.352613e+05</td>\n",
       "      <td>-1.167626e+05</td>\n",
       "      <td>5.998923e+05</td>\n",
       "      <td>1.065031e+06</td>\n",
       "      <td>4.497260e+05</td>\n",
       "      <td>9.920418e+05</td>\n",
       "      <td>8.308742e+05</td>\n",
       "      <td>1.152943e+06</td>\n",
       "      <td>8.229594e+05</td>\n",
       "      <td>...</td>\n",
       "      <td>6.117344e+05</td>\n",
       "      <td>-2.529112e+05</td>\n",
       "      <td>1.063784e+06</td>\n",
       "      <td>4.284070e+05</td>\n",
       "      <td>5.490693e+05</td>\n",
       "      <td>5.370501e+05</td>\n",
       "      <td>8.274230e+05</td>\n",
       "      <td>1.130097e+06</td>\n",
       "      <td>1.373719e+06</td>\n",
       "      <td>1.116509e+06</td>\n",
       "    </tr>\n",
       "    <tr>\n",
       "      <th>2022-01-01 01:00:00</th>\n",
       "      <td>1.330999e+06</td>\n",
       "      <td>1.356645e+06</td>\n",
       "      <td>1.477415e+06</td>\n",
       "      <td>1.242601e+06</td>\n",
       "      <td>5.866263e+05</td>\n",
       "      <td>1.070140e+06</td>\n",
       "      <td>7.714883e+05</td>\n",
       "      <td>5.457255e+05</td>\n",
       "      <td>4.788019e+05</td>\n",
       "      <td>1.134413e+06</td>\n",
       "      <td>...</td>\n",
       "      <td>1.562971e+06</td>\n",
       "      <td>1.221140e+06</td>\n",
       "      <td>9.910054e+05</td>\n",
       "      <td>8.936804e+05</td>\n",
       "      <td>4.895948e+05</td>\n",
       "      <td>1.449262e+06</td>\n",
       "      <td>1.750965e+06</td>\n",
       "      <td>1.146591e+06</td>\n",
       "      <td>7.357512e+05</td>\n",
       "      <td>-1.685421e+05</td>\n",
       "    </tr>\n",
       "    <tr>\n",
       "      <th>2022-01-01 02:00:00</th>\n",
       "      <td>2.180541e+06</td>\n",
       "      <td>1.003279e+05</td>\n",
       "      <td>5.317796e+05</td>\n",
       "      <td>1.636006e+06</td>\n",
       "      <td>1.211717e+06</td>\n",
       "      <td>3.246597e+05</td>\n",
       "      <td>1.533924e+06</td>\n",
       "      <td>3.379317e+05</td>\n",
       "      <td>1.803837e+06</td>\n",
       "      <td>1.450386e+06</td>\n",
       "      <td>...</td>\n",
       "      <td>6.669883e+05</td>\n",
       "      <td>9.977949e+05</td>\n",
       "      <td>8.211248e+05</td>\n",
       "      <td>1.945327e+06</td>\n",
       "      <td>5.229190e+05</td>\n",
       "      <td>1.713174e+06</td>\n",
       "      <td>5.891263e+05</td>\n",
       "      <td>1.336163e+06</td>\n",
       "      <td>1.386067e+06</td>\n",
       "      <td>1.825034e+06</td>\n",
       "    </tr>\n",
       "    <tr>\n",
       "      <th>2022-01-01 03:00:00</th>\n",
       "      <td>7.772481e+05</td>\n",
       "      <td>1.027152e+06</td>\n",
       "      <td>1.686454e+06</td>\n",
       "      <td>1.428421e+06</td>\n",
       "      <td>1.458251e+06</td>\n",
       "      <td>1.475390e+06</td>\n",
       "      <td>1.364165e+06</td>\n",
       "      <td>1.031679e+06</td>\n",
       "      <td>5.991442e+05</td>\n",
       "      <td>6.727269e+05</td>\n",
       "      <td>...</td>\n",
       "      <td>1.874577e+05</td>\n",
       "      <td>7.618824e+05</td>\n",
       "      <td>1.454976e+04</td>\n",
       "      <td>-2.344523e+05</td>\n",
       "      <td>1.488979e+06</td>\n",
       "      <td>5.393295e+05</td>\n",
       "      <td>6.548157e+05</td>\n",
       "      <td>9.955641e+05</td>\n",
       "      <td>6.977425e+05</td>\n",
       "      <td>1.190441e+06</td>\n",
       "    </tr>\n",
       "    <tr>\n",
       "      <th>2022-01-01 04:00:00</th>\n",
       "      <td>1.164241e+06</td>\n",
       "      <td>1.007811e+06</td>\n",
       "      <td>1.170508e+06</td>\n",
       "      <td>1.338116e+06</td>\n",
       "      <td>1.609576e+06</td>\n",
       "      <td>1.901717e+06</td>\n",
       "      <td>1.375841e+06</td>\n",
       "      <td>1.535865e+06</td>\n",
       "      <td>5.606019e+05</td>\n",
       "      <td>1.422297e+06</td>\n",
       "      <td>...</td>\n",
       "      <td>1.435526e+06</td>\n",
       "      <td>8.787869e+05</td>\n",
       "      <td>1.499181e+06</td>\n",
       "      <td>1.332768e+06</td>\n",
       "      <td>1.639675e+06</td>\n",
       "      <td>1.490445e+06</td>\n",
       "      <td>1.368779e+06</td>\n",
       "      <td>1.603982e+06</td>\n",
       "      <td>6.259067e+05</td>\n",
       "      <td>1.824762e+06</td>\n",
       "    </tr>\n",
       "    <tr>\n",
       "      <th>...</th>\n",
       "      <td>...</td>\n",
       "      <td>...</td>\n",
       "      <td>...</td>\n",
       "      <td>...</td>\n",
       "      <td>...</td>\n",
       "      <td>...</td>\n",
       "      <td>...</td>\n",
       "      <td>...</td>\n",
       "      <td>...</td>\n",
       "      <td>...</td>\n",
       "      <td>...</td>\n",
       "      <td>...</td>\n",
       "      <td>...</td>\n",
       "      <td>...</td>\n",
       "      <td>...</td>\n",
       "      <td>...</td>\n",
       "      <td>...</td>\n",
       "      <td>...</td>\n",
       "      <td>...</td>\n",
       "      <td>...</td>\n",
       "      <td>...</td>\n",
       "    </tr>\n",
       "    <tr>\n",
       "      <th>2022-02-11 11:00:00</th>\n",
       "      <td>1.041328e+06</td>\n",
       "      <td>1.746483e+06</td>\n",
       "      <td>8.716253e+05</td>\n",
       "      <td>1.146983e+06</td>\n",
       "      <td>8.663412e+05</td>\n",
       "      <td>1.741890e+06</td>\n",
       "      <td>1.223312e+06</td>\n",
       "      <td>9.591612e+05</td>\n",
       "      <td>1.432587e+06</td>\n",
       "      <td>1.393972e+06</td>\n",
       "      <td>...</td>\n",
       "      <td>9.115488e+05</td>\n",
       "      <td>2.241817e+06</td>\n",
       "      <td>4.358421e+05</td>\n",
       "      <td>8.918943e+05</td>\n",
       "      <td>9.840831e+05</td>\n",
       "      <td>1.522533e+05</td>\n",
       "      <td>9.760767e+05</td>\n",
       "      <td>1.867359e+06</td>\n",
       "      <td>1.643300e+06</td>\n",
       "      <td>6.284476e+05</td>\n",
       "    </tr>\n",
       "    <tr>\n",
       "      <th>2022-02-11 12:00:00</th>\n",
       "      <td>-1.805419e+05</td>\n",
       "      <td>2.896421e+05</td>\n",
       "      <td>5.177007e+05</td>\n",
       "      <td>1.068233e+06</td>\n",
       "      <td>1.569231e+06</td>\n",
       "      <td>7.791594e+05</td>\n",
       "      <td>1.672042e+05</td>\n",
       "      <td>1.179532e+06</td>\n",
       "      <td>6.845470e+05</td>\n",
       "      <td>4.541844e+05</td>\n",
       "      <td>...</td>\n",
       "      <td>3.967961e+05</td>\n",
       "      <td>1.246641e+06</td>\n",
       "      <td>1.473821e+06</td>\n",
       "      <td>-6.678127e+04</td>\n",
       "      <td>8.979446e+05</td>\n",
       "      <td>1.191600e+06</td>\n",
       "      <td>1.061573e+06</td>\n",
       "      <td>2.041053e+05</td>\n",
       "      <td>1.386974e+06</td>\n",
       "      <td>5.342547e+04</td>\n",
       "    </tr>\n",
       "    <tr>\n",
       "      <th>2022-02-11 13:00:00</th>\n",
       "      <td>2.106112e+05</td>\n",
       "      <td>1.645521e+06</td>\n",
       "      <td>9.961226e+05</td>\n",
       "      <td>1.248409e+06</td>\n",
       "      <td>4.140613e+05</td>\n",
       "      <td>1.800461e+05</td>\n",
       "      <td>1.082181e+06</td>\n",
       "      <td>3.988373e+05</td>\n",
       "      <td>1.025021e+06</td>\n",
       "      <td>9.789601e+05</td>\n",
       "      <td>...</td>\n",
       "      <td>1.732384e+06</td>\n",
       "      <td>1.212218e+06</td>\n",
       "      <td>9.113315e+05</td>\n",
       "      <td>5.010236e+04</td>\n",
       "      <td>1.515093e+05</td>\n",
       "      <td>3.519701e+05</td>\n",
       "      <td>1.604181e+06</td>\n",
       "      <td>1.648896e+06</td>\n",
       "      <td>1.190030e+06</td>\n",
       "      <td>5.384725e+05</td>\n",
       "    </tr>\n",
       "    <tr>\n",
       "      <th>2022-02-11 14:00:00</th>\n",
       "      <td>1.556293e+06</td>\n",
       "      <td>1.350467e+06</td>\n",
       "      <td>2.049674e+05</td>\n",
       "      <td>1.072055e+06</td>\n",
       "      <td>7.455124e+05</td>\n",
       "      <td>7.839175e+05</td>\n",
       "      <td>1.540817e+06</td>\n",
       "      <td>1.137976e+06</td>\n",
       "      <td>1.923986e+06</td>\n",
       "      <td>9.191742e+05</td>\n",
       "      <td>...</td>\n",
       "      <td>9.043826e+05</td>\n",
       "      <td>7.954216e+05</td>\n",
       "      <td>1.548114e+06</td>\n",
       "      <td>6.968600e+05</td>\n",
       "      <td>1.171888e+06</td>\n",
       "      <td>5.495406e+05</td>\n",
       "      <td>5.832648e+05</td>\n",
       "      <td>1.725389e+05</td>\n",
       "      <td>1.064357e+06</td>\n",
       "      <td>1.005256e+06</td>\n",
       "    </tr>\n",
       "    <tr>\n",
       "      <th>2022-02-11 15:00:00</th>\n",
       "      <td>1.528120e+06</td>\n",
       "      <td>1.044354e+06</td>\n",
       "      <td>1.347924e+06</td>\n",
       "      <td>1.491124e+05</td>\n",
       "      <td>1.496219e+06</td>\n",
       "      <td>8.423327e+05</td>\n",
       "      <td>1.069249e+06</td>\n",
       "      <td>1.788921e+06</td>\n",
       "      <td>1.366143e+06</td>\n",
       "      <td>1.468276e+06</td>\n",
       "      <td>...</td>\n",
       "      <td>9.155320e+05</td>\n",
       "      <td>7.985312e+05</td>\n",
       "      <td>1.659213e+06</td>\n",
       "      <td>1.653308e+06</td>\n",
       "      <td>9.210864e+05</td>\n",
       "      <td>1.209708e+06</td>\n",
       "      <td>1.204756e+06</td>\n",
       "      <td>9.202368e+05</td>\n",
       "      <td>1.095152e+06</td>\n",
       "      <td>3.212956e+05</td>\n",
       "    </tr>\n",
       "  </tbody>\n",
       "</table>\n",
       "<p>1000 rows × 2000 columns</p>\n",
       "</div>"
      ],
      "text/plain": [
       "                             4002          4003          4004          4005  \\\n",
       "2022-01-01 00:00:00  1.871934e+06  9.352613e+05 -1.167626e+05  5.998923e+05   \n",
       "2022-01-01 01:00:00  1.330999e+06  1.356645e+06  1.477415e+06  1.242601e+06   \n",
       "2022-01-01 02:00:00  2.180541e+06  1.003279e+05  5.317796e+05  1.636006e+06   \n",
       "2022-01-01 03:00:00  7.772481e+05  1.027152e+06  1.686454e+06  1.428421e+06   \n",
       "2022-01-01 04:00:00  1.164241e+06  1.007811e+06  1.170508e+06  1.338116e+06   \n",
       "...                           ...           ...           ...           ...   \n",
       "2022-02-11 11:00:00  1.041328e+06  1.746483e+06  8.716253e+05  1.146983e+06   \n",
       "2022-02-11 12:00:00 -1.805419e+05  2.896421e+05  5.177007e+05  1.068233e+06   \n",
       "2022-02-11 13:00:00  2.106112e+05  1.645521e+06  9.961226e+05  1.248409e+06   \n",
       "2022-02-11 14:00:00  1.556293e+06  1.350467e+06  2.049674e+05  1.072055e+06   \n",
       "2022-02-11 15:00:00  1.528120e+06  1.044354e+06  1.347924e+06  1.491124e+05   \n",
       "\n",
       "                             4006          4007          4008          4009  \\\n",
       "2022-01-01 00:00:00  1.065031e+06  4.497260e+05  9.920418e+05  8.308742e+05   \n",
       "2022-01-01 01:00:00  5.866263e+05  1.070140e+06  7.714883e+05  5.457255e+05   \n",
       "2022-01-01 02:00:00  1.211717e+06  3.246597e+05  1.533924e+06  3.379317e+05   \n",
       "2022-01-01 03:00:00  1.458251e+06  1.475390e+06  1.364165e+06  1.031679e+06   \n",
       "2022-01-01 04:00:00  1.609576e+06  1.901717e+06  1.375841e+06  1.535865e+06   \n",
       "...                           ...           ...           ...           ...   \n",
       "2022-02-11 11:00:00  8.663412e+05  1.741890e+06  1.223312e+06  9.591612e+05   \n",
       "2022-02-11 12:00:00  1.569231e+06  7.791594e+05  1.672042e+05  1.179532e+06   \n",
       "2022-02-11 13:00:00  4.140613e+05  1.800461e+05  1.082181e+06  3.988373e+05   \n",
       "2022-02-11 14:00:00  7.455124e+05  7.839175e+05  1.540817e+06  1.137976e+06   \n",
       "2022-02-11 15:00:00  1.496219e+06  8.423327e+05  1.069249e+06  1.788921e+06   \n",
       "\n",
       "                             4010          4011  ...          5992  \\\n",
       "2022-01-01 00:00:00  1.152943e+06  8.229594e+05  ...  6.117344e+05   \n",
       "2022-01-01 01:00:00  4.788019e+05  1.134413e+06  ...  1.562971e+06   \n",
       "2022-01-01 02:00:00  1.803837e+06  1.450386e+06  ...  6.669883e+05   \n",
       "2022-01-01 03:00:00  5.991442e+05  6.727269e+05  ...  1.874577e+05   \n",
       "2022-01-01 04:00:00  5.606019e+05  1.422297e+06  ...  1.435526e+06   \n",
       "...                           ...           ...  ...           ...   \n",
       "2022-02-11 11:00:00  1.432587e+06  1.393972e+06  ...  9.115488e+05   \n",
       "2022-02-11 12:00:00  6.845470e+05  4.541844e+05  ...  3.967961e+05   \n",
       "2022-02-11 13:00:00  1.025021e+06  9.789601e+05  ...  1.732384e+06   \n",
       "2022-02-11 14:00:00  1.923986e+06  9.191742e+05  ...  9.043826e+05   \n",
       "2022-02-11 15:00:00  1.366143e+06  1.468276e+06  ...  9.155320e+05   \n",
       "\n",
       "                             5993          5994          5995          5996  \\\n",
       "2022-01-01 00:00:00 -2.529112e+05  1.063784e+06  4.284070e+05  5.490693e+05   \n",
       "2022-01-01 01:00:00  1.221140e+06  9.910054e+05  8.936804e+05  4.895948e+05   \n",
       "2022-01-01 02:00:00  9.977949e+05  8.211248e+05  1.945327e+06  5.229190e+05   \n",
       "2022-01-01 03:00:00  7.618824e+05  1.454976e+04 -2.344523e+05  1.488979e+06   \n",
       "2022-01-01 04:00:00  8.787869e+05  1.499181e+06  1.332768e+06  1.639675e+06   \n",
       "...                           ...           ...           ...           ...   \n",
       "2022-02-11 11:00:00  2.241817e+06  4.358421e+05  8.918943e+05  9.840831e+05   \n",
       "2022-02-11 12:00:00  1.246641e+06  1.473821e+06 -6.678127e+04  8.979446e+05   \n",
       "2022-02-11 13:00:00  1.212218e+06  9.113315e+05  5.010236e+04  1.515093e+05   \n",
       "2022-02-11 14:00:00  7.954216e+05  1.548114e+06  6.968600e+05  1.171888e+06   \n",
       "2022-02-11 15:00:00  7.985312e+05  1.659213e+06  1.653308e+06  9.210864e+05   \n",
       "\n",
       "                             5997          5998          5999          6000  \\\n",
       "2022-01-01 00:00:00  5.370501e+05  8.274230e+05  1.130097e+06  1.373719e+06   \n",
       "2022-01-01 01:00:00  1.449262e+06  1.750965e+06  1.146591e+06  7.357512e+05   \n",
       "2022-01-01 02:00:00  1.713174e+06  5.891263e+05  1.336163e+06  1.386067e+06   \n",
       "2022-01-01 03:00:00  5.393295e+05  6.548157e+05  9.955641e+05  6.977425e+05   \n",
       "2022-01-01 04:00:00  1.490445e+06  1.368779e+06  1.603982e+06  6.259067e+05   \n",
       "...                           ...           ...           ...           ...   \n",
       "2022-02-11 11:00:00  1.522533e+05  9.760767e+05  1.867359e+06  1.643300e+06   \n",
       "2022-02-11 12:00:00  1.191600e+06  1.061573e+06  2.041053e+05  1.386974e+06   \n",
       "2022-02-11 13:00:00  3.519701e+05  1.604181e+06  1.648896e+06  1.190030e+06   \n",
       "2022-02-11 14:00:00  5.495406e+05  5.832648e+05  1.725389e+05  1.064357e+06   \n",
       "2022-02-11 15:00:00  1.209708e+06  1.204756e+06  9.202368e+05  1.095152e+06   \n",
       "\n",
       "                             6001  \n",
       "2022-01-01 00:00:00  1.116509e+06  \n",
       "2022-01-01 01:00:00 -1.685421e+05  \n",
       "2022-01-01 02:00:00  1.825034e+06  \n",
       "2022-01-01 03:00:00  1.190441e+06  \n",
       "2022-01-01 04:00:00  1.824762e+06  \n",
       "...                           ...  \n",
       "2022-02-11 11:00:00  6.284476e+05  \n",
       "2022-02-11 12:00:00  5.342547e+04  \n",
       "2022-02-11 13:00:00  5.384725e+05  \n",
       "2022-02-11 14:00:00  1.005256e+06  \n",
       "2022-02-11 15:00:00  3.212956e+05  \n",
       "\n",
       "[1000 rows x 2000 columns]"
      ]
     },
     "metadata": {},
     "output_type": "display_data"
    }
   ],
   "source": [
    "# Generate random load profile oh hourly data\n",
    "n_scenarios = 1000\n",
    "n_loads = len(input_data[\"sym_load\"]) \n",
    "load_id = input_data[\"sym_load\"][\"id\"]\n",
    "load_p = input_data[\"sym_load\"][\"p_specified\"]\n",
    "profile = np.tile(load_p, (n_scenarios, 1)) + 5e5 * np.random.randn(n_scenarios, n_loads)\n",
    "dti = dti = pd.date_range(\"2022-01-01\", periods=n_scenarios, freq=\"H\")\n",
    "df_load_profile = pd.DataFrame(profile, columns=load_id, index=dti)\n",
    "display(df_load_profile)"
   ]
  },
  {
   "cell_type": "markdown",
   "id": "613233fa",
   "metadata": {},
   "source": [
    "## Run Time Series Calculation\n",
    "\n",
    "We want to run a time-series load flow batch calculation using the dataframe.\n",
    "\n",
    "* Convert the load profile into the compatible batch update dataset.\n",
    "* Run the batch calculation.\n",
    "* Compare the calculation methods `newton_raphson` and `linear`."
   ]
  },
  {
   "cell_type": "code",
   "execution_count": 10,
   "id": "0600bd55",
   "metadata": {},
   "outputs": [],
   "source": [
    "# Initialize an empty load profile\n",
    "load_profile = initialize_array(\"update\", \"sym_load\", df_load_profile.shape)\n",
    "\n",
    "# Set the attributes for the batch calculation (assume q_specified = 0.0)\n",
    "load_profile[\"id\"] = df_load_profile.columns.to_numpy()\n",
    "load_profile[\"p_specified\"] = df_load_profile.to_numpy()\n",
    "load_profile[\"q_specified\"] = 0.0\n",
    "\n",
    "# Construct the update data\n",
    "update_data = {\"sym_load\": load_profile}"
   ]
  },
  {
   "cell_type": "code",
   "execution_count": 11,
   "id": "9f88ba5f",
   "metadata": {},
   "outputs": [
    {
     "name": "stdout",
     "output_type": "stream",
     "text": [
      "Execution time for Validating Batch Data is 2.431577 s\n"
     ]
    }
   ],
   "source": [
    "# Validating batch data can take a long time.\n",
    "# It is recommended to only validate batch data when you run into trouble.\n",
    "with Timer(\"Validating Batch Data\"):\n",
    "    assert_valid_batch_data(input_data=input_data, update_data=update_data, calculation_type=CalculationType.power_flow)"
   ]
  },
  {
   "cell_type": "code",
   "execution_count": 12,
   "id": "e7ee773c",
   "metadata": {},
   "outputs": [
    {
     "name": "stdout",
     "output_type": "stream",
     "text": [
      "Execution time for Batch Calculation using Newton-Raphson is 5.128722 s\n"
     ]
    }
   ],
   "source": [
    "# Run Newton Raphson power flow (this may take a minute...)\n",
    "with Timer(\"Batch Calculation using Newton-Raphson\"):\n",
    "    output_data = model.calculate_power_flow(update_data=update_data, calculation_method=CalculationMethod.newton_raphson)"
   ]
  },
  {
   "cell_type": "code",
   "execution_count": 13,
   "id": "251e2edd",
   "metadata": {},
   "outputs": [
    {
     "name": "stdout",
     "output_type": "stream",
     "text": [
      "Execution time for Batch Calculation using linear calculation is 0.993906 s\n"
     ]
    }
   ],
   "source": [
    "# Run linear power flow\n",
    "with Timer(\"Batch Calculation using linear calculation\"):\n",
    "    output_data_linear = model.calculate_power_flow(update_data=update_data, calculation_method=CalculationMethod.linear)"
   ]
  },
  {
   "cell_type": "markdown",
   "id": "9ee15d9b",
   "metadata": {},
   "source": [
    "## Plotting batch results\n",
    "\n",
    "Lets say we wish to plot the loading of the `line with id 2007` vs time. We can use matplotlib to do so. (Note: The grid and results are randomly generated so dont be alarmed to see loading >100% or other unrealistic result)  "
   ]
  },
  {
   "cell_type": "code",
   "execution_count": 14,
   "id": "93d0888d",
   "metadata": {},
   "outputs": [
    {
     "data": {
      "image/png": "[encoded data removed]",
      "text/plain": [
       "<Figure size 640x480 with 1 Axes>"
      ]
     },
     "metadata": {},
     "output_type": "display_data"
    }
   ],
   "source": [
    "# Plot the loading of line with id 2007 vs time.\n",
    "line_2007_idx = np.where(output_data[\"line\"][\"id\"] == 2007)\n",
    "result_loading = output_data[\"line\"][\"loading\"][line_2007_idx]\n",
    "plt.plot(result_loading)\n",
    "plt.title('Loading of line with id 2007')\n",
    "plt.xlabel('Time')\n",
    "plt.ylabel('Loading')\n",
    "plt.show()"
   ]
  },
  {
   "cell_type": "markdown",
   "id": "39673a43",
   "metadata": {},
   "source": [
    "## Indexing the results\n",
    "\n",
    "Find the time stamps where loading in `line with id 2007` is greater than `90%`"
   ]
  },
  {
   "cell_type": "code",
   "execution_count": 15,
   "id": "8bef255c",
   "metadata": {
    "scrolled": false
   },
   "outputs": [
    {
     "data": {
      "text/plain": [
       "DatetimeIndex(['2022-01-04 20:00:00', '2022-01-10 22:00:00',\n",
       "               '2022-01-18 21:00:00', '2022-01-19 12:00:00',\n",
       "               '2022-01-20 22:00:00', '2022-02-09 05:00:00',\n",
       "               '2022-02-09 17:00:00'],\n",
       "              dtype='datetime64[ns]', freq=None)"
      ]
     },
     "execution_count": 15,
     "metadata": {},
     "output_type": "execute_result"
    }
   ],
   "source": [
    "# Times when loading of line with id 2007 when its greater than 90%\n",
    "ind = np.where(result_loading > 0.9)\n",
    "df_load_profile.index[ind]"
   ]
  },
  {
   "cell_type": "markdown",
   "id": "eb7ab8b5",
   "metadata": {},
   "source": [
    "# Assignment 6: N-1 Scenario Batch Calculation\n",
    "\n",
    "We want to run a N-1 Scenario analysis. For each batch calculation, one `line` is disconnected at from- and to-side."
   ]
  },
  {
   "cell_type": "code",
   "execution_count": 16,
   "id": "28b46e3a",
   "metadata": {},
   "outputs": [],
   "source": [
    "n_lines = len(input_data[\"line\"])\n",
    "\n",
    "# Initialize an empty line profile\n",
    "line_profile = initialize_array(\"update\", \"line\", (n_lines, n_lines))\n",
    "\n",
    "# Set the attributes for the batch calculation\n",
    "line_profile[\"id\"] =  input_data[\"line\"][\"id\"]\n",
    "line_profile[\"from_status\"] = 1 - np.eye(n_lines, dtype=np.uint8)\n",
    "line_profile[\"to_status\"] = 1 - np.eye(n_lines, dtype=np.uint8)\n",
    "\n",
    "# Construct the update data\n",
    "update_data = {\"line\": line_profile}"
   ]
  },
  {
   "cell_type": "code",
   "execution_count": 17,
   "id": "5fa9c6ca",
   "metadata": {},
   "outputs": [
    {
     "name": "stdout",
     "output_type": "stream",
     "text": [
      "Execution time for Validating Batch Data is 14.155806 s\n"
     ]
    }
   ],
   "source": [
    "# Validating batch data can take a long time.\n",
    "# It is recommended to only validate batch data when you run into trouble.\n",
    "with Timer(\"Validating Batch Data\"):\n",
    "    assert_valid_batch_data(input_data=input_data, update_data=update_data, calculation_type=CalculationType.power_flow)"
   ]
  },
  {
   "cell_type": "code",
   "execution_count": 18,
   "id": "3337a5cb",
   "metadata": {},
   "outputs": [
    {
     "name": "stdout",
     "output_type": "stream",
     "text": [
      "Execution time for Batch Calculation using Newton-Raphson is 18.678107 s\n"
     ]
    }
   ],
   "source": [
    "# Run Newton Raphson power flow (this may take a minute...)\n",
    "with Timer(\"Batch Calculation using Newton-Raphson\"):\n",
    "    model.calculate_power_flow(update_data=update_data, calculation_method=CalculationMethod.newton_raphson)"
   ]
  },
  {
   "cell_type": "code",
   "execution_count": 19,
   "id": "f7ba9924",
   "metadata": {},
   "outputs": [
    {
     "name": "stdout",
     "output_type": "stream",
     "text": [
      "Execution time for Batch Calculation using linear calculation is 5.275714 s\n"
     ]
    }
   ],
   "source": [
    "# Run linear power flow\n",
    "with Timer(\"Batch Calculation using linear calculation\"):\n",
    "    model.calculate_power_flow(update_data=update_data, calculation_method=CalculationMethod.linear)"
   ]
  },
  {
   "cell_type": "markdown",
   "id": "6af43b69",
   "metadata": {},
   "source": [
    "## Parallel processing\n",
    "The `calculate_power_flow` method has an optional `threading` argument to define the number of threads ran in parallel. Experiment with different threading values and compare the results..."
   ]
  },
  {
   "cell_type": "code",
   "execution_count": null,
   "id": "9f1a3d88",
   "metadata": {},
   "outputs": [
    {
     "name": "stdout",
     "output_type": "stream",
     "text": [
      "Execution time for Sequential is 18.580412 s\n",
      "Execution time for Single thread is 17.847914 s\n",
      "Execution time for Two threads in parallel is 10.605476 s\n",
      "Execution time for Four threads in parallel is 5.669301 s\n"
     ]
    }
   ],
   "source": [
    "# By default, sequential threading is used\n",
    "with Timer(\"Sequential\"):\n",
    "    model.calculate_power_flow(update_data=update_data)\n",
    "\n",
    "# Single thread, this is essentially the same as running a single thread\n",
    "with Timer(\"Single thread\"):\n",
    "    model.calculate_power_flow(update_data=update_data, threading=1)\n",
    "\n",
    "# Two threads should be faster    \n",
    "with Timer(\"Two threads in parallel\"):\n",
    "    model.calculate_power_flow(update_data=update_data, threading=2)\n",
    "\n",
    "# Four threads should be even faster    \n",
    "with Timer(\"Four threads in parallel\"):\n",
    "    model.calculate_power_flow(update_data=update_data, threading=4)\n",
    "\n",
    "# Use number of threads based the machine hardware    \n",
    "with Timer(\"Use number of threads based the machine hardware\"):\n",
    "    model.calculate_power_flow(update_data=update_data, threading=0)"
   ]
  }
 ],
 "metadata": {
  "kernelspec": {
   "display_name": "Python 3 (ipykernel)",
   "language": "python",
   "name": "python3"
  },
  "language_info": {
   "codemirror_mode": {
    "name": "ipython",
    "version": 3
   },
   "file_extension": ".py",
   "mimetype": "text/x-python",
   "name": "python",
   "nbconvert_exporter": "python",
   "pygments_lexer": "ipython3",
   "version": "3.10.9"
  },
  "vscode": {
   "interpreter": {
    "hash": "f2534ebf7a1a13ecc51c3a04ce741b49cf1feb97b5ca55170ed7b2036b4058c0"
   }
  }
 },
 "nbformat": 4,
 "nbformat_minor": 5
}
