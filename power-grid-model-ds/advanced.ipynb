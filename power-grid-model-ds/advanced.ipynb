{
 "cells": [
  {
   "cell_type": "code",
   "execution_count": null,
   "id": "59d49e29",
   "metadata": {},
   "outputs": [],
   "source": [
    "!pip install power-grid-model-ds[visualizer] --quiet"
   ]
  },
  {
   "cell_type": "markdown",
   "id": "d5e1958f",
   "metadata": {},
   "source": [
    "# ⚡ Advanced Power Grid Workshop: Solving an Overload Scenario\n",
    "\n",
    "You're a senior grid analyst at GridNova Utilities, overseeing a legacy radial distribution network in a semi-rural region. Recently, customer load growth has increased dramatically, particularly in areas served by a single long feeder. This has pushed some branches past their capacity, triggering repeated overloads.\n",
    "\n",
    "Your task: augment the grid by adding a second substation and relieving the overloaded feeder through targeted switching.\n",
    "\n",
    "This hands-on simulation walks you through each step of diagnosing, planning, and solving this overload using the Power Grid Model DS library.\n",
    "\n",
    "## 🎯 Workshop Goals\n",
    "- Detect a line overload after load increase.\n",
    "- Find a suitable node to connect a new substation.\n",
    "- Trace the overloaded route.\n",
    "- Strategically open a line to reroute power and relieve the feeder.\n",
    "\n"
   ]
  },
  {
   "cell_type": "code",
   "execution_count": null,
   "id": "cf475775",
   "metadata": {},
   "outputs": [],
   "source": [
    "import numpy as np\n",
    "from dataclasses import dataclass\n",
    "from power_grid_model_ds import Grid, GraphContainer\n",
    "from power_grid_model_ds.arrays import NodeArray, LineArray, SourceArray\n",
    "from power_grid_model_ds.enums import NodeType"
   ]
  },
  {
   "cell_type": "markdown",
   "id": "8a4a9dbb",
   "metadata": {},
   "source": [
    "# 🧪 Step 1: Extend the Data Model\n",
    "Goal: Add coordinate fields and tracking for simulated voltages and line currents.\n",
    "\n",
    "You’ll subclass NodeArray and LineArray to add:\n",
    "\n",
    "- x, y coordinates for spatial logic and plotting\n",
    "- u for node voltage results\n",
    "- i_from for line currents\n",
    "- A computed .is_overloaded property for easy filtering"
   ]
  },
  {
   "cell_type": "code",
   "execution_count": null,
   "id": "37f4bd29",
   "metadata": {},
   "outputs": [],
   "source": [
    "# 📦 Extend the grid with x, y, u (node) and i_from (line)\n",
    "from numpy.typing import NDArray\n",
    "\n",
    "class MyNodeArray(NodeArray):\n",
    "    _defaults = {\"x\": 0.0, \"y\": 0.0, \"u\": 0.0}\n",
    "    x: NDArray[np.float64]\n",
    "    y: NDArray[np.float64]\n",
    "    u: NDArray[np.float64]\n",
    "\n",
    "class MyLineArray(LineArray):\n",
    "    _defaults = {\"i_from\": 0.0}\n",
    "    i_from: NDArray[np.float64]\n",
    "\n",
    "    @property\n",
    "    def is_overloaded(self) -> NDArray[np.bool_]:\n",
    "        \"\"\"Check if the line is overloaded.\"\"\"\n",
    "        return self.i_from > self.i_n\n",
    "\n",
    "@dataclass\n",
    "class MyGrid(Grid):\n",
    "    node: MyNodeArray\n",
    "    line: MyLineArray\n",
    "    graphs: GraphContainer"
   ]
  },
  {
   "cell_type": "markdown",
   "id": "8e2d5fbe",
   "metadata": {},
   "source": [
    "# 🏗️ Step 2: Generate and Prepare the Grid\n",
    "Goal: Build a synthetic radial grid with randomized node positions and realistic load levels.\n",
    "\n",
    "You’ll use RadialGridGenerator to build a 20-node grid and then:\n",
    "\n",
    "- Randomize node coordinates in a 1000×1000 space\n",
    "- Assign loads to simulate high demand\n",
    "- You’ll then compute a power flow to get realistic line currents."
   ]
  },
  {
   "cell_type": "code",
   "execution_count": null,
   "id": "78d0639e",
   "metadata": {},
   "outputs": [],
   "source": [
    "from power_grid_model_ds.generators import RadialGridGenerator\n",
    "\n",
    "# Generate a radial grid\n",
    "grid_gen = RadialGridGenerator(grid_class=MyGrid, nr_nodes=20, nr_sources=1)\n",
    "grid = grid_gen.run(seed=42)\n",
    "\n",
    "np.random.seed(42)\n",
    "num_nodes = grid.node.size\n",
    "x_coords = np.random.randint(0, 1000, size=num_nodes)\n",
    "y_coords = np.random.randint(0, 1000, size=num_nodes)\n",
    "\n",
    "grid.node.x = x_coords\n",
    "grid.node.y = y_coords"
   ]
  },
  {
   "cell_type": "code",
   "execution_count": null,
   "id": "01f369f7",
   "metadata": {},
   "outputs": [],
   "source": [
    "grid.sym_load.p_specified = np.random.randint(300000, 1200000, size=grid.sym_load.size)"
   ]
  },
  {
   "cell_type": "code",
   "execution_count": null,
   "id": "a375a3f8",
   "metadata": {},
   "outputs": [],
   "source": [
    "grid.set_feeder_ids()\n",
    "print(grid.node)"
   ]
  },
  {
   "cell_type": "markdown",
   "id": "6ac4eb43",
   "metadata": {},
   "source": [
    "# 🧯 Step 3: Detect the Overload\n",
    "Goal: Identify which line(s) are exceeding their rated current.\n",
    "\n",
    "You’ll:\n",
    "\n",
    "- Use the .is_overloaded property to find the problem\n",
    "- Isolate the feeder route to the affected line\n",
    "\n",
    "This gives a clear target for where you need to intervene."
   ]
  },
  {
   "cell_type": "code",
   "execution_count": null,
   "id": "206be67b",
   "metadata": {},
   "outputs": [],
   "source": [
    "# Check the grid for capacity issues\n",
    "# 1. Use the PowerGridModelInterface to calculate power flow\n",
    "# 2. Update the grid with the calculated values\n",
    "# 3. Return the lines (LineArray) that are overloaded\n",
    "\n",
    "# Hint: You can use the `is_overloaded` property of the `MyLineArray` class to check for overloaded lines.\n",
    "# Hint: https://power-grid-model-ds.readthedocs.io/en/stable/quick_start.html#performing-power-flow-calculations\n",
    "\n",
    "def check_for_capacity_issues(grid: Grid) -> LineArray:\n",
    "    \"\"\"Check for capacity issues on the grid.\n",
    "    Return the lines that with capacity issues.\n",
    "    \"\"\"\n",
    "\n",
    "from power_grid_model_ds import PowerGridModelInterface\n",
    "\n",
    "def check_for_capacity_issues(grid: Grid) -> LineArray:\n",
    "    \"\"\"Check for capacity issues on the grid.\n",
    "    Return the lines that with capacity issues.\n",
    "    \"\"\"\n",
    "    pgm_interface = PowerGridModelInterface(grid)\n",
    "    pgm_interface.calculate_power_flow()\n",
    "    pgm_interface.update_grid()\n",
    "\n",
    "    # update attribute overload_status\n",
    "\n",
    "    return grid.line[grid.line.is_overloaded]\n",
    "\n",
    "print(check_for_capacity_issues(grid))"
   ]
  },
  {
   "cell_type": "markdown",
   "id": "008fafb9",
   "metadata": {},
   "source": [
    "# 🧭 Step 4: Plan a Relief Strategy\n",
    "Goal: Place a second substation near the overloaded path.\n",
    "\n",
    "You’ll:\n",
    "- Add a new substation at a specified location\n",
    "- Connect it to the closest node in the network\n",
    "- Visually inspect the grid with visualize()\n",
    "\n",
    "This substation will act as a new injection point for rerouting load.\n"
   ]
  },
  {
   "cell_type": "code",
   "execution_count": null,
   "id": "ae5d93b7",
   "metadata": {},
   "outputs": [],
   "source": [
    "def build_new_substation(grid: Grid, location: tuple[float, float]) -> NodeArray:\n",
    "    \"\"\"Build a new substation at the given location.\n",
    "    Return the new substation.\n",
    "    \"\"\"\n",
    "    new_substation = MyNodeArray(\n",
    "        node_type=[NodeType.SUBSTATION_NODE.value],\n",
    "        u_rated=[10500.0],\n",
    "        x=[location[0]],\n",
    "        y=[location[1]]\n",
    "    )\n",
    "    grid.append(new_substation)\n",
    "\n",
    "    new_source = SourceArray(\n",
    "        node=[new_substation.id.item()],\n",
    "        status=[1],\n",
    "        u_ref=[1],\n",
    "    )\n",
    "    grid.append(new_source)\n",
    "    return new_substation\n",
    "\n",
    "# 🏗️ Add a new substation at (212, 133)\n",
    "new_substation = build_new_substation(grid, (212, 133))"
   ]
  },
  {
   "cell_type": "code",
   "execution_count": null,
   "id": "8be6c8f5",
   "metadata": {},
   "outputs": [],
   "source": [
    "# visualize the grid\n",
    "from power_grid_model_ds.visualizer import visualize\n",
    "# visualize(grid)"
   ]
  },
  {
   "cell_type": "markdown",
   "id": "8f2b17e3",
   "metadata": {},
   "source": [
    "# 🔗 Step 5: Trace and Analyze the Overloaded Route\n",
    "Goal: Identify a switchable line along the route from the new node to the old substation.\n",
    "\n",
    "You’ll:\n",
    "- Use the graph interface to trace the shortest path from the new substation to the original\n",
    "- Calculate cumulative load along the path\n",
    "- Find a cut point where the remaining load toward the old substation is < 2 MW\n",
    "\n",
    "This ensures you relieve the feeder while maintaining supply continuity."
   ]
  },
  {
   "cell_type": "code",
   "execution_count": null,
   "id": "1bfe4e6e",
   "metadata": {},
   "outputs": [],
   "source": [
    "def get_all_congested_routes(grid: Grid) -> list[NodeArray]:\n",
    "    \"\"\"Get all routes that originate from a given substation node.\"\"\"\n",
    "    grid.set_feeder_ids()\n",
    "    lines_with_congestion = check_for_capacity_issues(grid)\n",
    "    feeder_branch_ids_with_congestion = np.unique(lines_with_congestion['feeder_branch_id'])\n",
    "    return [grid.node.filter(feeder_branch_id=branch_id) for branch_id in feeder_branch_ids_with_congestion]\n",
    " \n",
    "congested_routes = get_all_congested_routes(grid)"
   ]
  },
  {
   "cell_type": "code",
   "execution_count": null,
   "id": "263818f6",
   "metadata": {},
   "outputs": [],
   "source": [
    "def find_connection_point(route: NodeArray, new_substation: NodeArray) -> NodeArray:\n",
    "    \"\"\"Calculate the connection point for the new route.\n",
    "    This should be the geographically closest node to the new substation.\n",
    "    \"\"\"\n",
    "    x_difference = route.x - new_substation.x\n",
    "    y_difference = route.y - new_substation.y\n",
    "    distances = (x_difference**2 + y_difference**2) ** 0.5\n",
    "    \n",
    "    idx_closest_node = np.argmin(distances)\n",
    "    closest_node = grid.node[idx_closest_node]\n",
    "    return closest_node\n",
    "\n",
    "\n",
    "def connect_to_route(grid: Grid, connection_point: NodeArray, new_substation: NodeArray) -> None:\n",
    "    \"\"\"Connect the new substation node to the connection point.\n",
    "    \"\"\"\n",
    "    # Create a new line that connects the two nodes\n",
    "    new_line = MyLineArray(\n",
    "        from_node=[new_substation.id],\n",
    "        to_node=[connection_point.id],\n",
    "        from_status=[0], # status is 0 to make sure the line is not active\n",
    "        to_status=[1],\n",
    "        i_n=[200.0],\n",
    "        r1=[0.05], x1=[0.01], c1=[0.0], tan1=[0.0]\n",
    "    )\n",
    "    grid.append(new_line)"
   ]
  },
  {
   "cell_type": "markdown",
   "id": "4a9ef582",
   "metadata": {},
   "source": [
    "# ✂️ Step 6: Open the Right Line\n",
    "Goal: Deactivate a line to offload the original feeder.\n",
    "\n",
    "You’ll:\n",
    "- Identify and deactivate the line between two nodes on the critical path\n",
    "- Rerun power flow after the switch\n",
    "- Confirm the overload is resolved\n",
    "\n",
    "This final step demonstrates how network topology and load can be managed dynamically with switching and distributed generation.\n",
    "\n"
   ]
  },
  {
   "cell_type": "code",
   "execution_count": null,
   "id": "a494d54c",
   "metadata": {},
   "outputs": [],
   "source": [
    "def optimize_route_transfer(grid: Grid, connection_point: NodeArray, new_substation: NodeArray) -> None:\n",
    "    \"\"\"Attempt to optimize the route transfer moving the naturally open point (NOP) upstream towards the old substation.\n",
    "    This way, the new substation will take over more nodes of the original route.\n",
    "\n",
    "    Note that a node cannot be taken over if that results in a capacity issue on the grid.\n",
    "    \"\"\"\n",
    "    # 🔗 Trace path from that node to the current (old) substation\n",
    "    old_substation_node_id = connection_point.feeder_node_id.item()\n",
    "    path, length = grid.graphs.active_graph.get_shortest_path(connection_point.id.item(), old_substation_node_id)\n",
    "    print(\"Path from overload to old substation:\", path)\n",
    "\n",
    "    current_branch = grid.line.filter(\n",
    "        from_node=[connection_point.id.item(), new_substation.id.item()],\n",
    "        to_node=[connection_point.id.item(), new_substation.id.item()]\n",
    "    )\n",
    "    for i, (from_node, to_node) in enumerate(zip(path[0:-1], path[1:])):\n",
    "        # Check if the line is overloaded\n",
    "        if not any(check_for_capacity_issues(grid)):\n",
    "            break\n",
    "\n",
    "        grid.make_active(current_branch)\n",
    "        current_branch = grid.line.filter(from_node=[from_node, to_node], to_node=[from_node, to_node])\n",
    "        grid.make_inactive(current_branch)"
   ]
  },
  {
   "cell_type": "code",
   "execution_count": null,
   "id": "cb4092a1",
   "metadata": {},
   "outputs": [],
   "source": [
    "def transfer_routes(grid: Grid, new_substation: NodeArray) -> NodeArray:\n",
    "    \"\"\"Migrate a subset of the routes of the old substation to the new substation.\n",
    "    Each route can be migrated fully or partially.\n",
    "\n",
    "    \"\"\"\n",
    "    congested_routes = get_all_congested_routes(grid)\n",
    "\n",
    "    for route in congested_routes:\n",
    "        closest_node = find_connection_point(\n",
    "            route=route,\n",
    "            new_substation=new_substation\n",
    "        )\n",
    "\n",
    "        connect_to_route(\n",
    "            grid=grid,\n",
    "            connection_point=closest_node,\n",
    "            new_substation=new_substation,\n",
    "        )\n",
    "\n",
    "        optimize_route_transfer(\n",
    "            grid=grid,\n",
    "            connection_point=closest_node,\n",
    "            new_substation=new_substation)\n",
    "        \n",
    "        print(f\"Connected new substation to node {closest_node.id}\")\n",
    "\n",
    "transfer_routes(grid=grid, new_substation=new_substation)"
   ]
  },
  {
   "cell_type": "code",
   "execution_count": null,
   "id": "83099a5e",
   "metadata": {},
   "outputs": [],
   "source": [
    "print(check_for_capacity_issues(grid))"
   ]
  },
  {
   "cell_type": "markdown",
   "id": "1c2de102",
   "metadata": {},
   "source": [
    "# ✅ Wrap-Up\n",
    "You’ve just:\n",
    "\n",
    "Diagnosed a power system constraint\n",
    "- Planned and executed a grid topology change\n",
    "- Verified success with power flow simulations\n",
    "\n",
    "We hope you enjoyed working with Power Grid Model DS and would love to hear your feedback"
   ]
  }
 ],
 "metadata": {
  "kernelspec": {
   "display_name": ".venv",
   "language": "python",
   "name": "python3"
  },
  "language_info": {
   "codemirror_mode": {
    "name": "ipython",
    "version": 3
   },
   "file_extension": ".py",
   "mimetype": "text/x-python",
   "name": "python",
   "nbconvert_exporter": "python",
   "pygments_lexer": "ipython3",
   "version": "3.12.6"
  }
 },
 "nbformat": 4,
 "nbformat_minor": 5
}
