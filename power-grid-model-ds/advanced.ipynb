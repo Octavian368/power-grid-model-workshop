{
 "cells": [
  {
   "cell_type": "code",
   "execution_count": 1,
   "id": "59d49e29",
   "metadata": {},
   "outputs": [
    {
     "name": "stdout",
     "output_type": "stream",
     "text": [
      "\n",
      "\u001b[1m[\u001b[0m\u001b[34;49mnotice\u001b[0m\u001b[1;39;49m]\u001b[0m\u001b[39;49m A new release of pip is available: \u001b[0m\u001b[31;49m24.2\u001b[0m\u001b[39;49m -> \u001b[0m\u001b[32;49m25.1\u001b[0m\n",
      "\u001b[1m[\u001b[0m\u001b[34;49mnotice\u001b[0m\u001b[1;39;49m]\u001b[0m\u001b[39;49m To update, run: \u001b[0m\u001b[32;49mpip install --upgrade pip\u001b[0m\n"
     ]
    }
   ],
   "source": [
    "!pip install power-grid-model-ds[visualizer] --quiet"
   ]
  },
  {
   "cell_type": "code",
   "execution_count": 2,
   "id": "cf475775",
   "metadata": {},
   "outputs": [],
   "source": [
    "import numpy as np\n",
    "from dataclasses import dataclass\n",
    "from power_grid_model_ds import Grid, GraphContainer\n",
    "from power_grid_model_ds.arrays import NodeArray, LineArray\n",
    "from power_grid_model_ds.enums import NodeType"
   ]
  },
  {
   "cell_type": "code",
   "execution_count": 3,
   "id": "37f4bd29",
   "metadata": {},
   "outputs": [],
   "source": [
    "# 📦 Extend the grid with x, y, u (node) and i_from (line)\n",
    "from numpy.typing import NDArray\n",
    "\n",
    "class MyNodeArray(NodeArray):\n",
    "    _defaults = {\"x\": 0.0, \"y\": 0.0, \"u\": 0.0}\n",
    "    x: NDArray[np.float64]\n",
    "    y: NDArray[np.float64]\n",
    "    u: NDArray[np.float64]\n",
    "\n",
    "class MyLineArray(LineArray):\n",
    "    _defaults = {\"i_from\": 0.0}\n",
    "    i_from: NDArray[np.float64]\n",
    "\n",
    "    @property\n",
    "    def is_overloaded(self) -> NDArray[np.bool_]:\n",
    "        \"\"\"Check if the line is overloaded.\"\"\"\n",
    "        return self.i_from > self.i_n\n",
    "\n",
    "@dataclass\n",
    "class MyGrid(Grid):\n",
    "    node: MyNodeArray\n",
    "    line: MyLineArray\n",
    "    graphs: GraphContainer"
   ]
  },
  {
   "cell_type": "code",
   "execution_count": 4,
   "id": "78d0639e",
   "metadata": {},
   "outputs": [],
   "source": [
    "from power_grid_model_ds.generators import RadialGridGenerator\n",
    "\n",
    "# Generate a radial grid\n",
    "grid_gen = RadialGridGenerator(grid_class=MyGrid, nr_nodes=20, nr_sources=1)\n",
    "grid = grid_gen.run(seed=42)\n",
    "\n",
    "np.random.seed(42)\n",
    "num_nodes = grid.node.size\n",
    "x_coords = np.random.randint(0, 1000, size=num_nodes)\n",
    "y_coords = np.random.randint(0, 1000, size=num_nodes)\n",
    "\n",
    "grid.node.x = x_coords\n",
    "grid.node.y = y_coords"
   ]
  },
  {
   "cell_type": "code",
   "execution_count": 5,
   "id": "01f369f7",
   "metadata": {},
   "outputs": [],
   "source": [
    "grid.sym_load.p_specified = np.random.randint(300000, 1200000, size=grid.sym_load.size)"
   ]
  },
  {
   "cell_type": "code",
   "execution_count": 6,
   "id": "a375a3f8",
   "metadata": {},
   "outputs": [
    {
     "name": "stdout",
     "output_type": "stream",
     "text": [
      " id | u_rated | node_type | feeder_branch_id | feeder_node_id |   x   |   y   |  u  \n",
      " 1  | 10500.0 |     0     |        81        |       61       | 102.0 | 308.0 | 0.0 \n",
      " 2  | 10500.0 |     0     |        63        |       61       | 435.0 | 769.0 | 0.0 \n",
      " 3  | 10500.0 |     0     |        63        |       61       | 860.0 | 343.0 | 0.0 \n",
      " 4  | 10500.0 |     0     |        66        |       61       | 270.0 | 491.0 | 0.0 \n",
      " 5  | 10500.0 |     0     |        73        |       61       | 106.0 | 413.0 | 0.0 \n",
      "                                 (..11 hidden rows..)                                \n",
      " 17 | 10500.0 |     0     |        63        |       61       |  99.0 | 856.0 | 0.0 \n",
      " 18 | 10500.0 |     0     |        63        |       61       | 871.0 | 560.0 | 0.0 \n",
      " 19 | 10500.0 |     0     |        73        |       61       | 663.0 | 474.0 | 0.0 \n",
      " 20 | 10500.0 |     0     |        63        |       61       | 130.0 |  58.0 | 0.0 \n",
      " 61 | 10500.0 |     1     |   -2147483648    |  -2147483648   | 661.0 | 510.0 | 0.0 \n"
     ]
    }
   ],
   "source": [
    "grid.set_feeder_ids()\n",
    "print(grid.node)"
   ]
  },
  {
   "cell_type": "code",
   "execution_count": 7,
   "id": "206be67b",
   "metadata": {},
   "outputs": [],
   "source": [
    "from power_grid_model_ds import PowerGridModelInterface\n",
    "\n",
    "pgm_interface = PowerGridModelInterface(grid)\n",
    "pgm_interface.calculate_power_flow()\n",
    "pgm_interface.update_grid()\n"
   ]
  },
  {
   "cell_type": "code",
   "execution_count": 8,
   "id": "38a7dfae",
   "metadata": {},
   "outputs": [
    {
     "name": "stdout",
     "output_type": "stream",
     "text": [
      " id | u_rated | node_type | feeder_branch_id | feeder_node_id |   x   |   y   |     u     \n",
      " 61 | 10500.0 |     1     |   -2147483648    |  -2147483648   | 661.0 | 510.0 |10498.658..\n"
     ]
    }
   ],
   "source": [
    "old_sub = grid.node.filter(node_type=NodeType.SUBSTATION_NODE)\n",
    "print(old_sub)"
   ]
  },
  {
   "cell_type": "code",
   "execution_count": 9,
   "id": "ae5d93b7",
   "metadata": {},
   "outputs": [
    {
     "name": "stdout",
     "output_type": "stream",
     "text": [
      "\n",
      "All node IDs and coordinates:\n",
      "ID: 1 - (102.0, 308.0)\n",
      "ID: 2 - (435.0, 769.0)\n",
      "ID: 3 - (860.0, 343.0)\n",
      "ID: 4 - (270.0, 491.0)\n",
      "ID: 5 - (106.0, 413.0)\n",
      "ID: 6 - (71.0, 805.0)\n",
      "ID: 7 - (700.0, 385.0)\n",
      "ID: 8 - (20.0, 191.0)\n",
      "ID: 9 - (614.0, 955.0)\n",
      "ID: 10 - (121.0, 276.0)\n",
      "ID: 11 - (466.0, 160.0)\n",
      "ID: 12 - (214.0, 459.0)\n",
      "ID: 13 - (330.0, 313.0)\n",
      "ID: 14 - (458.0, 21.0)\n",
      "ID: 15 - (87.0, 252.0)\n",
      "ID: 16 - (372.0, 747.0)\n",
      "ID: 17 - (99.0, 856.0)\n",
      "ID: 18 - (871.0, 560.0)\n",
      "ID: 19 - (663.0, 474.0)\n",
      "ID: 20 - (130.0, 58.0)\n",
      "ID: 61 - (661.0, 510.0)\n",
      "ID: 93 - (212.0, 133.0)\n"
     ]
    }
   ],
   "source": [
    "# 🏗️ Add a new substation at (212, 133)\n",
    "new_sub = MyNodeArray(\n",
    "    node_type=[NodeType.SUBSTATION_NODE.value],\n",
    "    u_rated=[10500.0],\n",
    "    x=[212],\n",
    "    y=[133]\n",
    ")\n",
    "grid.append(new_sub)\n",
    "new_id = new_sub.id\n",
    "\n",
    "print(\"\\nAll node IDs and coordinates:\")\n",
    "for i in range(len(grid.node)):\n",
    "    print(f\"ID: {grid.node.id[i]} - ({grid.node.x[i]}, {grid.node.y[i]})\")\n"
   ]
  },
  {
   "cell_type": "code",
   "execution_count": null,
   "id": "8be6c8f5",
   "metadata": {},
   "outputs": [
    {
     "data": {
      "text/html": [
       "\n",
       "        <iframe\n",
       "            width=\"100%\"\n",
       "            height=\"650\"\n",
       "            src=\"http://127.0.0.1:8050/\"\n",
       "            frameborder=\"0\"\n",
       "            allowfullscreen\n",
       "            \n",
       "        ></iframe>\n",
       "        "
      ],
      "text/plain": [
       "<IPython.lib.display.IFrame at 0x7f6e7127aab0>"
      ]
     },
     "metadata": {},
     "output_type": "display_data"
    }
   ],
   "source": [
    "# visualize the grid\n",
    "# TODO: Link some good first issues for the visualizer\n",
    "\n",
    "from power_grid_model_ds.visualizer import visualize\n",
    "visualize(grid)"
   ]
  },
  {
   "cell_type": "code",
   "execution_count": 11,
   "id": "7d9378b6",
   "metadata": {},
   "outputs": [
    {
     "name": "stdout",
     "output_type": "stream",
     "text": [
      " id | from_node | to_node | from_status | to_status | feeder_branch_id | feeder_node_id | is_feeder |   r1  |   x1  |  c1 | tan1 |   i_n   |  i_from \n",
      " 67 |     2     |    14   |      1      |     1     |        63        |       61       |   False   |0.180..|0.008..| 0.0 | 0.0  |163.035..|380.959..\n",
      " 70 |     14    |    18   |      1      |     1     |        63        |       61       |   False   |0.077..|0.025..| 0.0 | 0.0  |237.064..|250.859..\n",
      "Closest node in overload path to new substation: 10\n"
     ]
    }
   ],
   "source": [
    "# 📍 Identify a route with an overload\n",
    "print(grid.line[grid.line.is_overloaded])\n",
    "\n",
    "overloaded_line = grid.line[grid.line.is_overloaded][0]\n",
    "overloaded_nodes = grid.node.filter(feeder_branch_id=overloaded_line.feeder_branch_id)\n",
    "\n",
    "# 🔎 Find closest node in the overloaded route to the new substation\n",
    "pos_new = np.array([new_sub.x, new_sub.y])\n",
    "closest_node = min(\n",
    "    overloaded_nodes.id,\n",
    "    key=lambda nid: np.linalg.norm(pos_new - np.array([\n",
    "        grid.node.x[grid.node.id == nid][0],\n",
    "        grid.node.y[grid.node.id == nid][0]\n",
    "    ]))\n",
    ")\n",
    "print(f\"Closest node in overload path to new substation: {closest_node}\")"
   ]
  },
  {
   "cell_type": "code",
   "execution_count": 13,
   "id": "b57104f4",
   "metadata": {},
   "outputs": [
    {
     "name": "stdout",
     "output_type": "stream",
     "text": [
      "Connected new substation to node 10\n"
     ]
    }
   ],
   "source": [
    "# Add a connection from the new substation to its closest node\n",
    "all_nodes_except_new = grid.node.id[grid.node.id != new_id]\n",
    "distances = [\n",
    "    (nid, np.linalg.norm(pos_new - np.array([\n",
    "        grid.node.x[grid.node.id == nid][0],\n",
    "        grid.node.y[grid.node.id == nid][0]\n",
    "    ])))\n",
    "    for nid in all_nodes_except_new\n",
    "]\n",
    "\n",
    "closest_existing_node = sorted(distances, key=lambda x: x[1])[0][0]\n",
    "\n",
    "grid.append(MyLineArray(\n",
    "    from_node=[new_id],\n",
    "    to_node=[closest_existing_node],\n",
    "    from_status=[1],\n",
    "    to_status=[1],\n",
    "    i_n=[200.0],\n",
    "    r1=[0.05], x1=[0.01], c1=[0.0], tan1=[0.0]\n",
    "))\n",
    "\n",
    "print(f\"Connected new substation to node {closest_existing_node}\")\n"
   ]
  },
  {
   "cell_type": "code",
   "execution_count": 14,
   "id": "6a2afb10",
   "metadata": {},
   "outputs": [
    {
     "name": "stdout",
     "output_type": "stream",
     "text": [
      "Path from overload to old substation: [10, 17, 14, 2, np.int32(61)]\n"
     ]
    }
   ],
   "source": [
    "# 🔗 Trace path from that node to the current (old) substation\n",
    "path, length = grid.graphs.active_graph.get_shortest_path(closest_existing_node, old_sub.id[0])\n",
    "print(\"Path from overload to old substation:\", path)"
   ]
  },
  {
   "cell_type": "code",
   "execution_count": null,
   "id": "5089d8f1",
   "metadata": {},
   "outputs": [],
   "source": [
    "# 🔪 Insert open point such that the load connected to old substation (node 1) is < 2_000_000W\n",
    "cut_index = None\n",
    "\n",
    "for i, node_id in enumerate(path[1:]):\n",
    "    nodes_in_between = grid.graphs.active_graph.get_connected(2, nodes_to_ignore=[1, 3], inclusive=True)\n",
    "    cumulative_load = grid.sym_load.filter(node=path[:i]).p_specified.sum()\n",
    "    if cumulative_load > 2_000_000:\n",
    "        cut_index = i - 1\n",
    "        break\n",
    "\n",
    "if cut_index is None:\n",
    "    cut_index = len(path) - 2\n",
    "\n",
    "nodes_to_cut = path[cut_index:cut_index + 2]\n"
   ]
  },
  {
   "cell_type": "code",
   "execution_count": null,
   "id": "04fa37b3",
   "metadata": {},
   "outputs": [
    {
     "name": "stdout",
     "output_type": "stream",
     "text": [
      "Line to open: \n",
      " id | from_node | to_node | from_status | to_status | feeder_branch_id | feeder_node_id | is_feeder |  r1  |   x1  |  c1 | tan1 |   i_n   | i_from \n",
      " 67 |     2     |    14   |      1      |     1     |        63        |       61       |   False   |0.18..|0.008..| 0.0 | 0.0  |163.035..|380.95..\n"
     ]
    }
   ],
   "source": [
    "line_to_open = grid.line.filter(from_node=nodes_to_cut, to_node=nodes_to_cut)\n",
    "print(f\"Line to open: \\n{line_to_open}\")\n",
    "grid.make_inactive(line_to_open)"
   ]
  },
  {
   "cell_type": "code",
   "execution_count": 17,
   "id": "83099a5e",
   "metadata": {},
   "outputs": [
    {
     "name": "stdout",
     "output_type": "stream",
     "text": [
      " id | from_node | to_node | from_status | to_status | feeder_branch_id | feeder_node_id | is_feeder | r1 | x1 | c1 | tan1 | i_n | i_from \n",
      "\n"
     ]
    }
   ],
   "source": [
    "pgm_interface = PowerGridModelInterface(grid)\n",
    "pgm_interface.calculate_power_flow()\n",
    "pgm_interface.update_grid()\n",
    "\n",
    "print(grid.line[grid.line.is_overloaded])"
   ]
  }
 ],
 "metadata": {
  "kernelspec": {
   "display_name": ".venv",
   "language": "python",
   "name": "python3"
  },
  "language_info": {
   "codemirror_mode": {
    "name": "ipython",
    "version": 3
   },
   "file_extension": ".py",
   "mimetype": "text/x-python",
   "name": "python",
   "nbconvert_exporter": "python",
   "pygments_lexer": "ipython3",
   "version": "3.12.6"
  }
 },
 "nbformat": 4,
 "nbformat_minor": 5
}
