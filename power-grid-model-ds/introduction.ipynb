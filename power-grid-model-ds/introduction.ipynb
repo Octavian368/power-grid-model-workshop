{
 "cells": [
  {
   "cell_type": "markdown",
   "id": "e708f200",
   "metadata": {},
   "source": [
    "# Hands-on Workshop: Extending and Modifying a Power Grid Model DS Grid\n",
    "\n",
    "## Introduction & Setup\n",
    "Power Grid Model DS (PGM-DS) is an open-source Python toolkit for modeling electric power grids. It extends the core power-grid-model engine with a user-friendly interface for data science applications​. In PGM-DS, a power network is represented by a Grid dataclass that manages all network components (nodes, lines, transformers, loads, etc.) and ensures their consistency​.\n",
    "\n",
    "This library provides a graph-based representation of the network and an API to modify the network structure (e.g. adding or removing equipment), which is very useful for simulation studies​. In this workshop, you will perform a series of short exercises to get hands-on experience with two key features of PGM-DS:\n",
    "- Extending a grid with custom properties – how to subclass PGM-DS data structures to add your own fields.\n",
    "- Modifying a grid object – how to build and alter a grid (add nodes, lines, etc.) programmatically.\n",
    "\n",
    "We assume you are comfortable with Python and Jupyter notebooks. Before we begin, make sure you have PGM-DS installed:\n",
    "\n",
    "```bash\n",
    "pip install power-grid-model-ds\n",
    "```"
   ]
  },
  {
   "cell_type": "code",
   "execution_count": 38,
   "id": "fd2741c2",
   "metadata": {},
   "outputs": [],
   "source": [
    "# ⚙️ Setup\n",
    "import numpy as np\n",
    "from dataclasses import dataclass\n",
    "\n",
    "from power_grid_model_ds import Grid\n",
    "from power_grid_model_ds.arrays import NodeArray, LineArray, SymLoadArray, SourceArray\n",
    "from power_grid_model_ds.enums import NodeType\n",
    "\n",
    "# 📦 Extend the grid with x, y, u (node) and i_from (line)\n",
    "from numpy.typing import NDArray"
   ]
  },
  {
   "cell_type": "markdown",
   "id": "b53605bc",
   "metadata": {},
   "source": [
    "## Exercise 1: Extending the Grid with Custom Properties\n",
    "Context: By default, the PGM-DS Grid includes standard attributes for each component (like node voltage ratings, line impedances, etc.). However, certain project-specific data (for example, simulation results or custom labels) are not included out of the box​. PGM-DS allows you to extend the grid data model by subclassing its array classes to add new columns. In other words, you can inherit the existing functionality and add your own fields​.\n",
    "\n",
    "In this exercise, we will extend the grid to include an output voltage u for nodes and an output current i_from for lines, which are not present in the basic grid.\n",
    "\n",
    "### Step 1: Define Extended Node and Line arrays\n",
    "We create subclasses of NodeArray and LineArray that include the new properties. We'll call them MyNodeArray and MyLineArray. Each subclass defines a class attribute for the new column and (optionally) a default value for that column via a _defaults dictionary."
   ]
  },
  {
   "cell_type": "code",
   "execution_count": null,
   "id": "fcb5c7f4",
   "metadata": {},
   "outputs": [],
   "source": [
    "# ⚙️ Create two Array extensions to hold the x, y, u (extending NodeArray) and i_from (extending LineArray) attributes\n",
    "# Hint: <>"
   ]
  },
  {
   "cell_type": "code",
   "execution_count": 3,
   "id": "bf5fec95",
   "metadata": {},
   "outputs": [],
   "source": [
    "class MyNodeArray(NodeArray):\n",
    "    _defaults = {\"x\": 0.0, \"y\": 0.0, \"u\": 0.0}\n",
    "    x: NDArray[np.float64]\n",
    "    y: NDArray[np.float64]\n",
    "    u: NDArray[np.float64]\n",
    "\n",
    "class MyLineArray(LineArray):\n",
    "    _defaults = {\"i_from\": 0.0}\n",
    "    i_from: NDArray[np.float64]"
   ]
  },
  {
   "cell_type": "markdown",
   "id": "8ef5b9fa",
   "metadata": {},
   "source": [
    "### Step 2: Create an Extended Grid class\n",
    "Now we'll integrate these new arrays into a custom Grid class. We do this by subclassing the PGM-DS Grid and specifying that our grid should use MyNodeArray and MyLineArray instead of the default NodeArray and LineArray. We'll use Python's dataclass to define the new Grid schema:"
   ]
  },
  {
   "cell_type": "code",
   "execution_count": null,
   "id": "2da55398",
   "metadata": {},
   "outputs": [],
   "source": [
    "# ⚙️ Create a new grid class that uses the extended arrays\n",
    "# Hint: <>"
   ]
  },
  {
   "cell_type": "code",
   "execution_count": 6,
   "id": "07cd9186",
   "metadata": {},
   "outputs": [],
   "source": [
    "@dataclass\n",
    "class ExtendedGrid(Grid):\n",
    "    node: MyNodeArray\n",
    "    line: MyLineArray"
   ]
  },
  {
   "cell_type": "markdown",
   "id": "75264a22",
   "metadata": {},
   "source": [
    "This ExtendedGrid class inherits all the behavior of Grid but with our extended node and line definitions​. Essentially, we've informed the Grid that whenever it creates or manipulates the node or line arrays, it should use the extended versions that include the extra columns."
   ]
  },
  {
   "cell_type": "markdown",
   "id": "430f88b5",
   "metadata": {},
   "source": [
    "### Step 3: Initialize an Extended Grid\n",
    "With the classes defined, let's create an instance of our extended grid. PGM-DS provides a convenient class method Grid.empty() to initialize an empty grid. We'll call this on our ExtendedGrid:"
   ]
  },
  {
   "cell_type": "code",
   "execution_count": 7,
   "id": "c6040e5b",
   "metadata": {},
   "outputs": [
    {
     "data": {
      "text/plain": [
       "ExtendedGrid(_id_counter=0, graphs=GraphContainer(active_graph=<power_grid_model_ds._core.model.graphs.models.rustworkx.RustworkxGraphModel object at 0x7fb1e8a67860>, complete_graph=<power_grid_model_ds._core.model.graphs.models.rustworkx.RustworkxGraphModel object at 0x7fb1e8a64470>), node=MyNodeArray([[]]), transformer=TransformerArray([[]]), three_winding_transformer=ThreeWindingTransformerArray([[]]), line=MyLineArray([[]]), link=LinkArray([[]]), source=SourceArray([[]]), sym_load=SymLoadArray([[]]), sym_gen=SymGenArray([[]]), transformer_tap_regulator=TransformerTapRegulatorArray([[]]), sym_power_sensor=SymPowerSensorArray([[]]), sym_voltage_sensor=SymVoltageSensorArray([[]]), asym_voltage_sensor=AsymVoltageSensorArray([[]]))"
      ]
     },
     "execution_count": 7,
     "metadata": {},
     "output_type": "execute_result"
    }
   ],
   "source": [
    "# Instantiate an empty extended grid\n",
    "grid = ExtendedGrid.empty()\n",
    "grid"
   ]
  },
  {
   "cell_type": "markdown",
   "id": "06983bc4",
   "metadata": {},
   "source": [
    "Verification: To ensure our extended properties exist, you can access the new attributes:"
   ]
  },
  {
   "cell_type": "code",
   "execution_count": 9,
   "id": "ee1afd73",
   "metadata": {},
   "outputs": [
    {
     "name": "stdout",
     "output_type": "stream",
     "text": [
      "Node 'u' field exists? True\n",
      "Line 'i_from' field exists? True\n"
     ]
    }
   ],
   "source": [
    "print(\"Node 'u' field exists?\", hasattr(grid.node, \"u\"))\n",
    "print(\"Line 'i_from' field exists?\", hasattr(grid.line, \"i_from\"))"
   ]
  },
  {
   "cell_type": "code",
   "execution_count": 12,
   "id": "19df772e",
   "metadata": {},
   "outputs": [
    {
     "name": "stdout",
     "output_type": "stream",
     "text": [
      "Node array:  id | u_rated | node_type | feeder_branch_id | feeder_node_id | x | y | u \n",
      "\n"
     ]
    }
   ],
   "source": [
    "print(\"Node array:\", grid.node)"
   ]
  },
  {
   "cell_type": "markdown",
   "id": "7eb8b79f",
   "metadata": {},
   "source": [
    "Since we haven't added any nodes or lines yet, these arrays are empty"
   ]
  },
  {
   "cell_type": "markdown",
   "id": "c0b7b9e7",
   "metadata": {},
   "source": [
    "## Exercise 2: Building and Modifying the Grid Structure\n",
    "\n",
    "Context: The Grid object allows you to add, remove, and manipulate grid components in-memory. We will now construct a simple network step-by-step using our ext_grid. This will demonstrate how to modify a grid object by adding nodes and branches. In practice, you can start with an empty grid and programmatically add substations, lines, transformers, loads, sources, etc., as needed​. We will create a minimal example with two nodes (a source node and a load node) connected by a line, and verify that the grid is updated accordingly. (For brevity, we'll use a very small grid, but the same methods apply to larger networks.)\n",
    "\n",
    "Note: PGM-DS typically distinguishes node types (e.g., substation vs. regular node) and requires unique IDs for each element. We will manually specify IDs for clarity. The library’s Grid.append() method will be used to add new component records to the grid​.\n"
   ]
  },
  {
   "cell_type": "markdown",
   "id": "6b2d3489",
   "metadata": {},
   "source": [
    "### Step 1: Add a substation node\n",
    "First, let's add a substation node to the grid. We create an MyNodeArray with one entry representing the substation. We need to provide at least an id, a rated voltage (u_rated), and a node type.\n",
    "We will use the enum NodeType.SUBSTATION_NODE for the type.\n",
    "In this example, we will assign the substation an ID of 101 and a rated voltage of 10500.0 (which could represent 10.5 kV):"
   ]
  },
  {
   "cell_type": "code",
   "execution_count": null,
   "id": "c03c85f4",
   "metadata": {},
   "outputs": [],
   "source": [
    "# Create a substation node entry\n",
    "substation_node = MyNodeArray(\n",
    "    id=[101],\n",
    "    u_rated=[10500.0],                         # e.g., 10.5 kV base voltage\n",
    "    node_type=[NodeType.SUBSTATION_NODE.value] # type = 1 (Substation node)\n",
    ")\n",
    "# Append this node to the grid\n",
    "grid.append(substation_node, check_max_id=False)"
   ]
  },
  {
   "cell_type": "markdown",
   "id": "91ca3ea2",
   "metadata": {},
   "source": [
    "Here we constructed a MyNodeArray with one record and then appended it to grid. We set check_max_id=False to disable internal ID checks since we're manually managing IDs in this exercise. After running this, the grid now contains one node. Verification: Check that the node was added. For example:"
   ]
  },
  {
   "cell_type": "code",
   "execution_count": 27,
   "id": "8695367f",
   "metadata": {},
   "outputs": [
    {
     "name": "stdout",
     "output_type": "stream",
     "text": [
      "Nodes in the grid:\n",
      "  id | u_rated | node_type | feeder_branch_id | feeder_node_id |  x  |  y  |  u  \n",
      " 101 | 10500.0 |     1     |   -2147483648    |  -2147483648   | 0.0 | 0.0 | 0.0 \n"
     ]
    }
   ],
   "source": [
    "print(\"Nodes in the grid:\")\n",
    "print(grid.node)"
   ]
  },
  {
   "cell_type": "markdown",
   "id": "88cd0bb5",
   "metadata": {},
   "source": [
    "### Step 2: Add a second node\n",
    "Next, we'll add another node to represent a load or another bus in the grid. This node will be of a generic type (we'll use NodeType.UNSPECIFIED, which equals 0 in the enum). We'll give it an ID of 102 and the same base voltage (10.5 kV):"
   ]
  },
  {
   "cell_type": "code",
   "execution_count": null,
   "id": "780b1c35",
   "metadata": {},
   "outputs": [],
   "source": [
    "# Create another node\n",
    "load_node = MyNodeArray(\n",
    "    id=[102],\n",
    "    u_rated=[10500.0],\n",
    "    node_type=[NodeType.UNSPECIFIED.value]\n",
    ")\n",
    "grid.append(load_node, check_max_id=False)"
   ]
  },
  {
   "cell_type": "code",
   "execution_count": 30,
   "id": "3791cef2",
   "metadata": {},
   "outputs": [
    {
     "name": "stdout",
     "output_type": "stream",
     "text": [
      "Nodes in the grid:\n",
      "  id | u_rated | node_type | feeder_branch_id | feeder_node_id |  x  |  y  |  u  \n",
      " 101 | 10500.0 |     1     |   -2147483648    |  -2147483648   | 0.0 | 0.0 | 0.0 \n",
      " 102 | 10500.0 |     0     |   -2147483648    |  -2147483648   | 0.0 | 0.0 | 0.0 \n"
     ]
    }
   ],
   "source": [
    "print(\"Nodes in the grid:\")\n",
    "print(grid.node)"
   ]
  },
  {
   "cell_type": "markdown",
   "id": "a6f17195",
   "metadata": {},
   "source": [
    "### Step 3: Add a line connecting the two nodes\n",
    "Now that we have two nodes, we will connect them with a line. We'll use our MyLineArray to create a single line record. We need to specify an ID for the line (let's use 201), the from_node and to_node it connects (101 to 102), and statuses to indicate the line is active. We should also provide line electrical parameters (resistance, reactance, etc.) – we'll use some placeholder values here for demonstration:"
   ]
  },
  {
   "cell_type": "code",
   "execution_count": null,
   "id": "b4baa9b6",
   "metadata": {},
   "outputs": [],
   "source": [
    "# Create a line between node 101 and 102\n",
    "new_line = MyLineArray(\n",
    "    id=[201],\n",
    "    from_node=[101],\n",
    "    to_node=[102],\n",
    "    from_status=[1],      # 1 = active from-side, \n",
    "    to_status=[1],        # 1 = active to-side (both ends active)\n",
    "    i_n=[200.0],          # line current capacity (e.g., 200 A)\n",
    "    r1=[0.1], x1=[0.03],  # line resistance and reactance\n",
    "    c1=[0.0], tan1=[0.0]  # line capacitance and loss tangent (0 for simplicity)\n",
    ")\n",
    "grid.append(new_line, check_max_id=False)"
   ]
  },
  {
   "cell_type": "markdown",
   "id": "fa1e3f2f",
   "metadata": {},
   "source": [
    "This adds a line (ID 201) connecting node 101 to 102. We marked the line as active by setting both from_status and to_status to 1. We also provided some dummy impedance values. The approach of constructing a LineArray (or in our case, MyLineArray) with the necessary fields and appending it to the grid is shown in the official examples​. Verification: Check that the line was added to the grid:"
   ]
  },
  {
   "cell_type": "code",
   "execution_count": 32,
   "id": "e2914592",
   "metadata": {},
   "outputs": [
    {
     "name": "stdout",
     "output_type": "stream",
     "text": [
      "  id | from_node | to_node | from_status | to_status | feeder_branch_id | feeder_node_id | is_feeder |  r1 |  x1  |  c1 | tan1 |  i_n  | i_from \n",
      " 201 |    101    |   102   |      1      |     1     |   -2147483648    |  -2147483648   |   False   | 0.1 | 0.03 | 0.0 | 0.0  | 200.0 |  0.0   \n"
     ]
    }
   ],
   "source": [
    "print(grid.line)"
   ]
  },
  {
   "cell_type": "markdown",
   "id": "f7a5bc49",
   "metadata": {},
   "source": [
    "### Step 4: Add a load to the second node\n",
    "We'll now add a load connected to node 102. PGM-DS uses a SymLoadArray for symmetrical loads. We will create a single load with an ID of 401 at node 102. We need to specify the node it is attached to, a load type code (we'll use 1 for a basic load type), the specified active (p_specified) and reactive (q_specified) power (let's say 1e6 each, representing 1 MW and 1 Mvar for example), and set its status to active (1):"
   ]
  },
  {
   "cell_type": "code",
   "execution_count": null,
   "id": "ddd3445c",
   "metadata": {},
   "outputs": [],
   "source": [
    "# Create a load at node 102\n",
    "load = SymLoadArray(\n",
    "    id=[401],\n",
    "    node=[102],\n",
    "    type=[1],                # load type (e.g., 1 for constant power load)\n",
    "    p_specified=[1_000_000.0],  # 1e6 W = 1 MW\n",
    "    q_specified=[1_000_000.0],  # 1e6 VAR\n",
    "    status=[1]               # active\n",
    ")\n",
    "grid.append(load, check_max_id=False)"
   ]
  },
  {
   "cell_type": "markdown",
   "id": "972efb50",
   "metadata": {},
   "source": [
    "This adds one load to node 102. In practice, adding loads ensures that node 102 will be consuming power in any simulation. Verification: Check that the load appears in the grid:"
   ]
  },
  {
   "cell_type": "code",
   "execution_count": 37,
   "id": "a6e900eb",
   "metadata": {},
   "outputs": [
    {
     "name": "stdout",
     "output_type": "stream",
     "text": [
      "  id | node | status | type | p_specified | q_specified \n",
      " 401 | 102  |   1    |  1   |  1000000.0  |  1000000.0  \n"
     ]
    }
   ],
   "source": [
    "print(grid.sym_load)"
   ]
  },
  {
   "cell_type": "markdown",
   "id": "da53ba14",
   "metadata": {},
   "source": [
    "### Step 5: Add a source to the substation node\n",
    "Finally, we'll add a power source to supply the grid at the substation (node 101). We'll use SourceArray for this. We'll create a source with ID 501 at node 101, status active (1), and set a reference voltage u_ref. Typically, u_ref might be the slack/reference voltage magnitude or angle; we'll use 0.0 as a reference angle (assuming the default usage):"
   ]
  },
  {
   "cell_type": "code",
   "execution_count": null,
   "id": "e741dec4",
   "metadata": {},
   "outputs": [],
   "source": [
    "# Create a source at node 101\n",
    "source = SourceArray(\n",
    "    id=[501],\n",
    "    node=[101],\n",
    "    status=[1],\n",
    "    u_ref=[0.0]   # reference voltage or angle (0.0 as a placeholder)\n",
    ")\n",
    "grid.append(source, check_max_id=False)"
   ]
  },
  {
   "cell_type": "markdown",
   "id": "bda9752e",
   "metadata": {},
   "source": [
    "This adds a source (e.g., a generator or slack source) at node 101, so the grid now has a supply. Verification: Check the source:"
   ]
  },
  {
   "cell_type": "code",
   "execution_count": 40,
   "id": "3047ecf6",
   "metadata": {},
   "outputs": [
    {
     "name": "stdout",
     "output_type": "stream",
     "text": [
      "  id | node | status | u_ref \n",
      " 501 | 101  |   1    |  0.0  \n"
     ]
    }
   ],
   "source": [
    "print(grid.source)"
   ]
  },
  {
   "cell_type": "markdown",
   "id": "e5e6eb1b",
   "metadata": {},
   "source": [
    "You should see [501] as the source ID and [101] as the node, indicating the source is at node 101. The count of sources should be 1. Now we have built a simple grid with 2 nodes (101 and 102), 1 line connecting them, 1 load at node 102, and 1 source at node 101. It's good practice to ensure all IDs are unique and there are no inconsistencies. PGM-DS provides a method grid.check_ids() to validate this​"
   ]
  },
  {
   "cell_type": "code",
   "execution_count": 41,
   "id": "b756a4d5",
   "metadata": {},
   "outputs": [],
   "source": [
    "grid.check_ids()"
   ]
  },
  {
   "cell_type": "markdown",
   "id": "26f831f3",
   "metadata": {},
   "source": [
    "If everything is correct, this should execute without errors (it will raise an exception if any duplicate or conflicting IDs were found). We expect no issues since we chose unique IDs for each element type. For a final summary, let's print out the contents of our grid's key components:"
   ]
  },
  {
   "cell_type": "code",
   "execution_count": 43,
   "id": "c94ab378",
   "metadata": {},
   "outputs": [
    {
     "name": "stdout",
     "output_type": "stream",
     "text": [
      "Nodes: [101 102]\n",
      "Lines: [201]\n",
      "Loads: [401]\n",
      "Sources: [501]\n"
     ]
    }
   ],
   "source": [
    "print(\"Nodes:\", grid.node.id)         # Expect [101 102]\n",
    "print(\"Lines:\", grid.line.id)         # Expect [201]\n",
    "print(\"Loads:\", grid.sym_load.id)     # Expect [401]\n",
    "print(\"Sources:\", grid.source.id)     # Expect [501]\n"
   ]
  }
 ],
 "metadata": {
  "kernelspec": {
   "display_name": ".venv",
   "language": "python",
   "name": "python3"
  },
  "language_info": {
   "codemirror_mode": {
    "name": "ipython",
    "version": 3
   },
   "file_extension": ".py",
   "mimetype": "text/x-python",
   "name": "python",
   "nbconvert_exporter": "python",
   "pygments_lexer": "ipython3",
   "version": "3.12.6"
  }
 },
 "nbformat": 4,
 "nbformat_minor": 5
}
