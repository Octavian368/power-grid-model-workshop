{
 "cells": [
  {
   "cell_type": "code",
   "execution_count": 27,
   "metadata": {},
   "outputs": [],
   "source": [
    "from power_grid_model import PowerGridModel, CalculationMethod\n",
    "from power_grid_model.utils import json_deserialize_from_file\n",
    "import numpy as np\n"
   ]
  },
  {
   "cell_type": "code",
   "execution_count": 31,
   "metadata": {},
   "outputs": [],
   "source": [
    "def calculate_all_source_sk(start_sk_log, end_sk_log, method: CalculationMethod = CalculationMethod.newton_raphson):\n",
    "    n_steps = end_sk_log - start_sk_log\n",
    "    source_p = np.zeros(n_steps, dtype=np.float64)\n",
    "    source_q = np.zeros(n_steps, dtype=np.float64)\n",
    "    node_voltage_pu = np.zeros(n_steps, dtype=np.float64)\n",
    "    line_p = np.zeros(n_steps, dtype=np.float64)\n",
    "    line_q = np.zeros(n_steps, dtype=np.float64)\n",
    "\n",
    "    input_data = json_deserialize_from_file(\"grid.json\")\n",
    "\n",
    "    for i, sk_log in enumerate(range(start_sk_log, end_sk_log)):\n",
    "        sk = float(10 ** sk_log)\n",
    "        input_data[\"source\"][\"sk\"] = sk\n",
    "        model = PowerGridModel(input_data)\n",
    "        result = model.calculate_power_flow()\n",
    "        source_p[i] = result[\"source\"][\"p\"][0]\n",
    "        source_q[i] = result[\"source\"][\"q\"][0]\n",
    "        node_voltage_pu[i] = result[\"node\"][\"u_pu\"][0]\n",
    "        line_p[i] = result[\"line\"][\"p_from\"][0]\n",
    "        line_q[i] = result[\"line\"][\"q_from\"][0]\n",
    "    \n",
    "    return {\n",
    "        \"source_p\": source_p, \n",
    "        \"source_q\": source_q, \n",
    "        \"node_voltage_pu\": node_voltage_pu, \n",
    "        \"line_p\": line_p, \n",
    "        \"line_q\": line_q,\n",
    "        \"sk\": np.array([float(10 ** sk_log) for sk_log in range(start_sk_log, end_sk_log)])\n",
    "    }\n"
   ]
  },
  {
   "cell_type": "code",
   "execution_count": 34,
   "metadata": {},
   "outputs": [],
   "source": [
    "pgm_calculation = calculate_all_source_sk(8, 40, CalculationMethod.newton_raphson)"
   ]
  },
  {
   "cell_type": "code",
   "execution_count": null,
   "metadata": {},
   "outputs": [],
   "source": []
  }
 ],
 "metadata": {
  "kernelspec": {
   "display_name": ".venv",
   "language": "python",
   "name": "python3"
  },
  "language_info": {
   "codemirror_mode": {
    "name": "ipython",
    "version": 3
   },
   "file_extension": ".py",
   "mimetype": "text/x-python",
   "name": "python",
   "nbconvert_exporter": "python",
   "pygments_lexer": "ipython3",
   "version": "3.12.2"
  }
 },
 "nbformat": 4,
 "nbformat_minor": 2
}
