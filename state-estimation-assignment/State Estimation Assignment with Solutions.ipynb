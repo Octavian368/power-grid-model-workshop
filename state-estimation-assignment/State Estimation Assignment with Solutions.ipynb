{
 "cells": [
  {
   "attachments": {},
   "cell_type": "markdown",
   "id": "a727ce38",
   "metadata": {},
   "source": [
    "# Introduction\n",
    "\n",
    "In this assignment you will be given a series of tasks about using the library `power-grid-model` and performing a\n",
    "**state estimation**. In this assignment we will use the output data of a power flow calculation as input for our sensors\n",
    "so we can perform a state estimation. The tasks include:\n",
    "\n",
    "* Think about the number of sensors needed\n",
    "* Print the required loadflow output\n",
    "* Initializing only the required sensors and performing a state estimation\n",
    "* Comparing the state estimation results to the loadflow output\n",
    "* Adding more sensors to make the calculation more accurate\n",
    "\n",
    "The network we'll be using for troughout this workshop consists of three nodes, two lines, two loads and a source as shown below:\n",
    "\n",
    "```\n",
    " node_1 ---<line_4>--- node_2 ---<line_5>--- node_3\n",
    "   |                     |                     |\n",
    "source_8               load_6                load_7\n",
    "```"
   ]
  },
  {
   "attachments": {},
   "cell_type": "markdown",
   "id": "9cd12445",
   "metadata": {},
   "source": [
    "# Preparation\n",
    "\n",
    "First import everything we need for this workshop:"
   ]
  },
  {
   "cell_type": "code",
   "execution_count": 1,
   "id": "2bc7de1e",
   "metadata": {},
   "outputs": [],
   "source": [
    "from typing import Dict\n",
    "\n",
    "import numpy as np\n",
    "import pandas as pd\n",
    "\n",
    "from IPython.display import display, Markdown\n",
    "\n",
    "from power_grid_model import (\n",
    "    PowerGridModel,\n",
    "    CalculationType,\n",
    "    CalculationMethod,\n",
    "    ComponentType,\n",
    "    DatasetType,\n",
    "    LoadGenType,\n",
    "    initialize_array,\n",
    "    \n",
    ")\n",
    "\n",
    "from power_grid_model.validation import (\n",
    "    assert_valid_input_data,\n",
    "    assert_valid_batch_data\n",
    ")"
   ]
  },
  {
   "attachments": {},
   "cell_type": "markdown",
   "id": "50065790",
   "metadata": {},
   "source": [
    "## Generate example data\n",
    "\n",
    "In order to use realistic data in out workshop, we use the results of a power flow calculation, which gives us voltages, voltage angles, active powers, reactive powers, etc. Below all components of the network are initialized, a model is composed and a power flow calculation is executed."
   ]
  },
  {
   "cell_type": "code",
   "execution_count": 2,
   "id": "760a38b1",
   "metadata": {},
   "outputs": [],
   "source": [
    "# Initialize 3 nodes\n",
    "node = initialize_array(DatasetType.input, ComponentType.node, 3)\n",
    "node[\"id\"] = [1, 2, 3]\n",
    "node[\"u_rated\"] = [10.5e3, 10.5e3, 10.5e3]\n",
    "\n",
    "# Initialize 2 lines between the 3 nodes\n",
    "line = initialize_array(DatasetType.input, ComponentType.line, 2)\n",
    "line[\"id\"] = [4, 5]\n",
    "line[\"from_node\"] = [1, 2]\n",
    "line[\"to_node\"] = [2, 3]\n",
    "line[\"from_status\"] = [1, 1]\n",
    "line[\"to_status\"] = [1, 1]\n",
    "line[\"r1\"] = [0.25, 0.25]\n",
    "line[\"x1\"] = [0.2, 0.2]\n",
    "line[\"c1\"] = [10e-6, 10e-6]\n",
    "line[\"tan1\"] = [0.0, 0.0]\n",
    "line[\"i_n\"] = [1000, 1000]\n",
    "\n",
    "# Initialize 2 loads, each connected to a different node\n",
    "sym_load = initialize_array(DatasetType.input, ComponentType.sym_load, 2)\n",
    "sym_load[\"id\"] = [6, 7]\n",
    "sym_load[\"node\"] = [2, 3]\n",
    "sym_load[\"status\"] = [1, 1]\n",
    "sym_load[\"type\"] = [LoadGenType.const_power, LoadGenType.const_power]\n",
    "sym_load[\"p_specified\"] = [20e6, 10e6]\n",
    "sym_load[\"q_specified\"] = [5e6, 2e6]\n",
    "\n",
    "# Initialize 1 source, connected to a different node than the loads\n",
    "source = initialize_array(DatasetType.input, ComponentType.source, 1)\n",
    "source[\"id\"] = [8]\n",
    "source[\"node\"] = [1]\n",
    "source[\"status\"] = [1]\n",
    "source[\"u_ref\"] = [1.0]\n",
    "\n",
    "# Construct the input data\n",
    "input_data = {\n",
    "    ComponentType.node: node,\n",
    "    ComponentType.line: line,\n",
    "    ComponentType.sym_load: sym_load,\n",
    "    ComponentType.source: source\n",
    "}\n",
    "\n",
    "# Validate the input data\n",
    "assert_valid_input_data(input_data)\n",
    "\n",
    "# Create a power grid model\n",
    "model = PowerGridModel(input_data)\n",
    "\n",
    "# Run a (Newton Raphson) power flow calculation\n",
    "pf_output_data = model.calculate_power_flow(\n",
    "    symmetric=True, \n",
    "    error_tolerance=1e-8, \n",
    "    max_iterations=20, \n",
    "    calculation_method=CalculationMethod.newton_raphson\n",
    ")"
   ]
  },
  {
   "attachments": {},
   "cell_type": "markdown",
   "id": "0c2bad59",
   "metadata": {},
   "source": [
    "### View example data"
   ]
  },
  {
   "cell_type": "code",
   "execution_count": 3,
   "id": "02130221",
   "metadata": {},
   "outputs": [
    {
     "data": {
      "text/markdown": [
       "### Nodes (power flow):"
      ],
      "text/plain": [
       "<IPython.core.display.Markdown object>"
      ]
     },
     "metadata": {},
     "output_type": "display_data"
    },
    {
     "data": {
      "text/html": [
       "<div>\n",
       "<style scoped>\n",
       "    .dataframe tbody tr th:only-of-type {\n",
       "        vertical-align: middle;\n",
       "    }\n",
       "\n",
       "    .dataframe tbody tr th {\n",
       "        vertical-align: top;\n",
       "    }\n",
       "\n",
       "    .dataframe thead th {\n",
       "        text-align: right;\n",
       "    }\n",
       "</style>\n",
       "<table border=\"1\" class=\"dataframe\">\n",
       "  <thead>\n",
       "    <tr style=\"text-align: right;\">\n",
       "      <th></th>\n",
       "      <th>id</th>\n",
       "      <th>energized</th>\n",
       "      <th>u_pu</th>\n",
       "      <th>u</th>\n",
       "      <th>u_angle</th>\n",
       "      <th>p</th>\n",
       "      <th>q</th>\n",
       "    </tr>\n",
       "  </thead>\n",
       "  <tbody>\n",
       "    <tr>\n",
       "      <th>0</th>\n",
       "      <td>1</td>\n",
       "      <td>1</td>\n",
       "      <td>0.998793</td>\n",
       "      <td>10487.324420</td>\n",
       "      <td>-0.003196</td>\n",
       "      <td>3.295415e+07</td>\n",
       "      <td>8.770876e+06</td>\n",
       "    </tr>\n",
       "    <tr>\n",
       "      <th>1</th>\n",
       "      <td>2</td>\n",
       "      <td>1</td>\n",
       "      <td>0.908594</td>\n",
       "      <td>9540.234227</td>\n",
       "      <td>-0.046736</td>\n",
       "      <td>-2.000000e+07</td>\n",
       "      <td>-5.000000e+06</td>\n",
       "    </tr>\n",
       "    <tr>\n",
       "      <th>2</th>\n",
       "      <td>3</td>\n",
       "      <td>1</td>\n",
       "      <td>0.878800</td>\n",
       "      <td>9227.404378</td>\n",
       "      <td>-0.064156</td>\n",
       "      <td>-1.000000e+07</td>\n",
       "      <td>-2.000000e+06</td>\n",
       "    </tr>\n",
       "  </tbody>\n",
       "</table>\n",
       "</div>"
      ],
      "text/plain": [
       "   id  energized      u_pu             u   u_angle             p             q\n",
       "0   1          1  0.998793  10487.324420 -0.003196  3.295415e+07  8.770876e+06\n",
       "1   2          1  0.908594   9540.234227 -0.046736 -2.000000e+07 -5.000000e+06\n",
       "2   3          1  0.878800   9227.404378 -0.064156 -1.000000e+07 -2.000000e+06"
      ]
     },
     "metadata": {},
     "output_type": "display_data"
    },
    {
     "data": {
      "text/markdown": [
       "### Lines (power flow):"
      ],
      "text/plain": [
       "<IPython.core.display.Markdown object>"
      ]
     },
     "metadata": {},
     "output_type": "display_data"
    },
    {
     "data": {
      "text/html": [
       "<div>\n",
       "<style scoped>\n",
       "    .dataframe tbody tr th:only-of-type {\n",
       "        vertical-align: middle;\n",
       "    }\n",
       "\n",
       "    .dataframe tbody tr th {\n",
       "        vertical-align: top;\n",
       "    }\n",
       "\n",
       "    .dataframe thead th {\n",
       "        text-align: right;\n",
       "    }\n",
       "</style>\n",
       "<table border=\"1\" class=\"dataframe\">\n",
       "  <thead>\n",
       "    <tr style=\"text-align: right;\">\n",
       "      <th></th>\n",
       "      <th>id</th>\n",
       "      <th>energized</th>\n",
       "      <th>loading</th>\n",
       "      <th>p_from</th>\n",
       "      <th>q_from</th>\n",
       "      <th>i_from</th>\n",
       "      <th>s_from</th>\n",
       "      <th>p_to</th>\n",
       "      <th>q_to</th>\n",
       "      <th>i_to</th>\n",
       "      <th>s_to</th>\n",
       "    </tr>\n",
       "  </thead>\n",
       "  <tbody>\n",
       "    <tr>\n",
       "      <th>0</th>\n",
       "      <td>4</td>\n",
       "      <td>1</td>\n",
       "      <td>1.881744</td>\n",
       "      <td>3.295415e+07</td>\n",
       "      <td>8.770876e+06</td>\n",
       "      <td>1877.356010</td>\n",
       "      <td>3.410138e+07</td>\n",
       "      <td>-3.030384e+07</td>\n",
       "      <td>-6.966361e+06</td>\n",
       "      <td>1881.744187</td>\n",
       "      <td>3.109426e+07</td>\n",
       "    </tr>\n",
       "    <tr>\n",
       "      <th>1</th>\n",
       "      <td>5</td>\n",
       "      <td>1</td>\n",
       "      <td>0.638082</td>\n",
       "      <td>1.030384e+07</td>\n",
       "      <td>1.966361e+06</td>\n",
       "      <td>634.815121</td>\n",
       "      <td>1.048979e+07</td>\n",
       "      <td>-1.000000e+07</td>\n",
       "      <td>-2.000000e+06</td>\n",
       "      <td>638.081993</td>\n",
       "      <td>1.019804e+07</td>\n",
       "    </tr>\n",
       "  </tbody>\n",
       "</table>\n",
       "</div>"
      ],
      "text/plain": [
       "   id  energized   loading        p_from        q_from       i_from  \\\n",
       "0   4          1  1.881744  3.295415e+07  8.770876e+06  1877.356010   \n",
       "1   5          1  0.638082  1.030384e+07  1.966361e+06   634.815121   \n",
       "\n",
       "         s_from          p_to          q_to         i_to          s_to  \n",
       "0  3.410138e+07 -3.030384e+07 -6.966361e+06  1881.744187  3.109426e+07  \n",
       "1  1.048979e+07 -1.000000e+07 -2.000000e+06   638.081993  1.019804e+07  "
      ]
     },
     "metadata": {},
     "output_type": "display_data"
    },
    {
     "data": {
      "text/markdown": [
       "### Sym_Loads (power flow):"
      ],
      "text/plain": [
       "<IPython.core.display.Markdown object>"
      ]
     },
     "metadata": {},
     "output_type": "display_data"
    },
    {
     "data": {
      "text/html": [
       "<div>\n",
       "<style scoped>\n",
       "    .dataframe tbody tr th:only-of-type {\n",
       "        vertical-align: middle;\n",
       "    }\n",
       "\n",
       "    .dataframe tbody tr th {\n",
       "        vertical-align: top;\n",
       "    }\n",
       "\n",
       "    .dataframe thead th {\n",
       "        text-align: right;\n",
       "    }\n",
       "</style>\n",
       "<table border=\"1\" class=\"dataframe\">\n",
       "  <thead>\n",
       "    <tr style=\"text-align: right;\">\n",
       "      <th></th>\n",
       "      <th>id</th>\n",
       "      <th>energized</th>\n",
       "      <th>p</th>\n",
       "      <th>q</th>\n",
       "      <th>i</th>\n",
       "      <th>s</th>\n",
       "      <th>pf</th>\n",
       "    </tr>\n",
       "  </thead>\n",
       "  <tbody>\n",
       "    <tr>\n",
       "      <th>0</th>\n",
       "      <td>6</td>\n",
       "      <td>1</td>\n",
       "      <td>20000000.0</td>\n",
       "      <td>5000000.0</td>\n",
       "      <td>1247.598375</td>\n",
       "      <td>2.061553e+07</td>\n",
       "      <td>0.970143</td>\n",
       "    </tr>\n",
       "    <tr>\n",
       "      <th>1</th>\n",
       "      <td>7</td>\n",
       "      <td>1</td>\n",
       "      <td>10000000.0</td>\n",
       "      <td>2000000.0</td>\n",
       "      <td>638.081993</td>\n",
       "      <td>1.019804e+07</td>\n",
       "      <td>0.980581</td>\n",
       "    </tr>\n",
       "  </tbody>\n",
       "</table>\n",
       "</div>"
      ],
      "text/plain": [
       "   id  energized           p          q            i             s        pf\n",
       "0   6          1  20000000.0  5000000.0  1247.598375  2.061553e+07  0.970143\n",
       "1   7          1  10000000.0  2000000.0   638.081993  1.019804e+07  0.980581"
      ]
     },
     "metadata": {},
     "output_type": "display_data"
    },
    {
     "data": {
      "text/markdown": [
       "### Sources (power flow):"
      ],
      "text/plain": [
       "<IPython.core.display.Markdown object>"
      ]
     },
     "metadata": {},
     "output_type": "display_data"
    },
    {
     "data": {
      "text/html": [
       "<div>\n",
       "<style scoped>\n",
       "    .dataframe tbody tr th:only-of-type {\n",
       "        vertical-align: middle;\n",
       "    }\n",
       "\n",
       "    .dataframe tbody tr th {\n",
       "        vertical-align: top;\n",
       "    }\n",
       "\n",
       "    .dataframe thead th {\n",
       "        text-align: right;\n",
       "    }\n",
       "</style>\n",
       "<table border=\"1\" class=\"dataframe\">\n",
       "  <thead>\n",
       "    <tr style=\"text-align: right;\">\n",
       "      <th></th>\n",
       "      <th>id</th>\n",
       "      <th>energized</th>\n",
       "      <th>p</th>\n",
       "      <th>q</th>\n",
       "      <th>i</th>\n",
       "      <th>s</th>\n",
       "      <th>pf</th>\n",
       "    </tr>\n",
       "  </thead>\n",
       "  <tbody>\n",
       "    <tr>\n",
       "      <th>0</th>\n",
       "      <td>8</td>\n",
       "      <td>1</td>\n",
       "      <td>3.295415e+07</td>\n",
       "      <td>8.770876e+06</td>\n",
       "      <td>1877.35601</td>\n",
       "      <td>3.410138e+07</td>\n",
       "      <td>0.966358</td>\n",
       "    </tr>\n",
       "  </tbody>\n",
       "</table>\n",
       "</div>"
      ],
      "text/plain": [
       "   id  energized             p             q           i             s  \\\n",
       "0   8          1  3.295415e+07  8.770876e+06  1877.35601  3.410138e+07   \n",
       "\n",
       "         pf  \n",
       "0  0.966358  "
      ]
     },
     "metadata": {},
     "output_type": "display_data"
    }
   ],
   "source": [
    "# Display the results\n",
    "for component, data in pf_output_data.items():\n",
    "    display(Markdown(f\"### {component.title()}s (power flow):\"))\n",
    "    display(pd.DataFrame(data))"
   ]
  },
  {
   "attachments": {},
   "cell_type": "markdown",
   "id": "0234cab7",
   "metadata": {},
   "source": [
    "# Assignment 1: Number of sensors\n",
    "\n",
    "In order to perform a state estimation some voltage and power sensors need to be added to the model.\n",
    "For the calculation to be successful a minimum number of sensors is required.\n",
    "\n",
    "- What is the minimum number of sensors to perform a state estimation on the given network?\n",
    "- How many of those should be voltage sensors?\n"
   ]
  },
  {
   "cell_type": "code",
   "execution_count": 4,
   "id": "2baee3cd",
   "metadata": {},
   "outputs": [],
   "source": [
    "# Fill in the minimal required number of sensors below\n",
    "n_sensors = 6         # There are three nodes, so 6 unknowns (3 * voltage + 3 * voltage angle)\n",
    "n_voltage_sensors = 1 # You always need at least 1 voltage sensor"
   ]
  },
  {
   "attachments": {},
   "cell_type": "markdown",
   "id": "940d48be",
   "metadata": {},
   "source": [
    "# Assignment 2: Collecting voltage sensor data\n",
    "\n",
    "In this assignment print the output of the assets in the the loadflow calculation, which is needed as input for the voltage sensors. \n",
    "\n",
    "Hint: convert to a pandas DataFrame before printing for a better overview"
   ]
  },
  {
   "cell_type": "code",
   "execution_count": 5,
   "id": "71b39571",
   "metadata": {},
   "outputs": [
    {
     "data": {
      "text/html": [
       "<div>\n",
       "<style scoped>\n",
       "    .dataframe tbody tr th:only-of-type {\n",
       "        vertical-align: middle;\n",
       "    }\n",
       "\n",
       "    .dataframe tbody tr th {\n",
       "        vertical-align: top;\n",
       "    }\n",
       "\n",
       "    .dataframe thead th {\n",
       "        text-align: right;\n",
       "    }\n",
       "</style>\n",
       "<table border=\"1\" class=\"dataframe\">\n",
       "  <thead>\n",
       "    <tr style=\"text-align: right;\">\n",
       "      <th></th>\n",
       "      <th>id</th>\n",
       "      <th>energized</th>\n",
       "      <th>u_pu</th>\n",
       "      <th>u</th>\n",
       "      <th>u_angle</th>\n",
       "      <th>p</th>\n",
       "      <th>q</th>\n",
       "    </tr>\n",
       "  </thead>\n",
       "  <tbody>\n",
       "    <tr>\n",
       "      <th>0</th>\n",
       "      <td>1</td>\n",
       "      <td>1</td>\n",
       "      <td>0.998793</td>\n",
       "      <td>10487.324420</td>\n",
       "      <td>-0.003196</td>\n",
       "      <td>3.295415e+07</td>\n",
       "      <td>8.770876e+06</td>\n",
       "    </tr>\n",
       "    <tr>\n",
       "      <th>1</th>\n",
       "      <td>2</td>\n",
       "      <td>1</td>\n",
       "      <td>0.908594</td>\n",
       "      <td>9540.234227</td>\n",
       "      <td>-0.046736</td>\n",
       "      <td>-2.000000e+07</td>\n",
       "      <td>-5.000000e+06</td>\n",
       "    </tr>\n",
       "    <tr>\n",
       "      <th>2</th>\n",
       "      <td>3</td>\n",
       "      <td>1</td>\n",
       "      <td>0.878800</td>\n",
       "      <td>9227.404378</td>\n",
       "      <td>-0.064156</td>\n",
       "      <td>-1.000000e+07</td>\n",
       "      <td>-2.000000e+06</td>\n",
       "    </tr>\n",
       "  </tbody>\n",
       "</table>\n",
       "</div>"
      ],
      "text/plain": [
       "   id  energized      u_pu             u   u_angle             p             q\n",
       "0   1          1  0.998793  10487.324420 -0.003196  3.295415e+07  8.770876e+06\n",
       "1   2          1  0.908594   9540.234227 -0.046736 -2.000000e+07 -5.000000e+06\n",
       "2   3          1  0.878800   9227.404378 -0.064156 -1.000000e+07 -2.000000e+06"
      ]
     },
     "metadata": {},
     "output_type": "display_data"
    }
   ],
   "source": [
    "# Print the assets in the output data that we need for the voltage sensors\n",
    "display(pd.DataFrame(pf_output_data[ComponentType.node]))"
   ]
  },
  {
   "attachments": {},
   "cell_type": "markdown",
   "id": "2b013fa7",
   "metadata": {},
   "source": [
    "# Assignment 3: Initialize the sensors\n",
    "\n",
    "In this assignment we will perform a state estimation based on three voltage sensors that only measure the voltage. \n",
    "If you look closely to the data, you'll notice that the number of measurements (3) is not larger than or equal to the number of unknowns (6). \n",
    "So the system is not *fully observable* and you might expect the state estimation to fail. \n",
    "However, the linear state estimation algorithm will assume the voltage angles (3) to be zero if no value is given. \n",
    "In other words, the mathematical core will give us a faulty result, without any warning! \n",
    "To prevent this, we need an observability check, which is complex, but will be added to the validation functions in the future.\n",
    "\n",
    "- initialize the voltage sensors\n",
    "- extend the input data set, with the voltage sensors\n",
    "- construct a new model with the new input data\n",
    "- run the state estimation calculation"
   ]
  },
  {
   "cell_type": "code",
   "execution_count": 6,
   "id": "88034903",
   "metadata": {},
   "outputs": [],
   "source": [
    "# Initialize 3 symmetric voltage sensors, each connected to a different node\n",
    "sym_voltage_sensor = initialize_array(DatasetType.input, ComponentType.sym_voltage_sensor, 3)\n",
    "sym_voltage_sensor[\"id\"] = [9, 10, 11]\n",
    "sym_voltage_sensor[\"measured_object\"] = [1, 2, 3]\n",
    "sym_voltage_sensor[\"u_sigma\"] = 10.0\n",
    "sym_voltage_sensor[\"u_measured\"] = [10487.324420, 9540.234227, 9227.404378]\n",
    "\n",
    "# Add the sensors to the input data\n",
    "input_data[ComponentType.sym_voltage_sensor] = sym_voltage_sensor\n",
    "\n",
    "# Validate the input data\n",
    "assert_valid_input_data(input_data, calculation_type=CalculationType.state_estimation, symmetric=True)\n",
    "\n",
    "# Create a power grid model\n",
    "model = PowerGridModel(input_data)\n",
    "\n",
    "# Run the (iterative linear) state estimation\n",
    "se_output_data = model.calculate_state_estimation(\n",
    "    symmetric=True, \n",
    "    error_tolerance=1e-8, \n",
    "    max_iterations=20, \n",
    "    calculation_method=CalculationMethod.iterative_linear)"
   ]
  },
  {
   "attachments": {},
   "cell_type": "markdown",
   "id": "f4736cc1",
   "metadata": {},
   "source": [
    "# Assignment 4: Compare the results between the loadflow and state estimation\n",
    "\n",
    "For all nodes:\n",
    "- print the difference in `u` between `se_output_data` and `pf_output_data`\n",
    "\n",
    "For all lines:\n",
    "- print the difference in `p_from` between `se_output_data` and `pf_output_data`\n",
    "- print the difference in `p_to` between `se_output_data` and `pf_output_data`\n",
    "- print the difference in `q_from` between `se_output_data` and `pf_output_data`\n",
    "- print the difference in `q_to` between `se_output_data` and `pf_output_data`\n",
    "\n",
    "You should see that while the voltages match quite precisely (in the order of microvolts), the *p* and *q* are way off (in the order of megawatts / mega VARs). This is as expected, because we used voltage angles of 0.0."
   ]
  },
  {
   "cell_type": "code",
   "execution_count": 7,
   "id": "a8d298d5",
   "metadata": {
    "scrolled": true
   },
   "outputs": [
    {
     "name": "stdout",
     "output_type": "stream",
     "text": [
      "-------------- nodes --------------\n",
      "delta_u: [-4.95101631e-07  4.55753252e-07 -3.82213329e-07]\n",
      "-------------- lines --------------\n",
      "delta_p_from: [-8728680.30456089 -3024647.99628876]\n",
      "delta_p_to: [8266130.33127038 2959493.85797146]\n",
      "delta_q_from: [10436736.61039324  3714027.04294619]\n",
      "delta_q_to: [-10806776.58902305  -3766150.35360264]\n"
     ]
    }
   ],
   "source": [
    "# Print the delta u for all nodes (pf_output_data - se_output_data)\n",
    "print(\"-------------- nodes --------------\")\n",
    "print(\"delta_u:\", se_output_data[ComponentType.node][\"u\"] - pf_output_data[ComponentType.node][\"u\"])\n",
    "\n",
    "# Print the delta p and q for all lines (pf_output_data - se_output_data)\n",
    "print(\"-------------- lines --------------\")\n",
    "print(\"delta_p_from:\", se_output_data[ComponentType.line][\"p_from\"] - pf_output_data[ComponentType.line][\"p_from\"])\n",
    "print(\"delta_p_to:\", se_output_data[ComponentType.line][\"p_to\"] - pf_output_data[ComponentType.line][\"p_to\"])\n",
    "print(\"delta_q_from:\", se_output_data[ComponentType.line][\"q_from\"] - pf_output_data[ComponentType.line][\"q_from\"])\n",
    "print(\"delta_q_to:\", se_output_data[ComponentType.line][\"q_to\"] - pf_output_data[ComponentType.line][\"q_to\"])"
   ]
  },
  {
   "attachments": {},
   "cell_type": "markdown",
   "id": "8db14616",
   "metadata": {},
   "source": [
    "#  Assignment 5: Add voltage angle measurements\n",
    "\n",
    "Now we will update the model by adding voltage angles to the voltage sensors.\n",
    "We could alter the `input_data` and construct a new Model, but for the purpose of this workshop (and efficiency) we'll supply the voltage angles as `update_data`, which could potentially be a *batch* calculation in other usecases.\n",
    "\n",
    "- initialize an update voltage sensor array\n",
    "- create an update dataset\n",
    "- perform a state estimation, using the update dataset\n",
    "- compare the results (as in assignment 4)\n",
    "\n",
    "You should see that the voltages match quite precisely (in the order of microvolts), the *p* and *q* do too (in the order of 0.01 watts / VARs), because we used the exact voltage angles from the power flow calculation."
   ]
  },
  {
   "cell_type": "code",
   "execution_count": 8,
   "id": "baa25a03",
   "metadata": {},
   "outputs": [
    {
     "name": "stdout",
     "output_type": "stream",
     "text": [
      "-------------- nodes --------------\n",
      "delta_u: [[-4.95103450e-07  4.55753252e-07 -3.82213329e-07]]\n",
      "-------------- lines --------------\n",
      "delta_p_from: [[-0.02546053  0.01986549]]\n",
      "delta_p_to: [[ 0.02106792 -0.01858632]]\n",
      "delta_q_from: [[-0.02036191  0.01583975]]\n",
      "delta_q_to: [[ 0.01685042 -0.01481904]]\n"
     ]
    }
   ],
   "source": [
    "# Initialize a voltage sensor update array for 3 sensors\n",
    "update_sym_voltage_sensor = initialize_array(DatasetType.update, ComponentType.sym_voltage_sensor, 3)\n",
    "update_sym_voltage_sensor[\"id\"] = [9, 10, 11]  # Use the same IDs as the original sensors\n",
    "update_sym_voltage_sensor[\"u_angle_measured\"] = pf_output_data[ComponentType.node][\"u_angle\"]\n",
    "\n",
    "# Create an update dataset \n",
    "update_data = {\n",
    "    ComponentType.sym_voltage_sensor: update_sym_voltage_sensor\n",
    "}\n",
    "\n",
    "# Validate the update data\n",
    "assert_valid_batch_data(input_data, update_data, calculation_type=CalculationType.state_estimation, symmetric=True)\n",
    "\n",
    "# Run the (iterative linear) state estimation\n",
    "se_output_data_u_angle = model.calculate_state_estimation(\n",
    "    update_data = update_data,\n",
    "    symmetric=True,\n",
    "    error_tolerance=1e-8, \n",
    "    max_iterations=20, \n",
    "    calculation_method=CalculationMethod.iterative_linear)\n",
    "\n",
    "# Print the delta u for all nodes (se_output_data_u_angle - pf_output_data)\n",
    "print(\"-------------- nodes --------------\")\n",
    "print(\"delta_u:\", se_output_data_u_angle[ComponentType.node][\"u\"] - pf_output_data[ComponentType.node][\"u\"])\n",
    "\n",
    "# Print the delta p and q for all lines (se_output_data_u_angle - pf_output_data)\n",
    "print(\"-------------- lines --------------\")\n",
    "print(\"delta_p_from:\", se_output_data_u_angle[ComponentType.line][\"p_from\"] - pf_output_data[ComponentType.line][\"p_from\"])\n",
    "print(\"delta_p_to:\", se_output_data_u_angle[ComponentType.line][\"p_to\"] - pf_output_data[ComponentType.line][\"p_to\"])\n",
    "print(\"delta_q_from:\", se_output_data_u_angle[ComponentType.line][\"q_from\"] - pf_output_data[ComponentType.line][\"q_from\"])\n",
    "print(\"delta_q_to:\", se_output_data_u_angle[ComponentType.line][\"q_to\"] - pf_output_data[ComponentType.line][\"q_to\"])"
   ]
  },
  {
   "attachments": {},
   "cell_type": "markdown",
   "id": "7b054f55",
   "metadata": {},
   "source": [
    "# Assignment 6: Add power sensors to the model\n",
    "\n",
    "In common power grids most voltage sensors only measure the voltage magnitude; not the angle. In this assigment we will again use the `input_data` of assignment 3 (with unknown voltage angles) and we will connect power sensors to the model.\n",
    "\n",
    "In our network it would be possible to connect power sensors to the lines, the loads and the source. To assign realistic measurement values to the power sensors we can use the powerflow output.\n",
    "\n",
    "- Print the powerflow output of the lines, loads and source\n",
    "- Initialize as many `sym_power_sensors` as you like (think about which data you use for which type of power sensor)\n",
    "- Create a new input data set, including both voltage and power sensors\n",
    "- Use the print statements of assignment 4 to compare the results\n",
    "\n",
    "You should see that the voltages match quite precisely (in the order of microvolts), the *p* and *q* do too (in the order of watts / VARs)."
   ]
  },
  {
   "cell_type": "code",
   "execution_count": 9,
   "id": "c7cb7bb7",
   "metadata": {},
   "outputs": [
    {
     "name": "stdout",
     "output_type": "stream",
     "text": [
      "Lines:\n"
     ]
    },
    {
     "data": {
      "text/html": [
       "<div>\n",
       "<style scoped>\n",
       "    .dataframe tbody tr th:only-of-type {\n",
       "        vertical-align: middle;\n",
       "    }\n",
       "\n",
       "    .dataframe tbody tr th {\n",
       "        vertical-align: top;\n",
       "    }\n",
       "\n",
       "    .dataframe thead th {\n",
       "        text-align: right;\n",
       "    }\n",
       "</style>\n",
       "<table border=\"1\" class=\"dataframe\">\n",
       "  <thead>\n",
       "    <tr style=\"text-align: right;\">\n",
       "      <th></th>\n",
       "      <th>id</th>\n",
       "      <th>energized</th>\n",
       "      <th>loading</th>\n",
       "      <th>p_from</th>\n",
       "      <th>q_from</th>\n",
       "      <th>i_from</th>\n",
       "      <th>s_from</th>\n",
       "      <th>p_to</th>\n",
       "      <th>q_to</th>\n",
       "      <th>i_to</th>\n",
       "      <th>s_to</th>\n",
       "    </tr>\n",
       "  </thead>\n",
       "  <tbody>\n",
       "    <tr>\n",
       "      <th>0</th>\n",
       "      <td>4</td>\n",
       "      <td>1</td>\n",
       "      <td>1.881744</td>\n",
       "      <td>3.295415e+07</td>\n",
       "      <td>8.770876e+06</td>\n",
       "      <td>1877.356010</td>\n",
       "      <td>3.410138e+07</td>\n",
       "      <td>-3.030384e+07</td>\n",
       "      <td>-6.966361e+06</td>\n",
       "      <td>1881.744187</td>\n",
       "      <td>3.109426e+07</td>\n",
       "    </tr>\n",
       "    <tr>\n",
       "      <th>1</th>\n",
       "      <td>5</td>\n",
       "      <td>1</td>\n",
       "      <td>0.638082</td>\n",
       "      <td>1.030384e+07</td>\n",
       "      <td>1.966361e+06</td>\n",
       "      <td>634.815121</td>\n",
       "      <td>1.048979e+07</td>\n",
       "      <td>-1.000000e+07</td>\n",
       "      <td>-2.000000e+06</td>\n",
       "      <td>638.081993</td>\n",
       "      <td>1.019804e+07</td>\n",
       "    </tr>\n",
       "  </tbody>\n",
       "</table>\n",
       "</div>"
      ],
      "text/plain": [
       "   id  energized   loading        p_from        q_from       i_from  \\\n",
       "0   4          1  1.881744  3.295415e+07  8.770876e+06  1877.356010   \n",
       "1   5          1  0.638082  1.030384e+07  1.966361e+06   634.815121   \n",
       "\n",
       "         s_from          p_to          q_to         i_to          s_to  \n",
       "0  3.410138e+07 -3.030384e+07 -6.966361e+06  1881.744187  3.109426e+07  \n",
       "1  1.048979e+07 -1.000000e+07 -2.000000e+06   638.081993  1.019804e+07  "
      ]
     },
     "metadata": {},
     "output_type": "display_data"
    },
    {
     "name": "stdout",
     "output_type": "stream",
     "text": [
      "Sources:\n"
     ]
    },
    {
     "data": {
      "text/html": [
       "<div>\n",
       "<style scoped>\n",
       "    .dataframe tbody tr th:only-of-type {\n",
       "        vertical-align: middle;\n",
       "    }\n",
       "\n",
       "    .dataframe tbody tr th {\n",
       "        vertical-align: top;\n",
       "    }\n",
       "\n",
       "    .dataframe thead th {\n",
       "        text-align: right;\n",
       "    }\n",
       "</style>\n",
       "<table border=\"1\" class=\"dataframe\">\n",
       "  <thead>\n",
       "    <tr style=\"text-align: right;\">\n",
       "      <th></th>\n",
       "      <th>id</th>\n",
       "      <th>energized</th>\n",
       "      <th>p</th>\n",
       "      <th>q</th>\n",
       "      <th>i</th>\n",
       "      <th>s</th>\n",
       "      <th>pf</th>\n",
       "    </tr>\n",
       "  </thead>\n",
       "  <tbody>\n",
       "    <tr>\n",
       "      <th>0</th>\n",
       "      <td>8</td>\n",
       "      <td>1</td>\n",
       "      <td>3.295415e+07</td>\n",
       "      <td>8.770876e+06</td>\n",
       "      <td>1877.35601</td>\n",
       "      <td>3.410138e+07</td>\n",
       "      <td>0.966358</td>\n",
       "    </tr>\n",
       "  </tbody>\n",
       "</table>\n",
       "</div>"
      ],
      "text/plain": [
       "   id  energized             p             q           i             s  \\\n",
       "0   8          1  3.295415e+07  8.770876e+06  1877.35601  3.410138e+07   \n",
       "\n",
       "         pf  \n",
       "0  0.966358  "
      ]
     },
     "metadata": {},
     "output_type": "display_data"
    },
    {
     "name": "stdout",
     "output_type": "stream",
     "text": [
      "Loads:\n"
     ]
    },
    {
     "data": {
      "text/html": [
       "<div>\n",
       "<style scoped>\n",
       "    .dataframe tbody tr th:only-of-type {\n",
       "        vertical-align: middle;\n",
       "    }\n",
       "\n",
       "    .dataframe tbody tr th {\n",
       "        vertical-align: top;\n",
       "    }\n",
       "\n",
       "    .dataframe thead th {\n",
       "        text-align: right;\n",
       "    }\n",
       "</style>\n",
       "<table border=\"1\" class=\"dataframe\">\n",
       "  <thead>\n",
       "    <tr style=\"text-align: right;\">\n",
       "      <th></th>\n",
       "      <th>id</th>\n",
       "      <th>energized</th>\n",
       "      <th>p</th>\n",
       "      <th>q</th>\n",
       "      <th>i</th>\n",
       "      <th>s</th>\n",
       "      <th>pf</th>\n",
       "    </tr>\n",
       "  </thead>\n",
       "  <tbody>\n",
       "    <tr>\n",
       "      <th>0</th>\n",
       "      <td>6</td>\n",
       "      <td>1</td>\n",
       "      <td>20000000.0</td>\n",
       "      <td>5000000.0</td>\n",
       "      <td>1247.598375</td>\n",
       "      <td>2.061553e+07</td>\n",
       "      <td>0.970143</td>\n",
       "    </tr>\n",
       "    <tr>\n",
       "      <th>1</th>\n",
       "      <td>7</td>\n",
       "      <td>1</td>\n",
       "      <td>10000000.0</td>\n",
       "      <td>2000000.0</td>\n",
       "      <td>638.081993</td>\n",
       "      <td>1.019804e+07</td>\n",
       "      <td>0.980581</td>\n",
       "    </tr>\n",
       "  </tbody>\n",
       "</table>\n",
       "</div>"
      ],
      "text/plain": [
       "   id  energized           p          q            i             s        pf\n",
       "0   6          1  20000000.0  5000000.0  1247.598375  2.061553e+07  0.970143\n",
       "1   7          1  10000000.0  2000000.0   638.081993  1.019804e+07  0.980581"
      ]
     },
     "metadata": {},
     "output_type": "display_data"
    }
   ],
   "source": [
    "# Print the lines, loads and sources\n",
    "print(\"Lines:\")\n",
    "display(pd.DataFrame(pf_output_data[ComponentType.line]))\n",
    "print(\"Sources:\")\n",
    "display(pd.DataFrame(pf_output_data[ComponentType.source]))\n",
    "print(\"Loads:\")\n",
    "display(pd.DataFrame(pf_output_data[ComponentType.sym_load]))"
   ]
  },
  {
   "cell_type": "code",
   "execution_count": 10,
   "id": "7db83085",
   "metadata": {},
   "outputs": [
    {
     "name": "stdout",
     "output_type": "stream",
     "text": [
      "-------------- nodes --------------\n",
      "delta_u: [0.00028959 0.00037244 0.00042541]\n",
      "-------------- lines --------------\n",
      "delta_p_from: [ 1.69415257 -0.19360323]\n",
      "delta_p_to: [-1.7813758   0.13951295]\n",
      "delta_q_from: [-4.79719471 -1.68604537]\n",
      "delta_q_to: [4.70671219 1.61927823]\n"
     ]
    }
   ],
   "source": [
    "# TODO: Initialize as many power sensors as you like.\n",
    "# Note that the sensors must added to the `input_data`, not `update_data`, as they don't exist in the model yet.sym_power_sensor = initialize_array(DatasetType.input, ComponentType.sym_power_sensor, 7)\n",
    "sym_power_sensor = initialize_array(DatasetType.input, ComponentType.sym_power_sensor, 7)\n",
    "sym_power_sensor[\"id\"] = [12, 13, 14, 15, 16, 17, 18]\n",
    "sym_power_sensor[\"measured_object\"] = [4, 4, 5, 5, 6, 7, 8]\n",
    "sym_power_sensor[\"measured_terminal_type\"] = [0, 1, 0, 1, 4, 4, 2]\n",
    "sym_power_sensor[\"power_sigma\"] = 1.0e3\n",
    "sym_power_sensor[\"p_measured\"] = [3.295415e7, -3.030384e7, 1.030384e7, -1.0e7, 2.0e7, 1.0e7, 3.295415e7]\n",
    "sym_power_sensor[\"q_measured\"] = [8.770876e6, -6.966361e6, 1.966361e6, -2.0e6, 5.0e6, 2.0e6, 8.770876e6]\n",
    "\n",
    "# Add the sensors to the input data\n",
    "input_data[ComponentType.sym_power_sensor] = sym_power_sensor\n",
    "# Validate the input data\n",
    "assert_valid_input_data(input_data, calculation_type=CalculationType.state_estimation, symmetric=True)\n",
    "\n",
    "# Create a new power grid model\n",
    "model = PowerGridModel(input_data)\n",
    "\n",
    "# Run the (iterative linear) state estimation\n",
    "se_output_data_power = model.calculate_state_estimation(\n",
    "    symmetric=True, \n",
    "    error_tolerance=1e-8, \n",
    "    max_iterations=20, \n",
    "    calculation_method=CalculationMethod.iterative_linear)\n",
    "\n",
    "# Print the delta u for all nodes (se_output_data_u_angle - pf_output_data)\n",
    "print(\"-------------- nodes --------------\")\n",
    "print(\"delta_u:\", se_output_data_power[ComponentType.node][\"u\"] - pf_output_data[ComponentType.node][\"u\"])\n",
    "\n",
    "# Print the delta p and q for all lines (se_output_data_u_angle - pf_output_data)\n",
    "print(\"-------------- lines --------------\")\n",
    "print(\"delta_p_from:\", se_output_data_power[ComponentType.line][\"p_from\"] - pf_output_data[ComponentType.line][\"p_from\"])\n",
    "print(\"delta_p_to:\", se_output_data_power[ComponentType.line][\"p_to\"] - pf_output_data[ComponentType.line][\"p_to\"])\n",
    "print(\"delta_q_from:\", se_output_data_power[ComponentType.line][\"q_from\"] - pf_output_data[ComponentType.line][\"q_from\"])\n",
    "print(\"delta_q_to:\", se_output_data_power[ComponentType.line][\"q_to\"] - pf_output_data[ComponentType.line][\"q_to\"])"
   ]
  },
  {
   "attachments": {},
   "cell_type": "markdown",
   "id": "5f70a3ee",
   "metadata": {},
   "source": [
    "It is interesting to analyze the calculated `u_angle` as well. One thing to notice is that angles should be interpreted relatively.\n",
    "A common way to do this, is to set the voltage angle of the first node to 0.0 radians and shift the rest accordingly."
   ]
  },
  {
   "cell_type": "code",
   "execution_count": 11,
   "id": "e8e2e740",
   "metadata": {},
   "outputs": [
    {
     "name": "stdout",
     "output_type": "stream",
     "text": [
      "\n",
      "u_angle\n",
      "pf: [-0.00319565 -0.04673618 -0.06415622]\n",
      "se: [ 0.         -0.04354054 -0.06096058]\n",
      "\n",
      "u_angle'\n",
      "pf: [ 0.         -0.04354053 -0.06096057]\n",
      "se: [ 0.         -0.04354054 -0.06096058]\n",
      "\n",
      "delta_u_angle\n",
      "[ 0.00000000e+00 -1.24601555e-08 -1.52941081e-08]\n"
     ]
    }
   ],
   "source": [
    "# Copy the angles from the powerflow output and the last state estimation output\n",
    "pf_u_angles = pf_output_data[ComponentType.node][\"u_angle\"].copy()\n",
    "se_u_angles = se_output_data_power[ComponentType.node][\"u_angle\"].copy()\n",
    "\n",
    "# Print the angles\n",
    "print(\"\\nu_angle\")\n",
    "print(\"pf:\", pf_u_angles)\n",
    "print(\"se:\", se_u_angles)\n",
    "\n",
    "# Align the angles\n",
    "pf_u_angles = pf_u_angles - pf_u_angles[0]\n",
    "se_u_angles = se_u_angles - se_u_angles[0]\n",
    "\n",
    "# Print the angles again\n",
    "print(\"\\nu_angle'\")\n",
    "print(\"pf:\", pf_u_angles)\n",
    "print(\"se:\", se_u_angles)\n",
    "\n",
    "# Print the deltas\n",
    "print(\"\\ndelta_u_angle\")\n",
    "print(se_u_angles - pf_u_angles)"
   ]
  },
  {
   "attachments": {},
   "cell_type": "markdown",
   "metadata": {},
   "source": [
    "# Assignment 7: Time Series Batch Calculation\n",
    "\n",
    "Sometimes, it is desirable to see what the state of the power grid was for a number of measurements at different points in time. A typical use case is to see if the voltage or power requirements were not met over the past day.\n",
    "\n",
    "## Voltage measurements\n",
    "\n",
    "Let's say, we have voltage sensors with a much better temporal resolution than our power sensors. To simulate such a situation, we generate some random voltage measurements based on the input data used before, but re-use the power sensor readings."
   ]
  },
  {
   "cell_type": "code",
   "execution_count": 12,
   "id": "2d716bad",
   "metadata": {},
   "outputs": [
    {
     "data": {
      "text/html": [
       "<div>\n",
       "<style scoped>\n",
       "    .dataframe tbody tr th:only-of-type {\n",
       "        vertical-align: middle;\n",
       "    }\n",
       "\n",
       "    .dataframe tbody tr th {\n",
       "        vertical-align: top;\n",
       "    }\n",
       "\n",
       "    .dataframe thead th {\n",
       "        text-align: right;\n",
       "    }\n",
       "</style>\n",
       "<table border=\"1\" class=\"dataframe\">\n",
       "  <thead>\n",
       "    <tr style=\"text-align: right;\">\n",
       "      <th></th>\n",
       "      <th>9</th>\n",
       "      <th>10</th>\n",
       "      <th>11</th>\n",
       "    </tr>\n",
       "  </thead>\n",
       "  <tbody>\n",
       "    <tr>\n",
       "      <th>2022-01-01 00:00:00</th>\n",
       "      <td>10577.173048</td>\n",
       "      <td>9485.014140</td>\n",
       "      <td>9306.838822</td>\n",
       "    </tr>\n",
       "    <tr>\n",
       "      <th>2022-01-01 00:15:00</th>\n",
       "      <td>10383.156731</td>\n",
       "      <td>9561.238330</td>\n",
       "      <td>9196.660220</td>\n",
       "    </tr>\n",
       "    <tr>\n",
       "      <th>2022-01-01 00:30:00</th>\n",
       "      <td>10468.776002</td>\n",
       "      <td>9617.045095</td>\n",
       "      <td>9291.992823</td>\n",
       "    </tr>\n",
       "    <tr>\n",
       "      <th>2022-01-01 00:45:00</th>\n",
       "      <td>10638.726675</td>\n",
       "      <td>9581.373664</td>\n",
       "      <td>9139.434272</td>\n",
       "    </tr>\n",
       "    <tr>\n",
       "      <th>2022-01-01 01:00:00</th>\n",
       "      <td>10434.418070</td>\n",
       "      <td>9379.770132</td>\n",
       "      <td>9145.699301</td>\n",
       "    </tr>\n",
       "    <tr>\n",
       "      <th>...</th>\n",
       "      <td>...</td>\n",
       "      <td>...</td>\n",
       "      <td>...</td>\n",
       "    </tr>\n",
       "    <tr>\n",
       "      <th>2022-01-01 22:45:00</th>\n",
       "      <td>10516.502657</td>\n",
       "      <td>9605.883339</td>\n",
       "      <td>9271.719113</td>\n",
       "    </tr>\n",
       "    <tr>\n",
       "      <th>2022-01-01 23:00:00</th>\n",
       "      <td>10551.524508</td>\n",
       "      <td>9561.235876</td>\n",
       "      <td>9175.353526</td>\n",
       "    </tr>\n",
       "    <tr>\n",
       "      <th>2022-01-01 23:15:00</th>\n",
       "      <td>10479.990630</td>\n",
       "      <td>9369.872727</td>\n",
       "      <td>9038.040954</td>\n",
       "    </tr>\n",
       "    <tr>\n",
       "      <th>2022-01-01 23:30:00</th>\n",
       "      <td>10516.245419</td>\n",
       "      <td>9346.977853</td>\n",
       "      <td>9345.451576</td>\n",
       "    </tr>\n",
       "    <tr>\n",
       "      <th>2022-01-01 23:45:00</th>\n",
       "      <td>10524.655959</td>\n",
       "      <td>9558.837203</td>\n",
       "      <td>9339.719284</td>\n",
       "    </tr>\n",
       "  </tbody>\n",
       "</table>\n",
       "<p>96 rows × 3 columns</p>\n",
       "</div>"
      ],
      "text/plain": [
       "                               9            10           11\n",
       "2022-01-01 00:00:00  10577.173048  9485.014140  9306.838822\n",
       "2022-01-01 00:15:00  10383.156731  9561.238330  9196.660220\n",
       "2022-01-01 00:30:00  10468.776002  9617.045095  9291.992823\n",
       "2022-01-01 00:45:00  10638.726675  9581.373664  9139.434272\n",
       "2022-01-01 01:00:00  10434.418070  9379.770132  9145.699301\n",
       "...                           ...          ...          ...\n",
       "2022-01-01 22:45:00  10516.502657  9605.883339  9271.719113\n",
       "2022-01-01 23:00:00  10551.524508  9561.235876  9175.353526\n",
       "2022-01-01 23:15:00  10479.990630  9369.872727  9038.040954\n",
       "2022-01-01 23:30:00  10516.245419  9346.977853  9345.451576\n",
       "2022-01-01 23:45:00  10524.655959  9558.837203  9339.719284\n",
       "\n",
       "[96 rows x 3 columns]"
      ]
     },
     "metadata": {},
     "output_type": "display_data"
    }
   ],
   "source": [
    "n_scenarios = 96\n",
    "n_sensors = len(input_data[ComponentType.sym_voltage_sensor])\n",
    "sensor_id = input_data[ComponentType.sym_voltage_sensor][\"id\"]\n",
    "sensor_u_measured = sym_voltage_sensor[\"u_measured\"]\n",
    "measurements = np.tile(sensor_u_measured, (n_scenarios, 1)) + np.random.normal(scale=100, size=(n_scenarios, n_sensors))\n",
    "dti = pd.date_range(\"2022-01-01\", periods=n_scenarios, freq=\"15min\")\n",
    "df_voltage_measurements = pd.DataFrame(measurements, columns=sensor_id, index=dti)\n",
    "display(df_voltage_measurements)"
   ]
  },
  {
   "attachments": {},
   "cell_type": "markdown",
   "id": "aadcedbd",
   "metadata": {},
   "source": [
    "## Run Time Series Calculation\n",
    "\n",
    "We want to run a time-series state estimation using the dataframe.\n",
    "\n",
    "* Convert the measurements to the compatible batch update dataset.\n",
    "* Run the batch calculation"
   ]
  },
  {
   "cell_type": "code",
   "execution_count": 13,
   "id": "dfdcb8fe",
   "metadata": {},
   "outputs": [],
   "source": [
    "# Initialize empty measurements\n",
    "sym_voltage_measurements = initialize_array(\n",
    "    DatasetType.update, component_type=ComponentType.sym_voltage_sensor, shape=(n_scenarios, n_sensors)\n",
    ")\n",
    "\n",
    "# Set the attributes for the batch calculation\n",
    "# (assume u_sigma and u_angle_measurement are as before)\n",
    "sym_voltage_measurements[\"id\"] = sensor_id\n",
    "sym_voltage_measurements[\"u_measured\"] = measurements\n",
    "\n",
    "update_data = {ComponentType.sym_voltage_sensor: sym_voltage_measurements}"
   ]
  },
  {
   "cell_type": "code",
   "execution_count": 14,
   "id": "582a7323",
   "metadata": {},
   "outputs": [],
   "source": [
    "# Validating batch data can take a long time.\n",
    "# It is recommended to only validate batch data when you run into trouble.\n",
    "assert_valid_batch_data(\n",
    "    input_data=input_data,\n",
    "    update_data=update_data,\n",
    "    calculation_type=CalculationType.state_estimation,\n",
    ")"
   ]
  },
  {
   "cell_type": "code",
   "execution_count": 15,
   "id": "e74fcd19",
   "metadata": {},
   "outputs": [],
   "source": [
    "output_data = model.calculate_state_estimation(update_data=update_data)"
   ]
  },
  {
   "attachments": {},
   "cell_type": "markdown",
   "id": "fe0fe0fa",
   "metadata": {},
   "source": [
    "### Extracting load information from batch results\n",
    "\n",
    "We are trying to determine whether any user had a significant fluctuation in load requirements over the course of this day.\n",
    "\n",
    "* Determine the minimal and maximal power load and their ratio.\n",
    "* Was the fluctuation in power requirements large during this simulated day?"
   ]
  },
  {
   "cell_type": "code",
   "execution_count": 16,
   "id": "d7226899",
   "metadata": {},
   "outputs": [
    {
     "name": "stdout",
     "output_type": "stream",
     "text": [
      "max power load: [21512305.30894372 10581372.96343217]\n",
      "min power load: [18554011.90649454  9202715.72274092]\n",
      "ratio: [1.15944225 1.14980983]\n"
     ]
    }
   ],
   "source": [
    "# Extract the power field\n",
    "power_load = output_data[ComponentType.sym_load][\"p\"]\n",
    "# Calculate the max and min for each user\n",
    "max_p = power_load.max(axis=0)\n",
    "min_p =  power_load.min(axis=0)\n",
    "print(\"max power load:\", max_p)\n",
    "print(\"min power load:\", min_p)\n",
    "print(\"ratio:\", max_p / min_p)"
   ]
  },
  {
   "attachments": {},
   "cell_type": "markdown",
   "id": "e7e0f878",
   "metadata": {},
   "source": [
    "### Plotting batch results\n",
    "\n",
    "Lets say we wish to plot the loading of the `line with id 4` vs time. We can use matplotlib to do so.\n",
    "\n",
    "**Note:** The grid and results are randomly generated so dont be alarmed to see loading >100% or any other unrealistic results."
   ]
  },
  {
   "cell_type": "code",
   "execution_count": 17,
   "id": "c87c4179",
   "metadata": {},
   "outputs": [
    {
     "data": {
      "image/png": "[encoded data removed]",
      "text/plain": [
       "<Figure size 640x480 with 1 Axes>"
      ]
     },
     "metadata": {},
     "output_type": "display_data"
    }
   ],
   "source": [
    "from matplotlib import pyplot as plt\n",
    "\n",
    "# Prepare data to be plotted. We wish to plot the loading of line with id 4 vs time.\n",
    "line_4_idx = np.where(output_data[ComponentType.line][\"id\"] == 4)\n",
    "result_loading = output_data[ComponentType.line][\"loading\"][line_4_idx]\n",
    "\n",
    "plt.plot(result_loading)\n",
    "plt.title('Loading of line with id 2007')\n",
    "plt.xlabel('Time')\n",
    "plt.ylabel('Loading')\n",
    "plt.show()"
   ]
  }
 ],
 "metadata": {
  "kernelspec": {
   "display_name": "Python 3 (ipykernel)",
   "language": "python",
   "name": "python3"
  },
  "language_info": {
   "codemirror_mode": {
    "name": "ipython",
    "version": 3
   },
   "file_extension": ".py",
   "mimetype": "text/x-python",
   "name": "python",
   "nbconvert_exporter": "python",
   "pygments_lexer": "ipython3",
   "version": "3.11.2"
  }
 },
 "nbformat": 4,
 "nbformat_minor": 5
}
