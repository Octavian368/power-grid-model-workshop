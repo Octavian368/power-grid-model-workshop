{
 "cells": [
  {
   "cell_type": "markdown",
   "id": "a727ce38",
   "metadata": {},
   "source": [
    "# Introduction\n",
    "\n",
    "In this assignment you will be given a series of tasks about using the library `power-grid-model` and performing a\n",
    "**state estimation**. In this assignment we will use the output data of a power flow calculation as input for our sensors\n",
    "so we can perform a state estimation. The tasks include:\n",
    "\n",
    "* Think about the number of sensors needed\n",
    "* Print the required loadflow output\n",
    "* Initializing only the required sensors and performing a state estimation\n",
    "* Comparing the state estimation results to the loadflow output\n",
    "* Adding more sensors to make the calculation more accurate\n",
    "\n",
    "The network we'll be using for troughout this workshop consists of three nodes, two lines, two loads and a source as shown below:\n",
    "\n",
    "```\n",
    " node_1 ---<line_4>--- node_2 ---<line_5>--- node_3\n",
    "   |                     |                     |\n",
    "source_8               load_6                load_7\n",
    "```"
   ]
  },
  {
   "cell_type": "markdown",
   "id": "9cd12445",
   "metadata": {},
   "source": [
    "# Preparation\n",
    "\n",
    "First import everything we need for this workshop:"
   ]
  },
  {
   "cell_type": "code",
   "execution_count": null,
   "id": "2bc7de1e",
   "metadata": {},
   "outputs": [],
   "source": [
    "from typing import Dict\n",
    "\n",
    "import numpy as np\n",
    "import pandas as pd\n",
    "\n",
    "from IPython.display import display, Markdown\n",
    "\n",
    "from power_grid_model import (\n",
    "    PowerGridModel,\n",
    "    CalculationType,\n",
    "    CalculationMethod,\n",
    "    LoadGenType,\n",
    "    initialize_array,\n",
    "    \n",
    ")\n",
    "\n",
    "from power_grid_model.validation import (\n",
    "    assert_valid_input_data,\n",
    "    assert_valid_batch_data\n",
    ")"
   ]
  },
  {
   "cell_type": "markdown",
   "id": "50065790",
   "metadata": {},
   "source": [
    "## Generate example data\n",
    "\n",
    "In order to use realistic data in out workshop, we use the results of a power flow calculation, which gives us voltages, voltage angles, active powers, reactive powers, etc. Below all components of the network are initialized, a model is composed and a power flow calculation is executed."
   ]
  },
  {
   "cell_type": "code",
   "execution_count": null,
   "id": "760a38b1",
   "metadata": {},
   "outputs": [],
   "source": [
    "# Initialize 3 nodes\n",
    "node = initialize_array(\"input\", \"node\", 3)\n",
    "node[\"id\"] = [1, 2, 3]\n",
    "node[\"u_rated\"] = [10.5e3, 10.5e3, 10.5e3]\n",
    "\n",
    "# Initialize 2 lines between the 3 nodes\n",
    "line = initialize_array(\"input\", \"line\", 2)\n",
    "line[\"id\"] = [4, 5]\n",
    "line[\"from_node\"] = [1, 2]\n",
    "line[\"to_node\"] = [2, 3]\n",
    "line[\"from_status\"] = [1, 1]\n",
    "line[\"to_status\"] = [1, 1]\n",
    "line[\"r1\"] = [0.25, 0.25]\n",
    "line[\"x1\"] = [0.2, 0.2]\n",
    "line[\"c1\"] = [10e-6, 10e-6]\n",
    "line[\"tan1\"] = [0.0, 0.0]\n",
    "line[\"i_n\"] = [1000, 1000]\n",
    "\n",
    "# Initialize 2 loads, each connected to a different node\n",
    "sym_load = initialize_array(\"input\", \"sym_load\", 2)\n",
    "sym_load[\"id\"] = [6, 7]\n",
    "sym_load[\"node\"] = [2, 3]\n",
    "sym_load[\"status\"] = [1, 1]\n",
    "sym_load[\"type\"] = [LoadGenType.const_power, LoadGenType.const_power]\n",
    "sym_load[\"p_specified\"] = [20e6, 10e6]\n",
    "sym_load[\"q_specified\"] = [5e6, 2e6]\n",
    "\n",
    "# Initialize 1 source, connected to a different node than the loads\n",
    "source = initialize_array(\"input\", \"source\", 1)\n",
    "source[\"id\"] = [8]\n",
    "source[\"node\"] = [1]\n",
    "source[\"status\"] = [1]\n",
    "source[\"u_ref\"] = [1.0]\n",
    "\n",
    "# Construct the input data\n",
    "input_data = {\n",
    "    \"node\": node,\n",
    "    \"line\": line,\n",
    "    \"sym_load\": sym_load,\n",
    "    \"source\": source\n",
    "}\n",
    "\n",
    "# Validate the input data\n",
    "assert_valid_input_data(input_data)\n",
    "\n",
    "# Create a power grid model\n",
    "model = PowerGridModel(input_data)\n",
    "\n",
    "# Run a (Newton Raphson) power flow calculation\n",
    "pf_output_data = model.calculate_power_flow(\n",
    "    symmetric=True, \n",
    "    error_tolerance=1e-8, \n",
    "    max_iterations=20, \n",
    "    calculation_method=CalculationMethod.newton_raphson\n",
    ")"
   ]
  },
  {
   "cell_type": "markdown",
   "id": "0c2bad59",
   "metadata": {},
   "source": [
    "### View example data"
   ]
  },
  {
   "cell_type": "code",
   "execution_count": null,
   "id": "02130221",
   "metadata": {},
   "outputs": [],
   "source": [
    "# Display the results\n",
    "for component, data in pf_output_data.items():\n",
    "    display(Markdown(f\"### {component.title()}s (power flow):\"))\n",
    "    display(pd.DataFrame(data))"
   ]
  },
  {
   "cell_type": "markdown",
   "id": "0234cab7",
   "metadata": {},
   "source": [
    "# Assignment 1: Number of sensors\n",
    "\n",
    "In order to perform a state estimation some voltage and power sensors need to be added to the model.\n",
    "For the calculation to be successful a minumum number of sensors is required.\n",
    "\n",
    "- What is the minimum number of sensors to perform a state estimation on the given network?\n",
    "- How many of those should be voltage sensors?\n"
   ]
  },
  {
   "cell_type": "code",
   "execution_count": null,
   "id": "2baee3cd",
   "metadata": {},
   "outputs": [],
   "source": [
    "# Fill in the minimal required number of sensors below\n",
    "n_sensors = ...\n",
    "n_voltage_sensors = ...\n"
   ]
  },
  {
   "cell_type": "markdown",
   "id": "940d48be",
   "metadata": {},
   "source": [
    "# Assignment 2: Collecting voltage sensor data\n",
    "\n",
    "In this assignment print the output of the assets in the the loadflow calculation, which is needed as input for the voltage sensors. \n",
    "\n",
    "Hint: convert to a pandas DataFrame before printing for a better overview"
   ]
  },
  {
   "cell_type": "code",
   "execution_count": null,
   "id": "71b39571",
   "metadata": {},
   "outputs": [],
   "source": [
    "# Print the assets in the output data that we need for the voltage sensors\n",
    "display(pd.DataFrame(pf_output_data[\"node\"]))"
   ]
  },
  {
   "cell_type": "markdown",
   "id": "2b013fa7",
   "metadata": {},
   "source": [
    "# Assignment 3: Initialize the sensors\n",
    "\n",
    "In this assignment we will perform a state estimation based on three voltage sensors that only measure the voltage. \n",
    "If you look closely to the data, you'll notice that the number of measurements (3) is not larger than or equal to the number of unknowns (6). \n",
    "So the system is not *fully observable* and you might expect the state estimation to fail. \n",
    "However, the linear state estimation algorithm will assume the voltage angles (3) to be zero if no value is given. \n",
    "In other words, the mathematical core will give us a faulty result, without any warning! \n",
    "To prevent this, we need an observability check, which is complex, but will be added to the validation functions in the future.\n",
    "\n",
    "- initialize the voltage sensors\n",
    "- extend the input data set, with the voltage sensors\n",
    "- construct a new model with the new input data\n",
    "- run the state estimation calculation"
   ]
  },
  {
   "cell_type": "code",
   "execution_count": null,
   "id": "88034903",
   "metadata": {},
   "outputs": [],
   "source": [
    "# TODO: Initialize 3 symmetric voltage sensors, each connected to a different node\n",
    "sym_voltage_sensor = initialize_array(..., ..., ...)\n",
    "sym_voltage_sensor[\"id\"] = ...\n",
    "sym_voltage_sensor[\"measured_object\"] = ...\n",
    "sym_voltage_sensor[\"u_sigma\"] = 10.0\n",
    "sym_voltage_sensor[\"u_measured\"] = ...\n",
    "\n",
    "# TODO: Add the sensors to the input data\n",
    "input_data[...] = sym_voltage_sensor\n",
    "\n",
    "# TODO: Validate the input data\n",
    "assert_valid_input_data(..., calculation_type=..., symmetric=...)\n",
    "\n",
    "# Create a power grid model\n",
    "model = PowerGridModel(input_data)\n",
    "\n",
    "# Run the (iterative linear) state estimation\n",
    "se_output_data = model.calculate_state_estimation(\n",
    "    symmetric=True, \n",
    "    error_tolerance=1e-8, \n",
    "    max_iterations=20, \n",
    "    calculation_method=CalculationMethod.iterative_linear)"
   ]
  },
  {
   "cell_type": "markdown",
   "id": "f4736cc1",
   "metadata": {},
   "source": [
    "# Assignment 4: Compare the results between the loadflow and state estimation\n",
    "\n",
    "For all nodes:\n",
    "- print the difference in `u` between `se_output_data` and `pf_output_data`\n",
    "\n",
    "For all lines:\n",
    "- print the difference in `p_from` between `se_output_data` and `pf_output_data`\n",
    "- print the difference in `p_to` between `se_output_data` and `pf_output_data`\n",
    "- print the difference in `q_from` between `se_output_data` and `pf_output_data`\n",
    "- print the difference in `q_to` between `se_output_data` and `pf_output_data`\n",
    "\n",
    "You should see that while the voltages match quite precisely (in the order of microvolts), the *p* and *q* are way off (in the order of megawatts / mega VARs). This is as expected because we used voltage angles of 0.0."
   ]
  },
  {
   "cell_type": "code",
   "execution_count": null,
   "id": "a8d298d5",
   "metadata": {
    "scrolled": true
   },
   "outputs": [],
   "source": [
    "# TODO: Print the delta u for all nodes (pf_output_data - se_output_data)\n",
    "print(\"-------------- nodes --------------\")\n",
    "print(\"delta_u:\", ...)\n",
    "\n",
    "# TODO: Print the delta p and q for all lines (pf_output_data - se_output_data)\n",
    "print(\"-------------- lines --------------\")\n",
    "print(\"delta_p_from:\", ...)\n",
    "print(\"delta_p_to:\", ...)\n",
    "print(\"delta_q_from:\", ...)\n",
    "print(\"delta_q_to:\", ...)"
   ]
  },
  {
   "cell_type": "markdown",
   "id": "683bb610",
   "metadata": {},
   "source": [
    "#  Assignment 5: Add voltage angle measurements\n",
    "\n",
    "Now we will update the model by adding voltage angles to the voltage sensors.\n",
    "We could alter the `input_data` and construct a new Model, but for the purpose of this workshop (and efficiency) we'll supply the voltage angles as `update_data`, which could potentially be a *batch* calculation in other usecases.\n",
    "\n",
    "- initialize an update voltage sensor array\n",
    "- create an update dataset\n",
    "- perform a state estimation, using the update dataset\n",
    "- compare the results (as in assignment 4)\n",
    "\n",
    "You should see that the voltages match quite precisely (in the order of microvolts), the *p* and *q* do too (in the order of 0.01 watts / VARs), because we used the exact voltage angles from the power flow calculation."
   ]
  },
  {
   "cell_type": "code",
   "execution_count": null,
   "id": "8628b888",
   "metadata": {},
   "outputs": [],
   "source": [
    "# TODO: Initialize a voltage sensor update array for 3 sensors\n",
    "update_sym_voltage_sensor = initialize_array(..., ..., ...)\n",
    "update_sym_voltage_sensor[\"id\"] = ...\n",
    "update_sym_voltage_sensor[\"u_angle_measured\"] = ...\n",
    "\n",
    "# TODO: Create an update dataset \n",
    "update_data = {\n",
    "    ...\n",
    "}\n",
    "\n",
    "# TODO: Validate the update data\n",
    "assert_valid_batch_data(..., ..., calculation_type=..., symmetric=...)\n",
    "\n",
    "# Run the (iterative linear) state estimation\n",
    "se_output_data_u_angle = model.calculate_state_estimation(\n",
    "    update_data = update_data,\n",
    "    symmetric=True,\n",
    "    error_tolerance=1e-8, \n",
    "    max_iterations=20, \n",
    "    calculation_method=CalculationMethod.iterative_linear)\n",
    "\n",
    "# TODO: Print the delta u for all nodes (se_output_data_u_angle - pf_output_data)\n",
    "print(\"-------------- nodes --------------\")\n",
    "print(\"delta_u:\", ...)\n",
    "\n",
    "# TODO: Print the delta p and q for all lines (se_output_data_u_angle - pf_output_data)\n",
    "print(\"-------------- lines --------------\")\n",
    "print(\"delta_p_from:\", ...)\n",
    "print(\"delta_p_to:\", ...)\n",
    "print(\"delta_q_from:\", ...)\n",
    "print(\"delta_q_to:\", ...)"
   ]
  },
  {
   "cell_type": "markdown",
   "id": "7b054f55",
   "metadata": {},
   "source": [
    "# Assignment 6: Add power sensors to the model\n",
    "\n",
    "In common power grids most voltage sensors only measure the voltage magnitude; not the angle. In this assigment we will again use the `input_data` of assignment 3 (with unknown voltage angles) and we will connect power sensors to the model.\n",
    "\n",
    "In our network it would be possible to connect power sensors to the lines, the loads and the source. To assign realistic measurement values to the power sensors we can use the powerflow output.\n",
    "\n",
    "- Print the powerflow output of the lines, loads and source\n",
    "- Initialize as many `sym_power_sensors` as you like (think about which data you use for which type of power sensor)\n",
    "- Create a new input data set, including both voltage and power sensors\n",
    "- Use the print statements of assignment 4 to compare the results\n",
    "\n",
    "You should see that the voltages match quite precisely (in the order of microvolts), the *p* and *q* do too (in the order of watts / VARs)."
   ]
  },
  {
   "cell_type": "code",
   "execution_count": null,
   "id": "da6e4dbe",
   "metadata": {},
   "outputs": [],
   "source": [
    "# Print the lines, loads and sources\n",
    "print(\"Lines:\")\n",
    "display(...)\n",
    "print(\"Sources:\")\n",
    "display(...)\n",
    "print(\"Loads:\")\n",
    "display(...)"
   ]
  },
  {
   "cell_type": "code",
   "execution_count": null,
   "id": "7db83085",
   "metadata": {},
   "outputs": [],
   "source": [
    "# TODO: Initialize as many power sensors as you like.\n",
    "# Note that the sensors must added to the `input_data`, not `update_data`, as they don't exist in the model yet.sym_power_sensor = initialize_array(..., ..., ...)\n",
    "sym_power_sensor = initialize_array(..., ..., ...)\n",
    "sym_power_sensor[\"id\"] = ...\n",
    "sym_power_sensor[\"measured_object\"] = .\n",
    "sym_power_sensor[\"measured_terminal_type\"] = .\n",
    "sym_power_sensor[\"power_sigma\"] = ...\n",
    "sym_power_sensor[\"p_measured\"] = .\n",
    "sym_power_sensor[\"q_measured\"] = .\n",
    "\n",
    "# TODO: Add the sensors to the input data\n",
    "input_data[...] = sym_power_sensor\n",
    "# TODO: Validate the input data\n",
    "assert_valid_input_data(..., calculation_type=..., symmetric=...)\n",
    "\n",
    "# TODO: Create a new power grid model\n",
    "model = PowerGridModel(...)\n",
    "\n",
    "# Run the (iterative linear) state estimation\n",
    "se_output_data_power = model.calculate_state_estimation(\n",
    "    symmetric=True, \n",
    "    error_tolerance=1e-8, \n",
    "    max_iterations=20, \n",
    "    calculation_method=CalculationMethod.iterative_linear)\n",
    "\n",
    "# TODO: Print the delta u for all nodes (se_output_data_u_angle - pf_output_data)\n",
    "print(\"-------------- nodes --------------\")\n",
    "print(\"delta_u\", ...\n",
    "\n",
    "# TODO: Print the delta p and q for all lines (se_output_data_u_angle - pf_output_data)\n",
    "print(\"-------------- lines --------------\")\n",
    "print(\"delta_p_from:\", ...)\n",
    "print(\"delta_p_to:\", ...)\n",
    "print(\"delta_q_from:\", ...)\n",
    "print(\"delta_q_to:\", ...)"
   ]
  },
  {
   "cell_type": "markdown",
   "id": "1afd00f1",
   "metadata": {},
   "source": [
    "It is interesting to analyze the calculated `u_angle` as well. One thing to notice is that angles should be interpreted relatively.\n",
    "A common way to do this, is to set the voltage angle of the first node to 0.0 radians and shift the rest accordingly."
   ]
  },
  {
   "cell_type": "code",
   "execution_count": null,
   "id": "da21d37c",
   "metadata": {},
   "outputs": [],
   "source": [
    "# Copy the angles from the powerflow output and the last state estimation output\n",
    "pf_u_angles = pf_output_data[\"node\"][\"u_angle\"].copy()\n",
    "se_u_angles = se_output_data_power[\"node\"][\"u_angle\"].copy()\n",
    "\n",
    "# Print the angles\n",
    "print(\"\\nu_angle\")\n",
    "print(\"pf:\", pf_u_angles)\n",
    "print(\"se:\", se_u_angles)\n",
    "\n",
    "# Align the angles\n",
    "pf_u_angles = pf_u_angles - pf_u_angles[0]\n",
    "se_u_angles = se_u_angles - se_u_angles[0]\n",
    "\n",
    "# Print the angles again\n",
    "print(\"\\nu_angle'\")\n",
    "print(\"pf:\", pf_u_angles)\n",
    "print(\"se:\", se_u_angles)\n",
    "\n",
    "# Print the deltas\n",
    "print(\"\\ndelta_u_angle\")\n",
    "print(se_u_angles - pf_u_angles)"
   ]
  }
 ],
 "metadata": {
  "kernelspec": {
   "display_name": "Python 3 (ipykernel)",
   "language": "python",
   "name": "python3"
  },
  "language_info": {
   "codemirror_mode": {
    "name": "ipython",
    "version": 3
   },
   "file_extension": ".py",
   "mimetype": "text/x-python",
   "name": "python",
   "nbconvert_exporter": "python",
   "pygments_lexer": "ipython3",
   "version": "3.11.1"
  }
 },
 "nbformat": 4,
 "nbformat_minor": 5
}
